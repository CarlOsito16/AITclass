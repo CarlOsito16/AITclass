{
 "cells": [
  {
   "cell_type": "code",
   "execution_count": 235,
   "id": "0b84c486",
   "metadata": {},
   "outputs": [],
   "source": [
    "from sklearn.datasets import load_boston\n",
    "from sklearn.model_selection import train_test_split\n",
    "from sklearn.preprocessing import StandardScaler\n",
    "import numpy as np\n",
    "import matplotlib.pyplot as plt"
   ]
  },
  {
   "cell_type": "code",
   "execution_count": 2,
   "id": "8270d6cc",
   "metadata": {},
   "outputs": [],
   "source": [
    "boston = load_boston()"
   ]
  },
  {
   "cell_type": "code",
   "execution_count": 4,
   "id": "70970c0b",
   "metadata": {},
   "outputs": [],
   "source": [
    "X = boston.data\n",
    "y = boston.target\n",
    "\n",
    "print(X)\n",
    "print(y)"
   ]
  },
  {
   "cell_type": "markdown",
   "id": "7a924c65",
   "metadata": {},
   "source": [
    "### === Task ===\n",
    "\n",
    "1. Implement early stopping in which if the absolute difference between old loss and new loss does not exceed certain threshold, we abort the learning.\n",
    "\n",
    "2. Implement options for stochastic gradient descent in which we use only one sample for training.  Make sure that sample does not repeat unless all samples are read at least once already.\n",
    "\n",
    "3. Add options for mini-batch gradient descent.\n",
    "\n",
    "3. Put everything into class."
   ]
  },
  {
   "cell_type": "code",
   "execution_count": 6,
   "id": "ac6a1717",
   "metadata": {},
   "outputs": [],
   "source": [
    "#Scale the the data and perfrom train_test_split\n",
    "\n",
    "scaler = StandardScaler()\n",
    "X = scaler.fit_transform(X)\n",
    "\n",
    "X_train, X_test, y_train, y_test = train_test_split(X,y, test_size = 0.3)\n",
    "\n",
    "print(X_train.shape)\n",
    "print(X_test.shape)"
   ]
  },
  {
   "cell_type": "code",
   "execution_count": 11,
   "id": "7fc01e59",
   "metadata": {},
   "outputs": [],
   "source": [
    "#insert 1 on the first column as the intercept variable on X_train & X_test\n",
    "X_train = np.insert(X_train,0,1, axis=1 )\n",
    "X_test = np.insert(X_test,0,1, axis=1)"
   ]
  },
  {
   "cell_type": "markdown",
   "id": "715fc4f7",
   "metadata": {},
   "source": [
    "## CREATE GRADIENT DESCENT FUNCTION IN GENERAL"
   ]
  },
  {
   "cell_type": "code",
   "execution_count": 187,
   "id": "45fe4eb0",
   "metadata": {},
   "outputs": [],
   "source": [
    "def predict(X, theta):\n",
    "    yhat = np.dot(X,theta)\n",
    "    return yhat\n",
    "\n",
    "def mse_cal(yhat, ytrue):\n",
    "    error = yhat - ytrue\n",
    "    mse = np.sum(error **2) / len(yhat)\n",
    "    return mse"
   ]
  },
  {
   "cell_type": "code",
   "execution_count": 188,
   "id": "2b3fda01",
   "metadata": {},
   "outputs": [],
   "source": [
    "def gradient_descent(X, y, iter_max, alpha=0.0001):\n",
    "    mse_record = np.zeros(iter_max)\n",
    "    theta = np.zeros(X.shape[1])\n",
    "    \n",
    "    \n",
    "    for i in np.arange(iter_max):\n",
    "    \n",
    "        predicted = np.dot(X,theta)\n",
    "        error = predicted - y\n",
    "        mse = np.sum(error**2) / len(X)\n",
    "        mse_record[i] = mse\n",
    "        \n",
    "        gradient = np.dot(X.T, error)\n",
    "        theta = theta - (alpha * gradient)\n",
    "    \n",
    "    return (mse_record, theta)"
   ]
  },
  {
   "cell_type": "code",
   "execution_count": 191,
   "id": "25645dd4",
   "metadata": {},
   "outputs": [
    {
     "data": {
      "text/plain": [
       "22.35086187739023"
      ]
     },
     "execution_count": 191,
     "metadata": {},
     "output_type": "execute_result"
    }
   ],
   "source": [
    "#test the fist prediction with the test set\n",
    "mse_result, theta_ =gradient_descent(X_train, y_train, iter_max = 100)\n",
    "\n",
    "yhat = predict(X_test, theta_)\n",
    "mse_cal(yhat, y_test)"
   ]
  },
  {
   "cell_type": "markdown",
   "id": "f2bd3830",
   "metadata": {},
   "source": [
    "## 1st: Early stop when the diff of current and previous loss < threshold"
   ]
  },
  {
   "cell_type": "code",
   "execution_count": 193,
   "id": "eae72067",
   "metadata": {},
   "outputs": [],
   "source": [
    "#early stop using while loop\n",
    "def early_stop_gradient_descent(X, y, alpha=0.0001):\n",
    "    mse_record = [0,1]\n",
    "    theta = np.zeros(X.shape[1])\n",
    "    threshold = 0.0001\n",
    "    count = 0\n",
    "    \n",
    "    while np.abs(mse_record[-1] - mse_record[-2]) > threshold:\n",
    "        predicted = np.dot(X,theta)\n",
    "        error = predicted - y\n",
    "        mse = np.sum(error**2) / len(X)\n",
    "        mse_record.append(mse)\n",
    "        gradient = np.dot(X.T, error)\n",
    "        theta = theta - (alpha * gradient)\n",
    "        count +=1\n",
    "        \n",
    "    else:\n",
    "        return (mse_record,count, theta)"
   ]
  },
  {
   "cell_type": "code",
   "execution_count": 205,
   "id": "76b3a015",
   "metadata": {},
   "outputs": [
    {
     "name": "stdout",
     "output_type": "stream",
     "text": [
      "837\n",
      "22.03847448568686\n",
      "22.038574558433083\n",
      "the delta after 837 iterations: 0.00010007274622481077\n"
     ]
    },
    {
     "data": {
      "text/plain": [
       "23.595944383579326"
      ]
     },
     "execution_count": 205,
     "metadata": {},
     "output_type": "execute_result"
    }
   ],
   "source": [
    "mse_result, iter_count, theta_ = early_stop_gradient_descent(X_train, y_train, alpha=0.0001)\n",
    "\n",
    "#and the predict\n",
    "#with the early stop, we can see that after iterating 837 times, the delta\n",
    "print(iter_count)\n",
    "\n",
    "print(mse_result[iter_count])\n",
    "print(mse_result[iter_count - 1])\n",
    "\n",
    "print(f\"the delta after {iter_count} iterations: {np.abs(mse_result[iter_count] - mse_result[iter_count - 1])}\")\n",
    "\n",
    "yhat = predict(X_test, theta_)\n",
    "mse_cal(yhat, y_test)"
   ]
  },
  {
   "cell_type": "markdown",
   "id": "dd9a569c",
   "metadata": {},
   "source": [
    "## 2nd: Now use stochastic gradient descent, only random index will be used for evaluation"
   ]
  },
  {
   "cell_type": "code",
   "execution_count": 212,
   "id": "1600f216",
   "metadata": {},
   "outputs": [],
   "source": [
    "#stochastic\n",
    "def stochastic_gradient_descent(X, y, max_iter,alpha=0.0001):\n",
    "    mse_record = [0,1]\n",
    "    theta = np.zeros(X.shape[1])\n",
    "    threshold = 0.0001\n",
    "    \n",
    "    #generate all possible index in X \n",
    "    all_index = np.arange(X.shape[0])\n",
    "    \n",
    "\n",
    "    for i in np.arange(max_iter):\n",
    "        if len(all_index) != 0:\n",
    "            \n",
    "            #randomize the index for evaluation\n",
    "            random_index = np.random.randint(len(all_index))\n",
    "\n",
    "\n",
    "            predicted = np.dot(X[random_index],theta)\n",
    "            error = predicted - y[random_index]\n",
    "            mse = np.sum(error**2) / 1\n",
    "            mse_record.append(mse)\n",
    "            gradient = np.dot(X[random_index].T, error)\n",
    "            theta = theta - (alpha * gradient)\n",
    "            \n",
    "            \n",
    "            #drop the index that has been used so that it will NOT be used again unless the remaining indexes are used\n",
    "            all_index = np.delete(all_index, random_index)\n",
    "            \n",
    "        else:\n",
    "            all_index = np.arange(X.shape[0])\n",
    "    \n",
    "    \n",
    "        \n",
    "    \n",
    "        \n",
    "    else:\n",
    "        return theta"
   ]
  },
  {
   "cell_type": "code",
   "execution_count": 213,
   "id": "2b3a15e8",
   "metadata": {},
   "outputs": [
    {
     "data": {
      "text/plain": [
       "115.39176526723266"
      ]
     },
     "execution_count": 213,
     "metadata": {},
     "output_type": "execute_result"
    }
   ],
   "source": [
    "# test the model\n",
    "theta_ = stochastic_gradient_descent(X_train, y_train, max_iter = 10000)\n",
    "\n",
    "yhat = predict(X_test, theta_)\n",
    "mse_cal(yhat, y_test)\n",
    "\n",
    "#we can see that MSE of stachastic method yields worse result than batch method because of higher MSE"
   ]
  },
  {
   "cell_type": "markdown",
   "id": "d3e5ea50",
   "metadata": {},
   "source": [
    "## 3rd: Use minibatch method"
   ]
  },
  {
   "cell_type": "code",
   "execution_count": 214,
   "id": "ee470114",
   "metadata": {},
   "outputs": [],
   "source": [
    "#mini batch\n",
    "def minibatch_gradient_descent(X, y, max_iter,alpha=0.0001):\n",
    "    mse_record = [0,1]\n",
    "    theta = np.zeros(X.shape[1])\n",
    "    threshold = 0.0001\n",
    "    \n",
    "    all_index = np.arange(X.shape[0])\n",
    "    \n",
    "    #create the number of items to be add when running each epoch\n",
    "    batchsize = 50\n",
    "    \n",
    "\n",
    "    for i in np.arange(max_iter):\n",
    "        if len(all_index) != 0:\n",
    "        \n",
    "            random_index = np.random.randint(len(all_index))\n",
    "\n",
    "\n",
    "            predicted = np.dot(X[random_index: random_index + batchsize],theta)\n",
    "            error = predicted - y[random_index: random_index + batchsize]\n",
    "            mse = np.sum(error**2) / batchsize\n",
    "            mse_record.append(mse)\n",
    "            gradient = np.dot(X[random_index: random_index + batchsize].T, error)\n",
    "            theta = theta - (alpha * gradient)\n",
    "\n",
    "            all_index = np.delete(all_index, random_index)\n",
    "            \n",
    "        else:\n",
    "            all_index = np.arange(X.shape[0])\n",
    "    \n",
    "    \n",
    "        \n",
    "    \n",
    "        \n",
    "    else:\n",
    "        return (mse_record, theta)"
   ]
  },
  {
   "cell_type": "code",
   "execution_count": 216,
   "id": "568135c3",
   "metadata": {},
   "outputs": [
    {
     "data": {
      "text/plain": [
       "23.345876543267693"
      ]
     },
     "execution_count": 216,
     "metadata": {},
     "output_type": "execute_result"
    }
   ],
   "source": [
    "# test the model\n",
    "mse_result, theta_ = minibatch_gradient_descent(X_train, y_train, max_iter = 10000)\n",
    "\n",
    "yhat = predict(X_test, theta_)\n",
    "mse_cal(yhat, y_test)\n"
   ]
  },
  {
   "cell_type": "markdown",
   "id": "bf1da12c",
   "metadata": {},
   "source": [
    "## Summary of MSE of different gradient descent methods\n",
    "MSE of batch gradient descent without early stop : 22.350\n",
    "\n",
    "MSE of batch gradient descent with early stop after 837 iterations : 23.595\n",
    "\n",
    "MSE of stochastic gradient descent : 115.39\n",
    "\n",
    "MSE of minibatch(of 50 items) gradient descent : 23.458"
   ]
  },
  {
   "cell_type": "markdown",
   "id": "784dfea7",
   "metadata": {},
   "source": [
    "## 4th: Put everything to gether as a class of LinearRegression()"
   ]
  },
  {
   "cell_type": "code",
   "execution_count": 338,
   "id": "d79f1d53",
   "metadata": {},
   "outputs": [],
   "source": [
    "class LinearRegression:\n",
    "    \n",
    "    def __init__(self, alpha= 0.0001, max_iter = 10000, threshold = 0.0001, method = 'batch'):\n",
    "        self.alpha = alpha\n",
    "        self.max_iter = max_iter\n",
    "        self.method = method\n",
    "        self.threshold = threshold\n",
    "        self.theta = 0\n",
    "        self.mse_record = 0\n",
    "        self.count = 0\n",
    "    \n",
    "    def predict(self, X, theta):\n",
    "        yhat = np.dot(X,theta)\n",
    "        return yhat\n",
    "    \n",
    "    \n",
    "    def mse_cal(self, yhat, ytrue):\n",
    "        error = yhat - ytrue\n",
    "        mse = np.sum(error **2)/ len(yhat)\n",
    "        return mse\n",
    "    \n",
    "    \n",
    "    def fit(self, X, y):\n",
    "        if self.method == 'batch':\n",
    "            mse_record = [0,1]\n",
    "            theta = np.zeros(X.shape[1])\n",
    "            \n",
    "            for i in np.arange(self.max_iter):\n",
    "                count = 0\n",
    "                \n",
    "                \n",
    "                #for early stop\n",
    "                while np.abs(mse_record[-1] - mse_record[-2]) > self.threshold:\n",
    "                    predicted = np.dot(X,theta)\n",
    "                    error = predicted - y\n",
    "                    mse = np.sum(error**2) / len(X)\n",
    "                    mse_record.append(mse)\n",
    "                    gradient = np.dot(X.T, error)\n",
    "                    theta = theta - (self.alpha * gradient)\n",
    "                    count +=1\n",
    "                    \n",
    "                    self.theta = theta\n",
    "                    self.mse_record = mse_record\n",
    "                    self.count = count\n",
    "                    \n",
    "                else:\n",
    "                    break\n",
    "            \n",
    "            return (self.mse_record, self.count, self.theta)\n",
    "        \n",
    "        \n",
    "        \n",
    "        \n",
    "        elif self.method == 'stochastic':\n",
    "            mse_record = [0,1]\n",
    "            theta = np.zeros(X.shape[1])\n",
    "            all_index = np.arange(X.shape[0])\n",
    "            count = 0\n",
    "    \n",
    "\n",
    "            for i in np.arange(self.max_iter):\n",
    "                if len(all_index) != 0:\n",
    "                    \n",
    "                    \n",
    "                    #for early stop\n",
    "                    while np.abs(mse_record[-1] - mse_record[-2]) > self.threshold:\n",
    "                        random_index = np.random.randint(len(all_index))\n",
    "                        predicted = np.dot(X[random_index],theta)\n",
    "                        error = predicted - y[random_index]\n",
    "                        mse = np.sum(error**2) / 1\n",
    "                        mse_record.append(mse)\n",
    "                        gradient = np.dot(X[random_index].T, error)\n",
    "                        theta = theta - (self.alpha * gradient)\n",
    "                        count +=1\n",
    "                        self.theta = theta\n",
    "                        self.mse_record = mse_record\n",
    "                        self.count = count\n",
    "                        \n",
    "                        \n",
    "\n",
    "                    else:\n",
    "                        break\n",
    "\n",
    "            return (self.mse_record, self.count, self.theta)\n",
    "        \n",
    "        \n",
    "        \n",
    "        elif self.method == 'minibatch':\n",
    "            mse_record = [0,1]\n",
    "            theta = np.zeros(X.shape[1])\n",
    "            all_index = np.arange(X.shape[0])\n",
    "            batchsize = 50\n",
    "            count = 0\n",
    "    \n",
    "\n",
    "            for i in np.arange(self.max_iter):\n",
    "                if len(all_index) != 0:\n",
    "                    random_index = np.random.randint(len(all_index))\n",
    "                    \n",
    "                    #for early stop\n",
    "                    while np.abs(mse_record[-1] - mse_record[-2]) > self.threshold:\n",
    "                        predicted = np.dot(X[random_index: random_index+ batchsize],theta)\n",
    "                        error = predicted - y[random_index : random_index+ batchsize]\n",
    "                        mse = np.sum(error**2) / 1\n",
    "                        mse_record.append(mse)\n",
    "                        gradient = np.dot(X[random_index: random_index+ batchsize].T, error)\n",
    "                        theta = theta - (self.alpha * gradient)\n",
    "                        count +=1\n",
    "                        self.theta = theta\n",
    "                        self.mse_record = mse_record\n",
    "                        self.count = count\n",
    "\n",
    "                    else:\n",
    "                        break\n",
    "\n",
    "            return (self.mse_record, self.count, self.theta)\n",
    "        \n",
    "        \n",
    "        \n",
    "        \n",
    "        "
   ]
  },
  {
   "cell_type": "code",
   "execution_count": 224,
   "id": "739d9ffd",
   "metadata": {},
   "outputs": [],
   "source": [
    "model1 = LinearRegression(method= 'batch')"
   ]
  },
  {
   "cell_type": "code",
   "execution_count": 289,
   "id": "38f1a16e",
   "metadata": {},
   "outputs": [
    {
     "name": "stdout",
     "output_type": "stream",
     "text": [
      "23.595944383579326\n"
     ]
    }
   ],
   "source": [
    "model1.fit(X_train, y_train)\n",
    "yhat1 = model1.predict(X_test, model1.theta)\n",
    "mse1 = model1.mse_cal(yhat1, y_test)\n",
    "print(mse1)"
   ]
  },
  {
   "cell_type": "code",
   "execution_count": 339,
   "id": "501ba1ed",
   "metadata": {},
   "outputs": [],
   "source": [
    "model2 = LinearRegression(method= 'stochastic')"
   ]
  },
  {
   "cell_type": "code",
   "execution_count": 341,
   "id": "c71a5f22",
   "metadata": {},
   "outputs": [
    {
     "name": "stdout",
     "output_type": "stream",
     "text": [
      "28.26241116550102\n"
     ]
    }
   ],
   "source": [
    "model2.fit(X_train, y_train)\n",
    "yhat2 = model2.predict(X_test, model2.theta)\n",
    "mse2 = model2.mse_cal(yhat2, y_test)\n",
    "print(mse2)"
   ]
  },
  {
   "cell_type": "code",
   "execution_count": 329,
   "id": "b22d3ac9",
   "metadata": {},
   "outputs": [],
   "source": [
    "model3 = LinearRegression(method= 'minibatch')"
   ]
  },
  {
   "cell_type": "code",
   "execution_count": 330,
   "id": "e20a5fcc",
   "metadata": {},
   "outputs": [
    {
     "name": "stdout",
     "output_type": "stream",
     "text": [
      "27.588651656445144\n"
     ]
    }
   ],
   "source": [
    "model3.fit(X_train, y_train)\n",
    "yhat3 = model3.predict(X_test, model3.theta)\n",
    "mse3 = model3.mse_cal(yhat3, y_test)\n",
    "print(mse3)"
   ]
  },
  {
   "cell_type": "code",
   "execution_count": 342,
   "id": "03593c2a",
   "metadata": {},
   "outputs": [
    {
     "data": {
      "image/png": "[encoded data removed]",
      "text/plain": [
       "<Figure size 1584x288 with 3 Axes>"
      ]
     },
     "metadata": {
      "needs_background": "light"
     },
     "output_type": "display_data"
    }
   ],
   "source": [
    "fig,axes = plt.subplots(1,3, figsize = (22,4))\n",
    "x_plot1 = np.arange(0, len(model1.mse_record[2:]) )\n",
    "x_plot2 = np.arange(0, len(model2.mse_record[2:]) )\n",
    "x_plot3 = np.arange(0, len(model3.mse_record[2:]) )\n",
    "\n",
    "axes[0].plot(x_plot1, model1.mse_record[2:])\n",
    "axes[1].plot(x_plot2, model2.mse_record[2:])\n",
    "axes[2].plot(x_plot3, model3.mse_record[2:])\n",
    "\n",
    "axes[0].set_title(f'batch gradient descent\\nMSE: {round(mse1,2)}')\n",
    "axes[0].set_ylabel('MSE')\n",
    "axes[0].set_xlabel('iteration')\n",
    "\n",
    "axes[1].set_title(f'stochastic gradient descent\\nMSE: {round(mse2,2)}')\n",
    "axes[1].set_ylabel('MSE')\n",
    "axes[1].set_xlabel('iteration')\n",
    "\n",
    "axes[2].set_title(f'minibatch gradient descent\\nMSE: {round(mse3,2)}')\n",
    "axes[2].set_ylabel('MSE')\n",
    "axes[2].set_xlabel('iteration')\n",
    "\n",
    "fig.suptitle('MSE/Iteration of each gradient descent method', size = 15, weight= 'bold')\n",
    "plt.subplots_adjust(top=0.8)\n",
    "plt.show()"
   ]
  },
  {
   "cell_type": "code",
   "execution_count": 345,
   "id": "365727dc",
   "metadata": {},
   "outputs": [
    {
     "data": {
      "text/plain": [
       "array([20.18661625, -0.81129187,  0.66750108, -0.74398898,  1.34926209,\n",
       "       -0.26506435,  2.7441875 , -0.03736039, -1.5173578 ,  0.79473432,\n",
       "       -0.33870658, -1.5553305 ,  1.09034726, -3.22887796])"
      ]
     },
     "execution_count": 345,
     "metadata": {},
     "output_type": "execute_result"
    }
   ],
   "source": [
    "model2.theta"
   ]
  },
  {
   "cell_type": "code",
   "execution_count": 336,
   "id": "5cd95277",
   "metadata": {},
   "outputs": [
    {
     "data": {
      "text/plain": [
       "array([22.54948124, -0.96759452,  1.49406712, -0.0930789 ,  0.74825552,\n",
       "       -2.19178646,  2.04461746,  0.61480148, -3.37917439,  2.77891559,\n",
       "       -1.55838064, -2.1584802 ,  1.23650148, -4.34281746])"
      ]
     },
     "execution_count": 336,
     "metadata": {},
     "output_type": "execute_result"
    }
   ],
   "source": [
    "model1.theta"
   ]
  },
  {
   "cell_type": "code",
   "execution_count": 337,
   "id": "653f1c16",
   "metadata": {},
   "outputs": [
    {
     "data": {
      "text/plain": [
       "array([22.42705979, -0.1648793 ,  0.50253449,  0.63675177,  0.32124965,\n",
       "       -2.11649052,  1.25558655, -0.83050353, -3.72728571,  3.02274469,\n",
       "       -1.28773527, -3.31788169,  1.47140047, -5.81310241])"
      ]
     },
     "execution_count": 337,
     "metadata": {},
     "output_type": "execute_result"
    }
   ],
   "source": [
    "model3.theta"
   ]
  },
  {
   "cell_type": "code",
   "execution_count": null,
   "id": "50796568",
   "metadata": {},
   "outputs": [],
   "source": []
  }
 ],
 "metadata": {
  "kernelspec": {
   "display_name": "Python 3 (ipykernel)",
   "language": "python",
   "name": "python3"
  },
  "language_info": {
   "codemirror_mode": {
    "name": "ipython",
    "version": 3
   },
   "file_extension": ".py",
   "mimetype": "text/x-python",
   "name": "python",
   "nbconvert_exporter": "python",
   "pygments_lexer": "ipython3",
   "version": "3.8.3"
  }
 },
 "nbformat": 4,
 "nbformat_minor": 5
}
