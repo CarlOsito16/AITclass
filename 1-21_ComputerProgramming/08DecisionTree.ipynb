{
  "nbformat": 4,
  "nbformat_minor": 0,
  "metadata": {
    "colab": {
      "name": "DecisionTree.ipynb",
      "provenance": []
    },
    "kernelspec": {
      "name": "python3",
      "display_name": "Python 3"
    },
    "language_info": {
      "name": "python"
    }
  },
  "cells": [
    {
      "cell_type": "markdown",
      "metadata": {
        "id": "MM38Q10x8FrY"
      },
      "source": [
        "# Decision Tree\n",
        "### Modify the Decision Tree scratch code in our lecture such that:\n",
        "- Modify the scratch code so it can accept an hyperparameter max_depth, in which it will continue create the tree until max_depth is reached.</li>\n",
        "- Put everything into a class DecisionTree. It should have at least two methods, fit(), and predict()\n",
        "- Load the iris data and try with your class</li>"
      ]
    },
    {
      "cell_type": "code",
      "metadata": {
        "id": "FgrUM2WBH_JF"
      },
      "source": [
        "import numpy as np\n",
        "import matplotlib.pyplot as plt\n",
        "import seaborn as sns"
      ],
      "execution_count": 1,
      "outputs": []
    },
    {
      "cell_type": "code",
      "metadata": {
        "id": "WS0cTJwoKnqc"
      },
      "source": [
        "class Node:\n",
        "    def __init__(self, predicted_class):\n",
        "        self.predicted_class = predicted_class\n",
        "        self.feature_index = 0\n",
        "        self.threshold = 0\n",
        "        self.left = None\n",
        "        self.right = None\n",
        "\n",
        "\n",
        "class DecisionTree:\n",
        "    def __init__(self, max_depth=None): #create the argument max_depth to specify the tree height\n",
        "        self.max_depth = max_depth\n",
        "\n",
        "    def fit(self, X, y):\n",
        "        self.n_classes_ = len(set(y))\n",
        "        self.n_features_ = X.shape[1]\n",
        "        self.tree_ = self._grow_tree(X, y)\n",
        "\n",
        "    def predict(self, X):\n",
        "        return [self._predict(inputs) for inputs in X]\n",
        "\n",
        "    def _best_split(self, X, y):\n",
        "        m = y.size\n",
        "        if m <= 1:\n",
        "            return None, None\n",
        "        num_parent = [np.sum(y == c) for c in range(self.n_classes_)]\n",
        "        best_gini = 1.0 - sum((n / m) ** 2 for n in num_parent)\n",
        "        best_idx, best_thr = None, None\n",
        "        for idx in range(self.n_features_):\n",
        "            thresholds, classes = zip(*sorted(zip(X[:, idx], y)))\n",
        "            num_left = [0] * self.n_classes_\n",
        "            num_right = num_parent.copy()\n",
        "            for i in range(1, m):\n",
        "                c = classes[i - 1]\n",
        "                num_left[c] += 1\n",
        "                num_right[c] -= 1\n",
        "                gini_left = 1.0 - sum(\n",
        "                    (num_left[x] / i) ** 2 for x in range(self.n_classes_)\n",
        "                )\n",
        "                gini_right = 1.0 - sum(\n",
        "                    (num_right[x] / (m - i)) ** 2 for x in range(self.n_classes_)\n",
        "                )\n",
        "                gini = (i * gini_left + (m - i) * gini_right) / m\n",
        "                if thresholds[i] == thresholds[i - 1]:\n",
        "                    continue\n",
        "                if gini < best_gini:\n",
        "                    best_gini = gini\n",
        "                    best_idx = idx\n",
        "                    best_thr = (thresholds[i] + thresholds[i - 1]) / 2\n",
        "        return best_idx, best_thr\n",
        "\n",
        "    def _grow_tree(self, X, y, depth=0): #default tree height begins with 0\n",
        "        num_samples_per_class = [np.sum(y == i) for i in range(self.n_classes_)]\n",
        "        predicted_class = np.argmax(num_samples_per_class)\n",
        "        node = Node(predicted_class=predicted_class)\n",
        "        if depth < self.max_depth:\n",
        "            idx, thr = self._best_split(X, y)\n",
        "            # print(idx, thr)\n",
        "            if idx is not None:\n",
        "                indices_left = X[:, idx] < thr #all the indexes on the left side of threshold\n",
        "                # print(indices_left)\n",
        "                X_left, y_left = X[indices_left], y[indices_left]\n",
        "                X_right, y_right = X[~indices_left], y[~indices_left] # the other way \n",
        "                node.feature_index = idx\n",
        "                node.threshold = thr\n",
        "                node.left = self._grow_tree(X_left, y_left, depth + 1)\n",
        "                node.right = self._grow_tree(X_right, y_right, depth + 1)\n",
        "        return node\n",
        "\n",
        "    def _predict(self, inputs):\n",
        "        node = self.tree_\n",
        "        while node.left:\n",
        "            if inputs[node.feature_index] < node.threshold:\n",
        "                node = node.left\n",
        "            else:\n",
        "                node = node.right\n",
        "\n",
        "        return node.predicted_class"
      ],
      "execution_count": 2,
      "outputs": []
    },
    {
      "cell_type": "code",
      "metadata": {
        "id": "3b5YzrppN6Nh"
      },
      "source": [
        "from sklearn.datasets import load_iris\n",
        "from sklearn.model_selection import train_test_split\n",
        "from sklearn.metrics import classification_report\n",
        "dataset = load_iris()\n",
        "X = dataset.data\n",
        "y = dataset.target\n",
        "\n",
        "X_train, X_test, y_train, y_test = train_test_split(X , y, test_size =0.3, random_state = 10)"
      ],
      "execution_count": 3,
      "outputs": []
    },
    {
      "cell_type": "code",
      "metadata": {
        "colab": {
          "base_uri": "https://localhost:8080/"
        },
        "id": "ZYqKa1IN9zOK",
        "outputId": "0b3fe2ed-3d17-4bd9-d6cf-01cd9c30d930"
      },
      "source": [
        "accuracy_record = []\n",
        "\n",
        "for height in range(10):\n",
        "\n",
        "  model = DecisionTree(max_depth=height)\n",
        "  model.fit(X_train, y_train)\n",
        "  train_yhat = model.predict(X_train)\n",
        "  test_yhat = model.predict(X_test)\n",
        "  train_accuracy = np.sum(model.predict(X_train) == y_train) / len(y_train)\n",
        "  test_accuracy = np.sum(model.predict(X_test) == y_test) / len(y_test)\n",
        "  accuracy_record.append(test_accuracy)\n",
        "  print(f\"For the height of {model.max_depth}, the accuracy on trainin set: {train_accuracy}, and test set: {test_accuracy} \")\n",
        "\n",
        "  print(classification_report(y_true = y_test, y_pred = test_yhat))\n",
        "  print()\n",
        "\n",
        "\n",
        "print(f\"The best tree height yielding the highest accuracy on test set is {np.argmax(np.array(accuracy_record))}\")"
      ],
      "execution_count": 4,
      "outputs": [
        {
          "output_type": "stream",
          "name": "stdout",
          "text": [
            "For the height of 0, the accuracy on trainin set: 0.34285714285714286, and test set: 0.3111111111111111 \n",
            "              precision    recall  f1-score   support\n",
            "\n",
            "           0       0.31      1.00      0.47        14\n",
            "           1       0.00      0.00      0.00        17\n",
            "           2       0.00      0.00      0.00        14\n",
            "\n",
            "    accuracy                           0.31        45\n",
            "   macro avg       0.10      0.33      0.16        45\n",
            "weighted avg       0.10      0.31      0.15        45\n",
            "\n",
            "\n",
            "For the height of 1, the accuracy on trainin set: 0.6857142857142857, and test set: 0.6222222222222222 \n",
            "              precision    recall  f1-score   support\n",
            "\n",
            "           0       1.00      1.00      1.00        14\n",
            "           1       0.00      0.00      0.00        17\n",
            "           2       0.45      1.00      0.62        14\n",
            "\n",
            "    accuracy                           0.62        45\n",
            "   macro avg       0.48      0.67      0.54        45\n",
            "weighted avg       0.45      0.62      0.50        45\n",
            "\n",
            "\n",
            "For the height of 2, the accuracy on trainin set: 0.9523809523809523, and test set: 0.9777777777777777 \n",
            "              precision    recall  f1-score   support\n",
            "\n",
            "           0       1.00      1.00      1.00        14\n",
            "           1       0.94      1.00      0.97        17\n",
            "           2       1.00      0.93      0.96        14\n",
            "\n",
            "    accuracy                           0.98        45\n",
            "   macro avg       0.98      0.98      0.98        45\n",
            "weighted avg       0.98      0.98      0.98        45\n",
            "\n",
            "\n",
            "For the height of 3, the accuracy on trainin set: 0.9619047619047619, and test set: 0.9777777777777777 \n",
            "              precision    recall  f1-score   support\n",
            "\n",
            "           0       1.00      1.00      1.00        14\n",
            "           1       0.94      1.00      0.97        17\n",
            "           2       1.00      0.93      0.96        14\n",
            "\n",
            "    accuracy                           0.98        45\n",
            "   macro avg       0.98      0.98      0.98        45\n",
            "weighted avg       0.98      0.98      0.98        45\n",
            "\n",
            "\n",
            "For the height of 4, the accuracy on trainin set: 1.0, and test set: 0.9333333333333333 \n",
            "              precision    recall  f1-score   support\n",
            "\n",
            "           0       1.00      1.00      1.00        14\n",
            "           1       0.94      0.88      0.91        17\n",
            "           2       0.87      0.93      0.90        14\n",
            "\n",
            "    accuracy                           0.93        45\n",
            "   macro avg       0.93      0.94      0.94        45\n",
            "weighted avg       0.93      0.93      0.93        45\n",
            "\n",
            "\n",
            "For the height of 5, the accuracy on trainin set: 1.0, and test set: 0.9333333333333333 \n",
            "              precision    recall  f1-score   support\n",
            "\n",
            "           0       1.00      1.00      1.00        14\n",
            "           1       0.94      0.88      0.91        17\n",
            "           2       0.87      0.93      0.90        14\n",
            "\n",
            "    accuracy                           0.93        45\n",
            "   macro avg       0.93      0.94      0.94        45\n",
            "weighted avg       0.93      0.93      0.93        45\n",
            "\n",
            "\n",
            "For the height of 6, the accuracy on trainin set: 1.0, and test set: 0.9333333333333333 \n",
            "              precision    recall  f1-score   support\n",
            "\n",
            "           0       1.00      1.00      1.00        14\n",
            "           1       0.94      0.88      0.91        17\n",
            "           2       0.87      0.93      0.90        14\n",
            "\n",
            "    accuracy                           0.93        45\n",
            "   macro avg       0.93      0.94      0.94        45\n",
            "weighted avg       0.93      0.93      0.93        45\n",
            "\n",
            "\n",
            "For the height of 7, the accuracy on trainin set: 1.0, and test set: 0.9333333333333333 \n",
            "              precision    recall  f1-score   support\n",
            "\n",
            "           0       1.00      1.00      1.00        14\n",
            "           1       0.94      0.88      0.91        17\n",
            "           2       0.87      0.93      0.90        14\n",
            "\n",
            "    accuracy                           0.93        45\n",
            "   macro avg       0.93      0.94      0.94        45\n",
            "weighted avg       0.93      0.93      0.93        45\n",
            "\n",
            "\n",
            "For the height of 8, the accuracy on trainin set: 1.0, and test set: 0.9333333333333333 \n",
            "              precision    recall  f1-score   support\n",
            "\n",
            "           0       1.00      1.00      1.00        14\n",
            "           1       0.94      0.88      0.91        17\n",
            "           2       0.87      0.93      0.90        14\n",
            "\n",
            "    accuracy                           0.93        45\n",
            "   macro avg       0.93      0.94      0.94        45\n",
            "weighted avg       0.93      0.93      0.93        45\n",
            "\n",
            "\n",
            "For the height of 9, the accuracy on trainin set: 1.0, and test set: 0.9333333333333333 \n",
            "              precision    recall  f1-score   support\n",
            "\n",
            "           0       1.00      1.00      1.00        14\n",
            "           1       0.94      0.88      0.91        17\n",
            "           2       0.87      0.93      0.90        14\n",
            "\n",
            "    accuracy                           0.93        45\n",
            "   macro avg       0.93      0.94      0.94        45\n",
            "weighted avg       0.93      0.93      0.93        45\n",
            "\n",
            "\n",
            "The best tree height yielding the highest accuracy on test set is 2\n"
          ]
        },
        {
          "output_type": "stream",
          "name": "stderr",
          "text": [
            "/usr/local/lib/python3.7/dist-packages/sklearn/metrics/_classification.py:1272: UndefinedMetricWarning: Precision and F-score are ill-defined and being set to 0.0 in labels with no predicted samples. Use `zero_division` parameter to control this behavior.\n",
            "  _warn_prf(average, modifier, msg_start, len(result))\n"
          ]
        }
      ]
    },
    {
      "cell_type": "code",
      "metadata": {
        "colab": {
          "base_uri": "https://localhost:8080/",
          "height": 296
        },
        "id": "z7_xE8XVGL5h",
        "outputId": "17974b68-9fed-4d05-e4f2-dbd55670f2f1"
      },
      "source": [
        "accuracy_record = []\n",
        "train_accuracy_record = []\n",
        "test_accuracy_record = []\n",
        "tree_height = range(1,8)\n",
        "\n",
        "for height in tree_height:\n",
        "\n",
        "  model = DecisionTree(max_depth=height)\n",
        "  model.fit(X_train, y_train)\n",
        "  train_yhat = model.predict(X_train)\n",
        "  test_yhat = model.predict(X_test)\n",
        "  train_accuracy = np.sum(model.predict(X_train) == y_train) / len(y_train)\n",
        "  test_accuracy = np.sum(model.predict(X_test) == y_test) / len(y_test)\n",
        "  accuracy_record.append(test_accuracy)\n",
        "  train_accuracy_record.append(train_accuracy)\n",
        "  test_accuracy_record.append(test_accuracy)\n",
        "\n",
        "\n",
        "plt.plot(tree_height, train_accuracy_record, label = 'train accuracy')\n",
        "plt.plot(tree_height, test_accuracy_record, label = 'test accuracy')\n",
        "plt.xlabel('tree height')\n",
        "plt.ylabel('accuracy score')\n",
        "plt.legend()\n",
        "\n",
        "\n",
        "print(f\"The best tree height yielding the highest accuracy on test set is {np.argmax(np.array(accuracy_record))}\")"
      ],
      "execution_count": 5,
      "outputs": [
        {
          "output_type": "stream",
          "name": "stdout",
          "text": [
            "The best tree height yielding the highest accuracy on test set is 1\n"
          ]
        },
        {
          "output_type": "display_data",
          "data": {
            "image/png": "[encoded data removed]",
            "text/plain": [
              "<Figure size 432x288 with 1 Axes>"
            ]
          },
          "metadata": {
            "needs_background": "light"
          }
        }
      ]
    },
    {
      "cell_type": "markdown",
      "metadata": {
        "id": "Sl0pK49QIskV"
      },
      "source": [
        "### Summary\n",
        "- We can see that for iris data set the best tree height is at 2, giving the highest accuracy rate on test set at around ~98%\n",
        "- As the iris data contains only 4 features, the model can reach the best leaves quite faster because of a few number of splitting times\n",
        "- It should be noted that after increasing the tree height to 4 and onwards, the model starts to overfit the data as it gets the 100% accuracy on training set"
      ]
    }
  ]
}