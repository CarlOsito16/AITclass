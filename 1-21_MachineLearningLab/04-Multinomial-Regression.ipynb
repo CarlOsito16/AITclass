{
 "cells": [
  {
   "cell_type": "markdown",
   "metadata": {},
   "source": [
    "Before you turn this problem in, make sure everything runs as expected. First, **restart the kernel** (in the menubar, select Kernel$\\rightarrow$Restart) and then **run all cells** (in the menubar, select Cell$\\rightarrow$Run All).\n",
    "\n",
    "Make sure you fill in any place that says `YOUR CODE HERE` or \"YOUR ANSWER HERE\", as well as your name and collaborators below:"
   ]
  },
  {
   "cell_type": "code",
   "execution_count": 1,
   "metadata": {},
   "outputs": [],
   "source": [
    "NAME = \"Kanawut Kaewnoparat\"\n",
    "ID = \"st122109\""
   ]
  },
  {
   "cell_type": "markdown",
   "metadata": {},
   "source": [
    "---"
   ]
  },
  {
   "cell_type": "markdown",
   "metadata": {},
   "source": [
    "# Machine Learning Lab 04: Multinomial Logistic Regression\n"
   ]
  },
  {
   "cell_type": "markdown",
   "metadata": {},
   "source": [
    "## Generalized Linear Models\n",
    "\n",
    "From lecture, we know that members of the exponential family distributions can be written in the form\n",
    "$$p(y;\\eta) = b(y)e^{(\\eta^\\top T(y)-a(\\eta))},$$\n",
    "where\n",
    "- $\\eta$ is the natural parameter or canonical paramter of the distribution,\n",
    "- $T(y)$ is the sufficient statistic (we normally use $T(y) = y$),\n",
    "- $b(y)$ is an arbitrary scalar function of y, and\n",
    "- $a(\\eta)$ is the log partition function. We use $e^{a(\\eta)}$ just to normalize the distribution to have a sum or integral of 1.\n",
    "\n",
    "Each choice of $T$, $a$, and $b$ defines a family (set) of distributions parameterized by $\\eta$.\n",
    "\n",
    "If we can write $p(y \\mid \\mathbf{x} ; \\theta)$ as a member of the exponential family of distributions with parameters $\\mathbf{\\eta}$ with\n",
    "$\\eta_i = \\theta^\\top_i \\mathbf{x}$, we obtain a *generalized linear model* that can be optimized using the maximum likelihood principle.\n",
    "\n",
    "The GLM for the Gaussian distribution with natural parameter $\\eta$ being the mean of the Gaussian gives us ordinary linear regression.\n",
    "\n",
    "The Bernoulli distribution with parameter $\\phi$ can be written as an exponential distribution\n",
    "with natural parmeter $\\eta = \\log \\frac{\\phi}{1-\\phi}$. The GLM for this distribution is logistic regression.\n",
    "\n",
    "When we write the multinomial distribution with paremeters $\\phi_i > 0$ for classes $i \\in 1..K$ with the constraint that\n",
    "$$\\sum_{i=1}^{K} \\phi_i = 1$$ as a member of the exponential family,\n",
    "the resulting GLM is called *multinomial logistic regression*. The parameters $\\phi_1, \\ldots, \\phi_K$ are written\n",
    "in terms of $\\theta$ as\n",
    "$$\\phi_i = p(y = i \\mid \\mathbf{x}; \\theta) = \\frac{e^{\\theta^\\top_i \\mathbf{x}}}{\\sum_{j=1}^{K}e^{\\theta^\\top_j \\mathbf{x}}}. $$"
   ]
  },
  {
   "cell_type": "markdown",
   "metadata": {},
   "source": [
    "## Optimizing a Multinomial Regression Model\n",
    "\n",
    "In multinomial regression, we have\n",
    "\n",
    "1. Data are pairs $\\mathbf{x}^{(i)}, y^{(i)}$ with $\\mathbf{x}^{(i)} \\in \\mathbb{R}^n$ and\n",
    "   $y \\in 1..K$.\n",
    "   \n",
    "2. The hypothesis is a vector-valued function\n",
    "$$\\mathbf{h}_\\theta(\\mathbf{x}) = \\begin{bmatrix} p(y = 1 \\mid \\mathbf{x} ; \\theta) \\\\\n",
    "                                         p(y = 2 \\mid \\mathbf{x} ; \\theta) \\\\\n",
    "                                         \\vdots \\\\\n",
    "                                         p(y = K \\mid \\mathbf{x} ; \\theta) \\end{bmatrix},$$\n",
    "    where $$p(y = i \\mid \\mathbf{x}) = \\phi_i = p(y = i \\mid \\mathbf{x}; \\theta) = \\frac{e^{\\theta^\\top_i \\mathbf{x}}}{\\sum_{j=1}^{K}e^{\\theta^\\top_j \\mathbf{x}}}. $$\n",
    "\n",
    "We need a cost function and a way to minimize that cost function. As usual, we try to find the parameters maximizing the likelihood or log likelihood function, or equivalently, minimizing the negative log likelihood function:\n",
    "\n",
    "$$\\theta^* = \\text{argmax}_\\theta {\\cal L}(\\theta) =\n",
    "             \\text{argmax}_\\theta \\ell(\\theta) =\n",
    "             \\text{argmin}_\\theta J(\\theta),$$\n",
    "where\n",
    "$$\\begin{eqnarray}\n",
    "   J(\\theta) & = & - \\ell(\\theta) \\\\\n",
    "   & = & - \\sum_{i=1}^m \\log p(y^{(i)} \\mid \\textbf{x}^{(i)} ; \\theta).\n",
    "   \\end{eqnarray}$$\n",
    "\n",
    "Now that we know what is $J(\\theta)$, let's try to find its minimimum by taking the derivatives with respect to an arbitrary parameter $\\theta_{kl}$, the $l$-th element of the parameter vector $\\theta_k$ for class $k$. Before we start, let's define a variable $a_k$ as the linear activation for class $k$ in the softmax function:\n",
    "$$ a_k = \\theta_k^\\top \\mathbf{x}^{(i)}, $$\n",
    "and rewrite the softmax more conveniently as\n",
    "$$ \\phi_k = \\frac{e^{a_k}}{\\sum_{j=1}^K e^{a_j}}. $$\n",
    "That makes it a little easier to compute the gradient:\n",
    "$$\\begin{eqnarray}\n",
    "   \\frac{\\partial J}{\\partial \\theta_{kl}} & = & - \\sum_{i=1}^m \\frac{1}{\\phi_{y^{(i)}}} \\frac{\\partial \\phi_{y^{(i)}}}{\\partial \\theta_{kl}}. \\\\\n",
    "   \\end{eqnarray}$$\n",
    "Using the chain rule, we have\n",
    "$$\\frac{\\partial \\phi_{y^{(i)}}}{\\partial \\theta_{kl}} = \\sum_{j=1}^K \\frac{\\partial \\phi_{y^{(i)}}}{\\partial a_j} \\frac{\\partial a_j}{\\partial \\theta_{kl}}$$\n",
    "The second factor is easy:\n",
    "$$ \\frac{\\partial a_j}{\\partial \\theta_{kl}} = \\delta(k=j)x^{(i)}_l. $$\n",
    "For the first factor, we have\n",
    "$$\\begin{eqnarray}\n",
    "\\frac{\\partial \\phi_{y^{(i)}}}{\\partial a_j}\n",
    "& = & \\frac{ \\left[ \\delta(y^{(i)}=j)e^{a_j} \\sum_{c=1}^K e^{a_c} \\right] - e^{a_j} e^{a_j} }{\\left[ \\sum_{c=1}^K e^{a_c} \\right]^2} \\\\\n",
    "& = & \\delta(y^{(i)}=j) \\phi_j - \\phi_j^2\n",
    "\\end{eqnarray}$$\n",
    "\n",
    "Substituting what we've derived into the definition above, we obtain\n",
    "$$ \\frac{\\partial J}{\\theta_{kl}} = - \\sum_{i=1}^m \\sum_{j=1}^K (\\delta(y^{(i)}=j) - \\phi_j) \\frac{\\partial a_j}{\\partial \\theta_{kl}}. $$\n",
    "\n",
    "There are two ways to do the calculation.\n",
    "In deep neural networks with multinomial outputs, we want to first calculate the $\\frac{\\partial J}{\\partial a_j}$ terms then use them to calculate $\\frac{\\partial J}{\\partial \\theta_{kl}}$.\n",
    "\n",
    "However, if we only have the \"single layer\" model described up till now, we note\n",
    "that\n",
    "$$\\frac{\\partial a_j}{\\partial \\theta_{kl}} = \\delta(j=k) x^{(i)}_l,$$\n",
    "so we can simplify as follows:\n",
    "$$\\begin{eqnarray}\n",
    "  \\frac{\\partial J}{\\theta_{kl}} & = & - \\sum_{i=1}^m \\sum_{j=1}^K (\\delta(y^{(i)}=j) - \\phi_j) \\frac{\\partial a_j}{\\partial \\theta_{kl}} \\\\\n",
    "  & = & - \\sum_{i=1}^m \\sum_{j=1}^K (\\delta(y^{(i)}=j) - \\phi_j) \\delta(j=k) x^{(i)}_l \\\\\n",
    "  & = & - \\sum_{i=1}^m (\\delta(y^{(i)}=k) - \\phi_k) x^{(i)}_l \\\\\n",
    "  \\end{eqnarray}$$"
   ]
  },
  {
   "cell_type": "markdown",
   "metadata": {},
   "source": [
    "## Put It Together\n",
    "\n",
    "OK! Now we have all 4 criteria for our multinomial regression model:\n",
    "\n",
    "1. Data are pairs $\\mathbf{x}^{(i)}, y^{(i)}$ with $\\mathbf{x}^{(i)} \\in \\mathbb{R}^n$ and\n",
    "   $y \\in 1..K$.\n",
    "   \n",
    "2. The hypothesis is a vector-valued function\n",
    "$$\\mathbf{h}_\\theta(\\mathbf{x}) = \\begin{bmatrix} p(y = 1 \\mid \\mathbf{x} ; \\theta) \\\\\n",
    "                                         p(y = 2 \\mid \\mathbf{x} ; \\theta) \\\\\n",
    "                                         \\vdots \\\\\n",
    "                                         p(y = K \\mid \\mathbf{x} ; \\theta) \\end{bmatrix},$$\n",
    "    where $$p(y = i \\mid \\mathbf{x}) = \\phi_i = p(y = i \\mid \\mathbf{x}; \\theta) = \\frac{e^{\\theta^\\top_i \\mathbf{x}}}{\\sum_{j=1}^{K}e^{\\theta^\\top_j \\mathbf{x}}}. $$\n",
    "    \n",
    "3. The cost function is\n",
    "   $$J(\\theta) = - \\sum_{i=1}^m \\log p(y^{(i)} \\mid \\textbf{x}^{(i)})$$\n",
    "   \n",
    "4. The optimization algorithm is gradient descent on $J(\\theta)$ with the update rule\n",
    "   $$\\theta_{kl}^{(n+1)} \\leftarrow \\theta_{kl}^{(n)} - \\alpha \\sum_{i=1}^m (\\delta(y^{(i)}=k) - \\phi_k) x^{(i)}_l.$$\n"
   ]
  },
  {
   "cell_type": "markdown",
   "metadata": {},
   "source": [
    "## Multinomial Regression Example\n",
    "\n",
    "The following example of multinomial logistic regression is from [Kaggle](https://www.kaggle.com/saksham219/softmax-regression-for-iris-classification).\n",
    "\n",
    "The data set is the famous [Iris dataset from the UCI machine learning repository](https://archive.ics.uci.edu/ml/datasets/iris).\n",
    "\n",
    "The data contain 50 samples from each of three classes. Each class refers to a particular species of the iris plant. \n",
    "The data include four independent variables:\n",
    "1. Sepal length in cm\n",
    "2. Sepal width in cm\n",
    "3. Petal length in cm\n",
    "4. Petal width in cm\n",
    "\n",
    "The target takes on one of three classes:\n",
    "1. Iris Setosa\n",
    "2. Iris Versicolour\n",
    "3. Iris Virginica\n",
    "   \n",
    "To predict the target value, we use multinomial logistic regression for $k=3$ classes i.e. $y \\in \\{ 1, 2, 3 \\}$. \n",
    "\n",
    "Given $\\mathbf{x}$, we would like to predict a probability distribution over the\n",
    "three outcomes for $y$, i.e., $\\phi_1 = p(y=1 \\mid \\mathbf{x})$, $\\phi_2 = p(y=2 \\mid \\mathbf{x})$, and $\\phi_3 = p(y=3 \\mid \\mathbf{x})$.\n"
   ]
  },
  {
   "cell_type": "code",
   "execution_count": 2,
   "metadata": {},
   "outputs": [],
   "source": [
    "# importing libraries\n",
    "import numpy as np\n",
    "import pandas as pd \n",
    "import random\n",
    "import math"
   ]
  },
  {
   "cell_type": "markdown",
   "metadata": {},
   "source": [
    "The `phi` function returns $\\phi_i$ for input patterns $\\mathtt{X}$ and parameters $\\theta$."
   ]
  },
  {
   "cell_type": "code",
   "execution_count": 3,
   "metadata": {},
   "outputs": [],
   "source": [
    "def phi(i, theta, X, num_class):\n",
    "    \"\"\"\n",
    "    Here is how to make documentation for your function show up in intellisense.\n",
    "    Explanation you put here will be shown when you use it.\n",
    "    \n",
    "    To get intellisense in your Jupyter notebook:\n",
    "        - Press 'TAB' after typing a dot (.) to see methods and attributes\n",
    "        - Press 'Shift+TAB' after typing a function name to see its documentation\n",
    "\n",
    "    The `phi` function returns phi_i = h_theta(x) for input patterns X and parameters theta.\n",
    "    \n",
    "    Inputs:\n",
    "        i=index of phi\n",
    "        \n",
    "        X=input dataset\n",
    "        \n",
    "        theta=parameters\n",
    "\n",
    "    Returns:\n",
    "        phi_i\n",
    "    \"\"\"\n",
    "    mat_theta = np.matrix(theta[i])\n",
    "    mat_x = np.matrix(X)\n",
    "    num = math.exp(np.dot(mat_theta, mat_x.T))\n",
    "    den = 0\n",
    "    for j in range(0,num_class):\n",
    "        mat_theta_j = np.matrix(theta[j])\n",
    "        den = den + math.exp(np.dot(mat_theta_j, mat_x.T))\n",
    "    phi_i = num / den\n",
    "    return phi_i"
   ]
  },
  {
   "attachments": {
    "lab4-01.png": {
     "image/png": "[encoded data removed]"
    }
   },
   "cell_type": "markdown",
   "metadata": {
    "deletable": false,
    "editable": false,
    "nbgrader": {
     "cell_type": "markdown",
     "checksum": "7bbfb7d7db673b01e26f88fec69cd486",
     "grade": false,
     "grade_id": "cell-f6c98aabf4060a6e",
     "locked": true,
     "schema_version": 3,
     "solution": false,
     "task": false
    }
   },
   "source": [
    "**Tips for using intellisense: Shift+TAB**\n",
    "\n",
    "![lab4-01.png](attachment:lab4-01.png)"
   ]
  },
  {
   "cell_type": "markdown",
   "metadata": {},
   "source": [
    "The `grad_cost` function gives the gradient of the cost for data $\\mathtt{X}, \\mathbf{y}$ for class $j\\in 1..k$."
   ]
  },
  {
   "cell_type": "code",
   "execution_count": 4,
   "metadata": {},
   "outputs": [],
   "source": [
    "def indicator(i, j):\n",
    "    '''\n",
    "    Check whether i is equal to j\n",
    "    \n",
    "    Return:\n",
    "        1 when i=j, otherwise 0\n",
    "    '''\n",
    "    if i == j: return 1\n",
    "    else: return 0\n",
    "\n",
    "\n",
    "def grad_cost(X, y, j, theta, num_class):\n",
    "    '''\n",
    "    Compute the gradient of the cost function for data X, y for parameters of\n",
    "    output for class j in 1..k\n",
    "    '''\n",
    "    m, n = X.shape\n",
    "    sum = np.array([0 for i in range(0,n)])\n",
    "    for i in range(0, m):\n",
    "        p = indicator(y[i], j) - phi(j, theta, X.loc[i], num_class)\n",
    "        sum = sum + (X.loc[i] * p)\n",
    "    grad = -sum / m\n",
    "    return grad\n",
    "\n",
    "def gradient_descent(X, y, theta, alpha, iters, num_class):\n",
    "    '''\n",
    "    Perform iters iterations of gradient descent: theta_new = theta_old - alpha * cost\n",
    "    '''\n",
    "    n = X.shape[1]\n",
    "    for iter in range(iters):\n",
    "        dtheta = np.zeros((num_class, n))\n",
    "        for j in range(0, num_class):\n",
    "            dtheta[j,:] = grad_cost(X, y, j, theta, num_class)\n",
    "        theta = theta - alpha * dtheta\n",
    "    return theta\n",
    "\n",
    "def h(X, theta, num_class):\n",
    "    '''\n",
    "    Hypothesis function: h_theta(X) = theta * X\n",
    "    '''\n",
    "    X = np.matrix(X)\n",
    "    h_matrix = np.empty((num_class,1))\n",
    "    den = 0\n",
    "    for j in range(0, num_class):\n",
    "        den = den + math.exp(np.dot(theta[j], X.T))\n",
    "    for i in range(0,num_class):\n",
    "        h_matrix[i] = math.exp(np.dot(theta[i], X.T))\n",
    "    h_matrix = h_matrix / den\n",
    "    return h_matrix"
   ]
  },
  {
   "cell_type": "markdown",
   "metadata": {
    "deletable": false,
    "editable": false,
    "nbgrader": {
     "cell_type": "markdown",
     "checksum": "ae6bc59fd16f769612e9610237a581c7",
     "grade": false,
     "grade_id": "cell-7ef5fafee187b7b0",
     "locked": true,
     "schema_version": 3,
     "solution": false,
     "task": false
    }
   },
   "source": [
    "## Exercise 1.1 (5 points)\n",
    "\n",
    "Create a function to load **data** from **Iris.csv** using the Pandas library and extract y from the data.\n",
    "\n",
    "You can use [the Pandas 10 minute guide](https://pandas.pydata.org/pandas-docs/stable/user_guide/10min.html) to learn how to use pandas."
   ]
  },
  {
   "cell_type": "code",
   "execution_count": 5,
   "metadata": {
    "deletable": false,
    "nbgrader": {
     "cell_type": "code",
     "checksum": "628cb1c0a7d70ab1055c7b3517979f8b",
     "grade": false,
     "grade_id": "cell-d063fd66918f3b47",
     "locked": false,
     "schema_version": 3,
     "solution": true,
     "task": false
    }
   },
   "outputs": [],
   "source": [
    "def load_data(file_name, drop_label, y_label, is_print=False):\n",
    "    # 1. Load csv file\n",
    "    data = pd.read_csv(file_name)\n",
    "    if is_print:\n",
    "        print(data.head())\n",
    "    # 2. remove 'Id' column from data\n",
    "    if drop_label is not None:\n",
    "        data = data.drop([drop_label],axis=1)\n",
    "        if is_print:\n",
    "            print(data.head())\n",
    "    # 3. Extract y_label column as y from data\n",
    "    y = data[y_label]\n",
    "    # 4. get index of y-column\n",
    "    y_index = data.columns.get_loc(y_label)\n",
    "    # 5. Extrack X features from data\n",
    "    X = data.iloc[:,:y_index]\n",
    "    # YOUR CODE HERE\n",
    "#     raise NotImplementedError()\n",
    "    return X, y"
   ]
  },
  {
   "cell_type": "code",
   "execution_count": 6,
   "metadata": {
    "deletable": false,
    "editable": false,
    "nbgrader": {
     "cell_type": "code",
     "checksum": "e754d7fcc097ad58a8f5cb616fec5605",
     "grade": true,
     "grade_id": "cell-7b5c0f18770fbccb",
     "locked": true,
     "points": 5,
     "schema_version": 3,
     "solution": false,
     "task": false
    }
   },
   "outputs": [
    {
     "name": "stdout",
     "output_type": "stream",
     "text": [
      "   Id  SepalLengthCm  SepalWidthCm  PetalLengthCm  PetalWidthCm      Species\n",
      "0   1            5.1           3.5            1.4           0.2  Iris-setosa\n",
      "1   2            4.9           3.0            1.4           0.2  Iris-setosa\n",
      "2   3            4.7           3.2            1.3           0.2  Iris-setosa\n",
      "3   4            4.6           3.1            1.5           0.2  Iris-setosa\n",
      "4   5            5.0           3.6            1.4           0.2  Iris-setosa\n",
      "   SepalLengthCm  SepalWidthCm  PetalLengthCm  PetalWidthCm      Species\n",
      "0            5.1           3.5            1.4           0.2  Iris-setosa\n",
      "1            4.9           3.0            1.4           0.2  Iris-setosa\n",
      "2            4.7           3.2            1.3           0.2  Iris-setosa\n",
      "3            4.6           3.1            1.5           0.2  Iris-setosa\n",
      "4            5.0           3.6            1.4           0.2  Iris-setosa\n",
      "   SepalLengthCm  SepalWidthCm  PetalLengthCm  PetalWidthCm\n",
      "0            5.1           3.5            1.4           0.2\n",
      "1            4.9           3.0            1.4           0.2\n",
      "2            4.7           3.2            1.3           0.2\n",
      "3            4.6           3.1            1.5           0.2\n",
      "4            5.0           3.6            1.4           0.2\n",
      "0    Iris-setosa\n",
      "1    Iris-setosa\n",
      "2    Iris-setosa\n",
      "3    Iris-setosa\n",
      "4    Iris-setosa\n",
      "Name: Species, dtype: object\n",
      "success!\n"
     ]
    }
   ],
   "source": [
    "X, y = load_data('Iris.csv', 'Id', 'Species', True)\n",
    "print(X.head())\n",
    "print(y[:5])\n",
    "\n",
    "# Test function: Do not remove\n",
    "# tips: this is how to create dataset using pandas\n",
    "d_ex = {'ID':     [  1,   2,   3,    4,    5,    6,    7],\n",
    "        'Grade':  [3.5, 2.5, 3.0, 3.75, 2.83, 3.95, 2.68],\n",
    "        'Type':   ['A', 'B', 'C',  'A',  'C',  'A',  'B']\n",
    "        }\n",
    "df = pd.DataFrame (d_ex, columns = ['ID','Grade', 'Type'])\n",
    "df.to_csv('out.csv', index=False)\n",
    "\n",
    "Xtest, ytest = load_data('out.csv', 'ID', 'Type')\n",
    "assert len(Xtest.columns) == 1, 'number of X_columns incorrect (1)'\n",
    "assert ytest.name == 'Type', 'Extract y_column is incorrect (1)'\n",
    "assert ytest.shape == (7,), 'number of y is incorrect (1)'\n",
    "assert 'Grade' in Xtest.columns, 'Incorrect columns in X (1)'\n",
    "Xtest, ytest = load_data('out.csv', None, 'Type')\n",
    "assert len(Xtest.columns) == 2, 'number of X_columns incorrect (2)'\n",
    "assert ytest.name == 'Type', 'Extract y_column is incorrect (2)'\n",
    "assert ytest.shape == (7,), 'number of y is incorrect (2)'\n",
    "assert 'Grade' in Xtest.columns and 'ID' in Xtest.columns, 'Incorrect columns in X (2)'\n",
    "import os\n",
    "os.remove('out.csv')\n",
    "\n",
    "assert len(X.columns) == 4, 'number of X_columns incorrect (3)'\n",
    "assert 'SepalWidthCm' in X.columns and 'Id' not in X.columns and 'Species' not in X.columns, 'Incorrect columns in X (3)'\n",
    "assert y.name == 'Species', 'Extract y_column is incorrect (3)'\n",
    "assert y.shape == (150,), 'number of y is incorrect (3)'\n",
    "\n",
    "print(\"success!\")\n",
    "# End Test function"
   ]
  },
  {
   "cell_type": "markdown",
   "metadata": {
    "deletable": false,
    "editable": false,
    "nbgrader": {
     "cell_type": "markdown",
     "checksum": "a30e2254d1c1f2935402bbb25f7cbf8c",
     "grade": false,
     "grade_id": "cell-2549563cd9338d95",
     "locked": true,
     "schema_version": 3,
     "solution": false,
     "task": false
    }
   },
   "source": [
    "**Expected result**: \\\n",
    "   SepalLengthCm  SepalWidthCm  PetalLengthCm  PetalWidthCm \\\n",
    "0            5.1           3.5            1.4           0.2\\\n",
    "1            4.9           3.0            1.4           0.2\\\n",
    "2            4.7           3.2            1.3           0.2\\\n",
    "3            4.6           3.1            1.5           0.2\\\n",
    "4            5.0           3.6            1.4           0.2\\\n",
    "0    Iris-setosa\\\n",
    "1    Iris-setosa\\\n",
    "2    Iris-setosa\\\n",
    "3    Iris-setosa\\\n",
    "4    Iris-setosa\\\n",
    "Name: Species, dtype: object"
   ]
  },
  {
   "cell_type": "markdown",
   "metadata": {
    "deletable": false,
    "editable": false,
    "nbgrader": {
     "cell_type": "markdown",
     "checksum": "1bce059019c7763d77c2f095596f67ec",
     "grade": false,
     "grade_id": "cell-507051f801249765",
     "locked": true,
     "schema_version": 3,
     "solution": false,
     "task": false
    }
   },
   "source": [
    "## Exercise 1.2 (10 points)\n",
    "\n",
    "Partition data into training and test sets\n",
    "- No need to use random.seed function!\n",
    "- Ensure that the train set is 70% and the test set is 30% of the data.\n",
    "- Encode the labels in the y attribute to be integers in the range 0..k-1.\n",
    "\n",
    "<details>\n",
    "    <summary><font size=\"3\" color=\"green\"><b>Hint:</b></font></summary>\n",
    "    You can use the <tt>partition</tt> function from lab02 if you like\n",
    "    <p></p>\n",
    "    <a href=\"https://pandas.pydata.org/pandas-docs/stable/reference/api/pandas.DataFrame.iloc.html\">panda.iloc</a> must be used to extract data from an index list\n",
    "    <p></p>\n",
    "    <a href=\"https://pandas.pydata.org/docs/reference/api/pandas.unique.html\">panda.unique</a> will give you the set of unique labels\n",
    "</details>"
   ]
  },
  {
   "cell_type": "code",
   "execution_count": 7,
   "metadata": {
    "deletable": false,
    "nbgrader": {
     "cell_type": "code",
     "checksum": "4b840baf518302ae39dee4e9325d912d",
     "grade": false,
     "grade_id": "cell-eb7e4dd82f395754",
     "locked": false,
     "schema_version": 3,
     "solution": true,
     "task": false
    }
   },
   "outputs": [],
   "source": [
    "def partition(X, y, percent_train):\n",
    "    # 1. create index list\n",
    "    # 2. shuffle index\n",
    "    # 3. Create train/test index\n",
    "    # 4. Separate X_Train, y_train, X_test, y_test\n",
    "    # 5. Get y_labels_name from y using pandas.unique function\n",
    "    # 6. Change y_labels_name into string number and put into y_labels_new\n",
    "    # 7. Drop shuffle index columns\n",
    "    #     - pandas.reset_index() and pandas.drop(...) might be help\n",
    "    from sklearn.preprocessing import LabelEncoder\n",
    "    \n",
    "    y_labels_name = np.unique(y)\n",
    "    y_labels_new = np.unique(LabelEncoder().fit_transform(y))\n",
    "    encoded_y = LabelEncoder().fit_transform(y)\n",
    "    #idx_len = len(X)\n",
    "    idx = np.arange(0, len(X))\n",
    "    np.random.shuffle(idx)\n",
    "\n",
    "\n",
    "    start_stop_ind = int(len(X) * percent_train)\n",
    "\n",
    "    X_train = X.iloc[idx[: start_stop_ind]].reset_index(drop= True)\n",
    "    X_test = X.iloc[idx[start_stop_ind: ]].reset_index(drop = True)\n",
    "    y_train = pd.Series(encoded_y[idx[: start_stop_ind]], name = 'Species')\n",
    "    y_test = pd.Series(encoded_y[idx[ start_stop_ind:]], name = 'Species')\n",
    "    \n",
    "    return idx, X_train, y_train, X_test, y_test, y_labels_name, y_labels_new"
   ]
  },
  {
   "cell_type": "code",
   "execution_count": 8,
   "metadata": {
    "deletable": false,
    "editable": false,
    "nbgrader": {
     "cell_type": "code",
     "checksum": "d6dd3918ae4421e104c8fe2687322be6",
     "grade": true,
     "grade_id": "cell-57199b8ae505edd8",
     "locked": true,
     "points": 10,
     "schema_version": 3,
     "solution": false,
     "task": false
    }
   },
   "outputs": [
    {
     "name": "stdout",
     "output_type": "stream",
     "text": [
      "X_train.shape (105, 4)\n",
      "X_test.shape (45, 4)\n",
      "y_train.shape (105,)\n",
      "y_test.shape (45,)\n",
      "y_labels_name:  ['Iris-setosa' 'Iris-versicolor' 'Iris-virginica']\n",
      "y_labels_new:  [0 1 2]\n",
      "   SepalLengthCm  SepalWidthCm  PetalLengthCm  PetalWidthCm\n",
      "0            5.4           3.0            4.5           1.5\n",
      "1            6.9           3.1            5.1           2.3\n",
      "2            5.2           2.7            3.9           1.4\n",
      "3            5.8           2.7            3.9           1.2\n",
      "4            4.8           3.0            1.4           0.1\n",
      "0    1\n",
      "1    2\n",
      "2    1\n",
      "3    1\n",
      "4    0\n",
      "Name: Species, dtype: int64\n",
      "success!\n"
     ]
    }
   ],
   "source": [
    "percent_train = 0.7\n",
    "idx, X_train, y_train, X_test, y_test, y_labels_name, y_labels_new = partition(X, y, percent_train)\n",
    "print('X_train.shape', X_train.shape)\n",
    "print('X_test.shape', X_test.shape)\n",
    "print('y_train.shape', y_train.shape)\n",
    "print('y_test.shape', y_test.shape)\n",
    "print('y_labels_name: ', y_labels_name)\n",
    "print('y_labels_new: ', y_labels_new)\n",
    "print(X_train.head())\n",
    "print(y_train.head())\n",
    "\n",
    "# Test function: Do not remove\n",
    "assert len(y_labels_name) == 3 and len(y_labels_new) == 3, 'number of y uniques are incorrect'\n",
    "assert X_train.shape == (105, 4), 'Size of X_train is incorrect'\n",
    "assert X_test.shape == (45, 4), 'Size of x_test is incorrect'\n",
    "assert y_train.shape == (105, ), 'Size of y_train is incorrect'\n",
    "assert y_test.shape == (45, ), 'Size of y_test is incorrect'\n",
    "assert 'Iris-setosa' in y_labels_name and 'Iris-virginica' in y_labels_name and \\\n",
    "        'Iris-versicolor' in y_labels_name, 'y unique data incorrect'\n",
    "assert min(y_labels_new) == 0 and max(y_labels_new) < 3, 'label indices are incorrect'\n",
    "\n",
    "print(\"success!\")\n",
    "# End Test function"
   ]
  },
  {
   "cell_type": "markdown",
   "metadata": {
    "deletable": false,
    "editable": false,
    "nbgrader": {
     "cell_type": "markdown",
     "checksum": "b9470594d08018205e3db8c74957f49d",
     "grade": false,
     "grade_id": "cell-ce816c5bfbade0a9",
     "locked": true,
     "schema_version": 3,
     "solution": false,
     "task": false
    }
   },
   "source": [
    "**Expected result**: <span style=\"color:blue\">(*or similar*)</span>\\\n",
    "X_train.shape (105, 4)\\\n",
    "X_test.shape (45, 4)\\\n",
    "y_train.shape (105,)\\\n",
    "y_test.shape (45,)\\\n",
    "y_labels_name:  ['Iris-setosa' 'Iris-versicolor' 'Iris-virginica'] \\\n",
    "y_labels_new:  [0, 1, 2]\n",
    "\n",
    "SepalLengthCm  SepalWidthCm  PetalLengthCm  PetalWidthCm\\\n",
    "0            6.4           2.8            5.6           2.2\\\n",
    "1            6.7           3.3            5.7           2.1\\\n",
    "2            4.6           3.4            1.4           0.3\\\n",
    "3            5.1           3.8            1.5           0.3\\\n",
    "4            5.0           2.3            3.3           1.0\\\n",
    "   Species\\\n",
    "0        2\\\n",
    "1        2\\\n",
    "2        0\\\n",
    "3        0\\\n",
    "4        1"
   ]
  },
  {
   "cell_type": "markdown",
   "metadata": {},
   "source": [
    "## Exercise 1.3 (5 points)\n",
    "\n",
    "Train your classification model using the `gradient_descent` function already provided.\n",
    "You might also play around with the gradient descent function to see if you can speed it up!"
   ]
  },
  {
   "cell_type": "code",
   "execution_count": 9,
   "metadata": {
    "deletable": false,
    "nbgrader": {
     "cell_type": "code",
     "checksum": "ad783130ff0cfdf82d485d403ec273e9",
     "grade": false,
     "grade_id": "cell-45133326ee8336fd",
     "locked": false,
     "schema_version": 3,
     "solution": true,
     "task": false
    }
   },
   "outputs": [],
   "source": [
    "# num_class is the number of unique labels\n",
    "num_class = len(y_labels_name)\n",
    "\n",
    "if (X_train.shape[1] == X.shape[1]): \n",
    "    X_train.insert(0, \"intercept\", 1)\n",
    "\n",
    "# Reset m and n for training data\n",
    "r, c = X_train.shape\n",
    "\n",
    "# Initialize theta for each class\n",
    "theta_initial = np.ones((num_class, c))\n",
    "\n",
    "alpha = .05\n",
    "iterations = 200\n",
    "\n",
    "# theta = None\n",
    "# Logistic regression\n",
    "theta = gradient_descent(X_train, y_train, theta_initial, alpha, iterations,num_class )\n",
    "# raise NotImplementedError()"
   ]
  },
  {
   "cell_type": "code",
   "execution_count": 10,
   "metadata": {
    "deletable": false,
    "editable": false,
    "nbgrader": {
     "cell_type": "code",
     "checksum": "292c4d2939100e64e43e00eaa1103c99",
     "grade": true,
     "grade_id": "cell-4df1fd593dc59103",
     "locked": true,
     "points": 5,
     "schema_version": 3,
     "solution": false,
     "task": false
    }
   },
   "outputs": [
    {
     "name": "stdout",
     "output_type": "stream",
     "text": [
      "[[ 1.17539751  1.31427677  1.85330879 -0.19526109  0.44101483]\n",
      " [ 1.06543905  1.17246363  0.69361862  1.20786739  0.84153557]\n",
      " [ 0.75916344  0.5132596   0.45307259  1.98739369  1.7174496 ]]\n",
      "(3, 5)\n",
      "success!\n"
     ]
    }
   ],
   "source": [
    "print(theta)\n",
    "print(theta.shape)\n",
    "\n",
    "# Test function: Do not remove\n",
    "assert theta.shape == (3, 5), 'Size of theta is incorrect'\n",
    "\n",
    "print(\"success!\")\n",
    "# End Test function"
   ]
  },
  {
   "cell_type": "markdown",
   "metadata": {},
   "source": [
    "**Expected result**: <span style=\"color:blue\">(*or similar*)</span>\\\n",
    "[[ 1.17632192  1.32360047  1.83204165 -0.20224445  0.44039155]\\\n",
    " [ 1.10140069  1.13537321  0.74833178  1.21907866  0.82567377]\\\n",
    " [ 0.72227738  0.54102632  0.41962657  1.98316579  1.73393467]]\\\n",
    "\\\n",
    "(3, 5)"
   ]
  },
  {
   "cell_type": "markdown",
   "metadata": {
    "deletable": false,
    "editable": false,
    "nbgrader": {
     "cell_type": "markdown",
     "checksum": "77824201280c79436622012608de3e2f",
     "grade": false,
     "grade_id": "cell-1fb529e9485db8ed",
     "locked": true,
     "schema_version": 3,
     "solution": false,
     "task": false
    }
   },
   "source": [
    "## Exercise 1.4 (5 points)\n",
    "\n",
    "Let's get your model to make predictions on the test data."
   ]
  },
  {
   "cell_type": "code",
   "execution_count": 11,
   "metadata": {},
   "outputs": [],
   "source": [
    "def h(X, theta, num_class):\n",
    "    '''\n",
    "    Hypothesis function: h_theta(X) = theta * X\n",
    "    '''\n",
    "    X = np.matrix(X)\n",
    "    h_matrix = np.empty((num_class,1))\n",
    "    den = 0\n",
    "    for j in range(0, num_class):\n",
    "        den = den + np.exp(np.dot(theta[j], X.T))\n",
    "    for i in range(0,num_class):\n",
    "        h_matrix[i] = math.exp(np.dot(theta[i], X.T))\n",
    "    h_matrix = h_matrix / den\n",
    "    return h_matrix"
   ]
  },
  {
   "cell_type": "code",
   "execution_count": 12,
   "metadata": {},
   "outputs": [],
   "source": [
    "X = np.matrix(X)\n",
    "h_matrix = np.empty((num_class,1))"
   ]
  },
  {
   "cell_type": "code",
   "execution_count": 13,
   "metadata": {
    "deletable": false,
    "nbgrader": {
     "cell_type": "code",
     "checksum": "348bc255367b5cbda2244eac6b1e9af7",
     "grade": false,
     "grade_id": "cell-ca9bee3cf3b6f596",
     "locked": false,
     "schema_version": 3,
     "solution": true,
     "task": false
    }
   },
   "outputs": [],
   "source": [
    "# Prediction on test data \n",
    "\n",
    "if (X_test.shape[1] == X.shape[1]): \n",
    "    X_test.insert(0, \"intercept\", 1)\n",
    "\n",
    "# Reset m and n for test data\n",
    "r,c = X_test.shape\n",
    "\n",
    "y_pred = []\n",
    "for index,row in X_test.iterrows(): # get a row of X_test data\n",
    "    # calculate y_hat using hypothesis function\n",
    "    y_hat =  h(row, theta, num_class)\n",
    "#     print(y_hat)\n",
    "    # find the index (integer value) of maximum value in y_hat and input back to prediction\n",
    "    prediction = int(np.argmax(y_hat))\n",
    "#     print(prediction)\n",
    "\n",
    "    # collect the result\n",
    "    y_pred.append(prediction)"
   ]
  },
  {
   "cell_type": "code",
   "execution_count": 14,
   "metadata": {
    "deletable": false,
    "editable": false,
    "nbgrader": {
     "cell_type": "code",
     "checksum": "d842201bd3b0bc078ed88a2ad3be3ba5",
     "grade": true,
     "grade_id": "cell-eb837dfbea00f88e",
     "locked": true,
     "points": 5,
     "schema_version": 3,
     "solution": false,
     "task": false
    }
   },
   "outputs": [
    {
     "name": "stdout",
     "output_type": "stream",
     "text": [
      "45\n",
      "[2, 2, 1, 2, 0, 2, 1]\n",
      "<class 'int'>\n",
      "success!\n"
     ]
    }
   ],
   "source": [
    "print(len(y_pred))\n",
    "print(y_pred[:7])\n",
    "print(type(y_pred[0]))\n",
    "\n",
    "# Test function: Do not remove\n",
    "assert len(y_pred) == 45, 'Size of y_pred is incorrect'\n",
    "assert isinstance(y_pred[0], int) and isinstance(y_pred[15], int) and isinstance(y_pred[17], int), 'prediction type is incorrect'\n",
    "assert max(y_pred) < 3 and min(y_pred) >= 0, 'wrong index of y_pred'\n",
    "\n",
    "print(\"success!\")\n",
    "# End Test function"
   ]
  },
  {
   "cell_type": "markdown",
   "metadata": {
    "deletable": false,
    "editable": false,
    "nbgrader": {
     "cell_type": "markdown",
     "checksum": "f16868d1301850a213dcca08f77f9d99",
     "grade": false,
     "grade_id": "cell-e6c4ecd254dffa16",
     "locked": true,
     "schema_version": 3,
     "solution": false,
     "task": false
    }
   },
   "source": [
    "**Expected result**: <span style=\"color:blue\">(*or similar*)</span>\\\n",
    "45 \\\n",
    "[2, 0, 2, 0, 0, 0, 2] \\\n",
    "<class 'int'>"
   ]
  },
  {
   "cell_type": "markdown",
   "metadata": {},
   "source": [
    "## Exercise 1.5 (5 points)\n",
    "\n",
    "Estimate accuracy of model on test data\n",
    "\n",
    "$$\\text{accuracy} = \\frac{\\text{number of correct test predictions}}{m_{\\text{test}}}$$"
   ]
  },
  {
   "cell_type": "code",
   "execution_count": 15,
   "metadata": {},
   "outputs": [
    {
     "data": {
      "text/plain": [
       "44"
      ]
     },
     "execution_count": 15,
     "metadata": {},
     "output_type": "execute_result"
    }
   ],
   "source": [
    "np.count_nonzero((y_test - y_pred) == 0)"
   ]
  },
  {
   "cell_type": "code",
   "execution_count": 16,
   "metadata": {
    "deletable": false,
    "nbgrader": {
     "cell_type": "code",
     "checksum": "5e98a0ca8a59bcc91e4e98134994357c",
     "grade": false,
     "grade_id": "cell-e55c1db91fb8e2c2",
     "locked": false,
     "schema_version": 3,
     "solution": true,
     "task": false
    }
   },
   "outputs": [],
   "source": [
    "def calc_accuracy(y_test, y_pred):\n",
    "    matched_result = np.count_nonzero((y_test - y_pred) == 0)\n",
    "    total_result = len(y_test)\n",
    "    accuracy = matched_result / total_result\n",
    "    # YOUR CODE HERE\n",
    "#     raise NotImplementedError()\n",
    "    return accuracy"
   ]
  },
  {
   "cell_type": "code",
   "execution_count": 17,
   "metadata": {
    "deletable": false,
    "editable": false,
    "nbgrader": {
     "cell_type": "code",
     "checksum": "9e60eaa0a604ec38ec10b318709f16d2",
     "grade": true,
     "grade_id": "cell-3c242c8ceb36bdde",
     "locked": true,
     "points": 5,
     "schema_version": 3,
     "solution": false,
     "task": false
    }
   },
   "outputs": [
    {
     "name": "stdout",
     "output_type": "stream",
     "text": [
      "Accuracy: 0.9778\n",
      "success!\n"
     ]
    }
   ],
   "source": [
    "accuracy = calc_accuracy(y_test, y_pred)\n",
    "print('Accuracy: %.4f' % accuracy)\n",
    "\n",
    "# Test function: Do not remove\n",
    "assert isinstance(accuracy, float), 'accuracy should be floating point'\n",
    "assert accuracy >= 0.8, 'Did you train the data?'\n",
    "\n",
    "print(\"success!\")\n",
    "# End Test function"
   ]
  },
  {
   "cell_type": "markdown",
   "metadata": {
    "deletable": false,
    "editable": false,
    "nbgrader": {
     "cell_type": "markdown",
     "checksum": "bb73f150e4d32690d39ea62b36681d0e",
     "grade": false,
     "grade_id": "cell-c6ce114f4e28eb00",
     "locked": true,
     "schema_version": 3,
     "solution": false,
     "task": false
    }
   },
   "source": [
    "**Expected result**: should be at least 0.8!"
   ]
  },
  {
   "cell_type": "markdown",
   "metadata": {
    "deletable": false,
    "editable": false,
    "nbgrader": {
     "cell_type": "markdown",
     "checksum": "409feaa976ebc15fa25dd29cb7f225de",
     "grade": false,
     "grade_id": "cell-766aea2be684caa1",
     "locked": true,
     "schema_version": 3,
     "solution": false,
     "task": false
    }
   },
   "source": [
    "## On your own in lab\n",
    "\n",
    "We will do the following in lab:\n",
    "1. Write a function to obtain the cost for particular $\\mathtt{X}$, $\\mathbf{y}$, and $\\theta$.\n",
    "2. Plot the training set and test cost as training goes on and find the best value for the number of iterations and learning rate.\n",
    "3. Make 2D scatter plots showing the predicted and actual class of each item in the training set, plotting two features at a time.\n",
    "   Comment on the cause of the errors you observe. If you obtain perfect test set accuracy, re-run the train/test split\n",
    "   and rerun the optimization until you observe some mistaken predictions on the test set.\n"
   ]
  },
  {
   "cell_type": "markdown",
   "metadata": {
    "deletable": false,
    "editable": false,
    "nbgrader": {
     "cell_type": "markdown",
     "checksum": "ea7c241fded47855150e595f8487230e",
     "grade": false,
     "grade_id": "cell-24e9ed62d68b8af8",
     "locked": true,
     "schema_version": 3,
     "solution": false,
     "task": false
    }
   },
   "source": [
    "## Exercise 2.1 (15 points)\n",
    "\n",
    "1. Write a function to obtain the cost for particular $\\mathtt{X}$, $\\mathbf{y}$, and $\\theta$.\n",
    "   Name your function `my_J()` and implement\n",
    "\n",
    "$$ J_j = -\\delta(y, j)\\log{\\phi_j} $$\n"
   ]
  },
  {
   "cell_type": "code",
   "execution_count": 18,
   "metadata": {
    "deletable": false,
    "nbgrader": {
     "cell_type": "code",
     "checksum": "7bae968c2f17079d9772c6a7fc4dabde",
     "grade": false,
     "grade_id": "cell-09504f5f2f8c3576",
     "locked": false,
     "schema_version": 3,
     "solution": true,
     "task": false
    }
   },
   "outputs": [],
   "source": [
    "def my_J(theta, X, y, j, num_class):\n",
    "    cost = indicator(y,j)*-np.log(phi(j, theta, X, num_class))\n",
    "   \n",
    "\n",
    "    return cost"
   ]
  },
  {
   "cell_type": "code",
   "execution_count": 19,
   "metadata": {},
   "outputs": [
    {
     "data": {
      "text/plain": [
       "(5,)"
      ]
     },
     "execution_count": 19,
     "metadata": {},
     "output_type": "execute_result"
    }
   ],
   "source": [
    "X_train.loc[10].shape"
   ]
  },
  {
   "cell_type": "code",
   "execution_count": 20,
   "metadata": {
    "deletable": false,
    "editable": false,
    "nbgrader": {
     "cell_type": "code",
     "checksum": "c99e4d6e2e754a96be6e7d37d9bb7149",
     "grade": true,
     "grade_id": "cell-fbcbb4e3e0175f5b",
     "locked": true,
     "points": 5,
     "schema_version": 3,
     "solution": false,
     "task": false
    }
   },
   "outputs": [
    {
     "name": "stdout",
     "output_type": "stream",
     "text": [
      "success!\n"
     ]
    }
   ],
   "source": [
    "# Test function: Do not remove\n",
    "m, n = X_train.shape\n",
    "test_theta = np.ones((3, n))  \n",
    "cost = my_J(test_theta, X_train.loc[10], y_train[10], 0, 3)\n",
    "assert isinstance(cost, float), 'cost should be floating point'\n",
    "\n",
    "print(\"success!\")\n",
    "# End Test function"
   ]
  },
  {
   "cell_type": "code",
   "execution_count": 21,
   "metadata": {},
   "outputs": [
    {
     "data": {
      "text/plain": [
       "0.0"
      ]
     },
     "execution_count": 21,
     "metadata": {},
     "output_type": "execute_result"
    }
   ],
   "source": [
    "cost"
   ]
  },
  {
   "cell_type": "markdown",
   "metadata": {
    "deletable": false,
    "editable": false,
    "nbgrader": {
     "cell_type": "markdown",
     "checksum": "5c398c965785889ee0a06aeb84a0b80d",
     "grade": false,
     "grade_id": "cell-34c143689212aef1",
     "locked": true,
     "schema_version": 3,
     "solution": false,
     "task": false
    }
   },
   "source": [
    "2. Implement <code>my_grad_cost</code> using your <code>my_J</code> function"
   ]
  },
  {
   "cell_type": "code",
   "execution_count": 22,
   "metadata": {},
   "outputs": [
    {
     "data": {
      "text/plain": [
       "(105, 5)"
      ]
     },
     "execution_count": 22,
     "metadata": {},
     "output_type": "execute_result"
    }
   ],
   "source": [
    "X_train.shape"
   ]
  },
  {
   "cell_type": "code",
   "execution_count": 23,
   "metadata": {
    "deletable": false,
    "nbgrader": {
     "cell_type": "code",
     "checksum": "cd8bd33416294c869c6e5e6799e706af",
     "grade": false,
     "grade_id": "cell-4ceb8af01bd22e41",
     "locked": false,
     "schema_version": 3,
     "solution": true,
     "task": false
    }
   },
   "outputs": [],
   "source": [
    "def my_grad_cost(X, y, j, theta, num_class):\n",
    "    \n",
    "    sum = np.array([0 for i in range(0,n)])\n",
    "    cost = 0\n",
    "    for i in range(0, m):\n",
    "        p = indicator(y[i], j) - phi(j, theta,X.loc[i],num_class )\n",
    "        cost = cost + my_J(theta, X.loc[i], y[i], j, num_class)\n",
    "        sum = sum + (X.loc[i] * p)    \n",
    "    grad = -sum/m\n",
    "    return grad, cost\n",
    "#     raise NotImplementedError()"
   ]
  },
  {
   "cell_type": "code",
   "execution_count": 24,
   "metadata": {
    "deletable": false,
    "editable": false,
    "nbgrader": {
     "cell_type": "code",
     "checksum": "561dddd2c0890a5871cd9a93ba403271",
     "grade": true,
     "grade_id": "cell-0c59178b69fc0e79",
     "locked": true,
     "points": 5,
     "schema_version": 3,
     "solution": false,
     "task": false
    }
   },
   "outputs": [
    {
     "name": "stdout",
     "output_type": "stream",
     "text": [
      "intercept       -0.038095\n",
      "SepalLengthCm    0.095873\n",
      "SepalWidthCm    -0.240317\n",
      "PetalLengthCm    0.676190\n",
      "PetalWidthCm     0.297778\n",
      "dtype: float64\n",
      "42.84587925805627\n",
      "success!\n"
     ]
    }
   ],
   "source": [
    "# Test function: Do not remove\n",
    "m, n = X_train.shape\n",
    "test_theta = np.ones((3, n))  \n",
    "grad, cost = my_grad_cost(X_train, y_train, 0, test_theta, num_class)\n",
    "print(grad)\n",
    "print(cost)\n",
    "assert isinstance(cost, float), 'cost should be floating point'\n",
    "assert isinstance(grad['intercept'], float) and \\\n",
    "        isinstance(grad['SepalLengthCm'], float) and \\\n",
    "        isinstance(grad['SepalWidthCm'], float) and \\\n",
    "        isinstance(grad['PetalLengthCm'], float) and \\\n",
    "        isinstance(grad['PetalWidthCm'], float) , 'grad should be floating point'\n",
    "print(\"success!\")\n",
    "# End Test function"
   ]
  },
  {
   "cell_type": "markdown",
   "metadata": {
    "deletable": false,
    "editable": false,
    "nbgrader": {
     "cell_type": "markdown",
     "checksum": "3a7669c774b0a3bf8c73ff1a0434fe62",
     "grade": false,
     "grade_id": "cell-97b876dfa85ff5bc",
     "locked": true,
     "schema_version": 3,
     "solution": false,
     "task": false
    }
   },
   "source": [
    "**Expect result**: <span style=\"color:blue\">(*or similar*)</span>\\\n",
    "intercept        0.009524\\\n",
    "SepalLengthCm    0.316825\\\n",
    "SepalWidthCm    -0.091429\\\n",
    "PetalLengthCm    0.780000\\\n",
    "PetalWidthCm     0.329524\\\n",
    "dtype: float64\\\n",
    "37.352817814715735"
   ]
  },
  {
   "cell_type": "markdown",
   "metadata": {
    "deletable": false,
    "editable": false,
    "nbgrader": {
     "cell_type": "markdown",
     "checksum": "3d80cb7d40135eec5790ae5a8f5af7cf",
     "grade": false,
     "grade_id": "cell-32f708e7578beca7",
     "locked": true,
     "schema_version": 3,
     "solution": false,
     "task": false
    }
   },
   "source": [
    "3. Implement <code>my_gradient_descent</code> using your <code>my_grad_cost</code> function"
   ]
  },
  {
   "cell_type": "code",
   "execution_count": 25,
   "metadata": {},
   "outputs": [
    {
     "data": {
      "text/plain": [
       "3"
      ]
     },
     "execution_count": 25,
     "metadata": {},
     "output_type": "execute_result"
    }
   ],
   "source": [
    "len(np.unique(y))"
   ]
  },
  {
   "cell_type": "code",
   "execution_count": 26,
   "metadata": {
    "deletable": false,
    "nbgrader": {
     "cell_type": "code",
     "checksum": "8b2a20ca1f35b23f2f6226e644a123a0",
     "grade": false,
     "grade_id": "cell-68841cb78e91028a",
     "locked": false,
     "schema_version": 3,
     "solution": true,
     "task": false
    }
   },
   "outputs": [],
   "source": [
    "def my_gradient_descent(X, y, theta, alpha, iters, num_class):     \n",
    "    k = len(np.unique(y))\n",
    "    cost_arr = []\n",
    "    for iter in range(iters):        \n",
    "        cost = 0\n",
    "        for j in range(0, k):\n",
    "            grad = my_grad_cost(X, y, j, theta, num_class)\n",
    "            theta[j] = theta[j] - alpha * grad[0]\n",
    "            cost = cost + grad[1]\n",
    "        cost_arr.append(cost)\n",
    "    return theta, cost_arr\n",
    "    \n",
    "    \n",
    "    \n",
    "    \n",
    "#     return theta, cost_arr\n",
    "    # YOUR CODE HERE\n",
    "#     raise NotImplementedError()\n",
    "#     return theta, cost_arr"
   ]
  },
  {
   "cell_type": "code",
   "execution_count": 27,
   "metadata": {
    "deletable": false,
    "editable": false,
    "nbgrader": {
     "cell_type": "code",
     "checksum": "5a352fdcab8656502c0f241b436d3966",
     "grade": true,
     "grade_id": "cell-8b7f6daed2ecf043",
     "locked": true,
     "points": 5,
     "schema_version": 3,
     "solution": false,
     "task": false
    }
   },
   "outputs": [
    {
     "name": "stdout",
     "output_type": "stream",
     "text": [
      "[[1.00019894 0.99957432 1.00122685 0.99665965 0.99852493]\n",
      " [0.99990427 0.99973555 0.9992338  1.00067605 1.00018067]\n",
      " [0.99989387 1.0006718  0.9995306  1.00265072 1.00128981]]\n",
      "[115.27175249701807, 115.16374539031222, 115.05701613782584, 114.95151653701107, 114.84720032299889]\n",
      "success!\n"
     ]
    }
   ],
   "source": [
    "# Test function: Do not remove\n",
    "m, n = X_train.shape\n",
    "test_theta = np.ones((3, n))  \n",
    "theta, cost = my_gradient_descent(X_train, y_train, theta_initial, 0.001, 5, 3)\n",
    "print(theta)\n",
    "print(cost)\n",
    "print(\"success!\")\n",
    "# End Test function"
   ]
  },
  {
   "cell_type": "markdown",
   "metadata": {
    "deletable": false,
    "editable": false,
    "nbgrader": {
     "cell_type": "markdown",
     "checksum": "93a06956cbd8e8cf4b2f7b32643cd4b8",
     "grade": false,
     "grade_id": "cell-44224271d398a147",
     "locked": true,
     "schema_version": 3,
     "solution": false,
     "task": false
    }
   },
   "source": [
    "**Expected result**: <span style=\"color:blue\">(*or similar*)</span>\\\n",
    "[[1.00001186 0.99618853 1.00183642 0.9889817  0.99528923]\\\n",
    " [1.00009697 1.0011823  0.99883395 1.00316763 1.00083055]\\\n",
    " [0.99987915 1.00255606 0.99929351 1.00779768 1.00386218]]\\\n",
    "[114.00099216453735, 113.89036233839263, 113.78163144339288, 113.67472269747496, 113.56956268162737]\\\n",
    "37.352817814715735"
   ]
  },
  {
   "cell_type": "markdown",
   "metadata": {
    "deletable": false,
    "editable": false,
    "nbgrader": {
     "cell_type": "markdown",
     "checksum": "ba2df6557c59fe3a224ab91188067727",
     "grade": false,
     "grade_id": "cell-8c6718d263bf7786",
     "locked": true,
     "schema_version": 3,
     "solution": false,
     "task": false
    }
   },
   "source": [
    "## Exercise 2.2 (20 points)\n",
    "\n",
    "4. Plot the training set and test cost as training goes on and find the best value for the number of iterations and learning rate.\n",
    "5. Make 2D scatter plots showing the predicted and actual class of each item in the training set, plotting two features at a time.\n",
    "   Comment on the cause of the errors you observe. If you obtain perfect test set accuracy, re-run the train/test split\n",
    "   and rerun the optimization until you observe some mistaken predictions on the test set."
   ]
  },
  {
   "cell_type": "code",
   "execution_count": 28,
   "metadata": {},
   "outputs": [],
   "source": [
    "import matplotlib.pyplot as plt"
   ]
  },
  {
   "cell_type": "code",
   "execution_count": 29,
   "metadata": {},
   "outputs": [
    {
     "data": {
      "text/plain": [
       "(105, 5)"
      ]
     },
     "execution_count": 29,
     "metadata": {},
     "output_type": "execute_result"
    }
   ],
   "source": [
    "X_train.shape"
   ]
  },
  {
   "cell_type": "code",
   "execution_count": 30,
   "metadata": {},
   "outputs": [
    {
     "data": {
      "text/plain": [
       "3"
      ]
     },
     "execution_count": 30,
     "metadata": {},
     "output_type": "execute_result"
    }
   ],
   "source": [
    "len(np.unique(y_train))"
   ]
  },
  {
   "cell_type": "code",
   "execution_count": 31,
   "metadata": {},
   "outputs": [
    {
     "data": {
      "text/plain": [
       "array([1, 2, 1, 1, 0, 0, 1, 2, 2, 0, 1, 0, 2, 2, 0, 0, 1, 0, 0, 1, 2, 2,\n",
       "       2, 1, 2, 1, 1, 1, 1, 2, 0, 2, 0, 0, 0, 1, 0, 1, 0, 1, 1, 0, 2, 2,\n",
       "       0, 1, 1, 1, 2, 2, 1, 0, 0, 2, 1, 0, 0, 2, 0, 1, 2, 1, 2, 1, 0, 0,\n",
       "       2, 0, 1, 2, 1, 2, 1, 2, 0, 0, 0, 1, 0, 0, 2, 0, 0, 2, 1, 0, 0, 0,\n",
       "       0, 1, 2, 2, 0, 0, 1, 2, 1, 2, 1, 2, 2, 2, 0, 2, 0])"
      ]
     },
     "execution_count": 31,
     "metadata": {},
     "output_type": "execute_result"
    }
   ],
   "source": [
    "np.array(y_train)"
   ]
  },
  {
   "cell_type": "code",
   "execution_count": 32,
   "metadata": {},
   "outputs": [],
   "source": [
    "X_train_np = np.array(X_train)\n",
    "y_train_np = np.array(y_train)\n",
    "X_test_np = np.array(X_test)\n",
    "y_test_np = np.array(y_test)"
   ]
  },
  {
   "cell_type": "code",
   "execution_count": 33,
   "metadata": {},
   "outputs": [
    {
     "data": {
      "text/plain": [
       "array([2, 2, 1, 2, 0, 2, 1, 2, 2, 1, 0, 1, 1, 0, 1, 2, 1, 2, 2, 1, 1, 0,\n",
       "       1, 2, 0, 2, 0, 2, 0, 1, 0, 1, 2, 0, 2, 0, 2, 0, 1, 2, 1, 1, 1, 2,\n",
       "       1])"
      ]
     },
     "execution_count": 33,
     "metadata": {},
     "output_type": "execute_result"
    }
   ],
   "source": [
    "y_test_np"
   ]
  },
  {
   "cell_type": "code",
   "execution_count": 34,
   "metadata": {},
   "outputs": [
    {
     "data": {
      "text/plain": [
       "array([1. , 6.9, 3.1, 5.1, 2.3])"
      ]
     },
     "execution_count": 34,
     "metadata": {},
     "output_type": "execute_result"
    }
   ],
   "source": [
    "X_train_np[1]"
   ]
  },
  {
   "cell_type": "code",
   "execution_count": 35,
   "metadata": {},
   "outputs": [],
   "source": [
    "# for NUMPY\n",
    "def my_grad_cost(X, y, j, theta, num_class):\n",
    "    \n",
    "    sum = np.array([0 for i in range(0,n)])\n",
    "    cost = 0\n",
    "    for i in range(0, m):\n",
    "        p = indicator(y[i], j) - phi(j, theta,X[i],num_class )\n",
    "        cost = cost + my_J(theta, X[i], y[i], j, num_class)\n",
    "        sum = sum + (X[i] * p)    \n",
    "    grad = -sum/m\n",
    "    return grad, cost\n",
    "\n",
    "\n",
    "\n",
    "def my_gradient_descent(X, y, theta, alpha, iters, num_class):     \n",
    "    k = len(np.unique(y))\n",
    "    cost_arr = []\n",
    "    for iter in range(iters):        \n",
    "        cost = 0\n",
    "        for j in range(0, k):\n",
    "            grad = my_grad_cost(X, y, j, theta, num_class)\n",
    "            theta[j] = theta[j] - alpha * grad[0]\n",
    "            cost = cost + grad[1]\n",
    "        cost_arr.append(cost)\n",
    "    return theta, cost_arr\n",
    "    "
   ]
  },
  {
   "cell_type": "code",
   "execution_count": 36,
   "metadata": {
    "deletable": false,
    "nbgrader": {
     "cell_type": "code",
     "checksum": "b4aa679efedc456225c0f84d5646aac6",
     "grade": true,
     "grade_id": "cell-5d97fd557db7438e",
     "locked": false,
     "points": 20,
     "schema_version": 3,
     "solution": true,
     "task": false
    }
   },
   "outputs": [
    {
     "name": "stdout",
     "output_type": "stream",
     "text": [
      "[2, 2, 2, 2, 0, 2, 1, 2, 2, 1, 0, 2, 2, 0, 2, 2, 1, 2, 2, 2, 2, 0, 2, 2, 0, 2, 0, 2, 0, 2, 0, 2, 2, 0, 2, 0, 2, 0, 2, 2, 1, 2, 2, 2, 2]\n",
      "alpha: 0.009\n",
      "correct values: 32, with accuracy of 0.7111111111111111\n",
      "\n",
      "[2, 2, 1, 2, 0, 2, 1, 2, 2, 1, 0, 2, 2, 0, 2, 2, 1, 2, 2, 2, 2, 0, 1, 2, 0, 2, 0, 2, 0, 2, 0, 2, 2, 0, 2, 0, 2, 0, 2, 2, 1, 2, 2, 2, 2]\n",
      "alpha: 0.01\n",
      "correct values: 34, with accuracy of 0.7555555555555555\n",
      "\n",
      "[2, 2, 1, 2, 0, 2, 1, 2, 2, 1, 0, 1, 1, 0, 2, 2, 1, 2, 2, 1, 1, 0, 1, 2, 0, 2, 0, 2, 0, 1, 0, 1, 2, 0, 2, 0, 2, 0, 1, 2, 1, 1, 1, 2, 1]\n",
      "alpha: 0.05\n",
      "correct values: 44, with accuracy of 0.9777777777777777\n",
      "\n",
      "[2, 2, 1, 2, 0, 2, 1, 2, 2, 1, 0, 1, 1, 0, 2, 2, 1, 2, 2, 1, 1, 0, 1, 2, 0, 2, 0, 2, 0, 1, 0, 1, 2, 0, 2, 0, 2, 0, 1, 2, 1, 1, 1, 2, 1]\n",
      "alpha: 0.09\n",
      "correct values: 44, with accuracy of 0.9777777777777777\n",
      "\n"
     ]
    },
    {
     "data": {
      "image/png": "[encoded data removed]",
      "text/plain": [
       "<Figure size 432x288 with 1 Axes>"
      ]
     },
     "metadata": {
      "needs_background": "light"
     },
     "output_type": "display_data"
    }
   ],
   "source": [
    "theta_arr = []\n",
    "cost_arr = []\n",
    "accuracy_arr = []\n",
    "\n",
    "# design your own learning rate and num iterations\n",
    "alpha_arr = np.array([.009, .01, .05, .09])\n",
    "iterations_arr = np.array([200, 200, 200, 200])\n",
    "\n",
    "m, n = X_train_np.shape\n",
    "k = len(np.unique(y_train_np))\n",
    "\n",
    "for i in range(0, len(alpha_arr)):\n",
    "\n",
    "    theta_initial = np.ones((k, n))    \n",
    "    theta, cost = my_gradient_descent(X_train_np, y_train_np, theta_initial, alpha_arr[i], iterations_arr[i], k)\n",
    "    \n",
    "    \n",
    "#     print(cost)\n",
    "    y_pred = []\n",
    "    for index,row in X_test.iterrows():\n",
    "        h_matrix = h(row, theta, k)\n",
    "        prediction = int(np.where(h_matrix == h_matrix.max())[0])    \n",
    "        y_pred.append(prediction)  \n",
    "    \n",
    "    print(y_pred)\n",
    "    correct = np.sum(y_pred == y_test_np)\n",
    "    accuracy = correct/ len(y_test_np)\n",
    "    print(f\"alpha: {alpha_arr[i]}\")\n",
    "    print(f\"correct values: {correct}, with accuracy of {accuracy}\")\n",
    "    print()\n",
    "    plt.plot(range(1,iterations_arr[i]+1), cost, label='alpha:'+str(alpha_arr[i]) +', acc:' + str(np.round(accuracy,4)*100))\n",
    "    accuracy_arr.append(accuracy)\n",
    "\n",
    "plt.legend()\n",
    "plt.show()"
   ]
  },
  {
   "attachments": {
    "lab4-02.png": {
     "image/png": "[encoded data removed]"
    }
   },
   "cell_type": "markdown",
   "metadata": {
    "deletable": false,
    "editable": false,
    "nbgrader": {
     "cell_type": "markdown",
     "checksum": "0c15b26d416d2baf11b8a9f0695f9ff8",
     "grade": false,
     "grade_id": "cell-708bd0d431aeb436",
     "locked": true,
     "schema_version": 3,
     "solution": false,
     "task": false
    }
   },
   "source": [
    "**Expected result**: <span style=\"color:blue\">(*Yours doesn't have to be the same!*)</span>\n",
    "\n",
    "![lab4-02.png](attachment:lab4-02.png)"
   ]
  },
  {
   "cell_type": "markdown",
   "metadata": {
    "deletable": false,
    "editable": false,
    "nbgrader": {
     "cell_type": "markdown",
     "checksum": "29074975f2f5f4dff65a4c9ccfc006c5",
     "grade": false,
     "grade_id": "cell-11e3be2a06e07677",
     "locked": true,
     "points": 40,
     "schema_version": 3,
     "solution": false,
     "task": true
    }
   },
   "source": [
    "## On your own to take home\n",
    "\n",
    "We see that the Iris dataset is pretty easy. Depending on the train/test split, we get 95-100% accuracy.\n",
    "\n",
    "Find a more interesting multi-class classification problem on Kaggle (Tell the reference), clean the dataset to obtain numerical input features without missing values,\n",
    "split the data into test and train, and experiment with multinomial logistic regression.\n",
    "\n",
    "Write a brief report on your experiments and results. As always, turn in a Jupyter notebook by email\n",
    "to the instructor and TA.\n"
   ]
  },
  {
   "cell_type": "markdown",
   "metadata": {},
   "source": [
    "## Context\n",
    "\n",
    "This is a Glass Identification Data Set from UCI. It contains 10 attributes including id. The response is glass type(discrete 7 values)\n",
    "\n",
    "Content\n",
    "\n",
    "Attribute Information:\n",
    "\n",
    "Id number: 1 to 214 (removed from CSV file)\n",
    "RI: refractive index\n",
    "Na: Sodium (unit measurement: weight percent in corresponding oxide, as are attributes 4-10)\n",
    "Mg: Magnesium\n",
    "Al: Aluminum\n",
    "Si: Silicon\n",
    "K: Potassium\n",
    "Ca: Calcium\n",
    "Ba: Barium\n",
    "Fe: Iron\n",
    "Type of glass: (class attribute) \n",
    "-- 1 buildingwindowsfloatprocessed -- 2 buildingwindowsnonfloatprocessed -- 3 vehiclewindowsfloatprocessed \n",
    "-- 4 vehiclewindowsnonfloatprocessed (none in this database) \n",
    "-- 5 containers \n",
    "-- 6 tableware \n",
    "-- 7 headlamps"
   ]
  },
  {
   "cell_type": "code",
   "execution_count": 37,
   "metadata": {},
   "outputs": [],
   "source": [
    "data = pd.read_csv(\"glass.csv\")"
   ]
  },
  {
   "cell_type": "code",
   "execution_count": 38,
   "metadata": {},
   "outputs": [
    {
     "data": {
      "text/html": [
       "<div>\n",
       "<style scoped>\n",
       "    .dataframe tbody tr th:only-of-type {\n",
       "        vertical-align: middle;\n",
       "    }\n",
       "\n",
       "    .dataframe tbody tr th {\n",
       "        vertical-align: top;\n",
       "    }\n",
       "\n",
       "    .dataframe thead th {\n",
       "        text-align: right;\n",
       "    }\n",
       "</style>\n",
       "<table border=\"1\" class=\"dataframe\">\n",
       "  <thead>\n",
       "    <tr style=\"text-align: right;\">\n",
       "      <th></th>\n",
       "      <th>RI</th>\n",
       "      <th>Na</th>\n",
       "      <th>Mg</th>\n",
       "      <th>Al</th>\n",
       "      <th>Si</th>\n",
       "      <th>K</th>\n",
       "      <th>Ca</th>\n",
       "      <th>Ba</th>\n",
       "      <th>Fe</th>\n",
       "      <th>Type</th>\n",
       "    </tr>\n",
       "  </thead>\n",
       "  <tbody>\n",
       "    <tr>\n",
       "      <th>0</th>\n",
       "      <td>1.52101</td>\n",
       "      <td>13.64</td>\n",
       "      <td>4.49</td>\n",
       "      <td>1.10</td>\n",
       "      <td>71.78</td>\n",
       "      <td>0.06</td>\n",
       "      <td>8.75</td>\n",
       "      <td>0.0</td>\n",
       "      <td>0.0</td>\n",
       "      <td>1</td>\n",
       "    </tr>\n",
       "    <tr>\n",
       "      <th>1</th>\n",
       "      <td>1.51761</td>\n",
       "      <td>13.89</td>\n",
       "      <td>3.60</td>\n",
       "      <td>1.36</td>\n",
       "      <td>72.73</td>\n",
       "      <td>0.48</td>\n",
       "      <td>7.83</td>\n",
       "      <td>0.0</td>\n",
       "      <td>0.0</td>\n",
       "      <td>1</td>\n",
       "    </tr>\n",
       "    <tr>\n",
       "      <th>2</th>\n",
       "      <td>1.51618</td>\n",
       "      <td>13.53</td>\n",
       "      <td>3.55</td>\n",
       "      <td>1.54</td>\n",
       "      <td>72.99</td>\n",
       "      <td>0.39</td>\n",
       "      <td>7.78</td>\n",
       "      <td>0.0</td>\n",
       "      <td>0.0</td>\n",
       "      <td>1</td>\n",
       "    </tr>\n",
       "    <tr>\n",
       "      <th>3</th>\n",
       "      <td>1.51766</td>\n",
       "      <td>13.21</td>\n",
       "      <td>3.69</td>\n",
       "      <td>1.29</td>\n",
       "      <td>72.61</td>\n",
       "      <td>0.57</td>\n",
       "      <td>8.22</td>\n",
       "      <td>0.0</td>\n",
       "      <td>0.0</td>\n",
       "      <td>1</td>\n",
       "    </tr>\n",
       "    <tr>\n",
       "      <th>4</th>\n",
       "      <td>1.51742</td>\n",
       "      <td>13.27</td>\n",
       "      <td>3.62</td>\n",
       "      <td>1.24</td>\n",
       "      <td>73.08</td>\n",
       "      <td>0.55</td>\n",
       "      <td>8.07</td>\n",
       "      <td>0.0</td>\n",
       "      <td>0.0</td>\n",
       "      <td>1</td>\n",
       "    </tr>\n",
       "  </tbody>\n",
       "</table>\n",
       "</div>"
      ],
      "text/plain": [
       "        RI     Na    Mg    Al     Si     K    Ca   Ba   Fe  Type\n",
       "0  1.52101  13.64  4.49  1.10  71.78  0.06  8.75  0.0  0.0     1\n",
       "1  1.51761  13.89  3.60  1.36  72.73  0.48  7.83  0.0  0.0     1\n",
       "2  1.51618  13.53  3.55  1.54  72.99  0.39  7.78  0.0  0.0     1\n",
       "3  1.51766  13.21  3.69  1.29  72.61  0.57  8.22  0.0  0.0     1\n",
       "4  1.51742  13.27  3.62  1.24  73.08  0.55  8.07  0.0  0.0     1"
      ]
     },
     "execution_count": 38,
     "metadata": {},
     "output_type": "execute_result"
    }
   ],
   "source": [
    "data.head()"
   ]
  },
  {
   "cell_type": "code",
   "execution_count": 39,
   "metadata": {},
   "outputs": [
    {
     "data": {
      "text/plain": [
       "array([1, 2, 3, 5, 6, 7])"
      ]
     },
     "execution_count": 39,
     "metadata": {},
     "output_type": "execute_result"
    }
   ],
   "source": [
    "data['Type'].unique()"
   ]
  },
  {
   "cell_type": "code",
   "execution_count": 40,
   "metadata": {},
   "outputs": [
    {
     "name": "stdout",
     "output_type": "stream",
     "text": [
      "<class 'pandas.core.frame.DataFrame'>\n",
      "RangeIndex: 214 entries, 0 to 213\n",
      "Data columns (total 10 columns):\n",
      " #   Column  Non-Null Count  Dtype  \n",
      "---  ------  --------------  -----  \n",
      " 0   RI      214 non-null    float64\n",
      " 1   Na      214 non-null    float64\n",
      " 2   Mg      214 non-null    float64\n",
      " 3   Al      214 non-null    float64\n",
      " 4   Si      214 non-null    float64\n",
      " 5   K       214 non-null    float64\n",
      " 6   Ca      214 non-null    float64\n",
      " 7   Ba      214 non-null    float64\n",
      " 8   Fe      214 non-null    float64\n",
      " 9   Type    214 non-null    int64  \n",
      "dtypes: float64(9), int64(1)\n",
      "memory usage: 16.8 KB\n"
     ]
    }
   ],
   "source": [
    "data.info()"
   ]
  },
  {
   "cell_type": "code",
   "execution_count": 41,
   "metadata": {},
   "outputs": [],
   "source": [
    "X_data = data.iloc[:,: -1]\n",
    "y_data = data.iloc[: , -1]"
   ]
  },
  {
   "cell_type": "code",
   "execution_count": 42,
   "metadata": {},
   "outputs": [],
   "source": [
    "from sklearn.model_selection import cross_validate\n",
    "from sklearn.linear_model import LogisticRegression\n",
    "from sklearn.preprocessing import StandardScaler\n",
    "from sklearn.model_selection import train_test_split\n",
    "from sklearn.metrics import confusion_matrix, accuracy_score, classification_report\n",
    "import seaborn as sns "
   ]
  },
  {
   "cell_type": "code",
   "execution_count": 43,
   "metadata": {},
   "outputs": [
    {
     "data": {
      "text/plain": [
       "<matplotlib.axes._subplots.AxesSubplot at 0x7fc81c3e9550>"
      ]
     },
     "execution_count": 43,
     "metadata": {},
     "output_type": "execute_result"
    },
    {
     "data": {
      "image/png": "[encoded data removed]",
      "text/plain": [
       "<Figure size 432x288 with 2 Axes>"
      ]
     },
     "metadata": {
      "needs_background": "light"
     },
     "output_type": "display_data"
    }
   ],
   "source": [
    "sns.heatmap(data.corr(), annot = True)"
   ]
  },
  {
   "cell_type": "code",
   "execution_count": 44,
   "metadata": {},
   "outputs": [
    {
     "data": {
      "image/png": "[encoded data removed]",
      "text/plain": [
       "<Figure size 432x3600 with 10 Axes>"
      ]
     },
     "metadata": {
      "needs_background": "light"
     },
     "output_type": "display_data"
    }
   ],
   "source": [
    "fig, axes = plt.subplots(10,1, figsize = (6,50))\n",
    "for idx, column in enumerate(data.columns):\n",
    "    axes[idx].hist(data[column])\n",
    "    axes[idx].set_title(f\"distribution of feature: {column}\")"
   ]
  },
  {
   "cell_type": "code",
   "execution_count": 45,
   "metadata": {},
   "outputs": [
    {
     "data": {
      "text/plain": [
       "2    0.355140\n",
       "1    0.327103\n",
       "7    0.135514\n",
       "3    0.079439\n",
       "5    0.060748\n",
       "6    0.042056\n",
       "Name: Type, dtype: float64"
      ]
     },
     "execution_count": 45,
     "metadata": {},
     "output_type": "execute_result"
    }
   ],
   "source": [
    "data['Type'].value_counts(normalize = True)"
   ]
  },
  {
   "cell_type": "markdown",
   "metadata": {},
   "source": [
    "## Summary from EDA\n",
    "- The data contain a total of 214 entries, not of which is null\n",
    "- The data have 8 feature which are used as the predictors of glass type (7 types in total)\n",
    "- Plotting histogram of each variable shows us that many features are highly skewed, so standardization is a must!"
   ]
  },
  {
   "cell_type": "code",
   "execution_count": 46,
   "metadata": {},
   "outputs": [],
   "source": [
    "X_train, X_test, y_train, y_test = train_test_split(X_data, y_data, test_size =0.3, random_state =16)"
   ]
  },
  {
   "cell_type": "code",
   "execution_count": 47,
   "metadata": {},
   "outputs": [],
   "source": [
    "scaler = StandardScaler()\n",
    "scaled_X_train = scaler.fit_transform(X_train)\n",
    "scaled_X_test = scaler.transform(X_test)"
   ]
  },
  {
   "cell_type": "code",
   "execution_count": 48,
   "metadata": {},
   "outputs": [],
   "source": [
    "new_X_train = np.insert(scaled_X_train, 0,1, axis=1)\n",
    "new_X_test = np.insert(scaled_X_test, 0,1, axis=1)"
   ]
  },
  {
   "cell_type": "code",
   "execution_count": 49,
   "metadata": {},
   "outputs": [],
   "source": [
    "y_train_np = np.array(y_train)\n",
    "y_test_np = np.array(y_test)"
   ]
  },
  {
   "cell_type": "code",
   "execution_count": 50,
   "metadata": {},
   "outputs": [
    {
     "data": {
      "text/html": [
       "<div>\n",
       "<style scoped>\n",
       "    .dataframe tbody tr th:only-of-type {\n",
       "        vertical-align: middle;\n",
       "    }\n",
       "\n",
       "    .dataframe tbody tr th {\n",
       "        vertical-align: top;\n",
       "    }\n",
       "\n",
       "    .dataframe thead th {\n",
       "        text-align: right;\n",
       "    }\n",
       "</style>\n",
       "<table border=\"1\" class=\"dataframe\">\n",
       "  <thead>\n",
       "    <tr style=\"text-align: right;\">\n",
       "      <th></th>\n",
       "      <th>RI</th>\n",
       "      <th>Na</th>\n",
       "      <th>Mg</th>\n",
       "      <th>Al</th>\n",
       "      <th>Si</th>\n",
       "      <th>K</th>\n",
       "      <th>Ca</th>\n",
       "      <th>Ba</th>\n",
       "      <th>Fe</th>\n",
       "      <th>Type</th>\n",
       "    </tr>\n",
       "  </thead>\n",
       "  <tbody>\n",
       "    <tr>\n",
       "      <th>0</th>\n",
       "      <td>1.52101</td>\n",
       "      <td>13.64</td>\n",
       "      <td>4.49</td>\n",
       "      <td>1.10</td>\n",
       "      <td>71.78</td>\n",
       "      <td>0.06</td>\n",
       "      <td>8.75</td>\n",
       "      <td>0.00</td>\n",
       "      <td>0.0</td>\n",
       "      <td>1</td>\n",
       "    </tr>\n",
       "    <tr>\n",
       "      <th>1</th>\n",
       "      <td>1.51761</td>\n",
       "      <td>13.89</td>\n",
       "      <td>3.60</td>\n",
       "      <td>1.36</td>\n",
       "      <td>72.73</td>\n",
       "      <td>0.48</td>\n",
       "      <td>7.83</td>\n",
       "      <td>0.00</td>\n",
       "      <td>0.0</td>\n",
       "      <td>1</td>\n",
       "    </tr>\n",
       "    <tr>\n",
       "      <th>2</th>\n",
       "      <td>1.51618</td>\n",
       "      <td>13.53</td>\n",
       "      <td>3.55</td>\n",
       "      <td>1.54</td>\n",
       "      <td>72.99</td>\n",
       "      <td>0.39</td>\n",
       "      <td>7.78</td>\n",
       "      <td>0.00</td>\n",
       "      <td>0.0</td>\n",
       "      <td>1</td>\n",
       "    </tr>\n",
       "    <tr>\n",
       "      <th>3</th>\n",
       "      <td>1.51766</td>\n",
       "      <td>13.21</td>\n",
       "      <td>3.69</td>\n",
       "      <td>1.29</td>\n",
       "      <td>72.61</td>\n",
       "      <td>0.57</td>\n",
       "      <td>8.22</td>\n",
       "      <td>0.00</td>\n",
       "      <td>0.0</td>\n",
       "      <td>1</td>\n",
       "    </tr>\n",
       "    <tr>\n",
       "      <th>4</th>\n",
       "      <td>1.51742</td>\n",
       "      <td>13.27</td>\n",
       "      <td>3.62</td>\n",
       "      <td>1.24</td>\n",
       "      <td>73.08</td>\n",
       "      <td>0.55</td>\n",
       "      <td>8.07</td>\n",
       "      <td>0.00</td>\n",
       "      <td>0.0</td>\n",
       "      <td>1</td>\n",
       "    </tr>\n",
       "    <tr>\n",
       "      <th>...</th>\n",
       "      <td>...</td>\n",
       "      <td>...</td>\n",
       "      <td>...</td>\n",
       "      <td>...</td>\n",
       "      <td>...</td>\n",
       "      <td>...</td>\n",
       "      <td>...</td>\n",
       "      <td>...</td>\n",
       "      <td>...</td>\n",
       "      <td>...</td>\n",
       "    </tr>\n",
       "    <tr>\n",
       "      <th>209</th>\n",
       "      <td>1.51623</td>\n",
       "      <td>14.14</td>\n",
       "      <td>0.00</td>\n",
       "      <td>2.88</td>\n",
       "      <td>72.61</td>\n",
       "      <td>0.08</td>\n",
       "      <td>9.18</td>\n",
       "      <td>1.06</td>\n",
       "      <td>0.0</td>\n",
       "      <td>7</td>\n",
       "    </tr>\n",
       "    <tr>\n",
       "      <th>210</th>\n",
       "      <td>1.51685</td>\n",
       "      <td>14.92</td>\n",
       "      <td>0.00</td>\n",
       "      <td>1.99</td>\n",
       "      <td>73.06</td>\n",
       "      <td>0.00</td>\n",
       "      <td>8.40</td>\n",
       "      <td>1.59</td>\n",
       "      <td>0.0</td>\n",
       "      <td>7</td>\n",
       "    </tr>\n",
       "    <tr>\n",
       "      <th>211</th>\n",
       "      <td>1.52065</td>\n",
       "      <td>14.36</td>\n",
       "      <td>0.00</td>\n",
       "      <td>2.02</td>\n",
       "      <td>73.42</td>\n",
       "      <td>0.00</td>\n",
       "      <td>8.44</td>\n",
       "      <td>1.64</td>\n",
       "      <td>0.0</td>\n",
       "      <td>7</td>\n",
       "    </tr>\n",
       "    <tr>\n",
       "      <th>212</th>\n",
       "      <td>1.51651</td>\n",
       "      <td>14.38</td>\n",
       "      <td>0.00</td>\n",
       "      <td>1.94</td>\n",
       "      <td>73.61</td>\n",
       "      <td>0.00</td>\n",
       "      <td>8.48</td>\n",
       "      <td>1.57</td>\n",
       "      <td>0.0</td>\n",
       "      <td>7</td>\n",
       "    </tr>\n",
       "    <tr>\n",
       "      <th>213</th>\n",
       "      <td>1.51711</td>\n",
       "      <td>14.23</td>\n",
       "      <td>0.00</td>\n",
       "      <td>2.08</td>\n",
       "      <td>73.36</td>\n",
       "      <td>0.00</td>\n",
       "      <td>8.62</td>\n",
       "      <td>1.67</td>\n",
       "      <td>0.0</td>\n",
       "      <td>7</td>\n",
       "    </tr>\n",
       "  </tbody>\n",
       "</table>\n",
       "<p>214 rows × 10 columns</p>\n",
       "</div>"
      ],
      "text/plain": [
       "          RI     Na    Mg    Al     Si     K    Ca    Ba   Fe  Type\n",
       "0    1.52101  13.64  4.49  1.10  71.78  0.06  8.75  0.00  0.0     1\n",
       "1    1.51761  13.89  3.60  1.36  72.73  0.48  7.83  0.00  0.0     1\n",
       "2    1.51618  13.53  3.55  1.54  72.99  0.39  7.78  0.00  0.0     1\n",
       "3    1.51766  13.21  3.69  1.29  72.61  0.57  8.22  0.00  0.0     1\n",
       "4    1.51742  13.27  3.62  1.24  73.08  0.55  8.07  0.00  0.0     1\n",
       "..       ...    ...   ...   ...    ...   ...   ...   ...  ...   ...\n",
       "209  1.51623  14.14  0.00  2.88  72.61  0.08  9.18  1.06  0.0     7\n",
       "210  1.51685  14.92  0.00  1.99  73.06  0.00  8.40  1.59  0.0     7\n",
       "211  1.52065  14.36  0.00  2.02  73.42  0.00  8.44  1.64  0.0     7\n",
       "212  1.51651  14.38  0.00  1.94  73.61  0.00  8.48  1.57  0.0     7\n",
       "213  1.51711  14.23  0.00  2.08  73.36  0.00  8.62  1.67  0.0     7\n",
       "\n",
       "[214 rows x 10 columns]"
      ]
     },
     "execution_count": 50,
     "metadata": {},
     "output_type": "execute_result"
    }
   ],
   "source": [
    "data"
   ]
  },
  {
   "cell_type": "code",
   "execution_count": 51,
   "metadata": {},
   "outputs": [],
   "source": [
    "y_train_np = y_train_np -1\n",
    "y_test_np = y_test_np -1"
   ]
  },
  {
   "cell_type": "code",
   "execution_count": 52,
   "metadata": {},
   "outputs": [
    {
     "name": "stdout",
     "output_type": "stream",
     "text": [
      "[233.47694972877815, 225.96888465962053, 219.09447591670087, 212.80597924848948, 207.05634483244816, 201.79987162323945, 196.99282617075815, 192.59394433834686, 188.56477597487185, 184.8698694426996, 181.47681695284825, 178.35619239547438, 175.48141436573746, 172.82856276322562, 170.37617109775508, 168.10501047865563, 165.99787609447534, 164.03938302397773, 162.21577535128978, 160.51475057155872, 158.92529994685643, 157.4375646189655, 156.0427067630318, 154.73279476934837, 153.50070129539444, 152.34001298468067, 151.24495066688624, 150.2102989104525, 149.23134387736945, 148.30381851902555, 147.423854244244, 146.587938281224, 145.79287604114327, 145.03575787102255, 144.31392965633137, 143.624966799519, 142.9666511593421, 142.33695058790445, 141.73400074821882, 141.15608893540505, 140.60163965990702, 140.06920178190344, 139.55743701291524, 139.06510962395893, 138.59107721988804, 138.1342824572011, 137.6937455979106, 137.26855780537667, 136.85787509957052, 136.46091289928657, 136.0769410875668, 135.70527954421422, 135.3452940959066, 134.9963928402089, 134.65802280483683, 134.32966690794325, 134.01084118906607, 133.70109228376978, 133.3999951179878, 133.10715080069144, 132.82218469581363, 132.54474465638776, 132.27449940565597, 132.0111370514853, 131.75436372183646, 131.50390231027401, 131.25949132161443, 131.02088380879098, 130.78784639289208, 130.5601583591107, 130.3376108220415, 130.12000595438624, 129.90715627368758, 129.6988839822136, 129.49502035556506, 129.29540517598272, 129.09988620669668, 128.9083187039872, 128.7205649639244, 128.53649390102052, 128.35598065626982, 128.17890623227234, 128.00515715333324, 127.83462514861162, 127.66720685655447, 127.50280354899952, 127.34132087346667, 127.18266861227937, 127.02676045726858, 126.87351379891516, 126.72284952887709, 126.57469185493528, 126.42896812746574, 126.28560867662017, 126.14454665945841, 126.005717916337, 125.86906083591228, 125.73451622816482, 125.60202720489858, 125.47153906720929, 125.34299919945455, 125.21635696929434, 125.09156363340061, 124.96857224846721, 124.84733758717606, 124.72781605880145, 124.60996563415823, 124.49374577461928, 124.37911736494846, 124.26604264971225, 124.15448517305123, 124.044409721606, 123.93578227040831, 123.82856993155943, 123.72274090553094, 123.61826443493413, 123.51511076061395, 123.41325107993354, 123.31265750712407, 123.21330303558246, 123.1151615020077, 123.01820755227298, 122.92241660893782, 122.82776484030946, 122.73422913097029, 122.64178705369117, 122.55041684265656, 122.46009736793185, 122.37080811110738, 122.2825291420566, 122.1952410967516, 122.10892515608053, 122.02356302561536, 121.93913691628244, 121.85562952588865, 121.77302402146184, 121.69130402236303, 121.61045358413352, 121.53045718303954, 121.45129970128073, 121.37296641282988, 121.29544296987306, 121.21871538982194, 121.14277004286929, 121.06759364006376, 120.99317322187731, 120.91949614724331, 120.84655008304277, 120.7743229940175, 120.70280313309082, 120.6319790320765, 120.56183949275837, 120.49237357832324, 120.4235706051317, 120.35542013481059, 120.28791196665298, 120.2210361303124, 120.15478287877701, 120.08914268161233, 120.02410621845978, 119.95966437278051, 119.89580822583305, 119.83252905087495, 119.76981830757899, 119.70766763665362, 119.64606885466009, 119.58501394901702, 119.52449507318475, 119.46450454202152, 119.40503482730499, 119.34607855341109, 119.28762849314454, 119.22967756371416, 119.17221882284728, 119.11524546503743, 119.05875081791994, 119.00272833876997, 118.94717161111856, 118.89207434148096, 118.83743035619433, 118.78323359835848, 118.72947812487723, 118.67615810359594, 118.62326781053031, 118.57080162718522, 118.51875403795762, 118.46711962762195, 118.41589307889431, 118.36506917007237, 118.31464277274807, 118.26460884959079, 118.2149624521979, 118.1656987190104, 118.11681287329124, 118.06830022116384, 118.02015614970887, 117.97237612511724, 117.9249556908965, 117.87789046613003, 117.83117614378595]\n",
      "[1, 1, 0, 0, 1, 0, 5, 0, 1, 0, 1, 0, 1, 0, 0, 1, 0, 1, 0, 5, 5, 4, 1, 5, 0, 0, 0, 0, 0, 1, 5, 0, 1, 1, 0, 1, 1, 1, 1, 0, 0, 0, 0, 0, 1, 0, 5, 1, 1, 2, 4, 0, 0, 1, 1, 0, 0, 4, 5, 0, 0, 0, 0, 1, 0]\n",
      "alpha: 0.2\n",
      "correct values: 31, with accuracy of 0.47692307692307695\n",
      "\n",
      "[234.09380661217668, 219.5773606842629, 207.44150760840563, 197.3065186181789, 188.8257421798583, 181.6983340363722, 175.67299402026077, 170.544807530959, 166.14886129573011, 162.35320206397708, 159.05237335373658, 156.16194818780053, 153.61409182341293, 151.35403969461137, 149.33733509935942, 147.52767541683986, 145.89523602182874, 144.41536496594347, 143.06756375736205, 141.8346884305862, 140.70232030526154, 139.65826774958933, 138.6921694424517, 137.79517662622797, 136.95969714760216, 136.17918809605445, 135.44798688391597, 134.76117290999053, 134.1144536943991, 133.50407070343903, 132.92672110296647, 132.37949246397446, 131.85980805191815, 131.3653808046367, 130.89417447436836, 130.444370701283, 130.01434101718465, 129.6026229621979, 129.20789964469589, 128.82898219337767, 128.46479464633032, 128.11436089982521, 127.7767934031423, 127.45128333774854, 127.13709206191996, 126.83354363716082, 126.54001828194558, 126.25594662251719, 125.98080463061159, 125.71410915477882, 125.4554139660153, 125.20430625019111, 124.96040348964279, 124.72335068461665, 124.49281787226347, 124.2684979068102, 124.05010446954908, 123.83737028154134, 123.6300454955472, 123.42789624677434, 123.2307033446688, 123.03826109021894, 122.85037620517592, 122.66686686125263, 122.48756179879415, 122.31229952564999, 122.14092758805005, 121.9733019062212, 121.80928616829009, 121.64875127673244, 121.49157484224922, 121.33764072049965, 121.18683858760163, 121.0390635507384, 120.89421579058562, 120.75220023260991, 120.61292624458589, 120.47630735794564, 120.342261010809, 120.21070831075671, 120.081573815596, 119.95478533053833, 119.83027372036088, 119.70797273525969, 119.58781884922465, 119.46975110987766, 119.35371099881318, 119.23964230157057, 119.12749098644792, 119.01720509143952, 118.90873461864365, 118.802031435549, 118.69704918265727, 118.5937431869519, 118.49207038076348, 118.3919892256225, 118.29345964072628, 118.19644293567895, 118.10090174719129, 118.0067999794557, 117.91410274793417, 117.82277632631892, 117.73278809644611, 117.64410650095951, 117.55670099853856, 117.47054202151993, 117.38560093575414, 117.30185000255236, 117.2192623425891, 117.1378119016373, 117.05747341802014, 116.97822239167493, 116.90003505472993, 116.8228883435032, 116.7467598718395, 116.67162790570593, 116.59747133897399, 116.52426967032002, 116.45200298118061, 116.38065191470406, 116.31019765564318, 116.24062191113757, 116.17190689233813, 116.10403529682807, 116.03699029179892, 115.97075549794218, 115.90531497401956, 115.84065320207714, 115.77675507327109, 115.71360587427434, 115.65119127423544, 115.58949731226274, 115.52851038540811, 115.46821723712668, 115.4086049461895, 115.3496609160282, 115.29137286449125, 115.23372881399298, 115.17671708203723, 115.12032627209851, 115.06454526484517, 115.00936320968854, 114.95476951664416, 114.90075384849109, 114.84730611321683, 114.79441645673477, 114.74207525586333, 114.6902731115548, 114.63900084236434, 114.58824947814806, 114.53801025398158, 114.48827460428947, 114.43903415717696, 114.39028072895584, 114.34200631885687, 114.29420310392054, 114.24686343406044, 114.19997982729053, 114.15354496511176, 114.10755168805042, 114.0619929913433, 114.01686202076324, 113.97215206858041, 113.92785656965347, 113.88396909764636, 113.8404833613654, 113.79739320121281, 113.7546925857518, 113.71237560837928, 113.67043648410265, 113.628869546416, 113.58766924427314, 113.54683013915327, 113.5063469022159, 113.46621431154269, 113.42642724946192, 113.38698069995391, 113.34786974613337, 113.30908956780686, 113.27063543910268, 113.23250272616993, 113.19468688494536, 113.15718345898516, 113.11998807735922, 113.08309645260667, 113.04650437874955, 113.01020772936359, 112.97420245570316, 112.93848458488014, 112.9030502180931, 112.86789552890664, 112.83301676157834, 112.79841022943218, 112.76407231327696, 112.72999945986798, 112.69618818041076, 112.66263504910555, 112.6293367017313, 112.5962898342674, 112.56349120155295]\n",
      "[1, 1, 0, 0, 1, 0, 5, 0, 4, 0, 1, 0, 1, 5, 0, 1, 0, 1, 0, 5, 1, 4, 1, 5, 0, 1, 0, 0, 0, 1, 5, 0, 0, 1, 0, 1, 1, 1, 2, 0, 0, 0, 0, 0, 1, 0, 5, 1, 1, 2, 4, 0, 0, 1, 1, 0, 1, 4, 5, 0, 0, 0, 0, 1, 0]\n",
      "alpha: 0.4\n",
      "correct values: 33, with accuracy of 0.5076923076923077\n",
      "\n",
      "[234.7811961660092, 213.72289157288833, 197.66359830203797, 185.38191575154283, 175.88888189872213, 168.44264888742777, 162.5069330860706, 157.6982873046073, 153.7420082395027, 150.43966089787511, 147.64624719709443, 145.2544307758871, 143.18367955676945, 141.37276594643245, 139.77454403653888, 138.35227304740056, 137.07699759128099, 135.92565726920597, 134.8797054328644, 133.92408783629423, 133.0464788697465, 132.23670440589123, 131.48630140503008, 130.78817882088978, 130.13635428451485, 129.52574798944633, 128.95202011728887, 128.41144166332234, 127.90079107087688, 127.41727094745355, 126.95844051144398, 126.52216044203055, 126.10654757210894, 125.70993744285079, 125.33085317764521, 124.96797946807462, 124.62014072125594, 124.2862826155054, 123.96545646415089, 123.65680590611552, 123.35955553469356, 123.07300114881483, 122.79650136867055, 122.5294704033443, 122.27137179473337, 122.02171299157561, 121.78004063136984, 121.5459364275723, 121.3190135755722, 121.0989136042971, 120.88530361140816, 120.67787382933794, 120.47633547723137, 120.28041886042712, 120.08987168468353, 119.90445755706278, 119.72395464939056, 119.54815450361127, 119.37686096125456, 119.20988920169938, 119.04706487602735, 118.88822332505677, 118.73320887168526, 118.58187417898539, 118.4340796666224, 118.28969297913034, 118.1485885004094, 118.01064690952239, 117.87575477347721, 117.74380417321369, 117.61469235946667, 117.48832143557357, 117.3645980646328, 117.24343319872025, 117.1247418281249, 117.00844274879101, 116.89445834635148, 116.78271439530563, 116.67313987204903, 116.56566678059224, 116.46022998992369, 116.35676708207511, 116.25521821003699, 116.15552596475534, 116.0576352505107, 115.96149316804454, 115.86704890485706, 115.77425363214925, 115.68306040792851, 115.59342408584035, 115.50530122932173, 115.4186500307086, 115.33343023495854, 115.24960306767669, 115.1671311671582, 115.08597852018309, 115.00611040131889, 114.92749331550594, 114.8500949437167, 114.77388409149518, 114.69883064019854, 114.6249055007736, 114.5520805699145, 114.48032868845809, 114.40962360188298, 114.3399399227886, 114.27125309523827, 114.20353936085772, 114.13677572658929, 114.0709399340064, 114.00601043010116, 113.94196633946225, 113.87878743776649, 113.81645412651133, 113.75494740892111, 113.69424886696322, 113.63434063941531, 113.5752054009267, 113.51682634202241, 113.4591871500001, 113.40227199067328, 113.34606549091765, 113.29055272197925, 113.23571918350562, 113.1815507882636, 113.12803384750983, 113.07515505698021, 113.02290148347028, 112.97126055197408, 112.9202200333583, 112.86976803254204, 112.819892977161, 112.77058360669139, 112.72182896201194, 112.67361837538435, 112.62594146083119, 112.57878810489454, 112.53214845775616, 112.48601292470438, 112.44037215793, 112.39521704863836, 112.35053871946184, 112.30632851716047, 112.26257800559712, 112.21927895897558, 112.17642335533041, 112.1340033702568, 112.09201137087064, 112.05043990998898, 112.00928172052123, 111.96852971006226, 111.92817695567904, 111.8882166988826, 111.84864234077779, 111.80944743738304, 111.7706256951138, 111.73217096642273, 111.69407724558974, 111.65633866465693, 111.61894948950173, 111.581904116043, 111.54519706657501, 111.50882298622422, 111.47277663952373, 111.43705290710137, 111.40164678247665, 111.36655336896231, 111.33176787666721, 111.29728561959541, 111.2631020128394, 111.2292125698625, 111.19561289986805, 111.1622987052518, 111.12926577913461, 111.09651000297212, 111.06402734423907, 111.03181385418539, 110.99986566566149, 110.9681789910099, 110.93675012002174, 110.9055754179547, 110.87465132361133, 110.84397434747476, 110.81354106990021, 110.78334813936031, 110.75339227074265, 110.72367024369699, 110.69417890103124, 110.66491514715425, 110.6358759465637, 110.60705832237805, 110.57845935490992, 110.5500761802813, 110.52190598907768, 110.49394602504053, 110.46619358379648, 110.43864601162291, 110.41130070424721, 110.38415510568021, 110.35720670708179]\n",
      "[1, 1, 0, 0, 1, 0, 5, 0, 4, 0, 1, 0, 1, 5, 0, 1, 0, 1, 0, 5, 1, 4, 1, 5, 0, 1, 0, 0, 0, 1, 5, 0, 0, 1, 0, 1, 1, 1, 2, 0, 0, 0, 0, 0, 1, 0, 2, 1, 1, 2, 4, 0, 0, 1, 1, 0, 1, 4, 5, 0, 0, 0, 0, 1, 0]\n",
      "alpha: 0.6\n",
      "correct values: 33, with accuracy of 0.5076923076923077\n",
      "\n",
      "[235.54115021632555, 208.36910899232188, 189.45496341469348, 176.12911613545248, 166.50541509845863, 159.35365550827532, 153.88629964129566, 149.59532394093134, 146.14706647552546, 143.3174204442016, 140.95226573808387, 138.94314706459863, 137.21208468853834, 135.70189187373578, 134.36986521734636, 133.1835834252831, 132.11805325643945, 131.15373479344805, 130.27515210675247, 129.4699006223671, 128.72792764163808, 128.04100367495045, 127.40232886329349, 126.80623625768673, 126.24796540967323, 125.72348763143289, 125.22936969330453, 124.76266646357625, 124.32083559973321, 123.90166923066978, 123.50323886723392, 123.12385070799988, 122.76200918052197, 122.41638705238172, 122.0858008138798, 121.76919031152153, 121.46560182351806, 121.17417393271688, 120.89412568084018, 120.62474658926673, 120.36538821208158, 120.11545695133272, 119.87440791583299, 119.6417396460756, 119.41698956096093, 119.19973000867914, 118.98956482555384, 118.78612632395019, 118.58907264432145, 118.39808541776017, 118.21286769457399, 118.03314210184251, 117.85864919896419, 117.68914600515508, 117.5244046769164, 117.3642113168291, 117.20836489779471, 117.05667628913125, 116.90896737284334, 116.7650702399836, 116.62482645836663, 116.48808640403207, 116.35470864981659, 116.22455940521426, 116.09751200240788, 115.97344642395537, 115.85224886813695, 115.73381134841694, 115.61803132386638, 115.50481135773353, 115.39405880164547, 115.28568550318799, 115.17960753483881, 115.07574494243298, 114.97402151151874, 114.87436455012089, 114.77670468657053, 114.68097568118506, 114.58711425069666, 114.4950599044256, 114.40475479128705, 114.31614355679933, 114.22917320933585, 114.14379299492693, 114.05995427997787, 113.97761044132386, 113.89671676308784, 113.8172303398549, 113.73910998571397, 113.66231614875439, 113.58681083063847, 113.51255751090025, 113.4395210756482, 113.3676677503747, 113.29696503659765, 113.22738165208085, 113.15888747439732, 113.0914534876203, 113.02505173193816, 112.95965525600886, 112.89523807187976, 112.8317751123123, 112.76924219036232, 112.70761596107741, 112.646873885182, 112.58699419463053, 112.52795585991608, 112.46973855903097, 112.41232264798185, 112.35568913276799, 112.29981964273937, 112.24469640525407, 112.19030222156199, 112.13662044384543, 112.08363495335158, 112.03133013955693, 111.97969088030635, 111.92870252287378, 111.87835086589509, 111.82862214212533, 111.779503001978, 111.73098049780344, 111.68304206886869, 111.63567552700218, 111.58886904286864, 111.54261113284247, 111.4968906464488, 111.45169675434404, 111.40701893680871, 111.36284697272723, 111.31917092903052, 111.27598115057974, 111.23326825046838, 111.19102310072346, 111.14923682338703, 111.10790078195905, 111.06700657318584, 111.02654601917637, 110.98651115983314, 110.94689424558172, 110.90768773038553, 110.86888426503369, 110.83047669068858, 110.7924580326827, 110.75482149455206, 110.71756045229799, 110.68066844886475, 110.64413918882575, 110.60796653326801, 110.57214449486709, 110.53666723314358, 110.5015290498945, 110.46672438479126, 110.43224781113754, 110.39809403178096, 110.3642578751712, 110.33073429155928, 110.29751834933217, 110.26460523147668, 110.23199023216797, 110.19966875347785, 110.16763630219702, 110.13588848676812, 110.10442101432403, 110.07322968782826, 110.0423104033124, 110.0116591472081, 109.98127199376853, 109.95114510257737, 109.92127471614049, 109.89165715755857, 109.86228882827646, 109.833166205907, 109.8042858421264, 109.77564436063865, 109.74723845520586, 109.71906488774273, 109.69112048647264, 109.6634021441426, 109.63590681629559, 109.6086315195981, 109.58157333022028, 109.55472938226747, 109.52809686626132, 109.50167302766762, 109.47545516547116, 109.449440630794, 109.42362682555652, 109.39801120118014, 109.37259125732923, 109.34736454069194, 109.32232864379752, 109.29748120387009, 109.27281990171625, 109.24834246064661, 109.22404664542945, 109.19993026127506, 109.17599115285105, 109.15222720332592, 109.1286363334411]\n",
      "[1, 1, 0, 0, 1, 0, 5, 0, 4, 0, 1, 0, 1, 5, 0, 1, 0, 1, 0, 5, 1, 4, 1, 5, 0, 1, 0, 0, 0, 1, 5, 0, 0, 1, 0, 1, 1, 1, 2, 0, 0, 0, 0, 0, 1, 0, 2, 1, 1, 2, 4, 0, 0, 1, 1, 0, 1, 4, 5, 0, 0, 0, 0, 1, 0]\n",
      "alpha: 0.8\n",
      "correct values: 33, with accuracy of 0.5076923076923077\n",
      "\n"
     ]
    },
    {
     "data": {
      "image/png": "[encoded data removed]",
      "text/plain": [
       "<Figure size 432x288 with 1 Axes>"
      ]
     },
     "metadata": {
      "needs_background": "light"
     },
     "output_type": "display_data"
    }
   ],
   "source": [
    "theta_arr = []\n",
    "cost_arr = []\n",
    "accuracy_arr = []\n",
    "\n",
    "alpha_arr = np.array([.2, .4, .6, .8])\n",
    "iterations_arr = np.array([200, 200, 200, 200])\n",
    "\n",
    "m, n = new_X_train.shape\n",
    "k = len(np.unique(y_train_np))\n",
    "\n",
    "for i in range(0, len(alpha_arr)):\n",
    "\n",
    "    theta_initial = np.ones((k, n))    \n",
    "    theta, cost = my_gradient_descent(new_X_train, y_train_np, theta_initial, alpha_arr[i], iterations_arr[i], k)\n",
    "    print(cost)\n",
    "    \n",
    "    y_pred = []\n",
    "    for index,row in enumerate(new_X_test):\n",
    "        h_matrix = h(row, theta, k)\n",
    "        prediction = int(np.where(h_matrix == h_matrix.max())[0])    \n",
    "        y_pred.append(prediction)  \n",
    "    \n",
    "    print(y_pred)\n",
    "    correct = np.sum(y_pred == y_test_np )\n",
    "    accuracy = correct/ len(y_test_np)\n",
    "    print(f\"alpha: {alpha_arr[i]}\")\n",
    "    print(f\"correct values: {correct}, with accuracy of {accuracy}\")\n",
    "    print()\n",
    "    plt.plot(range(1,iterations_arr[i]+1), cost, label='alpha:'+str(alpha_arr[i]) +', acc:' + str(np.round(accuracy,4)*100))\n",
    "    accuracy_arr.append(accuracy)\n",
    "\n",
    "plt.legend()\n",
    "plt.show()"
   ]
  },
  {
   "cell_type": "code",
   "execution_count": 53,
   "metadata": {},
   "outputs": [],
   "source": [
    "y_hat = np.array([1, 1, 0, 0, 1, 0, 5, 0, 4, 0, 1, 0, 1, 5, 0, 1, 0, 1, 0, 5, 1, 4, 1, 5, 0, 1, 0, 0, 0, 1, 5, 0, 0, 1, 0, 1, 1, 1, 2, 0, 0, 0, 0, 0, 1, 0, 2, 1, 1, 2, 4, 0, 0, 1, 1, 0, 1, 4, 5, 0, 0, 0, 0, 1, 0])"
   ]
  },
  {
   "cell_type": "code",
   "execution_count": 54,
   "metadata": {},
   "outputs": [
    {
     "data": {
      "text/plain": [
       "array([1, 2, 0, 5, 1, 0, 6, 0, 4, 6, 0, 1, 1, 5, 0, 4, 0, 1, 0, 5, 6, 6,\n",
       "       4, 6, 1, 1, 1, 0, 0, 1, 6, 0, 1, 1, 0, 1, 1, 0, 6, 0, 0, 2, 1, 1,\n",
       "       4, 0, 6, 1, 0, 0, 6, 0, 0, 1, 4, 1, 2, 4, 6, 1, 0, 0, 1, 5, 0])"
      ]
     },
     "execution_count": 54,
     "metadata": {},
     "output_type": "execute_result"
    }
   ],
   "source": [
    "y_test_np"
   ]
  },
  {
   "cell_type": "code",
   "execution_count": 55,
   "metadata": {},
   "outputs": [
    {
     "name": "stdout",
     "output_type": "stream",
     "text": [
      "              precision    recall  f1-score   support\n",
      "\n",
      "           0       0.60      0.82      0.69        22\n",
      "           1       0.50      0.55      0.52        20\n",
      "           2       0.00      0.00      0.00         3\n",
      "           4       0.50      0.33      0.40         6\n",
      "           5       0.33      0.50      0.40         4\n",
      "           6       0.00      0.00      0.00        10\n",
      "\n",
      "    accuracy                           0.51        65\n",
      "   macro avg       0.32      0.37      0.34        65\n",
      "weighted avg       0.42      0.51      0.46        65\n",
      "\n"
     ]
    },
    {
     "name": "stderr",
     "output_type": "stream",
     "text": [
      "/opt/conda/lib/python3.8/site-packages/sklearn/metrics/_classification.py:1221: UndefinedMetricWarning: Precision and F-score are ill-defined and being set to 0.0 in labels with no predicted samples. Use `zero_division` parameter to control this behavior.\n",
      "  _warn_prf(average, modifier, msg_start, len(result))\n"
     ]
    }
   ],
   "source": [
    "print(classification_report(y_true = y_test_np, y_pred = y_hat))"
   ]
  },
  {
   "cell_type": "code",
   "execution_count": 56,
   "metadata": {},
   "outputs": [
    {
     "data": {
      "text/plain": [
       "1    0.375839\n",
       "0    0.322148\n",
       "6    0.127517\n",
       "2    0.093960\n",
       "4    0.046980\n",
       "5    0.033557\n",
       "Name: Type, dtype: float64"
      ]
     },
     "execution_count": 56,
     "metadata": {},
     "output_type": "execute_result"
    }
   ],
   "source": [
    "(y_train - 1).value_counts(normalize=True)"
   ]
  },
  {
   "cell_type": "markdown",
   "metadata": {},
   "source": [
    "## Summary from running Multinomial Regression from out scrachcode\n",
    "- Increasing the alpha rate helps the gradient to converge faster and also yields better accuracy result on test set\n",
    "- however, it is noteworthy that the accuracy rate on test set plateaus at around only 51%, no matter how smaller the learning rate we adjusted\n",
    "- the explanation for quite low generalization on the test set is due to the distribution of training set. Out of 6 classes, almost 60% of the entire training dataset falls into either class 0 and 1, which turns out to have the highest accuracy rate\n",
    "- In order to make the model perform better, the data selected for training should have normally distributed likelihood "
   ]
  },
  {
   "cell_type": "markdown",
   "metadata": {},
   "source": [
    "## Try using SKLEARN to check the result"
   ]
  },
  {
   "cell_type": "code",
   "execution_count": 57,
   "metadata": {},
   "outputs": [
    {
     "data": {
      "text/plain": [
       "(149, 9)"
      ]
     },
     "execution_count": 57,
     "metadata": {},
     "output_type": "execute_result"
    }
   ],
   "source": [
    "X_train.shape"
   ]
  },
  {
   "cell_type": "code",
   "execution_count": 58,
   "metadata": {},
   "outputs": [],
   "source": [
    "model1 = LogisticRegression(fit_intercept = True,multi_class= 'ovr', max_iter = 10000)"
   ]
  },
  {
   "cell_type": "code",
   "execution_count": 59,
   "metadata": {},
   "outputs": [
    {
     "data": {
      "text/plain": [
       "{'fit_time': array([0.03377938, 0.02769971, 0.02731967, 0.02760291, 0.02715707]),\n",
       " 'score_time': array([0.00040746, 0.00043058, 0.0004189 , 0.00037408, 0.00041771]),\n",
       " 'test_score': array([0.53333333, 0.6       , 0.63333333, 0.66666667, 0.65517241]),\n",
       " 'train_score': array([0.71428571, 0.72268908, 0.71428571, 0.67226891, 0.66666667])}"
      ]
     },
     "execution_count": 59,
     "metadata": {},
     "output_type": "execute_result"
    }
   ],
   "source": [
    "cross_validate(model1, scaled_X_train, y_train, cv = 5,return_train_score=True)"
   ]
  },
  {
   "cell_type": "code",
   "execution_count": 60,
   "metadata": {},
   "outputs": [],
   "source": [
    "model2 = LogisticRegression(fit_intercept = True,multi_class= 'multinomial', max_iter = 10000)"
   ]
  },
  {
   "cell_type": "code",
   "execution_count": 61,
   "metadata": {},
   "outputs": [
    {
     "data": {
      "text/plain": [
       "{'fit_time': array([0.01780891, 0.01365328, 0.01323318, 0.01201677, 0.01199913]),\n",
       " 'score_time': array([0.00035548, 0.00047016, 0.00035238, 0.00039935, 0.00038719]),\n",
       " 'test_score': array([0.56666667, 0.7       , 0.6       , 0.73333333, 0.68965517]),\n",
       " 'train_score': array([0.74789916, 0.73109244, 0.7394958 , 0.66386555, 0.7       ])}"
      ]
     },
     "execution_count": 61,
     "metadata": {},
     "output_type": "execute_result"
    }
   ],
   "source": [
    "cross_validate(model2, scaled_X_train, y_train, cv = 5,return_train_score=True)"
   ]
  },
  {
   "cell_type": "code",
   "execution_count": 62,
   "metadata": {},
   "outputs": [
    {
     "data": {
      "text/plain": [
       "LogisticRegression(max_iter=10000, multi_class='multinomial')"
      ]
     },
     "execution_count": 62,
     "metadata": {},
     "output_type": "execute_result"
    }
   ],
   "source": [
    "model2.fit(scaled_X_train, y_train)"
   ]
  },
  {
   "cell_type": "code",
   "execution_count": 63,
   "metadata": {},
   "outputs": [
    {
     "data": {
      "text/plain": [
       "array([[ 0.88191733, -0.45333188,  1.60051918, -1.64487581,  0.48264183,\n",
       "         0.30599069, -0.41890093, -0.25674994,  0.203727  ],\n",
       "       [ 0.48990271, -0.50021763, -0.08367178,  0.01473033, -0.0924904 ,\n",
       "         0.0744738 , -0.37451232,  0.02772211,  0.32155246],\n",
       "       [-1.15091692, -0.32622939,  0.86391828, -1.3196095 , -1.08425778,\n",
       "        -0.51602428,  0.29989024,  0.05916519,  0.42329177],\n",
       "       [-0.41229391, -0.68764311, -0.9111298 ,  1.27252215, -0.13377888,\n",
       "         0.62065906,  0.70398746, -0.3754662 ,  0.13313419],\n",
       "       [-0.18088893,  1.10280442, -0.30166184,  0.64885176,  0.27939341,\n",
       "        -1.21743006,  0.22045439, -0.70191605, -0.6551351 ],\n",
       "       [ 0.37227972,  0.86461758, -1.16797404,  1.02838106,  0.54849182,\n",
       "         0.73233079, -0.43091883,  1.24724488, -0.42657032]])"
      ]
     },
     "execution_count": 63,
     "metadata": {},
     "output_type": "execute_result"
    }
   ],
   "source": [
    "model2.coef_"
   ]
  },
  {
   "cell_type": "code",
   "execution_count": 64,
   "metadata": {},
   "outputs": [
    {
     "data": {
      "text/plain": [
       "array([2, 2, 1, 2, 2, 1, 7, 1, 7, 1, 2, 1, 2, 6, 1, 2, 1, 2, 1, 6, 7, 7,\n",
       "       2, 7, 1, 1, 1, 1, 1, 3, 7, 1, 2, 2, 1, 2, 2, 2, 7, 1, 1, 1, 1, 1,\n",
       "       2, 1, 7, 2, 2, 3, 7, 2, 1, 2, 5, 1, 2, 5, 7, 1, 1, 1, 1, 2, 1])"
      ]
     },
     "execution_count": 64,
     "metadata": {},
     "output_type": "execute_result"
    }
   ],
   "source": [
    "model2.predict(scaled_X_test)"
   ]
  },
  {
   "cell_type": "code",
   "execution_count": 65,
   "metadata": {},
   "outputs": [
    {
     "data": {
      "text/plain": [
       "array([2, 3, 1, 6, 2, 1, 7, 1, 5, 7, 1, 2, 2, 6, 1, 5, 1, 2, 1, 6, 7, 7,\n",
       "       5, 7, 2, 2, 2, 1, 1, 2, 7, 1, 2, 2, 1, 2, 2, 1, 7, 1, 1, 3, 2, 2,\n",
       "       5, 1, 7, 2, 1, 1, 7, 1, 1, 2, 5, 2, 3, 5, 7, 2, 1, 1, 2, 6, 1])"
      ]
     },
     "execution_count": 65,
     "metadata": {},
     "output_type": "execute_result"
    }
   ],
   "source": [
    "np.array(y_test)"
   ]
  },
  {
   "cell_type": "code",
   "execution_count": 66,
   "metadata": {},
   "outputs": [],
   "source": [
    "from sklearn.metrics import confusion_matrix, accuracy_score, classification_report\n",
    "import seaborn as sns"
   ]
  },
  {
   "cell_type": "code",
   "execution_count": 67,
   "metadata": {},
   "outputs": [
    {
     "data": {
      "text/plain": [
       "<matplotlib.axes._subplots.AxesSubplot at 0x7fc819c3c880>"
      ]
     },
     "execution_count": 67,
     "metadata": {},
     "output_type": "execute_result"
    },
    {
     "data": {
      "image/png": "[encoded data removed]",
      "text/plain": [
       "<Figure size 432x288 with 2 Axes>"
      ]
     },
     "metadata": {
      "needs_background": "light"
     },
     "output_type": "display_data"
    }
   ],
   "source": [
    "sns.heatmap(confusion_matrix(y_true =np.array(y_test), y_pred = model2.predict(scaled_X_test) ), annot =True, cmap='coolwarm')"
   ]
  },
  {
   "cell_type": "code",
   "execution_count": 68,
   "metadata": {},
   "outputs": [
    {
     "name": "stdout",
     "output_type": "stream",
     "text": [
      "              precision    recall  f1-score   support\n",
      "\n",
      "           1       0.61      0.77      0.68        22\n",
      "           2       0.48      0.50      0.49        20\n",
      "           3       0.00      0.00      0.00         3\n",
      "           5       1.00      0.33      0.50         6\n",
      "           6       1.00      0.50      0.67         4\n",
      "           7       0.90      0.90      0.90        10\n",
      "\n",
      "    accuracy                           0.62        65\n",
      "   macro avg       0.66      0.50      0.54        65\n",
      "weighted avg       0.64      0.62      0.61        65\n",
      "\n"
     ]
    }
   ],
   "source": [
    "print(classification_report(y_true =np.array(y_test), y_pred = model2.predict(scaled_X_test) ))"
   ]
  },
  {
   "cell_type": "markdown",
   "metadata": {},
   "source": [
    "--- "
   ]
  }
 ],
 "metadata": {
  "kernelspec": {
   "display_name": "Python 3 (ipykernel)",
   "language": "python",
   "name": "python3"
  },
  "language_info": {
   "codemirror_mode": {
    "name": "ipython",
    "version": 3
   },
   "file_extension": ".py",
   "mimetype": "text/x-python",
   "name": "python",
   "nbconvert_exporter": "python",
   "pygments_lexer": "ipython3",
   "version": "3.8.3"
  }
 },
 "nbformat": 4,
 "nbformat_minor": 4
}
