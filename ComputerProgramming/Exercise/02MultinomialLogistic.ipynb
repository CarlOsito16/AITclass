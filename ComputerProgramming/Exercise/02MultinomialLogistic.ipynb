{
 "cells": [
  {
   "cell_type": "markdown",
   "id": "4d33b95e",
   "metadata": {},
   "source": [
    "# === Multinomal Logistic Regression Task ===\n",
    "\n",
    "1. With the iris data given in class, implement train_test_split from scratch.\n",
    "\n",
    "2. Put everything into a class called LogisticRegression, this class should allow you choose any of the training methods you'd like including \"batch\", \"minibatch\" and \"sto\". However, if the input method is not one of the three, it should \"raise ValueError\".\n",
    "\n",
    "3. Calculate time taken to fit your models using different training methods.\n",
    "\n",
    "4. Perform a classification on the dataset using all 3 methods and also show what happens if your defined training method is not either \"batch\", \"minibatch\" or \"sto\". Make sure to plot the training losses.\n",
    "\n",
    "5. Simply, use classification_report from sklearn.metrics to evaluate your models.\n",
    "\n",
    "6. Discuss your results ie. training losses of the three methods and time taken to fit models."
   ]
  },
  {
   "cell_type": "markdown",
   "id": "10d0080b",
   "metadata": {},
   "source": [
    "---"
   ]
  },
  {
   "cell_type": "code",
   "execution_count": 3,
   "id": "6c2c4a47",
   "metadata": {},
   "outputs": [],
   "source": [
    "import numpy as np\n",
    "import matplotlib.pyplot as plt\n",
    "import seaborn as sns\n",
    "import time"
   ]
  },
  {
   "cell_type": "code",
   "execution_count": 4,
   "id": "c5d1fa89",
   "metadata": {},
   "outputs": [],
   "source": [
    "from sklearn import datasets"
   ]
  },
  {
   "cell_type": "code",
   "execution_count": 5,
   "id": "1be8ca05",
   "metadata": {},
   "outputs": [],
   "source": [
    "# import some data to play with\n",
    "iris = datasets.load_iris()\n",
    "X = iris.data[:, 2:]  # we only take the first two features.\n",
    "y = iris.target  #now our y is three classes thus require multinomial"
   ]
  },
  {
   "cell_type": "code",
   "execution_count": 6,
   "id": "9b1ff624",
   "metadata": {},
   "outputs": [
    {
     "data": {
      "text/plain": [
       "dict_keys(['data', 'target', 'frame', 'target_names', 'DESCR', 'feature_names', 'filename'])"
      ]
     },
     "execution_count": 6,
     "metadata": {},
     "output_type": "execute_result"
    }
   ],
   "source": [
    "iris.keys()"
   ]
  },
  {
   "cell_type": "code",
   "execution_count": 7,
   "id": "7bb23e9d",
   "metadata": {},
   "outputs": [
    {
     "data": {
      "text/plain": [
       "array(['setosa', 'versicolor', 'virginica'], dtype='<U10')"
      ]
     },
     "execution_count": 7,
     "metadata": {},
     "output_type": "execute_result"
    }
   ],
   "source": [
    "iris['target_names']"
   ]
  },
  {
   "cell_type": "code",
   "execution_count": 8,
   "id": "47bd9f77",
   "metadata": {},
   "outputs": [
    {
     "data": {
      "text/plain": [
       "['sepal length (cm)',\n",
       " 'sepal width (cm)',\n",
       " 'petal length (cm)',\n",
       " 'petal width (cm)']"
      ]
     },
     "execution_count": 8,
     "metadata": {},
     "output_type": "execute_result"
    }
   ],
   "source": [
    "iris['feature_names'] #So, the only 2 features we are interested in is 'petal lenght' and 'petal width'"
   ]
  },
  {
   "cell_type": "markdown",
   "id": "6cefd2a5",
   "metadata": {},
   "source": [
    "## Task 1: TrainTestSplit from scratch"
   ]
  },
  {
   "cell_type": "code",
   "execution_count": 9,
   "id": "f5ec8b91",
   "metadata": {},
   "outputs": [
    {
     "data": {
      "text/plain": [
       "array([ 74,  66,  60,  58, 103,  49,  62,   9,  34,  17,  13, 105,  29,\n",
       "        24,  77,  78, 127,   8, 137,  30,  89,  83, 124,  27, 126,  35,\n",
       "       149, 140,  96, 101, 139,  40,  23,  45, 134,  33, 107,  43,  87,\n",
       "       121, 114,   3,  82,  59,  95, 136,   7,   5,   4,  14,   6,  37,\n",
       "         2,  52, 122, 130, 138, 148,  28,  86,  64, 113, 109,  99,  84,\n",
       "        10,  90,  76,  69,  91,  54, 104,  55,  53, 133, 117,  92,  46,\n",
       "        50,  25, 116,  18,  97, 146, 142, 111,  42, 143, 110,  38,  65,\n",
       "        48, 115,  61,  80,  75,  70,   1,  39,  94,  26, 145,  47, 118,\n",
       "       100,  72, 135,  21, 147,  31,  20,  98, 128,  71, 112,  36, 132,\n",
       "       108,  68,  44,  63,  93,  79,  81,  67, 125,  16, 119,   0,  22,\n",
       "       123, 131,  85, 120,  11,  88,  51,  41,  12,  32, 144,  56, 129,\n",
       "       106,  57,  15,  73, 102, 141,  19])"
      ]
     },
     "execution_count": 9,
     "metadata": {},
     "output_type": "execute_result"
    }
   ],
   "source": [
    "shuffled_index = np.arange(0, len(X),1)\n",
    "np.random.shuffle(shuffled_index)\n",
    "shuffled_index"
   ]
  },
  {
   "cell_type": "markdown",
   "id": "05fd3925",
   "metadata": {},
   "source": [
    "Using training size of 70% and test size of 30%"
   ]
  },
  {
   "cell_type": "code",
   "execution_count": 10,
   "id": "7a6920a5",
   "metadata": {},
   "outputs": [],
   "source": [
    "stop_start_idx = int(0.7 * (len(shuffled_index)))"
   ]
  },
  {
   "cell_type": "code",
   "execution_count": 11,
   "id": "4d5afa91",
   "metadata": {},
   "outputs": [
    {
     "data": {
      "text/plain": [
       "array([ 74,  66,  60,  58, 103,  49,  62,   9,  34,  17,  13, 105,  29,\n",
       "        24,  77,  78, 127,   8, 137,  30,  89,  83, 124,  27, 126,  35,\n",
       "       149, 140,  96, 101, 139,  40,  23,  45, 134,  33, 107,  43,  87,\n",
       "       121, 114,   3,  82,  59,  95, 136,   7,   5,   4,  14,   6,  37,\n",
       "         2,  52, 122, 130, 138, 148,  28,  86,  64, 113, 109,  99,  84,\n",
       "        10,  90,  76,  69,  91,  54, 104,  55,  53, 133, 117,  92,  46,\n",
       "        50,  25, 116,  18,  97, 146, 142, 111,  42, 143, 110,  38,  65,\n",
       "        48, 115,  61,  80,  75,  70,   1,  39,  94,  26, 145,  47, 118,\n",
       "       100])"
      ]
     },
     "execution_count": 11,
     "metadata": {},
     "output_type": "execute_result"
    }
   ],
   "source": [
    "shuffled_index[0 :stop_start_idx ]"
   ]
  },
  {
   "cell_type": "code",
   "execution_count": 12,
   "id": "18e2896b",
   "metadata": {},
   "outputs": [],
   "source": [
    "X_train = X[shuffled_index[0 :stop_start_idx ]]\n",
    "X_test  = X[shuffled_index[stop_start_idx :]]\n",
    "y_train = y[shuffled_index[0 :stop_start_idx]]\n",
    "y_test  = y[shuffled_index[stop_start_idx :]]"
   ]
  },
  {
   "cell_type": "code",
   "execution_count": 13,
   "id": "d73668a4",
   "metadata": {},
   "outputs": [
    {
     "name": "stdout",
     "output_type": "stream",
     "text": [
      "(105, 2)\n",
      "(45, 2)\n",
      "(105,)\n",
      "(45,)\n"
     ]
    }
   ],
   "source": [
    "print(X_train.shape)\n",
    "print(X_test.shape)\n",
    "print(y_train.shape)\n",
    "print(y_test.shape)"
   ]
  },
  {
   "cell_type": "markdown",
   "id": "1d3c90a3",
   "metadata": {},
   "source": [
    "### Data Preprecessing: Scaling on numercial feautures "
   ]
  },
  {
   "cell_type": "code",
   "execution_count": 14,
   "id": "7f237815",
   "metadata": {},
   "outputs": [
    {
     "name": "stdout",
     "output_type": "stream",
     "text": [
      "[3.74285714 1.19047619]\n",
      "[1.76629055 0.76749733]\n"
     ]
    }
   ],
   "source": [
    "X_train_mean = X_train.mean(axis= 0)\n",
    "X_train_std  = X_train.std(axis = 0)\n",
    "print(X_train_mean)\n",
    "print(X_train_std)"
   ]
  },
  {
   "cell_type": "code",
   "execution_count": 15,
   "id": "8134469a",
   "metadata": {},
   "outputs": [],
   "source": [
    "scaled_X_train = (X_train - X_train_mean) / X_train_std\n",
    "scaled_X_test = (X_test - X_train_mean) / X_train_std"
   ]
  },
  {
   "cell_type": "markdown",
   "id": "f53b9cae",
   "metadata": {},
   "source": [
    "### Data Preprecessing: Adding intercept variable"
   ]
  },
  {
   "cell_type": "code",
   "execution_count": 16,
   "id": "2f118e95",
   "metadata": {},
   "outputs": [],
   "source": [
    "scaled_X_train = np.insert(scaled_X_train, 0 ,1, axis = 1)\n",
    "scaled_X_test = np.insert(scaled_X_test, 0 ,1, axis = 1)"
   ]
  },
  {
   "cell_type": "code",
   "execution_count": 17,
   "id": "80a5ab4b",
   "metadata": {},
   "outputs": [
    {
     "name": "stdout",
     "output_type": "stream",
     "text": [
      "(105, 3)\n",
      "(45, 3)\n"
     ]
    }
   ],
   "source": [
    "print(scaled_X_train.shape)\n",
    "print(scaled_X_test.shape)"
   ]
  },
  {
   "cell_type": "markdown",
   "id": "29450014",
   "metadata": {},
   "source": [
    "### Data Preprecessing: One Hot Encoding on categorical dependent variable"
   ]
  },
  {
   "cell_type": "code",
   "execution_count": 18,
   "id": "84fafd52",
   "metadata": {},
   "outputs": [],
   "source": [
    "k = len(set(y))  # no. of class  (can also use np.unique)\n",
    "m = X_train.shape[0]  # no.of samples\n",
    "n = X_train.shape[1]  # no. of features\n",
    "Y_train_encoded = np.zeros((m, k))\n",
    "for each_class in range(k):\n",
    "    cond = y_train==each_class\n",
    "    Y_train_encoded[np.where(cond), each_class] = 1"
   ]
  },
  {
   "cell_type": "code",
   "execution_count": 19,
   "id": "49ba54cd",
   "metadata": {},
   "outputs": [
    {
     "data": {
      "text/plain": [
       "array([1, 1, 1, 1, 2, 0, 1, 0, 0, 0, 0, 2, 0, 0, 1, 1, 2, 0, 2, 0, 1, 1,\n",
       "       2, 0, 2, 0, 2, 2, 1, 2, 2, 0, 0, 0, 2, 0, 2, 0, 1, 2, 2, 0, 1, 1,\n",
       "       1, 2, 0, 0, 0, 0, 0, 0, 0, 1, 2, 2, 2, 2, 0, 1, 1, 2, 2, 1, 1, 0,\n",
       "       1, 1, 1, 1, 1, 2, 1, 1, 2, 2, 1, 0, 1, 0, 2, 0, 1, 2, 2, 2, 0, 2,\n",
       "       2, 0, 1, 0, 2, 1, 1, 1, 1, 0, 0, 1, 0, 2, 0, 2, 2])"
      ]
     },
     "execution_count": 19,
     "metadata": {},
     "output_type": "execute_result"
    }
   ],
   "source": [
    "y_train"
   ]
  },
  {
   "cell_type": "code",
   "execution_count": 20,
   "id": "75d904c8",
   "metadata": {},
   "outputs": [
    {
     "data": {
      "text/plain": [
       "array([[0., 1., 0.],\n",
       "       [0., 1., 0.],\n",
       "       [0., 1., 0.],\n",
       "       [0., 1., 0.],\n",
       "       [0., 0., 1.],\n",
       "       [1., 0., 0.],\n",
       "       [0., 1., 0.],\n",
       "       [1., 0., 0.],\n",
       "       [1., 0., 0.],\n",
       "       [1., 0., 0.],\n",
       "       [1., 0., 0.],\n",
       "       [0., 0., 1.],\n",
       "       [1., 0., 0.],\n",
       "       [1., 0., 0.],\n",
       "       [0., 1., 0.],\n",
       "       [0., 1., 0.],\n",
       "       [0., 0., 1.],\n",
       "       [1., 0., 0.],\n",
       "       [0., 0., 1.],\n",
       "       [1., 0., 0.],\n",
       "       [0., 1., 0.],\n",
       "       [0., 1., 0.],\n",
       "       [0., 0., 1.],\n",
       "       [1., 0., 0.],\n",
       "       [0., 0., 1.],\n",
       "       [1., 0., 0.],\n",
       "       [0., 0., 1.],\n",
       "       [0., 0., 1.],\n",
       "       [0., 1., 0.],\n",
       "       [0., 0., 1.],\n",
       "       [0., 0., 1.],\n",
       "       [1., 0., 0.],\n",
       "       [1., 0., 0.],\n",
       "       [1., 0., 0.],\n",
       "       [0., 0., 1.],\n",
       "       [1., 0., 0.],\n",
       "       [0., 0., 1.],\n",
       "       [1., 0., 0.],\n",
       "       [0., 1., 0.],\n",
       "       [0., 0., 1.],\n",
       "       [0., 0., 1.],\n",
       "       [1., 0., 0.],\n",
       "       [0., 1., 0.],\n",
       "       [0., 1., 0.],\n",
       "       [0., 1., 0.],\n",
       "       [0., 0., 1.],\n",
       "       [1., 0., 0.],\n",
       "       [1., 0., 0.],\n",
       "       [1., 0., 0.],\n",
       "       [1., 0., 0.],\n",
       "       [1., 0., 0.],\n",
       "       [1., 0., 0.],\n",
       "       [1., 0., 0.],\n",
       "       [0., 1., 0.],\n",
       "       [0., 0., 1.],\n",
       "       [0., 0., 1.],\n",
       "       [0., 0., 1.],\n",
       "       [0., 0., 1.],\n",
       "       [1., 0., 0.],\n",
       "       [0., 1., 0.],\n",
       "       [0., 1., 0.],\n",
       "       [0., 0., 1.],\n",
       "       [0., 0., 1.],\n",
       "       [0., 1., 0.],\n",
       "       [0., 1., 0.],\n",
       "       [1., 0., 0.],\n",
       "       [0., 1., 0.],\n",
       "       [0., 1., 0.],\n",
       "       [0., 1., 0.],\n",
       "       [0., 1., 0.],\n",
       "       [0., 1., 0.],\n",
       "       [0., 0., 1.],\n",
       "       [0., 1., 0.],\n",
       "       [0., 1., 0.],\n",
       "       [0., 0., 1.],\n",
       "       [0., 0., 1.],\n",
       "       [0., 1., 0.],\n",
       "       [1., 0., 0.],\n",
       "       [0., 1., 0.],\n",
       "       [1., 0., 0.],\n",
       "       [0., 0., 1.],\n",
       "       [1., 0., 0.],\n",
       "       [0., 1., 0.],\n",
       "       [0., 0., 1.],\n",
       "       [0., 0., 1.],\n",
       "       [0., 0., 1.],\n",
       "       [1., 0., 0.],\n",
       "       [0., 0., 1.],\n",
       "       [0., 0., 1.],\n",
       "       [1., 0., 0.],\n",
       "       [0., 1., 0.],\n",
       "       [1., 0., 0.],\n",
       "       [0., 0., 1.],\n",
       "       [0., 1., 0.],\n",
       "       [0., 1., 0.],\n",
       "       [0., 1., 0.],\n",
       "       [0., 1., 0.],\n",
       "       [1., 0., 0.],\n",
       "       [1., 0., 0.],\n",
       "       [0., 1., 0.],\n",
       "       [1., 0., 0.],\n",
       "       [0., 0., 1.],\n",
       "       [1., 0., 0.],\n",
       "       [0., 0., 1.],\n",
       "       [0., 0., 1.]])"
      ]
     },
     "execution_count": 20,
     "metadata": {},
     "output_type": "execute_result"
    }
   ],
   "source": [
    "Y_train_encoded"
   ]
  },
  {
   "cell_type": "code",
   "execution_count": 21,
   "id": "7b5167d2",
   "metadata": {},
   "outputs": [
    {
     "data": {
      "image/png": "[encoded data removed]",
      "text/plain": [
       "<Figure size 432x432 with 1 Axes>"
      ]
     },
     "metadata": {
      "needs_background": "light"
     },
     "output_type": "display_data"
    }
   ],
   "source": [
    "plt.figure(figsize=(6,6))\n",
    "plt.scatter(X[:, 0], X[:, 1], c=y)\n",
    "plt.show()"
   ]
  },
  {
   "cell_type": "markdown",
   "id": "a692c9c9",
   "metadata": {},
   "source": [
    "## Task 2: Create Multinomial Logistic Regression class"
   ]
  },
  {
   "cell_type": "code",
   "execution_count": 22,
   "id": "1e5d7658",
   "metadata": {},
   "outputs": [
    {
     "data": {
      "text/plain": [
       "array(['setosa', 'versicolor', 'virginica'], dtype='<U10')"
      ]
     },
     "execution_count": 22,
     "metadata": {},
     "output_type": "execute_result"
    }
   ],
   "source": [
    "iris['target_names']"
   ]
  },
  {
   "cell_type": "markdown",
   "id": "7a0dda58",
   "metadata": {},
   "source": [
    "#### The 3 target classes of this models: ['setosa', 'versicolor', 'virginica']"
   ]
  },
  {
   "cell_type": "code",
   "execution_count": 23,
   "id": "0536fa61",
   "metadata": {},
   "outputs": [
    {
     "name": "stdout",
     "output_type": "stream",
     "text": [
      "(105, 3)\n",
      "(105, 3)\n"
     ]
    }
   ],
   "source": [
    "print(scaled_X_train.shape) # m by n\n",
    "print(Y_train_encoded.shape) # m by k (classes)"
   ]
  },
  {
   "cell_type": "code",
   "execution_count": 24,
   "id": "238d398d",
   "metadata": {},
   "outputs": [],
   "source": [
    "class LogisticRegression:\n",
    "    \n",
    "    def __init__(self, alpha = 0.0001, max_iter = 10000, method = 'batch'):\n",
    "        self.alpha = alpha\n",
    "        self.max_iter = max_iter\n",
    "        self.method = method\n",
    "        self.theta = 0\n",
    "        self.count = 0\n",
    "        self.loss_record = 0\n",
    "        self.time = 0\n",
    "        \n",
    "        \n",
    "    def plot_graph(self):\n",
    "        plt.plot(np.arange(self.count), self.loss_record[2:])\n",
    "        plt.xlabel('iterations')\n",
    "        plt.ylabel('loss')\n",
    "        plt.title(f'Multinomial Logistic Regression using: {self.method} method')\n",
    "        \n",
    "    def fit(self, X_train, y_train):\n",
    "        self.threshold = 0.0001\n",
    "        \n",
    "        if self.method == 'batch':\n",
    "            start_time = time.time()\n",
    "            theta = np.zeros((X_train.shape[1] , y_train.shape[1]))\n",
    "            loss_record = [100,10]\n",
    "            count =0\n",
    "\n",
    "            while (np.abs(loss_record[-1] - loss_record[-2]) > self.threshold) and (count < self.max_iter):\n",
    "                output = np.dot(X_train, theta)\n",
    "                softmax = np.exp(output) / np.sum(np.exp(output), axis = 1, keepdims = True)\n",
    "                error = softmax - y_train\n",
    "                loss =  -np.sum(y_train * np.log(softmax)) / len(X_train)\n",
    "                loss_record.append(loss)\n",
    "                gradient = np.dot(X_train.T, error)\n",
    "                theta = theta - (self.alpha * gradient)\n",
    "                count += 1\n",
    "\n",
    "                if count % 500 ==0:\n",
    "                    print(f\"{count}: {loss}\")\n",
    "\n",
    "            \n",
    "            time_taken = time.time() - start_time\n",
    "            print(f\"time_taken: {time_taken}\")\n",
    "            \n",
    "            self.time = time_taken\n",
    "            self.loss_record = loss_record\n",
    "            self.count = count\n",
    "            self.theta = theta  \n",
    "        \n",
    "        \n",
    "        elif self.method == 'stochastic':\n",
    "            self.alpha = 0.001\n",
    "            start_time = time.time()\n",
    "            self.threshold = 0.000001\n",
    "            theta = np.zeros((X_train.shape[1] , y_train.shape[1]))\n",
    "            loss_record = [100,10]\n",
    "            count =0\n",
    "            all_index = np.arange(len(X_train))\n",
    "            \n",
    "            while (np.abs(loss_record[-1] - loss_record[-2]) > self.threshold) and (count < self.max_iter):\n",
    "                if len(all_index) > 0:\n",
    "                    random_index = np.random.choice(all_index)     \n",
    "                    selected_X_train = X_train[random_index, :].reshape(1,-1) # MUST RESHAPE to make it have m = 1\n",
    "                    selected_y_train = y_train[random_index]   \n",
    "\n",
    "\n",
    "\n",
    "                    output = np.dot(selected_X_train, theta)\n",
    "                    softmax = np.exp(output) / np.sum(np.exp(output), axis = 1, keepdims= True) # doesn't have to specify axis =1\n",
    "                    error = softmax - selected_y_train\n",
    "                    loss =  -np.sum(selected_y_train * np.log(softmax))\n",
    "                    loss_record.append(loss)\n",
    "                    gradient = np.dot(selected_X_train.T, error)\n",
    "                    theta = theta - (self.alpha * gradient)\n",
    "                    count += 1\n",
    "\n",
    "                    if count % 500 ==0:\n",
    "                        print(f\"{count}: {loss}\")\n",
    "                    \n",
    "                        \n",
    "                else:\n",
    "                    all_index = np.arange(len(X_train))\n",
    "                    \n",
    "            \n",
    "            time_taken = time.time() - start_time\n",
    "            print(f\"time_taken: {time_taken}\")\n",
    "            self.time = time_taken\n",
    "            self.loss_record = loss_record\n",
    "            self.count = count\n",
    "            self.theta = theta\n",
    "            \n",
    "            \n",
    "        elif self.method == 'minibatch':\n",
    "            start_time = time.time()\n",
    "            self.threshold = 0.000001\n",
    "            \n",
    "            theta = np.zeros((X_train.shape[1] , y_train.shape[1]))\n",
    "            loss_record = [100,10]\n",
    "            count =0\n",
    "            all_index = np.arange(len(X_train))\n",
    "            batch_size = int(0.1 * (len(X_train)))\n",
    "            \n",
    "            while (np.abs(loss_record[-1] - loss_record[-2]) > self.threshold) and (count < self.max_iter):\n",
    "                if len(all_index) > 0:\n",
    "                    random_index = np.random.choice(all_index)     \n",
    "                    selected_X_train = X_train[random_index: random_index + batch_size]\n",
    "                    selected_y_train = y_train[random_index: random_index + batch_size]   \n",
    "\n",
    "\n",
    "\n",
    "                    output = np.dot(selected_X_train, theta)\n",
    "                    softmax = np.exp(output) / np.sum(np.exp(output), axis = 1, keepdims = True)\n",
    "                    error = softmax - selected_y_train\n",
    "                    loss =  -np.sum(selected_y_train * np.log(softmax)) / len(X_train)\n",
    "                    loss_record.append(loss)\n",
    "                    gradient = np.dot(selected_X_train.T, error)\n",
    "                    theta = theta - (self.alpha * gradient)\n",
    "                    count += 1\n",
    "\n",
    "                    if count % 500 ==0:\n",
    "                        print(f\"{count}: {loss}\")\n",
    "                    \n",
    "                        \n",
    "                else:\n",
    "                    all_index = np.arange(len(X_train))\n",
    "            \n",
    "            time_taken = time.time() - start_time\n",
    "            print(f\"time_taken: {time_taken}\")\n",
    "            self.time = time_taken\n",
    "            self.loss_record = loss_record\n",
    "            self.count = count\n",
    "            self.theta = theta\n",
    "            \n",
    "            \n",
    "        else:\n",
    "            raise ValueError('Method must be one of the followings: \"batch\", \"minibatch\" or \"stochastic\".')\n",
    "    \n",
    "    \n",
    "    def predict(self, X_test):\n",
    "        output = np.dot(X_test, self.theta)\n",
    "        softmax = np.exp(output) / np.sum(np.exp(output), axis = 1, keepdims = True)\n",
    "        return np.argmax(softmax, axis = 1)"
   ]
  },
  {
   "cell_type": "markdown",
   "id": "d61dcf97",
   "metadata": {},
   "source": [
    "---"
   ]
  },
  {
   "cell_type": "markdown",
   "id": "c277ca77",
   "metadata": {},
   "source": [
    "## Task 3 & 4 : Perform 3 types of gradient descent methods, calculate time and plot loss function against iterations"
   ]
  },
  {
   "cell_type": "code",
   "execution_count": 25,
   "id": "8a18b533",
   "metadata": {},
   "outputs": [
    {
     "name": "stdout",
     "output_type": "stream",
     "text": [
      "500: 0.46373672739808314\n",
      "1000: 0.3648246717446497\n",
      "time_taken: 0.10597372055053711\n"
     ]
    }
   ],
   "source": [
    "batch_model = LogisticRegression(method = 'batch')\n",
    "batch_model.fit(scaled_X_train, Y_train_encoded)"
   ]
  },
  {
   "cell_type": "code",
   "execution_count": 26,
   "id": "0ddbc1d4",
   "metadata": {},
   "outputs": [
    {
     "name": "stdout",
     "output_type": "stream",
     "text": [
      "500: 0.46373672739808314\n",
      "1000: 0.3648246717446497\n",
      "time_taken: 0.10986089706420898\n"
     ]
    }
   ],
   "source": [
    "batch_model.fit(scaled_X_train, Y_train_encoded)"
   ]
  },
  {
   "cell_type": "code",
   "execution_count": 66,
   "id": "74290ed6",
   "metadata": {},
   "outputs": [
    {
     "name": "stdout",
     "output_type": "stream",
     "text": [
      "500: 0.08260614679172601\n",
      "1000: 0.07661102888238958\n",
      "1500: 0.05445162493375364\n",
      "2000: 0.06590267380796959\n",
      "2500: 0.06511911871753262\n",
      "3000: 0.06400870194957281\n",
      "3500: 0.006662456446432569\n",
      "4000: 0.07234366665931224\n",
      "4500: 0.0661812749744973\n",
      "5000: 0.053087624040386645\n",
      "5500: 0.06967057381454154\n",
      "6000: 0.0334953994929278\n",
      "6500: 0.04451002618021134\n",
      "7000: 0.04292893260000279\n",
      "7500: 0.04144210606153707\n",
      "8000: 0.0462458450900513\n",
      "8500: 0.03424388039498845\n",
      "time_taken: 0.6623153686523438\n"
     ]
    }
   ],
   "source": [
    "minibatch_model = LogisticRegression(method = 'minibatch')\n",
    "minibatch_model.fit(scaled_X_train, Y_train_encoded)"
   ]
  },
  {
   "cell_type": "code",
   "execution_count": 64,
   "id": "3f6b41be",
   "metadata": {},
   "outputs": [
    {
     "data": {
      "text/plain": [
       "336"
      ]
     },
     "execution_count": 64,
     "metadata": {},
     "output_type": "execute_result"
    }
   ],
   "source": [
    "minibatch_model.count"
   ]
  },
  {
   "cell_type": "code",
   "execution_count": 67,
   "id": "01c87c60",
   "metadata": {},
   "outputs": [
    {
     "name": "stdout",
     "output_type": "stream",
     "text": [
      "500: 0.7128616519645731\n",
      "1000: 0.45384867314496274\n",
      "1500: 0.6318718684549842\n",
      "2000: 1.0660256857529036\n",
      "2500: 0.22842529189743288\n",
      "3000: 0.25930971465444363\n",
      "3500: 0.500926143349905\n",
      "4000: 0.9152890906686668\n",
      "4500: 0.9120921523948607\n",
      "5000: 0.09167926369167788\n",
      "5500: 0.2162848685404679\n",
      "6000: 0.16114700152972758\n",
      "6500: 0.7833192221533628\n",
      "7000: 0.4944566389938612\n",
      "7500: 0.10263673250232334\n",
      "8000: 0.09331562903577134\n",
      "8500: 0.9090849586366916\n",
      "9000: 0.09948672194265744\n",
      "9500: 0.07723919303704041\n",
      "10000: 0.08734486384782356\n",
      "time_taken: 0.8606281280517578\n"
     ]
    }
   ],
   "source": [
    "stochastic_model = LogisticRegression(method = 'stochastic')\n",
    "stochastic_model.fit(scaled_X_train, Y_train_encoded)"
   ]
  },
  {
   "cell_type": "code",
   "execution_count": 68,
   "id": "153c4326",
   "metadata": {},
   "outputs": [
    {
     "data": {
      "text/plain": [
       "Text(0.5, 1.0, 'stochastic model, \\nrunning 10000 iterations,  wihtin 0.86063 second')"
      ]
     },
     "execution_count": 68,
     "metadata": {},
     "output_type": "execute_result"
    },
    {
     "data": {
      "image/png": "[encoded data removed]",
      "text/plain": [
       "<Figure size 1584x360 with 3 Axes>"
      ]
     },
     "metadata": {
      "needs_background": "light"
     },
     "output_type": "display_data"
    }
   ],
   "source": [
    "fig, axes = plt.subplots(1,3, figsize = (22,5))\n",
    "\n",
    "axes[0].plot(np.arange(batch_model.count) , batch_model.loss_record[2:])\n",
    "axes[0].set_xlabel(\"iterations\")\n",
    "axes[0].set_ylabel(\"loss\")\n",
    "axes[0].set_title(f\"{batch_model.method} model, \\nrunning {batch_model.count} iterations,  wihtin {round(batch_model.time,5)} second\")\n",
    "\n",
    "axes[1].plot(np.arange(minibatch_model.count) , minibatch_model.loss_record[2:])\n",
    "axes[1].set_xlabel(\"iterations\")\n",
    "axes[1].set_ylabel(\"loss\")\n",
    "axes[1].set_title(f\"{minibatch_model.method} model, \\nrunning {minibatch_model.count} iterations,  wihtin {round(minibatch_model.time,5)} second\")\n",
    "\n",
    "axes[2].plot(np.arange(stochastic_model.count) , stochastic_model.loss_record[2:])\n",
    "axes[2].set_xlabel(\"iterations\")\n",
    "axes[2].set_ylabel(\"loss\")\n",
    "axes[2].set_title(f\"{stochastic_model.method} model, \\nrunning {stochastic_model.count} iterations,  wihtin {round(stochastic_model.time,5)} second\")"
   ]
  },
  {
   "cell_type": "markdown",
   "id": "43ca4af9",
   "metadata": {},
   "source": [
    "### Observations\n",
    "\n",
    "- The loss in batch model drastically drops within hundreds of iterations, and reaches the point where the loss delta is smaller than the theshold, making the model to stop at after 1,363 iteration, using only 0.109 seconds\n",
    "- The loss in minibatch model shows a linearly decrease as iteration goes up. However, we can see the higher degree of fluctuation as it uses only 10% of the entire data set to compute.\n",
    "- The loss in stochastic  model portrays the highly fluctuating loss, resulting from using only one point of data to compute the loss. The model keeps iterating until reaches the maximum iteration without having difference of previous loss and current loss smaller than threshold. As the model has the highest number of iterations, it is computed with the most amount of time at ~ 0.8 seconds\n",
    "- Normally, the batch model should take the highest amount of time because it takes the entire dataset to compute, while minibatch method takes a portion of the dataset like ~ 10% and stochastic takes only 1 number of sample\n",
    "- But in my examples, I set the model to stop when loss delta is less than threshold. Batch method, as a result of computing the entire dataset, reaches that loss delta faster within only 1,363 iterations, making me use less time compared to other methods"
   ]
  },
  {
   "cell_type": "markdown",
   "id": "2ab366da",
   "metadata": {},
   "source": [
    "### The model raises 'ValueError' when the method specified for the model is not either 'batch', 'minibatch', or 'stochastic"
   ]
  },
  {
   "cell_type": "code",
   "execution_count": 32,
   "id": "f1a7fcf4",
   "metadata": {},
   "outputs": [],
   "source": [
    "some_other_model = LogisticRegression(method = 'other')"
   ]
  },
  {
   "cell_type": "code",
   "execution_count": 33,
   "id": "29ed1b15",
   "metadata": {},
   "outputs": [
    {
     "ename": "ValueError",
     "evalue": "Method must be one of the followings: \"batch\", \"minibatch\" or \"stochastic\".",
     "output_type": "error",
     "traceback": [
      "\u001b[0;31m---------------------------------------------------------------------------\u001b[0m",
      "\u001b[0;31mValueError\u001b[0m                                Traceback (most recent call last)",
      "\u001b[0;32m/tmp/ipykernel_252/3859269486.py\u001b[0m in \u001b[0;36m<module>\u001b[0;34m\u001b[0m\n\u001b[0;32m----> 1\u001b[0;31m \u001b[0msome_other_model\u001b[0m\u001b[0;34m.\u001b[0m\u001b[0mfit\u001b[0m\u001b[0;34m(\u001b[0m\u001b[0mscaled_X_train\u001b[0m\u001b[0;34m,\u001b[0m \u001b[0mY_train_encoded\u001b[0m\u001b[0;34m)\u001b[0m\u001b[0;34m\u001b[0m\u001b[0;34m\u001b[0m\u001b[0m\n\u001b[0m",
      "\u001b[0;32m/tmp/ipykernel_252/2123992186.py\u001b[0m in \u001b[0;36mfit\u001b[0;34m(self, X_train, y_train)\u001b[0m\n\u001b[1;32m    134\u001b[0m \u001b[0;34m\u001b[0m\u001b[0m\n\u001b[1;32m    135\u001b[0m         \u001b[0;32melse\u001b[0m\u001b[0;34m:\u001b[0m\u001b[0;34m\u001b[0m\u001b[0;34m\u001b[0m\u001b[0m\n\u001b[0;32m--> 136\u001b[0;31m             \u001b[0;32mraise\u001b[0m \u001b[0mValueError\u001b[0m\u001b[0;34m(\u001b[0m\u001b[0;34m'Method must be one of the followings: \"batch\", \"minibatch\" or \"stochastic\".'\u001b[0m\u001b[0;34m)\u001b[0m\u001b[0;34m\u001b[0m\u001b[0;34m\u001b[0m\u001b[0m\n\u001b[0m\u001b[1;32m    137\u001b[0m \u001b[0;34m\u001b[0m\u001b[0m\n\u001b[1;32m    138\u001b[0m \u001b[0;34m\u001b[0m\u001b[0m\n",
      "\u001b[0;31mValueError\u001b[0m: Method must be one of the followings: \"batch\", \"minibatch\" or \"stochastic\"."
     ]
    }
   ],
   "source": [
    "some_other_model.fit(scaled_X_train, Y_train_encoded)"
   ]
  },
  {
   "cell_type": "markdown",
   "id": "6380cbf1",
   "metadata": {},
   "source": [
    "---"
   ]
  },
  {
   "cell_type": "markdown",
   "id": "17aab952",
   "metadata": {},
   "source": [
    "## Task5: Perform a classification using 3 different traning methods and use Sklearn to evaluate the model"
   ]
  },
  {
   "cell_type": "code",
   "execution_count": 36,
   "id": "1c12da77",
   "metadata": {},
   "outputs": [],
   "source": [
    "from sklearn.metrics import classification_report, confusion_matrix, accuracy_score"
   ]
  },
  {
   "cell_type": "code",
   "execution_count": 69,
   "id": "335849fc",
   "metadata": {},
   "outputs": [
    {
     "name": "stdout",
     "output_type": "stream",
     "text": [
      "              precision    recall  f1-score   support\n",
      "\n",
      "           0       1.00      1.00      1.00        36\n",
      "           1       0.91      1.00      0.96        32\n",
      "           2       1.00      0.92      0.96        37\n",
      "\n",
      "    accuracy                           0.97       105\n",
      "   macro avg       0.97      0.97      0.97       105\n",
      "weighted avg       0.97      0.97      0.97       105\n",
      "\n"
     ]
    }
   ],
   "source": [
    "print(classification_report(batch_model.predict(scaled_X_train), y_train))"
   ]
  },
  {
   "cell_type": "code",
   "execution_count": 70,
   "id": "3f181866",
   "metadata": {},
   "outputs": [
    {
     "name": "stdout",
     "output_type": "stream",
     "text": [
      "              precision    recall  f1-score   support\n",
      "\n",
      "           0       1.00      1.00      1.00        36\n",
      "           1       0.74      1.00      0.85        26\n",
      "           2       1.00      0.79      0.88        43\n",
      "\n",
      "    accuracy                           0.91       105\n",
      "   macro avg       0.91      0.93      0.91       105\n",
      "weighted avg       0.94      0.91      0.92       105\n",
      "\n"
     ]
    }
   ],
   "source": [
    "print(classification_report(minibatch_model.predict(scaled_X_train), y_train))"
   ]
  },
  {
   "cell_type": "code",
   "execution_count": 71,
   "id": "84cb5927",
   "metadata": {},
   "outputs": [
    {
     "name": "stdout",
     "output_type": "stream",
     "text": [
      "              precision    recall  f1-score   support\n",
      "\n",
      "           0       1.00      1.00      1.00        36\n",
      "           1       0.89      1.00      0.94        31\n",
      "           2       1.00      0.89      0.94        38\n",
      "\n",
      "    accuracy                           0.96       105\n",
      "   macro avg       0.96      0.96      0.96       105\n",
      "weighted avg       0.97      0.96      0.96       105\n",
      "\n"
     ]
    }
   ],
   "source": [
    "print(classification_report(stochastic_model.predict(scaled_X_train), y_train))"
   ]
  },
  {
   "cell_type": "code",
   "execution_count": 43,
   "id": "9e99775d",
   "metadata": {},
   "outputs": [
    {
     "name": "stdout",
     "output_type": "stream",
     "text": [
      "0.9523809523809523\n"
     ]
    }
   ],
   "source": [
    "print(accuracy_score(stochastic_model.predict(scaled_X_train), y_train))"
   ]
  },
  {
   "cell_type": "markdown",
   "id": "9ba5ee7a",
   "metadata": {},
   "source": [
    "### Accuracy Score on Training set\n",
    "- Batch Method ~ 97%\n",
    "- Minibatch Method ~ 91%\n",
    "- Stochastic Method ~ 96%"
   ]
  },
  {
   "cell_type": "code",
   "execution_count": 72,
   "id": "97a62855",
   "metadata": {},
   "outputs": [],
   "source": [
    "batch_yhat = batch_model.predict(scaled_X_test)\n",
    "minibatch_yhat = minibatch_model.predict(scaled_X_test)\n",
    "stochastic_yhat = stochastic_model.predict(scaled_X_test)"
   ]
  },
  {
   "cell_type": "code",
   "execution_count": 73,
   "id": "82e504bf",
   "metadata": {},
   "outputs": [
    {
     "data": {
      "text/plain": [
       "array([1, 2, 0, 2, 0, 0, 1, 2, 1, 2, 0, 2, 2, 1, 0, 1, 1, 1, 1, 1, 2, 0,\n",
       "       2, 0, 0, 2, 2, 1, 2, 0, 1, 1, 0, 0, 0, 2, 1, 2, 2, 1, 0, 1, 2, 2,\n",
       "       0])"
      ]
     },
     "execution_count": 73,
     "metadata": {},
     "output_type": "execute_result"
    }
   ],
   "source": [
    "y_test"
   ]
  },
  {
   "cell_type": "code",
   "execution_count": 74,
   "id": "f23cda2a",
   "metadata": {},
   "outputs": [
    {
     "name": "stdout",
     "output_type": "stream",
     "text": [
      "==================BATCH METHOD==================\n",
      "\n",
      "              precision    recall  f1-score   support\n",
      "\n",
      "           0       1.00      1.00      1.00        14\n",
      "           1       0.93      0.93      0.93        15\n",
      "           2       0.94      0.94      0.94        16\n",
      "\n",
      "    accuracy                           0.96        45\n",
      "   macro avg       0.96      0.96      0.96        45\n",
      "weighted avg       0.96      0.96      0.96        45\n",
      "\n"
     ]
    }
   ],
   "source": [
    "print('==================BATCH METHOD==================')\n",
    "print()\n",
    "print(classification_report(batch_yhat, y_test))"
   ]
  },
  {
   "cell_type": "code",
   "execution_count": 75,
   "id": "2d03ffd2",
   "metadata": {},
   "outputs": [
    {
     "name": "stdout",
     "output_type": "stream",
     "text": [
      "==================MINIBATCH METHOD==================\n",
      "\n",
      "              precision    recall  f1-score   support\n",
      "\n",
      "           0       1.00      0.82      0.90        17\n",
      "           1       0.47      1.00      0.64         7\n",
      "           2       1.00      0.76      0.86        21\n",
      "\n",
      "    accuracy                           0.82        45\n",
      "   macro avg       0.82      0.86      0.80        45\n",
      "weighted avg       0.92      0.82      0.84        45\n",
      "\n"
     ]
    }
   ],
   "source": [
    "print('==================MINIBATCH METHOD==================')\n",
    "print()\n",
    "print(classification_report(minibatch_yhat, y_test))"
   ]
  },
  {
   "cell_type": "code",
   "execution_count": 76,
   "id": "c4ecf07b",
   "metadata": {},
   "outputs": [
    {
     "name": "stdout",
     "output_type": "stream",
     "text": [
      "==================STOCHASTIC METHOD==================\n",
      "\n",
      "              precision    recall  f1-score   support\n",
      "\n",
      "           0       1.00      1.00      1.00        14\n",
      "           1       0.80      1.00      0.89        12\n",
      "           2       1.00      0.84      0.91        19\n",
      "\n",
      "    accuracy                           0.93        45\n",
      "   macro avg       0.93      0.95      0.93        45\n",
      "weighted avg       0.95      0.93      0.93        45\n",
      "\n"
     ]
    }
   ],
   "source": [
    "print('==================STOCHASTIC METHOD==================')\n",
    "print()\n",
    "print(classification_report(stochastic_yhat, y_test))"
   ]
  },
  {
   "cell_type": "code",
   "execution_count": 80,
   "id": "3b3a43b5",
   "metadata": {},
   "outputs": [
    {
     "data": {
      "text/plain": [
       "Text(0.5, 24.0, 'predicted label')"
      ]
     },
     "execution_count": 80,
     "metadata": {},
     "output_type": "execute_result"
    },
    {
     "data": {
      "image/png": "[encoded data removed]",
      "text/plain": [
       "<Figure size 1584x360 with 6 Axes>"
      ]
     },
     "metadata": {
      "needs_background": "light"
     },
     "output_type": "display_data"
    }
   ],
   "source": [
    "fig, axes = plt.subplots(1,3, figsize = (22,5))\n",
    "\n",
    "\n",
    "sns.heatmap(confusion_matrix(y_true = y_test, y_pred = batch_yhat), annot=True, cmap= 'coolwarm', ax = axes[0])\n",
    "axes[0].set_title(f'Batch method, with accuracy rate of 96% \\n using {round(batch_model.time,5)} seconds',fontsize = 13)\n",
    "axes[0].set_ylabel('true label')\n",
    "axes[0].set_xlabel('predicted label')\n",
    "\n",
    "\n",
    "sns.heatmap(confusion_matrix(y_true = y_test, y_pred = minibatch_yhat), annot=True, cmap= 'coolwarm', ax = axes[1])\n",
    "axes[1].set_title(f'MiniBatch method, with accuracy rate of 82% \\n using {round(minibatch_model.time,5)} seconds',fontsize = 13)\n",
    "axes[1].set_ylabel('true label')\n",
    "axes[1].set_xlabel('predicted label')\n",
    "\n",
    "\n",
    "sns.heatmap(confusion_matrix(y_true = y_test, y_pred = stochastic_yhat), annot=True, cmap= 'coolwarm', ax = axes[2])\n",
    "axes[2].set_title(f'Stochastic method, with accuracy rate of 93%\\n using {round(stochastic_model.time,5)} seconds',fontsize = 13)\n",
    "axes[2].set_ylabel('true label')\n",
    "axes[2].set_xlabel('predicted label')\n"
   ]
  },
  {
   "cell_type": "markdown",
   "id": "14b2c868",
   "metadata": {},
   "source": [
    "---"
   ]
  },
  {
   "cell_type": "markdown",
   "id": "619e1241",
   "metadata": {},
   "source": [
    "## Task 6: Discuss the result ie. time taken and loss"
   ]
  },
  {
   "cell_type": "markdown",
   "id": "bd6ffb21",
   "metadata": {},
   "source": [
    "- Considering both time taken and accuracy score, the model using batch gradient descent is the best one. As it consumes only 0.109 seconds but can yield the accuracy as high as 96%\n",
    "- Between the minibatch and stochastic methods, stochastic is preferred as it is slightly faster and yields the accuracy score around 11% higher than the miniBatch\n",
    "- It is important to note that in general, the batch method usually takes more time to compute as it has to utilize the entire dataset per each calculation epoch. But on this exercise, I have set the model to early stop, in which the batch method takes far fewer times (only around ~1400 iterations) compared to ~8,600 for minibatch and 10,000 for stochastic"
   ]
  },
  {
   "cell_type": "code",
   "execution_count": null,
   "id": "d14eff0d",
   "metadata": {},
   "outputs": [],
   "source": []
  }
 ],
 "metadata": {
  "kernelspec": {
   "display_name": "Python 3 (ipykernel)",
   "language": "python",
   "name": "python3"
  },
  "language_info": {
   "codemirror_mode": {
    "name": "ipython",
    "version": 3
   },
   "file_extension": ".py",
   "mimetype": "text/x-python",
   "name": "python",
   "nbconvert_exporter": "python",
   "pygments_lexer": "ipython3",
   "version": "3.8.3"
  }
 },
 "nbformat": 4,
 "nbformat_minor": 5
}
