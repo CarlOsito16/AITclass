{
 "cells": [
  {
   "cell_type": "markdown",
   "metadata": {
    "id": "F1OE4Z9pSv-l"
   },
   "source": [
    "\n",
    "# Gradient Boositng\n",
    "### Modify the Gradient Boosting scratch code in our lecture such that:\n",
    "- Notice that we are still using max_depth = 1. Attempt to tweak min_samples_split, max_depth for the regression and see whether we can achieve better mse on our boston data\n",
    "- Notice that we only write scratch code for gradient boosting for regression, add some code so that it also works for binary classification. Load the breast cancer data from sklearn and see that it works.\n",
    "- Further change the code so that it works for multiclass classification. Load the digits data from sklearn and see that it works\n",
    "- Put everything into class\n",
    "---"
   ]
  },
  {
   "cell_type": "code",
   "execution_count": 1,
   "metadata": {
    "id": "KnjkDTAB48B1"
   },
   "outputs": [],
   "source": [
    "import numpy as np\n",
    "import matplotlib.pyplot as plt\n",
    "import seaborn as sns\n",
    "from scipy.special import expit\n",
    "from sklearn.tree import DecisionTreeRegressor\n",
    "from sklearn.dummy import DummyRegressor\n",
    "\n",
    "from sklearn.datasets import load_boston\n",
    "from sklearn.model_selection import train_test_split\n",
    "\n",
    "from sklearn.metrics import accuracy_score, confusion_matrix"
   ]
  },
  {
   "cell_type": "code",
   "execution_count": 2,
   "metadata": {
    "id": "j0Ar_CMg5Jky"
   },
   "outputs": [],
   "source": [
    "def grad(y, h):\n",
    "    return y - h # compute gradient \n",
    "\n",
    "def fit(X, y, models):\n",
    "    \n",
    "    models_trained = []\n",
    "\n",
    "    \n",
    "    #using DummyRegressor is a good technique for starting model\n",
    "    first_model = DummyRegressor(strategy='mean')\n",
    "    first_model.fit(X, y)\n",
    "    models_trained.append(first_model)\n",
    "    \n",
    "    #fit the estimators\n",
    "    for i, model in enumerate(models):\n",
    "        #predict using all the weak learners we trained up to\n",
    "        #this point\n",
    "        y_pred = predict(X, models_trained)\n",
    "        J = np.sum((y_pred -y)**2) / len(y)\n",
    "        #errors will be the total errors maded by models_trained\n",
    "        residual = grad(y, y_pred)\n",
    "        \n",
    "        #fit the next model with residual\n",
    "        model.fit(X, residual)\n",
    "        \n",
    "        models_trained.append(model)\n",
    "\n",
    "        if i % 50 ==0:\n",
    "            print(f\"{i}: {J}\")\n",
    "        \n",
    "    return models_trained\n",
    "        \n",
    "def predict(X, models):\n",
    "    learning_rate = 0.1  ##hard code for now\n",
    "    f0 = models[0].predict(X)  #first use the dummy model\n",
    "    boosting = sum(learning_rate * model.predict(X) for model in models[1:])\n",
    "    return f0 + boosting"
   ]
  },
  {
   "cell_type": "code",
   "execution_count": 3,
   "metadata": {
    "colab": {
     "base_uri": "https://localhost:8080/"
    },
    "id": "JsGAfPh-6Fs9",
    "outputId": "5b707780-a805-45cd-b91e-dea1989e163a"
   },
   "outputs": [
    {
     "name": "stdout",
     "output_type": "stream",
     "text": [
      "0: 87.89652941364231\n",
      "50: 14.37923481070949\n",
      "100: 10.080133500472819\n",
      "150: 8.508263360629597\n",
      "Our MSE:  12.945557601580582\n"
     ]
    }
   ],
   "source": [
    "# Regression\n",
    "\n",
    "from sklearn.datasets import load_boston\n",
    "from sklearn.metrics import mean_squared_error\n",
    "from sklearn.ensemble import GradientBoostingRegressor\n",
    "\n",
    "X, y = load_boston(return_X_y=True)\n",
    "\n",
    "X_train, X_test, y_train, y_test = train_test_split(X, y, test_size=0.3, random_state=42)\n",
    "\n",
    "n_estimators = 200\n",
    "tree_params = {'max_depth': 1}\n",
    "models = [DecisionTreeRegressor(**tree_params) for _ in range(n_estimators)]\n",
    "\n",
    "\n",
    "models = fit(X_train, y_train, models)\n",
    "\n",
    "\n",
    "y_pred = predict(X_test, models)\n",
    "\n",
    "print(\"Our MSE: \", mean_squared_error(y_test, y_pred))\n"
   ]
  },
  {
   "cell_type": "code",
   "execution_count": 4,
   "metadata": {
    "colab": {
     "base_uri": "https://localhost:8080/"
    },
    "id": "pzdgTVcT7R22",
    "outputId": "1921c3bb-161d-4977-cd68-52b7696f057c"
   },
   "outputs": [
    {
     "name": "stdout",
     "output_type": "stream",
     "text": [
      "0: 87.89652941364231\n",
      "50: 3.257099763476422\n",
      "100: 1.8434813238112642\n",
      "150: 1.1729599676064384\n",
      "Our MSE:  7.867553420345018\n"
     ]
    }
   ],
   "source": [
    "n_estimators = 200\n",
    "tree_params = {'max_depth': 3, 'min_samples_split': 5}\n",
    "models = [DecisionTreeRegressor(**tree_params) for _ in range(n_estimators)]\n",
    "\n",
    "#fit the models\n",
    "models = fit(X_train, y_train, models)\n",
    "\n",
    "#predict\n",
    "y_pred = predict(X_test, models)\n",
    "\n",
    "#print metrics\n",
    "print(\"Our MSE: \", mean_squared_error(y_test, y_pred))"
   ]
  },
  {
   "cell_type": "markdown",
   "metadata": {
    "id": "syuhEzmQ-2HW"
   },
   "source": [
    "### Some observation from increase max_depth and min_sample_split\n",
    "- Increased max_depth and min_sample_split significantly boost performance in training set as the cost(J) reduces to only 1. It also helps on test set, as compared to the first model, this MSE decreases to 7.5\n",
    "- However, it is important not to overly increase these hyperparameters otherwise the model will be overfitting\n"
   ]
  },
  {
   "cell_type": "markdown",
   "metadata": {
    "id": "MNNURT7KBFf3"
   },
   "source": [
    "## Try on Binary Classification"
   ]
  },
  {
   "cell_type": "code",
   "execution_count": 5,
   "metadata": {
    "id": "DgpQDdkIDT8x"
   },
   "outputs": [],
   "source": [
    "class GradientBoosting:\n",
    "    def __init__(self, S=5, learning_rate=1, max_depth = 1, \n",
    "                 min_samples_split = 2, regression= True, tol=1e-6):\n",
    "        self.S = S\n",
    "        self.learning_rate = learning_rate\n",
    "        self.max_depth = max_depth\n",
    "        self.min_samples_split = min_samples_split\n",
    "        self.regression=regression\n",
    "        self.loss = []\n",
    "\n",
    "            \n",
    "        #initialize regression trees\n",
    "        tree_params = {'max_depth': self.max_depth,\n",
    "                      'min_samples_split': self.min_samples_split}\n",
    "        self.models = [DecisionTreeRegressor(**tree_params) for _ in range(self.S)]        \n",
    "        first_model = DummyRegressor(strategy='mean')\n",
    "        self.models.insert(0, first_model)\n",
    "        \n",
    "    def grad(self, y, h):\n",
    "        return y - h\n",
    "    \n",
    "    def fit(self, X, y, log_loss = False):  \n",
    "\n",
    "        \n",
    "        \n",
    "        #Use the first dummy regressor with mean as first predictor\n",
    "        self.models[0].fit(X, y)\n",
    "        \n",
    "        for i in range(self.S):\n",
    "            #predict\n",
    "            yhat = self.predict(X, self.models[:i+1], with_argmax=False)\n",
    "\n",
    "\n",
    "\n",
    "            if self.regression:\n",
    "                loss =   np.sum((yhat - y)**2) / len(y)\n",
    "                self.loss.append(loss)\n",
    "            else:\n",
    "                # print('using log loss function')\n",
    "                loss = -1 * np.sum( y*np.log(yhat) + (1-y) * np.log(1 - yhat) )\n",
    "                self.loss.append(loss)\n",
    "\n",
    "\n",
    "            \n",
    "            #get the gradient\n",
    "            gradient = self.grad(y, yhat)\n",
    "            \n",
    "            #fit the next model with gradient\n",
    "            self.models[i+1].fit(X, gradient)\n",
    "    \n",
    "    def predict(self, X, models=None, with_argmax=True):\n",
    "        if models is None:\n",
    "            models = self.models\n",
    "        h0 = models[0].predict(X)  #first use the dummy model\n",
    "        boosting = sum(self.learning_rate * model.predict(X) for model in models[1:])\n",
    "        yhat = h0 + boosting\n",
    "        \n",
    "\n",
    "        if not self.regression:\n",
    "            #turn into probability using softmax\n",
    "            yhat = np.exp(yhat) / np.sum(np.exp(yhat), axis=1, keepdims=True)\n",
    "           \n",
    "\n",
    "            if with_argmax:\n",
    "                yhat = np.argmax(yhat, axis=1)\n",
    "\n",
    "\n",
    "        return yhat\n",
    "\n",
    "    \n",
    "    def plot(self):\n",
    "        plt.plot(np.arange(self.S), self.loss, label = f\"alpha = {self.learning_rate}, max_depth: {self.max_depth}, min_split: {self.min_samples_split}\")\n",
    "        plt.xlabel('S or iterations')\n",
    "        plt.ylabel('loss')\n",
    "        plt.legend()\n",
    "\n",
    "            "
   ]
  },
  {
   "cell_type": "markdown",
   "metadata": {
    "id": "uZs21AGMZ2XR"
   },
   "source": [
    "## Gradient Boosting with Linear Regression on boston dataset"
   ]
  },
  {
   "cell_type": "code",
   "execution_count": 6,
   "metadata": {
    "colab": {
     "base_uri": "https://localhost:8080/",
     "height": 330
    },
    "id": "ST0Xj-ujWG3G",
    "outputId": "1c66f45a-1977-4382-d840-e3fae5402bbc"
   },
   "outputs": [
    {
     "name": "stdout",
     "output_type": "stream",
     "text": [
      "MSE:  10.039948719497167\n",
      "MSE:  10.302158489448681\n",
      "MSE:  12.220785949919748\n"
     ]
    },
    {
     "data": {
      "image/png": "[encoded data removed]",
      "text/plain": [
       "<Figure size 432x288 with 1 Axes>"
      ]
     },
     "metadata": {
      "needs_background": "light"
     },
     "output_type": "display_data"
    }
   ],
   "source": [
    "\n",
    "# Regression\n",
    "\n",
    "from sklearn.datasets import load_boston\n",
    "from sklearn.metrics import mean_squared_error\n",
    "\n",
    "X, y = load_boston(return_X_y=True)\n",
    "X_train, X_test, y_train, y_test = train_test_split(X, y, test_size=0.3, random_state=10)\n",
    "\n",
    "reg_model1 = GradientBoosting(S=200, learning_rate=0.1, max_depth = 3, \n",
    "                 min_samples_split = 2, regression=True, tol=1e-4)\n",
    "\n",
    "reg_model1.fit(X_train, y_train)\n",
    "reg_yhat1 = reg_model1.predict(X_test)\n",
    "\n",
    "\n",
    "print(\"MSE: \", mean_squared_error(y_test, reg_yhat1))\n",
    "\n",
    "\n",
    "\n",
    "reg_model2 = GradientBoosting(S=200, learning_rate=0.1, max_depth = 3, \n",
    "                 min_samples_split = 5, regression=True, tol=1e-4)\n",
    "\n",
    "reg_model2.fit(X_train, y_train)\n",
    "reg_yhat2 = reg_model2.predict(X_test)\n",
    "\n",
    "\n",
    "print(\"MSE: \", mean_squared_error(y_test, reg_yhat2))\n",
    "\n",
    "\n",
    "\n",
    "reg_model3 = GradientBoosting(S=200, learning_rate=0.3, max_depth = 4, \n",
    "                 min_samples_split = 5, regression=True, tol=1e-4)\n",
    "\n",
    "reg_model3.fit(X_train, y_train)\n",
    "reg_yhat3 = reg_model3.predict(X_test)\n",
    "\n",
    "\n",
    "print(\"MSE: \", mean_squared_error(y_test, reg_yhat3))\n",
    "\n",
    "\n",
    "reg_model1.plot()\n",
    "reg_model2.plot()\n",
    "reg_model3.plot()"
   ]
  },
  {
   "cell_type": "markdown",
   "metadata": {
    "id": "kuXEQVpdZ9MS"
   },
   "source": [
    "## Gradient Boosting on Binary Classification on breast_cancer"
   ]
  },
  {
   "cell_type": "code",
   "execution_count": 7,
   "metadata": {
    "colab": {
     "base_uri": "https://localhost:8080/",
     "height": 279
    },
    "id": "sP9_Fk3KFo3_",
    "outputId": "b720203e-5e47-430a-ac40-41ac501ed861"
   },
   "outputs": [
    {
     "data": {
      "image/png": "[encoded data removed]",
      "text/plain": [
       "<Figure size 432x288 with 1 Axes>"
      ]
     },
     "metadata": {
      "needs_background": "light"
     },
     "output_type": "display_data"
    }
   ],
   "source": [
    "from sklearn.datasets import load_breast_cancer\n",
    "from sklearn.metrics import accuracy_score\n",
    "\n",
    "X, y = load_breast_cancer(return_X_y=True)\n",
    "\n",
    "X_train, X_test, y_train, y_test = train_test_split(X, y, test_size=0.3, random_state=10)\n",
    "\n",
    "y_train_encoded = np.zeros((y_train.shape[0], len(set(y))))\n",
    "for each_class in range(len(set(y))):\n",
    "    cond = y_train==each_class\n",
    "    y_train_encoded[np.where(cond), each_class] = 1\n",
    "\n",
    "bi_model1 = GradientBoosting(S=200, learning_rate=0.1, max_depth = 3, \n",
    "                 min_samples_split = 5, regression=False)\n",
    "bi_model1.fit(X_train, y_train_encoded)\n",
    "bi_model1_yhat = bi_model1.predict(X_test)\n",
    "\n",
    "\n",
    "\n",
    "bi_model1.plot()\n"
   ]
  },
  {
   "cell_type": "code",
   "execution_count": 8,
   "metadata": {
    "colab": {
     "base_uri": "https://localhost:8080/",
     "height": 282
    },
    "id": "FbovEDwWaFbF",
    "outputId": "f4355f61-5550-4495-dadc-d2a181cf94b4"
   },
   "outputs": [
    {
     "name": "stdout",
     "output_type": "stream",
     "text": [
      "0.9590643274853801\n"
     ]
    },
    {
     "data": {
      "image/png": "[encoded data removed]",
      "text/plain": [
       "<Figure size 432x288 with 2 Axes>"
      ]
     },
     "metadata": {
      "needs_background": "light"
     },
     "output_type": "display_data"
    }
   ],
   "source": [
    "sns.heatmap(confusion_matrix(y_true = y_test , y_pred =bi_model1_yhat),\n",
    "            annot= True, cmap = 'coolwarm', fmt= '.0f' )\n",
    "\n",
    "\n",
    "print(accuracy_score(y_true = y_test , y_pred =bi_model1_yhat))"
   ]
  },
  {
   "cell_type": "markdown",
   "metadata": {
    "id": "fJldNcY9d-WE"
   },
   "source": [
    "## Gradient Boosting on Multi-Class Classification on Iris Data"
   ]
  },
  {
   "cell_type": "code",
   "execution_count": 9,
   "metadata": {
    "colab": {
     "base_uri": "https://localhost:8080/",
     "height": 279
    },
    "id": "LUcQ2-HaeCss",
    "outputId": "ab27b3c9-31b8-4d3a-d11f-b77ea84d09ce"
   },
   "outputs": [
    {
     "data": {
      "image/png": "[encoded data removed]",
      "text/plain": [
       "<Figure size 432x288 with 1 Axes>"
      ]
     },
     "metadata": {
      "needs_background": "light"
     },
     "output_type": "display_data"
    }
   ],
   "source": [
    "from sklearn.datasets import load_iris\n",
    "\n",
    "X, y = load_iris(return_X_y=True)\n",
    "\n",
    "X_train, X_test, y_train, y_test = train_test_split(X, y, test_size=0.3, random_state=10)\n",
    "y_train_encoded = np.zeros((y_train.shape[0], len(set(y))))\n",
    "for each_class in range(len(set(y))):\n",
    "    cond = y_train==each_class\n",
    "    y_train_encoded[np.where(cond), each_class] = 1\n",
    "\n",
    "multi_model1 = GradientBoosting(S=200, learning_rate=0.1, max_depth = 3, \n",
    "                 min_samples_split = 2, regression=False)\n",
    "multi_model1.fit(X_train, y_train_encoded)\n",
    "multi_model1_yhat = multi_model1.predict(X_test)\n",
    "\n",
    "\n",
    "multi_model1.plot()"
   ]
  },
  {
   "cell_type": "code",
   "execution_count": 10,
   "metadata": {
    "colab": {
     "base_uri": "https://localhost:8080/",
     "height": 282
    },
    "id": "O0CQDPgpehgY",
    "outputId": "ea1ab863-60a0-40bf-a517-453b3a061f87"
   },
   "outputs": [
    {
     "name": "stdout",
     "output_type": "stream",
     "text": [
      "0.9777777777777777\n"
     ]
    },
    {
     "data": {
      "image/png": "[encoded data removed]",
      "text/plain": [
       "<Figure size 432x288 with 2 Axes>"
      ]
     },
     "metadata": {
      "needs_background": "light"
     },
     "output_type": "display_data"
    }
   ],
   "source": [
    "sns.heatmap(confusion_matrix(y_true = y_test , y_pred =multi_model1_yhat),\n",
    "            annot= True, cmap = 'coolwarm', fmt= '.0f' )\n",
    "\n",
    "\n",
    "print(accuracy_score(y_true = y_test , y_pred =multi_model1_yhat))"
   ]
  },
  {
   "cell_type": "markdown",
   "metadata": {
    "id": "tU8pXeLyhLUH"
   },
   "source": [
    "---\n",
    "### Gradient Boosting Performance\n",
    "- For every task :linear regression, binary classfication, multi-class classification, Gradient Boosting performs very well with the MSE less than 8 in regression and accuracy rate over 95% for classification\n",
    "- Compared to original regression where we update theta over thousands of iterations, the boosting mehod can achieve very good results witin only a hundred iterations"
   ]
  }
 ],
 "metadata": {
  "colab": {
   "collapsed_sections": [],
   "name": "GradientBoosting.ipynb",
   "provenance": []
  },
  "kernelspec": {
   "display_name": "Python 3 (ipykernel)",
   "language": "python",
   "name": "python3"
  },
  "language_info": {
   "codemirror_mode": {
    "name": "ipython",
    "version": 3
   },
   "file_extension": ".py",
   "mimetype": "text/x-python",
   "name": "python",
   "nbconvert_exporter": "python",
   "pygments_lexer": "ipython3",
   "version": "3.8.3"
  }
 },
 "nbformat": 4,
 "nbformat_minor": 4
}
