{
 "cells": [
  {
   "cell_type": "markdown",
   "metadata": {},
   "source": [
    "Before you turn this problem in, make sure everything runs as expected. First, **restart the kernel** (in the menubar, select Kernel$\\rightarrow$Restart) and then **run all cells** (in the menubar, select Cell$\\rightarrow$Run All).\n",
    "\n",
    "Make sure you fill in any place that says `YOUR CODE HERE` or \"YOUR ANSWER HERE\", as well as your name and collaborators below:"
   ]
  },
  {
   "cell_type": "code",
   "execution_count": 1,
   "metadata": {},
   "outputs": [],
   "source": [
    "NAME = \"Kanawut Kaewnoparat\"\n",
    "ID = \"st122109\""
   ]
  },
  {
   "cell_type": "markdown",
   "metadata": {},
   "source": [
    "---"
   ]
  },
  {
   "cell_type": "markdown",
   "metadata": {},
   "source": [
    "# Lab 05: Optimization Using Newton's Method\n",
    "\n",
    "In this lab, we'll explore an alternative to gradient descent\n",
    "for nonlinear optimization problems: Newton's method.\n",
    "\n",
    "## Newton's method in one dimension"
   ]
  },
  {
   "cell_type": "markdown",
   "metadata": {},
   "source": [
    "Consider the problem of finding the *roots* $\\textbf{x}$ of a nonlinear function $f: \\mathbb{R}^N \\rightarrow \\mathbb{R}$. A root of $f$ is a point $\\mathbf{x}$ that satisfies $f(\\mathbf{x}) = 0$."
   ]
  },
  {
   "cell_type": "markdown",
   "metadata": {},
   "source": [
    "In one dimension, Newton's method for finding zeroes works as follows:\n",
    "\n",
    "1. Pick an initial guess $x_0$\n",
    "\n",
    "2. Let $x_{i+1} = x_i + \\frac{f(x_i)}{f'(x_i)}$\n",
    "\n",
    "3. If not converged, go to #2.\n",
    "\n",
    "Convergence occurs when $|f(x_i)| < \\epsilon_1$ or when $|f(x_{i+1})-f(x_i)| < \\epsilon_2$.\n",
    "\n",
    "Let's see how this works in practice."
   ]
  },
  {
   "cell_type": "markdown",
   "metadata": {},
   "source": [
    "### Example 1: Root finding for a cubic polynomial\n",
    "\n",
    "Let's begin by using Newton's method to find roots of a simple cubic\n",
    "polynomial $$ f(x) = x^3 + x^2 .$$"
   ]
  },
  {
   "cell_type": "code",
   "execution_count": 2,
   "metadata": {},
   "outputs": [],
   "source": [
    "import matplotlib.pyplot as plt\n",
    "import numpy as np\n",
    "from mpl_toolkits.mplot3d import Axes3D\n",
    "import pandas as pd"
   ]
  },
  {
   "cell_type": "markdown",
   "metadata": {},
   "source": [
    "Here's a function to evaluate a polynomial created with Numpy's `poly1d` function\n",
    "at a particular point $x$:"
   ]
  },
  {
   "cell_type": "code",
   "execution_count": 3,
   "metadata": {},
   "outputs": [],
   "source": [
    "def fx(x, p):\n",
    "    f_x = np.polyval(p, x)\n",
    "    return f_x"
   ]
  },
  {
   "cell_type": "code",
   "execution_count": 4,
   "metadata": {},
   "outputs": [
    {
     "data": {
      "text/plain": [
       "24"
      ]
     },
     "execution_count": 4,
     "metadata": {},
     "output_type": "execute_result"
    }
   ],
   "source": [
    "np.polyval([3,5,2], 2)"
   ]
  },
  {
   "cell_type": "code",
   "execution_count": 5,
   "metadata": {},
   "outputs": [
    {
     "data": {
      "text/plain": [
       "33"
      ]
     },
     "execution_count": 5,
     "metadata": {},
     "output_type": "execute_result"
    }
   ],
   "source": [
    "np.polyval([2,1,5, 3], 2)"
   ]
  },
  {
   "cell_type": "code",
   "execution_count": 6,
   "metadata": {},
   "outputs": [
    {
     "data": {
      "text/plain": [
       "10"
      ]
     },
     "execution_count": 6,
     "metadata": {},
     "output_type": "execute_result"
    }
   ],
   "source": [
    "np.polyval([3,5,2], 1)"
   ]
  },
  {
   "cell_type": "markdown",
   "metadata": {},
   "source": [
    "And here's some code to create the polynomial $x^3 + x^2$, get its derivative, and evalute\n",
    "the derivative at 200 points along the $x$ axis:;"
   ]
  },
  {
   "cell_type": "code",
   "execution_count": 7,
   "metadata": {},
   "outputs": [
    {
     "name": "stdout",
     "output_type": "stream",
     "text": [
      "   3     2\n",
      "2 x + 1 x + 1\n"
     ]
    }
   ],
   "source": [
    "print(np.poly1d([2,1,0,1]))"
   ]
  },
  {
   "cell_type": "code",
   "execution_count": 8,
   "metadata": {},
   "outputs": [
    {
     "data": {
      "text/plain": [
       "array([10, 24, 70])"
      ]
     },
     "execution_count": 8,
     "metadata": {},
     "output_type": "execute_result"
    }
   ],
   "source": [
    "np.polyval([3,5,2], [1,2,4])"
   ]
  },
  {
   "cell_type": "code",
   "execution_count": 9,
   "metadata": {},
   "outputs": [
    {
     "name": "stdout",
     "output_type": "stream",
     "text": [
      "f(x):\n",
      "----------\n",
      "   3     2\n",
      "1 x + 1 x\n",
      "----------\n",
      "f'(x):\n",
      "----------\n",
      "   2\n",
      "3 x + 2 x\n",
      "----------\n"
     ]
    }
   ],
   "source": [
    "# Create the polynomial f(x) = x^3 + x^2 \n",
    "p = np.poly1d([1, 1, 0, 0]) # [1 * x^3, 1 * x^2, 0 * x^1, 0 * 1]\n",
    "\n",
    "# Get f'(x) (the derivative of f(x) in polynomial form)\n",
    "# We know it's 2x^2 + 2x, which is [3, 2, 0] in poly1d form\n",
    "p_d = np.polyder(p)\n",
    "\n",
    "print('f(x):')\n",
    "print('----------')\n",
    "print(p)\n",
    "print('----------')\n",
    "print(\"f'(x):\")\n",
    "print('----------')\n",
    "print(p_d)\n",
    "print('----------')\n",
    "\n",
    "# Get 200 points along the x axis between -3 and 3\n",
    "n = 200\n",
    "x = np.linspace(-3, 3, n)  \n",
    "\n",
    "# Get values for f(x) and f'(x) in order to graph them later\n",
    "y = fx(x, p)\n",
    "y_d = fx(x,p_d)"
   ]
  },
  {
   "cell_type": "markdown",
   "metadata": {},
   "source": [
    "Next, let's try three possible guesses for $x_0$: -3, 1, and 3, and in each case, run\n",
    "Newton's root finding method from that initial guess."
   ]
  },
  {
   "cell_type": "code",
   "execution_count": 10,
   "metadata": {},
   "outputs": [
    {
     "data": {
      "image/png": "[encoded data removed]",
      "text/plain": [
       "<Figure size 576x576 with 1 Axes>"
      ]
     },
     "metadata": {
      "needs_background": "light"
     },
     "output_type": "display_data"
    }
   ],
   "source": [
    "# Initial guesses\n",
    "x0_arr = [-3.0, 1.0, 3.0]\n",
    "\n",
    "# Parameters for Newton: number of iterations,\n",
    "# threshold for identifying a point as a zero\n",
    "max_iters = 30\n",
    "threshold = 0.0001\n",
    "\n",
    "# Set up plot\n",
    "fig1 = plt.figure(figsize=(8,8)) \n",
    "ax = plt.axes()\n",
    "plt.plot(x, y, 'g-', label='f(x)')\n",
    "plt.plot(x, y_d, 'b--', label=\"f'(x)\")\n",
    "\n",
    "roots = []\n",
    "for x0 in x0_arr:\n",
    "    i = 0\n",
    "    xi = x0\n",
    "    fxi = fx(xi, p)\n",
    "    # Plot initial data point\n",
    "    plt.plot(xi, fxi, '*', label=(\"iter 0: x=%.4f\" % x0))\n",
    "    while i < max_iters:\n",
    "        # x_i+1 = x_i - f(x_i)/f'(x_i)\n",
    "        xi = xi - fx(xi, p) / fx(xi, p_d) #NEWTON'S METHOD\n",
    "        fxi = fx(xi, p)\n",
    "        # Plot (xi, fxi) and add a legend entry every 5 iterations\n",
    "        if (i+1) % 5 == 0:\n",
    "            plt.plot(xi, fxi, '.', label=(\"iter %d: x=%.4f\" % (i+1, xi)))\n",
    "        else:\n",
    "            plt.plot(xi, fxi, '.')        \n",
    "        # Check if |f(x)| < threshold\n",
    "        if np.abs(fxi) < threshold:\n",
    "            roots.append(xi)\n",
    "            break\n",
    "        i = i + 1\n",
    "    plt.plot(xi, fx(xi, p), 'ko', label=(\"converged at iter %d\" % (i+1)))\n",
    "\n",
    "plt.legend(bbox_to_anchor=(1.5, 1.0), loc='upper right')\n",
    "plt.title('Example 1: Newton root finding for the polynomial x^3 + x^2')\n",
    "\n",
    "plt.show()"
   ]
  },
  {
   "cell_type": "markdown",
   "metadata": {},
   "source": [
    "### Example 2: Root finding for the sine function\n",
    "\n",
    "Next, consider the function $f(x) = \\sin(x)$:"
   ]
  },
  {
   "cell_type": "code",
   "execution_count": 11,
   "metadata": {},
   "outputs": [],
   "source": [
    "def fx_sin(x):  \n",
    "    return np.sin(x)        \n",
    "\n",
    "def fx_dsin(x):    \n",
    "    return np.cos(x)"
   ]
  },
  {
   "cell_type": "markdown",
   "metadata": {},
   "source": [
    "Let's get 200 points in the range $[-\\pi, \\pi]$ for plotting:"
   ]
  },
  {
   "cell_type": "code",
   "execution_count": 12,
   "metadata": {},
   "outputs": [],
   "source": [
    "# Get f(x)=sin(x) and f'(x) at 200 points for plotting\n",
    "n = 200\n",
    "x = np.linspace(-np.pi, np.pi, n)  \n",
    "y = fx_sin(x)\n",
    "y_d = fx_dsin(x)"
   ]
  },
  {
   "cell_type": "code",
   "execution_count": 13,
   "metadata": {},
   "outputs": [
    {
     "data": {
      "image/png": "[encoded data removed]",
      "text/plain": [
       "<Figure size 720x720 with 1 Axes>"
      ]
     },
     "metadata": {
      "needs_background": "light"
     },
     "output_type": "display_data"
    },
    {
     "name": "stdout",
     "output_type": "stream",
     "text": [
      "Roots: 3.141593, -0.000096, -3.141593\n"
     ]
    }
   ],
   "source": [
    "# Initial guesses\n",
    "x0_arr = [2.0, 1.0, -2.0]\n",
    "\n",
    "# Parameters for Newton: number of iterations,\n",
    "# threshold for identifying a point as a zero\n",
    "max_iters = 30\n",
    "threshold = 0.0001\n",
    "\n",
    "# Set up plot\n",
    "fig1 = plt.figure(figsize=(10,10)) \n",
    "ax = plt.axes()\n",
    "ax.set_aspect(aspect='equal', adjustable='box')\n",
    "plt.plot(x, y, 'g-', label='f(x)')\n",
    "plt.plot(x, y_d, 'b--', label='df(x)')\n",
    "\n",
    "roots = []\n",
    "for x0 in x0_arr:\n",
    "    i = 0;\n",
    "    xi = x0\n",
    "    fxi = fx_sin(xi)\n",
    "    # Plot initial data point\n",
    "    plt.plot(xi, fxi, 'bo', label=(\"iter 0: x=%.4f\" % x0))\n",
    "    while i < max_iters:\n",
    "        # x_i+1 = x_i - f(x_i)/f'(x_i)\n",
    "        xi = xi - fx_sin(xi) / fx_dsin(xi)\n",
    "        fxi = fx_sin(xi)\n",
    "        # Plot (xi, fxi) and add a legend entry every 5 iterations\n",
    "        if (i+1) % 5 == 0:\n",
    "            plt.plot(xi, fxi, '.', label=(\"iter %d: x=%.4f\" % (i+1, xi)))\n",
    "        else:\n",
    "            plt.plot(xi, fxi, '.')        \n",
    "        # Check if |f(x)| < threshold        \n",
    "        if np.abs(fxi) < threshold:\n",
    "            roots.append(xi)\n",
    "            break\n",
    "        i = i + 1\n",
    "    plt.plot(xi, fx_sin(xi), 'ko', label=(\"converged at iter %d\" % (i+1)))\n",
    "\n",
    "plt.legend(bbox_to_anchor=(1.5, 1.0), loc='upper right')\n",
    "plt.title('Example 2: Newton root finding for sin(x)')\n",
    "\n",
    "plt.show()\n",
    "\n",
    "print('Roots: %f, %f, %f' % (roots[0], roots[1], roots[2]))"
   ]
  },
  {
   "cell_type": "markdown",
   "metadata": {},
   "source": [
    "Notice that we get some extreme values of x for some cases. For example, when $x_0 = -2$, where\n",
    "the slope is pretty close to 0, the next iteration gives a value less than -4.\n",
    "\n",
    "## Newton's method for optimization\n",
    "\n",
    "Now, consider the problem of minimizing a scalar function $J : \\mathbb{R}^n \\mapsto \\mathbb{R}$.\n",
    "We would like to find\n",
    "$$ \\theta^* = \\text{argmin}_\\theta J(\\theta) $$\n",
    "We already know gradient descent:\n",
    "$$ \\theta^{(i+1)} \\leftarrow \\theta^{(i)} - \\alpha \\nabla_J(\\theta^{(i)}).$$\n",
    "But Newton's method gives us a potentially faster way to find $\\theta^*$ as a zero of\n",
    "the system of equations\n",
    "$$\\nabla_J(\\theta^*) = \\mathbf{0}.$$\n",
    "\n",
    "In one dimension, to find the zero of $f'(x)$, obviously, we would apply Newton's method\n",
    "to $f'(x)$, obtaining the iteration\n",
    "$$x_{i+1} = x_i - f'(x_i) / f''(x_i).$$\n",
    "The multivariate extension of Newton's optimization method is\n",
    "$$\\mathbf{x}_{i+1} = \\mathbf{x}_i - \\mathtt{H}^{-1}_f(\\mathbf{x}_i) \\nabla_f(\\mathbf{x}_i),$$\n",
    "where $\\mathtt{H}_f(\\mathbf{x})$ is the *Hessian* of $f$ evaluated at $\\textbf{x}$:\n",
    "$$\\mathtt{H}_f(\\mathbf{x}) = \\begin{bmatrix}\n",
    "\\frac{\\partial^2 f}{\\partial x_1^2} & \\frac{\\partial^2 f}{\\partial x_1 x_2} & \\cdots & \\frac{\\partial^2 f}{\\partial x_1 x_n} \\\\\n",
    "\\frac{\\partial^2 f}{\\partial x_2 x_1} & \\frac{\\partial^2 f}{\\partial x_2^2} & \\cdots & \\frac{\\partial^2 f}{\\partial x_2 x_n} \\\\\n",
    "\\vdots & \\vdots & \\ddots & \\vdots \\\\\n",
    "\\frac{\\partial^2 f}{\\partial x_n x_1} & \\frac{\\partial^2 f}{\\partial x_n x_2} & \\cdots & \\frac{\\partial^2 f}{\\partial x_n^2}\n",
    "\\end{bmatrix}$$\n",
    "\n",
    "This means, for the minimization of $J(\\theta)$, we would obtain the update rule\n",
    "$$\\theta^{(i+1)} \\leftarrow \\theta^{(i)} - \\mathtt{H}^{-1}_J(\\theta^{(i)}) \\nabla_J(\\theta^{(i)}).$$\n",
    "\n",
    "\n",
    "## Application to logistic regression\n",
    "\n",
    "Let's create some difficult sample data as follows:\n",
    "\n",
    "**Class 1:** Two features $x_1$ and $x_2$ jointly distributed as a two-dimensional spherical Gaussian with parameters\n",
    "\n",
    "$$\\mu = \\begin{bmatrix} x_{1c} \\\\ x_{2c} \\end{bmatrix},\n",
    "\\Sigma = \\begin{bmatrix} \\sigma_1^2 & 0 \\\\ 0 & \\sigma_1^2 \\end{bmatrix}.$$\n",
    "\n",
    "**Class 2:** Two features $x_1$ and $x_2$ in which the data are generated by first sampling an angle $\\theta$ according to a uniform distribution, sampling a distance $d$ according to a one-dimensional Gaussian with a mean of $(3\\sigma_1)^2$ and a variance of $(\\frac{1}{2}\\sigma_1)^2$, then outputting the point $$\\textbf{x} = \\begin{bmatrix} x_{1c} + d \\cos\\theta \\\\ x_{2c} + d \\sin\\theta \\end{bmatrix} .$$\n",
    "\n",
    "Generate 100 samples for each of the classes, guided by the following exercises."
   ]
  },
  {
   "cell_type": "markdown",
   "metadata": {
    "deletable": false,
    "editable": false,
    "nbgrader": {
     "cell_type": "markdown",
     "checksum": "d6f818f47a3e99991ac749fb320f8d54",
     "grade": false,
     "grade_id": "cell-50022a758825425d",
     "locked": true,
     "schema_version": 3,
     "solution": false,
     "task": false
    }
   },
   "source": [
    "### Exercise 1.1 (5 points)\n",
    "\n",
    "Generate data for class 1 with 100 samples:\n",
    "\n",
    "$$\\mu = \\begin{bmatrix} x_{1c} \\\\ x_{2c} \\end{bmatrix},\n",
    "\\Sigma = \\begin{bmatrix} \\sigma_1^2 & 0 \\\\ 0 & \\sigma_1^2 \\end{bmatrix}.$$\n",
    "\n",
    "<details>\n",
    "    <summary><font size=\"3\" color=\"green\"><b>Hint:</b></font></summary>\n",
    "    You can use <a href=\"https://numpy.org/doc/stable/reference/random/generated/numpy.random.multivariate_normal.html\">numpy.random.multivariate_normal</a> to generate samples.\n",
    "</details>"
   ]
  },
  {
   "cell_type": "code",
   "execution_count": 14,
   "metadata": {
    "deletable": false,
    "nbgrader": {
     "cell_type": "code",
     "checksum": "3bc137b252a2076089f9ecd9abbb8d0e",
     "grade": false,
     "grade_id": "cell-1f7e85a2f9bf7a3f",
     "locked": false,
     "schema_version": 3,
     "solution": true,
     "task": false
    }
   },
   "outputs": [
    {
     "name": "stdout",
     "output_type": "stream",
     "text": [
      "covariance matrix:\n",
      " [[1 0]\n",
      " [0 1]]\n",
      "\n",
      "[[ 0.93961715  2.09174582]\n",
      " [ 0.41114958  2.48695983]\n",
      " [ 0.5398311   3.22641907]\n",
      " [-0.24316161  0.87464345]\n",
      " [ 0.67288163  0.98057817]]\n"
     ]
    },
    {
     "data": {
      "text/plain": [
       "array([0.89755737, 1.84060126])"
      ]
     },
     "execution_count": 14,
     "metadata": {},
     "output_type": "execute_result"
    }
   ],
   "source": [
    "mu_1 = np.array([1.0, 2.0])\n",
    "sigma_1 = 1\n",
    "num_sample = 100\n",
    "\n",
    "sigma_vector = np.array([sigma_1, sigma_1])\n",
    "cov_mat = np.diag(sigma_vector)\n",
    "print(f\"covariance matrix:\\n {cov_mat}\")\n",
    "print()\n",
    "\n",
    "X1 = np.random.multivariate_normal(mean = mu_1, cov = cov_mat, size = num_sample)\n",
    "\n",
    "print(X1[:5])\n",
    "X1.mean(axis=0)\n",
    "# YOUR CODE HERE\n",
    "# raise NotImplementedError()"
   ]
  },
  {
   "cell_type": "code",
   "execution_count": 15,
   "metadata": {
    "deletable": false,
    "editable": false,
    "nbgrader": {
     "cell_type": "code",
     "checksum": "35b8655bc30049aa982c39d6354bc5d0",
     "grade": true,
     "grade_id": "cell-7b581fc75971b952",
     "locked": true,
     "points": 5,
     "schema_version": 3,
     "solution": false,
     "task": false
    }
   },
   "outputs": [
    {
     "name": "stdout",
     "output_type": "stream",
     "text": [
      "[[ 0.93961715  2.09174582]\n",
      " [ 0.41114958  2.48695983]\n",
      " [ 0.5398311   3.22641907]\n",
      " [-0.24316161  0.87464345]\n",
      " [ 0.67288163  0.98057817]]\n",
      "success!\n"
     ]
    }
   ],
   "source": [
    "print(X1[:5])\n",
    "\n",
    "# Test function: Do not remove\n",
    "assert X1.shape == (100, 2), 'Size of X1 is incorrect'\n",
    "assert cov_mat.shape == (2, 2), 'Size of x_test is incorrect'\n",
    "count = 0 \n",
    "for i in range(2):\n",
    "    for j in range(2):\n",
    "        if i==j and cov_mat[i,j] != 0:\n",
    "            if cov_mat[i,j] == sigma_1:\n",
    "                count += 1\n",
    "        else:\n",
    "            if cov_mat[i,j] == 0:\n",
    "                count += 1\n",
    "assert count == 4, 'cov_mat data is incorrect'\n",
    "\n",
    "print(\"success!\")\n",
    "# End Test function"
   ]
  },
  {
   "cell_type": "markdown",
   "metadata": {
    "deletable": false,
    "editable": false,
    "nbgrader": {
     "cell_type": "markdown",
     "checksum": "f587183fce35824aced6bf6b8a4a8ceb",
     "grade": false,
     "grade_id": "cell-b655cfedeb043d7c",
     "locked": true,
     "schema_version": 3,
     "solution": false,
     "task": false
    }
   },
   "source": [
    "**Expected result (or something similar):**\\\n",
    "[[-0.48508229  2.65415886]\\\n",
    " [ 1.17230227  1.61743589]\\\n",
    " [-0.61932146  3.53986541]\\\n",
    " [ 0.70583088  1.45944356]\\\n",
    " [-0.93561505  0.2042285 ]]"
   ]
  },
  {
   "cell_type": "markdown",
   "metadata": {
    "deletable": false,
    "editable": false,
    "nbgrader": {
     "cell_type": "markdown",
     "checksum": "d6f17b304047e59b19de774acd8b064a",
     "grade": false,
     "grade_id": "cell-7c8d74ccb9ca619d",
     "locked": true,
     "schema_version": 3,
     "solution": false,
     "task": false
    }
   },
   "source": [
    "### Exercise 1.2 (5 points)\n",
    "\n",
    "Generate data for class 2 with 100 samples:\n",
    "\n",
    "$$\\textbf{x} = \\begin{bmatrix} x_{1c} + d \\cos\\theta \\\\ x_{2c} + d \\sin\\theta \\end{bmatrix}$$\n",
    "\n",
    "where $\\theta$ is sampled uniformly from\n",
    "$[0, 2\\pi]$ and $d$ is sampled from a one-dimensional Gaussian\n",
    "with a mean of $(3\\sigma_1)^2$ and a variance of $(\\frac{1}{2}\\sigma_1)^2$.\n",
    "\n",
    "<details>\n",
    "    <summary><font size=\"3\" color=\"green\"><b>Hint:</b></font></summary>\n",
    "    You can use <a href=\"https://numpy.org/doc/stable/reference/random/generated/numpy.random.uniform.html\">numpy.random.uniform</a> and/or <a href=\"https://numpy.org/doc/stable/reference/random/generated/numpy.random.normal.html\">numpy.random.normal</a> to generate these samples.\n",
    "</details>"
   ]
  },
  {
   "cell_type": "code",
   "execution_count": 16,
   "metadata": {},
   "outputs": [
    {
     "data": {
      "text/plain": [
       "3.141592653589793"
      ]
     },
     "execution_count": 16,
     "metadata": {},
     "output_type": "execute_result"
    }
   ],
   "source": [
    "np.pi"
   ]
  },
  {
   "cell_type": "code",
   "execution_count": 17,
   "metadata": {
    "deletable": false,
    "nbgrader": {
     "cell_type": "code",
     "checksum": "aca654e5371b544bc4e8259b6c8135da",
     "grade": false,
     "grade_id": "cell-fb4864f1714078ca",
     "locked": false,
     "schema_version": 3,
     "solution": true,
     "task": false
    }
   },
   "outputs": [
    {
     "name": "stdout",
     "output_type": "stream",
     "text": [
      "(100,)\n",
      "(100,)\n"
     ]
    }
   ],
   "source": [
    "# 1. Create sample angle from 0 to 2pi with 100 samples\n",
    "angle = np.random.uniform(0, 2*np.pi, size= num_sample)\n",
    "print(angle.shape)\n",
    "\n",
    "\n",
    "# 2. Create sample with normal distribution of d with mean and variance\n",
    "d =  np.random.normal(loc = (3*sigma_1)**2, scale = (sigma_1 /2)**2, size =num_sample)\n",
    "print(d.shape)\n",
    "\n",
    "\n",
    "# 3 Create X2\n",
    "X2 = np.vstack((X1[:, 0] + (d * np.cos(angle)), X1[:, 1] + (d * np.sin(angle)))).T\n",
    "\n",
    "\n",
    "\n",
    "# YOUR CODE HERE\n",
    "# raise NotImplementedError()"
   ]
  },
  {
   "cell_type": "code",
   "execution_count": 18,
   "metadata": {},
   "outputs": [
    {
     "data": {
      "text/plain": [
       "(100,)"
      ]
     },
     "execution_count": 18,
     "metadata": {},
     "output_type": "execute_result"
    }
   ],
   "source": [
    "X1[:, 0].shape"
   ]
  },
  {
   "cell_type": "code",
   "execution_count": 19,
   "metadata": {
    "scrolled": true
   },
   "outputs": [
    {
     "data": {
      "text/plain": [
       "array([[ 2.96008865, -7.06612894],\n",
       "       [-5.48175108,  8.9010257 ],\n",
       "       [ 9.14287679,  0.73877222],\n",
       "       [ 7.89868875,  4.87379543],\n",
       "       [-7.60228533,  5.03025906],\n",
       "       [ 6.33487392,  8.91623875],\n",
       "       [ 0.68080784, -6.70786588],\n",
       "       [-7.59470607, -1.5011998 ],\n",
       "       [-7.25443377,  3.78844097],\n",
       "       [ 5.38799381, -4.83738222],\n",
       "       [ 8.73332188,  8.55823444],\n",
       "       [-7.99497509,  2.44369681],\n",
       "       [ 8.35112927,  9.56425151],\n",
       "       [ 5.64041528, -5.38478839],\n",
       "       [-6.00294295, -3.13119899],\n",
       "       [ 5.71505013, 10.75831802],\n",
       "       [ 1.98128536, 11.89507898],\n",
       "       [-7.82714798, -2.2790989 ],\n",
       "       [ 3.070826  , -8.32430685],\n",
       "       [10.53823534,  2.48982195],\n",
       "       [ 3.93647954, 10.49708356],\n",
       "       [-6.29442054,  6.63731663],\n",
       "       [-8.16166793,  1.56427131],\n",
       "       [-4.77078483,  8.73999081],\n",
       "       [-2.28672369, 11.1264415 ],\n",
       "       [ 6.36392317,  9.00619679],\n",
       "       [ 9.80311426, -3.00724707],\n",
       "       [-1.91448507,  9.97443549],\n",
       "       [-6.10000181,  5.72628506],\n",
       "       [-4.56408541,  6.80233849],\n",
       "       [ 6.94200873, -4.9759712 ],\n",
       "       [-3.50828964, -6.83761767],\n",
       "       [ 1.66319046, -7.05662394],\n",
       "       [ 8.5494541 ,  8.16187663],\n",
       "       [ 4.79984827, -6.92310068],\n",
       "       [ 8.47556971, -4.41761017],\n",
       "       [ 1.47457415, 11.35696446],\n",
       "       [-8.8064449 , -0.05024625],\n",
       "       [-3.19222599, -6.26923287],\n",
       "       [ 6.93778699,  8.89082898],\n",
       "       [-4.0516323 , -6.4752065 ],\n",
       "       [ 8.2223447 ,  8.61843156],\n",
       "       [ 7.69870515,  7.70331835],\n",
       "       [-4.57527108,  7.63321615],\n",
       "       [-8.38435525,  1.67318255],\n",
       "       [-1.12893806,  8.47670486],\n",
       "       [ 7.91848835,  6.2941658 ],\n",
       "       [ 1.39061144, -7.87804416],\n",
       "       [ 8.95658259, -2.99675471],\n",
       "       [10.71916783,  2.922222  ],\n",
       "       [ 9.96650694, -0.99715112],\n",
       "       [ 3.36678814, -7.35659057],\n",
       "       [-1.29727051, -6.02381103],\n",
       "       [-1.89966253, -6.1056425 ],\n",
       "       [-5.74155946,  9.11803404],\n",
       "       [-8.84745901,  2.6033943 ],\n",
       "       [ 4.47796487,  8.73686196],\n",
       "       [ 6.60975967,  8.3842056 ],\n",
       "       [ 7.46008352,  3.57342453],\n",
       "       [ 9.27301918, -2.85873306],\n",
       "       [-1.50957143, -6.71848346],\n",
       "       [ 7.78053374, -3.30588691],\n",
       "       [-4.67476273, -5.89532808],\n",
       "       [-2.21056537, -5.40678576],\n",
       "       [ 6.98008082, -1.31691101],\n",
       "       [ 1.85905295, -6.10904963],\n",
       "       [ 9.82158256,  3.45661419],\n",
       "       [ 6.76404173, -3.93265668],\n",
       "       [ 8.4182352 , -1.29316894],\n",
       "       [-2.30513179,  8.44716296],\n",
       "       [ 7.76308979, -2.99808243],\n",
       "       [ 6.56307976, -3.76381842],\n",
       "       [ 8.6173021 , -3.91876901],\n",
       "       [ 2.59266962, -8.09747415],\n",
       "       [-1.05208527, -6.09779469],\n",
       "       [ 7.88250761,  8.17430896],\n",
       "       [-9.39813043,  1.06528924],\n",
       "       [ 9.43857626,  2.3363296 ],\n",
       "       [-8.07203751, -1.9304691 ],\n",
       "       [ 5.82128112,  9.38601624],\n",
       "       [-3.41405792,  9.7525935 ],\n",
       "       [10.11511579,  4.5104464 ],\n",
       "       [10.91843046, -1.53802303],\n",
       "       [ 8.49961022,  4.05223443],\n",
       "       [ 5.36197447, -5.6762687 ],\n",
       "       [-6.47715822,  5.51433476],\n",
       "       [ 7.2853866 ,  9.87501112],\n",
       "       [ 0.28686481, -7.3834579 ],\n",
       "       [ 3.73685992, -6.76286351],\n",
       "       [ 7.69704719, -4.01015001],\n",
       "       [-2.22176399, 11.01859379],\n",
       "       [ 5.84625407,  7.81957616],\n",
       "       [-8.75984463,  3.0484368 ],\n",
       "       [ 5.85121394, -3.95730919],\n",
       "       [-5.84688946, -1.96234631],\n",
       "       [-0.02772957, -7.83334652],\n",
       "       [ 5.31036742, -4.43395419],\n",
       "       [-7.03039116,  8.11645926],\n",
       "       [-8.86955959,  1.81589595],\n",
       "       [-7.166953  , -2.9941708 ]])"
      ]
     },
     "execution_count": 19,
     "metadata": {},
     "output_type": "execute_result"
    }
   ],
   "source": [
    "np.vstack((X1[:, 0] - (d * np.cos(angle)), X1[:, 1] - (d * np.sin(angle)))).T"
   ]
  },
  {
   "cell_type": "code",
   "execution_count": 20,
   "metadata": {
    "deletable": false,
    "editable": false,
    "nbgrader": {
     "cell_type": "code",
     "checksum": "fe4ad1ae36f3ace8d329be046a579a8c",
     "grade": true,
     "grade_id": "cell-455f74c3a640f73e",
     "locked": true,
     "points": 5,
     "schema_version": 3,
     "solution": false,
     "task": false
    }
   },
   "outputs": [
    {
     "name": "stdout",
     "output_type": "stream",
     "text": [
      "angle: [1.7879443  5.45546526 2.8601113  3.59816315 5.82807172]\n",
      "d: [9.37811149 8.71013887 8.95548893 9.07099465 9.21294217]\n",
      "X2: [[-1.08085435 11.24962057]\n",
      " [ 6.30405024 -3.92710604]\n",
      " [-8.06321458  5.71406592]\n",
      " [-8.38501197 -3.12450854]\n",
      " [ 8.94804858 -3.06910271]]\n",
      "success!\n"
     ]
    }
   ],
   "source": [
    "print('angle:',angle[:5])\n",
    "print('d:', d[:5])\n",
    "print('X2:', X2[:5])\n",
    "\n",
    "# Test function: Do not remove\n",
    "assert angle.shape == (100,) or angle.shape == (100,1) or angle.shape == 100, 'Size of angle is incorrect'\n",
    "assert d.shape == (100,) or d.shape == (100,1) or d.shape == 100, 'Size of d is incorrect'\n",
    "assert X2.shape == (100,2), 'Size of X2 is incorrect'\n",
    "assert angle.min() >= 0 and angle.max() <= 2*np.pi, 'angle generate incorrect'\n",
    "assert d.min() >= 8 and d.max() <= 10, 'd generate incorrect'\n",
    "assert X2[:,0].min() >= -13 and X2[:,0].max() <= 13, 'X2 generate incorrect'\n",
    "assert X2[:,1].min() >= -10 and X2[:,1].max() <= 13.5, 'X2 generate incorrect'\n",
    "\n",
    "print(\"success!\")\n",
    "# End Test function"
   ]
  },
  {
   "cell_type": "markdown",
   "metadata": {
    "deletable": false,
    "editable": false,
    "nbgrader": {
     "cell_type": "markdown",
     "checksum": "8db1e62ea4e7a9f1a08d154feaf5df4d",
     "grade": false,
     "grade_id": "cell-66881e22be066ef8",
     "locked": true,
     "schema_version": 3,
     "solution": false,
     "task": false
    }
   },
   "source": [
    "**Expected result (or something similar):**\\\n",
    "angle: [4.77258271 3.19733552 0.71226709 2.11244845 6.06280915]\\\n",
    "d: [9.13908279 8.84218552 9.24427852 8.74831667 8.85727588]\\\n",
    "X2: [[ 0.064701   -6.46837219]\\\n",
    " [-7.65614929  1.12480234]\\\n",
    " [ 6.37750805  9.58147629]\\\n",
    " [-3.80438416  8.95550952]\\\n",
    " [ 7.70745021 -1.73194274]]"
   ]
  },
  {
   "cell_type": "markdown",
   "metadata": {
    "deletable": false,
    "editable": false,
    "nbgrader": {
     "cell_type": "markdown",
     "checksum": "a700fd4e5bc1979ac7891de66def1232",
     "grade": false,
     "grade_id": "cell-b34a105967a45af1",
     "locked": true,
     "schema_version": 3,
     "solution": false,
     "task": false
    }
   },
   "source": [
    "### Exercise 1.3 (5 points)\n",
    "\n",
    "Combine X1 and X2 into single dataset"
   ]
  },
  {
   "cell_type": "code",
   "execution_count": 21,
   "metadata": {
    "scrolled": true
   },
   "outputs": [
    {
     "data": {
      "text/plain": [
       "(200, 2)"
      ]
     },
     "execution_count": 21,
     "metadata": {},
     "output_type": "execute_result"
    }
   ],
   "source": [
    "np.concatenate((X1, X2)).shape"
   ]
  },
  {
   "cell_type": "code",
   "execution_count": 22,
   "metadata": {},
   "outputs": [
    {
     "data": {
      "text/plain": [
       "array([0, 0, 0, 0, 0, 0, 0, 0, 0, 0, 0, 0, 0, 0, 0, 0, 0, 0, 0, 0, 0, 0,\n",
       "       0, 0, 0, 0, 0, 0, 0, 0, 0, 0, 0, 0, 0, 0, 0, 0, 0, 0, 0, 0, 0, 0,\n",
       "       0, 0, 0, 0, 0, 0, 0, 0, 0, 0, 0, 0, 0, 0, 0, 0, 0, 0, 0, 0, 0, 0,\n",
       "       0, 0, 0, 0, 0, 0, 0, 0, 0, 0, 0, 0, 0, 0, 0, 0, 0, 0, 0, 0, 0, 0,\n",
       "       0, 0, 0, 0, 0, 0, 0, 0, 0, 0, 0, 0, 1, 1, 1, 1, 1, 1, 1, 1, 1, 1,\n",
       "       1, 1, 1, 1, 1, 1, 1, 1, 1, 1, 1, 1, 1, 1, 1, 1, 1, 1, 1, 1, 1, 1,\n",
       "       1, 1, 1, 1, 1, 1, 1, 1, 1, 1, 1, 1, 1, 1, 1, 1, 1, 1, 1, 1, 1, 1,\n",
       "       1, 1, 1, 1, 1, 1, 1, 1, 1, 1, 1, 1, 1, 1, 1, 1, 1, 1, 1, 1, 1, 1,\n",
       "       1, 1, 1, 1, 1, 1, 1, 1, 1, 1, 1, 1, 1, 1, 1, 1, 1, 1, 1, 1, 1, 1,\n",
       "       1, 1])"
      ]
     },
     "execution_count": 22,
     "metadata": {},
     "output_type": "execute_result"
    }
   ],
   "source": [
    "np.concatenate((([0] * 100), ([1]*100)))"
   ]
  },
  {
   "cell_type": "code",
   "execution_count": 23,
   "metadata": {
    "deletable": false,
    "nbgrader": {
     "cell_type": "code",
     "checksum": "095b39ce78731e003c9aa3a564138fa4",
     "grade": false,
     "grade_id": "cell-864aca1038d0ced4",
     "locked": false,
     "schema_version": 3,
     "solution": true,
     "task": false
    }
   },
   "outputs": [],
   "source": [
    "# 1. concatenate X1, X2 together\n",
    "X = np.concatenate((X1, X2))\n",
    "# 2. Create y with class 1 as 0 and class 2 as 1\n",
    "y = np.concatenate((([0] * 100), ([1]*100)))\n",
    "\n",
    "# YOUR CODE HERE\n",
    "# raise NotImplementedError()"
   ]
  },
  {
   "cell_type": "code",
   "execution_count": 24,
   "metadata": {},
   "outputs": [],
   "source": [
    "#alternative method\n",
    "# X = np.concatenate([X1, X2],axis = 0)\n",
    "# y = np.append(np.zeros(num_sample),np.ones(num_sample))"
   ]
  },
  {
   "cell_type": "code",
   "execution_count": 25,
   "metadata": {
    "deletable": false,
    "editable": false,
    "nbgrader": {
     "cell_type": "code",
     "checksum": "dd6eda6ce2e6ed4f03398241cc46f140",
     "grade": true,
     "grade_id": "cell-87dde545f0e24e7f",
     "locked": true,
     "points": 5,
     "schema_version": 3,
     "solution": false,
     "task": false
    }
   },
   "outputs": [
    {
     "name": "stdout",
     "output_type": "stream",
     "text": [
      "shape of X: (200, 2)\n",
      "shape of y: (200,)\n",
      "success!\n"
     ]
    }
   ],
   "source": [
    "print(\"shape of X:\", X.shape)\n",
    "print(\"shape of y:\", y.shape)\n",
    "\n",
    "# Test function: Do not remove\n",
    "assert X.shape == (200, 2), 'Size of X is incorrect'\n",
    "assert y.shape == (200,) or y.shape == (200,1) or y.shape == 200, 'Size of y is incorrect'\n",
    "assert y.min() == 0 and y.max() == 1, 'class type setup is incorrect'\n",
    "\n",
    "print(\"success!\")\n",
    "# End Test function"
   ]
  },
  {
   "cell_type": "markdown",
   "metadata": {
    "deletable": false,
    "editable": false,
    "nbgrader": {
     "cell_type": "markdown",
     "checksum": "0d752b0c9732fb45cef5f3005d4ff519",
     "grade": false,
     "grade_id": "cell-464dd60a9d496b5e",
     "locked": true,
     "schema_version": 3,
     "solution": false,
     "task": false
    }
   },
   "source": [
    "**Expect result (or looked alike):**\\\n",
    "shape of X: (200, 2)\\\n",
    "shape of y: (200, 1)"
   ]
  },
  {
   "cell_type": "markdown",
   "metadata": {
    "deletable": false,
    "editable": false,
    "nbgrader": {
     "cell_type": "markdown",
     "checksum": "9107780f641c550721f39f02312a8ccc",
     "grade": false,
     "grade_id": "cell-a18183378861ae77",
     "locked": true,
     "schema_version": 3,
     "solution": false,
     "task": false
    }
   },
   "source": [
    "### Exercise 1.4 (5 points)\n",
    "\n",
    "Plot the graph between class1 and class2 with **difference color and point style**."
   ]
  },
  {
   "cell_type": "code",
   "execution_count": 26,
   "metadata": {
    "deletable": false,
    "nbgrader": {
     "cell_type": "code",
     "checksum": "1a129f57f4278e192b351dd6a9f518a7",
     "grade": true,
     "grade_id": "cell-f876b37b8f89cfde",
     "locked": false,
     "points": 5,
     "schema_version": 3,
     "solution": true,
     "task": false
    }
   },
   "outputs": [
    {
     "data": {
      "image/png": "[encoded data removed]",
      "text/plain": [
       "<Figure size 576x576 with 1 Axes>"
      ]
     },
     "metadata": {
      "needs_background": "light"
     },
     "output_type": "display_data"
    }
   ],
   "source": [
    "fig1 = plt.figure(figsize=(8,8))\n",
    "ax = plt.axes() \n",
    "plt.title('Sample data for classification problem')\n",
    "plt.grid(axis='both', alpha=.25)\n",
    "\n",
    "\n",
    "plt.scatter(X1[:, 0], X1[:, 1], marker = '.', label = 'class1')\n",
    "plt.scatter(X2[:, 0], X2[:, 1], marker = '*', label = 'class2')\n",
    "\n",
    "\n",
    "plt.legend()\n",
    "plt.axis('equal')\n",
    "plt.show()"
   ]
  },
  {
   "attachments": {
    "lab05-1.png": {
     "image/png": "[encoded data removed]"
    }
   },
   "cell_type": "markdown",
   "metadata": {
    "deletable": false,
    "editable": false,
    "nbgrader": {
     "cell_type": "markdown",
     "checksum": "56fa34ab857aa78ab0332e3162920405",
     "grade": false,
     "grade_id": "cell-6cfc4aa21d1608ac",
     "locked": true,
     "schema_version": 3,
     "solution": false,
     "task": false
    }
   },
   "source": [
    "**Expect result (or looked alike):**\n",
    "\n",
    "![lab05-1.png](attachment:lab05-1.png)"
   ]
  },
  {
   "cell_type": "markdown",
   "metadata": {
    "deletable": false,
    "editable": false,
    "nbgrader": {
     "cell_type": "markdown",
     "checksum": "e4a772e6e73a848d98964f7bc84bdaac",
     "grade": false,
     "grade_id": "cell-ec4b08d139fea134",
     "locked": true,
     "schema_version": 3,
     "solution": false,
     "task": false
    }
   },
   "source": [
    "### Exercise 1.5 (5 points)\n",
    "\n",
    "Split data into training and test datasets with 80% of training set and 20% of test set"
   ]
  },
  {
   "cell_type": "code",
   "execution_count": 27,
   "metadata": {},
   "outputs": [],
   "source": [
    "all_idx = np.arange(len(X))\n",
    "np.random.seed(16)\n",
    "np.random.shuffle(all_idx)"
   ]
  },
  {
   "cell_type": "code",
   "execution_count": 28,
   "metadata": {},
   "outputs": [
    {
     "data": {
      "text/plain": [
       "array([154,   0, 174,  59, 112, 170,  73,   7,  29,  32,  90,  96,  54,\n",
       "       134,  56,  81,  72, 187,  51, 100,  79, 171, 113, 118,  47,  52,\n",
       "       180,  39, 135, 105, 124,  19,  71,  99, 153, 189,   9, 142, 155,\n",
       "       156,  45, 195, 178, 104, 190, 183,  82, 166,  20, 177,  83, 131,\n",
       "        61,  77, 181,  48, 102,  11,  53,   2,  42,   1,  60, 193,  87,\n",
       "       117, 157, 122, 167,  66, 163, 149,  26, 147,  78,  35, 126,  13,\n",
       "        63,   5,  75,  70, 136,  55,  50, 141,  94,  95, 103, 132,  67,\n",
       "       194, 182, 197,  49, 172,  76, 140,  34,  89, 138,  25,  10,  43,\n",
       "       133,  30,  84, 111,  17, 164, 173, 161,   3,  68,  98, 109, 179,\n",
       "        86, 176, 151,  57,  33,  38, 198,  97, 137,  64, 139, 152, 106,\n",
       "        91, 150, 188, 130, 192,  36,  80,  27, 143,  22, 184,  23,  92,\n",
       "        62,  24, 129,  12, 199,   6,  46, 191, 119, 107,  88, 185,  44,\n",
       "       148,  18,  21,  16, 168, 186,  15,  85,  37,  14, 108, 127,  40,\n",
       "       145, 165,   8, 115, 114, 175,  28, 101, 128,  93, 162,  74,  31,\n",
       "       196, 160, 116, 146, 110,  58, 120, 158, 144,  41,   4, 159, 125,\n",
       "       123,  65,  69, 121, 169])"
      ]
     },
     "execution_count": 28,
     "metadata": {},
     "output_type": "execute_result"
    }
   ],
   "source": [
    "all_idx"
   ]
  },
  {
   "cell_type": "code",
   "execution_count": 29,
   "metadata": {
    "deletable": false,
    "nbgrader": {
     "cell_type": "code",
     "checksum": "6cf1aa8b4b356e3f6fe51437d452318b",
     "grade": false,
     "grade_id": "cell-8fd6c18d27f17861",
     "locked": false,
     "schema_version": 3,
     "solution": true,
     "task": false
    }
   },
   "outputs": [],
   "source": [
    "train_size = 0.8\n",
    "m = len(X)\n",
    "start_stop_idx = round(train_size * m )\n",
    "\n",
    "idx_train = all_idx[: start_stop_idx]\n",
    "idx_test =  all_idx[start_stop_idx: ]\n",
    "\n",
    "X_train = X[idx_train]\n",
    "X_test = X[idx_test]\n",
    "y_train = y[idx_train]\n",
    "y_test = y[idx_test]\n",
    "\n",
    "# YOUR CODE HERE\n",
    "# raise NotImplementedError()"
   ]
  },
  {
   "cell_type": "code",
   "execution_count": 30,
   "metadata": {
    "deletable": false,
    "editable": false,
    "nbgrader": {
     "cell_type": "code",
     "checksum": "062a2a08707951a55b96660dfe2dfde0",
     "grade": true,
     "grade_id": "cell-f2a88da40a7eee4b",
     "locked": true,
     "points": 5,
     "schema_version": 3,
     "solution": false,
     "task": false
    }
   },
   "outputs": [
    {
     "name": "stdout",
     "output_type": "stream",
     "text": [
      "idx_train: [154   0 174  59 112 170  73   7  29  32]\n",
      "train size, X: (160, 2) , y: (160,)\n",
      "test size,  X: (40, 2) , y: (40,)\n",
      "success!\n"
     ]
    }
   ],
   "source": [
    "print('idx_train:', idx_train[:10])\n",
    "print(\"train size, X:\", X_train.shape, \", y:\", y_train.shape)\n",
    "print(\"test size,  X:\", X_test.shape,  \", y:\", y_test.shape)\n",
    "\n",
    "# Test function: Do not remove\n",
    "assert X_train.shape == (160, 2), 'Size of X_train is incorrect'\n",
    "assert y_train.shape == (160,) or y_train.shape == (160,1) or y.shape == 160, 'Size of y_train is incorrect'\n",
    "assert X_test.shape == (40, 2), 'Size of X_test is incorrect'\n",
    "assert y_test.shape == (40,) or y_test.shape == (40,1) or y.shape == 40, 'Size of y_test is incorrect'\n",
    "\n",
    "print(\"success!\")\n",
    "# End Test function"
   ]
  },
  {
   "cell_type": "markdown",
   "metadata": {},
   "source": [
    "**Expected reult (or something similar):**\\\n",
    "idx_train: [ 78  61  28 166  80 143   6  76  98 133]\\\n",
    "train size, X: (160, 2) , y: (160, 1) \\\n",
    "test size,  X: (40, 2) , y: (40, 1)"
   ]
  },
  {
   "cell_type": "markdown",
   "metadata": {
    "deletable": false,
    "editable": false,
    "nbgrader": {
     "cell_type": "markdown",
     "checksum": "ba62d143f784e7943eae06f5b7273d6f",
     "grade": false,
     "grade_id": "cell-73c5609878c04f15",
     "locked": true,
     "schema_version": 3,
     "solution": false,
     "task": false
    }
   },
   "source": [
    "### Exercise 1.6 (5 points)\n",
    "\n",
    "Write a function to normalize your $\\mathtt{X}$ data"
   ]
  },
  {
   "cell_type": "markdown",
   "metadata": {
    "deletable": false,
    "editable": false,
    "nbgrader": {
     "cell_type": "markdown",
     "checksum": "78b337d80aff79918aa6227e78b5bdd6",
     "grade": false,
     "grade_id": "cell-dabfde322d4fe74b",
     "locked": true,
     "schema_version": 3,
     "solution": false,
     "task": false
    }
   },
   "source": [
    "#### Practice yourself (No grade, but has extra score 3 points)\n",
    "\n",
    "Try to use Jupyter notebook's LaTeX equation capabilities to write the normalization equations for your dataset."
   ]
  },
  {
   "cell_type": "markdown",
   "metadata": {
    "deletable": false,
    "nbgrader": {
     "cell_type": "markdown",
     "checksum": "69081ff52a7bc8eebb1acd3c58dc2b23",
     "grade": true,
     "grade_id": "cell-0f43cf436ad191b1",
     "locked": false,
     "points": 0,
     "schema_version": 3,
     "solution": true,
     "task": false
    }
   },
   "source": [
    "**Normalization Function** $$ \\bar{X} = \\frac{X - \\mu}{\\sigma}$$\n",
    "where $\\bar{X}$ is  the output normalizedX is the original input \n",
    "\n",
    "X is the original input X,\n",
    "\n",
    "${\\mu}$ is the mean,\n",
    "\n",
    "and ${\\sigma}$ is the standard deviation"
   ]
  },
  {
   "cell_type": "code",
   "execution_count": 31,
   "metadata": {},
   "outputs": [
    {
     "data": {
      "text/plain": [
       "array([0.5046732 , 2.14205036])"
      ]
     },
     "execution_count": 31,
     "metadata": {},
     "output_type": "execute_result"
    }
   ],
   "source": [
    "X.mean(axis= 0)"
   ]
  },
  {
   "cell_type": "code",
   "execution_count": 32,
   "metadata": {},
   "outputs": [
    {
     "data": {
      "text/plain": [
       "array([4.49453967, 4.65625837])"
      ]
     },
     "execution_count": 32,
     "metadata": {},
     "output_type": "execute_result"
    }
   ],
   "source": [
    "X.std(axis= 0)"
   ]
  },
  {
   "cell_type": "code",
   "execution_count": 33,
   "metadata": {},
   "outputs": [],
   "source": [
    "a = (X - X.mean(axis= 0)) / X.std(axis= 0)"
   ]
  },
  {
   "cell_type": "code",
   "execution_count": 34,
   "metadata": {},
   "outputs": [
    {
     "data": {
      "text/plain": [
       "array([-4.32986980e-17, -9.76996262e-17])"
      ]
     },
     "execution_count": 34,
     "metadata": {},
     "output_type": "execute_result"
    }
   ],
   "source": [
    "a.mean(axis=0)"
   ]
  },
  {
   "cell_type": "code",
   "execution_count": 35,
   "metadata": {},
   "outputs": [
    {
     "data": {
      "text/plain": [
       "array([1., 1.])"
      ]
     },
     "execution_count": 35,
     "metadata": {},
     "output_type": "execute_result"
    }
   ],
   "source": [
    "a.std(axis=0)"
   ]
  },
  {
   "cell_type": "code",
   "execution_count": 36,
   "metadata": {
    "deletable": false,
    "nbgrader": {
     "cell_type": "code",
     "checksum": "86219fbdc121e084b6b19814fdcffe3e",
     "grade": false,
     "grade_id": "cell-a2de55c05363554b",
     "locked": false,
     "schema_version": 3,
     "solution": true,
     "task": false
    }
   },
   "outputs": [],
   "source": [
    "def normalization(X):\n",
    "    \"\"\"\n",
    "    Take in numpy array of X values and return normalize X values,\n",
    "    the mean and standard deviation of each feature\n",
    "    \"\"\"\n",
    "    X_mean = np.mean(X, axis= 0)\n",
    "    X_std  = np.std(X, axis = 0)\n",
    "    X_norm = (X - X_mean) / X_std\n",
    "    \n",
    "    return X_norm\n",
    "    # YOUR CODE HERE\n",
    "#     raise NotImplementedError()\n",
    "    "
   ]
  },
  {
   "cell_type": "code",
   "execution_count": 37,
   "metadata": {},
   "outputs": [],
   "source": [
    "X_norm = normalization(X)"
   ]
  },
  {
   "cell_type": "code",
   "execution_count": 38,
   "metadata": {},
   "outputs": [
    {
     "data": {
      "text/plain": [
       "array([-4.32986980e-17, -9.76996262e-17])"
      ]
     },
     "execution_count": 38,
     "metadata": {},
     "output_type": "execute_result"
    }
   ],
   "source": [
    "X_norm.mean(axis = 0)"
   ]
  },
  {
   "cell_type": "code",
   "execution_count": 39,
   "metadata": {},
   "outputs": [
    {
     "data": {
      "text/plain": [
       "-2.442884229663548"
      ]
     },
     "execution_count": 39,
     "metadata": {},
     "output_type": "execute_result"
    }
   ],
   "source": [
    "X_norm[:, 0].min()"
   ]
  },
  {
   "cell_type": "code",
   "execution_count": 40,
   "metadata": {},
   "outputs": [
    {
     "data": {
      "text/plain": [
       "2.349357093561492"
      ]
     },
     "execution_count": 40,
     "metadata": {},
     "output_type": "execute_result"
    }
   ],
   "source": [
    "X_norm[:, 0].max()"
   ]
  },
  {
   "cell_type": "code",
   "execution_count": 41,
   "metadata": {
    "deletable": false,
    "editable": false,
    "nbgrader": {
     "cell_type": "code",
     "checksum": "a0dbae16c61f3b33c0d308018578cefd",
     "grade": true,
     "grade_id": "cell-d5d9e2de3d304752",
     "locked": true,
     "points": 5,
     "schema_version": 3,
     "solution": false,
     "task": false
    }
   },
   "outputs": [
    {
     "name": "stdout",
     "output_type": "stream",
     "text": [
      "(160, 2)\n",
      "(160, 3)\n",
      "(40, 2)\n",
      "(40, 3)\n",
      "success!\n"
     ]
    }
   ],
   "source": [
    "XX = normalization(X)\n",
    "\n",
    "X_train_norm = XX[idx_train]\n",
    "X_test_norm = XX[idx_test]\n",
    "\n",
    "# Add 1 at the first column of training dataset (for bias) and use it when training\n",
    "X_design_train = np.insert(X_train_norm,0,1,axis=1)\n",
    "X_design_test = np.insert(X_test_norm,0,1,axis=1)\n",
    "\n",
    "m,n = X_design_train.shape\n",
    "\n",
    "print(X_train_norm.shape)\n",
    "print(X_design_train.shape)\n",
    "print(X_test_norm.shape)\n",
    "print(X_design_test.shape)\n",
    "\n",
    "# Test function: Do not remove\n",
    "assert XX[:,0].min() >= -2.5 and XX[:,0].max() <= 2.5, 'Does the XX is normalized?'\n",
    "assert XX[:,1].min() >= -2.5 and XX[:,1].max() <= 2.5, 'Does the XX is normalized?'\n",
    "\n",
    "print(\"success!\")\n",
    "# End Test function"
   ]
  },
  {
   "cell_type": "markdown",
   "metadata": {
    "deletable": false,
    "editable": false,
    "nbgrader": {
     "cell_type": "markdown",
     "checksum": "33d1ba297d9382342b58dbb83363523f",
     "grade": false,
     "grade_id": "cell-5614c7ca7c3f7289",
     "locked": true,
     "schema_version": 3,
     "solution": false,
     "task": false
    }
   },
   "source": [
    "### Exercise 1.7 (10 points)\n",
    "\n",
    "define class for logistic regression: batch gradient descent\n",
    "\n",
    "The class includes:\n",
    "\n",
    " - **Sigmoid** function $$sigmoid(z) = \\frac{1}{1+e^{-z}}$$\n",
    " - **Softmax** function $$softmax(z) = \\frac{e^{z_i}}{\\sum_n{e^z}}$$\n",
    " - **Hyperthesis (h)** function $$\\hat{y} = h(X;\\theta) = softmax(\\theta . X)$$\n",
    " - **Gradient (Negative likelihood)** function $$gradient = - X . \\frac{y-\\hat{y}}{n}$$\n",
    " - **Cost** function $$cost = \\frac{\\sum{((-y\\log{\\hat{y}}) - ((1-y)\\log{(1 - \\hat{y})})})}{n}$$\n",
    " - **Gradient ascent** function\n",
    " - **Prediction** function\n",
    " - **Get accuracy** funciton"
   ]
  },
  {
   "cell_type": "code",
   "execution_count": 42,
   "metadata": {
    "deletable": false,
    "nbgrader": {
     "cell_type": "code",
     "checksum": "5e20cd9a5dd14b9ffd948c3382e2aeac",
     "grade": false,
     "grade_id": "cell-f7a5eae7b1379f3b",
     "locked": false,
     "schema_version": 3,
     "solution": true,
     "task": false
    }
   },
   "outputs": [],
   "source": [
    "class Logistic_BGD:\n",
    "    def __init__(self):\n",
    "        pass\n",
    "    \n",
    "    def sigmoid(self,z):\n",
    "        s = 1 / (1+ np.exp(-1 * z))\n",
    "        return s\n",
    "\n",
    "    def softmax(self, z):\n",
    "        sm = np.exp(z) / np.exp(z).sum()\n",
    "\n",
    "        return sm\n",
    "    \n",
    "    def h(self,X, theta):\n",
    "        hf = np.dot(X, theta)\n",
    "        yhat = self.sigmoid(hf)\n",
    "        return yhat\n",
    "    \n",
    "    def gradient(self, X, y, y_pred):\n",
    "        \n",
    "        error =  (y - y_pred) / len(y)\n",
    "        grad = -1 * (np.dot(X.T, error))\n",
    "\n",
    "        return grad\n",
    "        \n",
    "    def costFunc(self, theta, X, y):\n",
    "        yhat = self.h(X, theta)\n",
    "        error = -1*(y * np.log(yhat)) - ((1-y)*np.log(1-yhat))\n",
    "        cost = np.sum(error) / len(yhat)\n",
    "        grad = self.gradient(X, y , yhat)\n",
    "        \n",
    "        return cost, grad\n",
    "    \n",
    "    def gradientAscent(self, X, y, theta, alpha, num_iters):\n",
    "        m = len(y)\n",
    "        J_history = []\n",
    "        theta_history = []\n",
    "        for i in range(num_iters):\n",
    "            # 1. calculate cost, grad function\n",
    "            cost, grad = self.costFunc(theta, X,y)\n",
    "            # 2. update new theta\n",
    "            theta = theta - (grad * alpha)\n",
    "            \n",
    "            \n",
    "            J_history.append(cost)\n",
    "            theta_history.append(theta)\n",
    "        J_min_index = np.argmin(J_history)\n",
    "        print(\"Minimum at iteration:\",J_min_index)\n",
    "        return theta_history[J_min_index] , J_history\n",
    "\n",
    "    def predict(self,X, theta):\n",
    "        labels=[]\n",
    "        # 1. take y_predict from hyperthesis function\n",
    "        # 2. classify y_predict that what it should be class1 or class2\n",
    "        # 3. append the output from prediction\n",
    "        for i in range(X.shape[0]):\n",
    "            y1= self.h(X[i], theta)\n",
    "            if y1 >=  0.5:\n",
    "                labels.append(1)\n",
    "            else:\n",
    "                labels.append(0)\n",
    "        \n",
    "        labels=np.asarray(labels)\n",
    "        return labels\n",
    "    \n",
    "     \n",
    "    def getAccuracy(self,X,y,theta):\n",
    "        y = y.ravel()\n",
    "        yhat = self.predict(X,theta)\n",
    "        correct_match = np.sum(yhat == y)\n",
    "        percent_correct = (correct_match / len(y)) * 100\n",
    "\n",
    "        return percent_correct"
   ]
  },
  {
   "cell_type": "code",
   "execution_count": 43,
   "metadata": {
    "deletable": false,
    "editable": false,
    "nbgrader": {
     "cell_type": "code",
     "checksum": "214f489b58f898a58b6c8b642f838518",
     "grade": true,
     "grade_id": "cell-2f157f42f53c4fe7",
     "locked": true,
     "points": 10,
     "schema_version": 3,
     "solution": false,
     "task": false
    }
   },
   "outputs": [
    {
     "name": "stdout",
     "output_type": "stream",
     "text": [
      "out_x1 [[0.73105858 0.88079708 0.95257413 0.98201379 0.99330715]]\n",
      "out_x1 [[0.16681682 0.19376282 0.20818183 0.21440174 0.21683678]]\n",
      "test_y_p [[0.66818777 0.9168273  0.84553473 0.85814894 0.84553473 0.85814894]]\n",
      "test_g [[0.9746016  0.73165696]]\n",
      "test_c 0.8719249134773479\n",
      "Minimum at iteration: 2\n",
      "test_t_out [[0.29708373 0.19781153]]\n",
      "test_j [0.8719249134773479, 0.870441756946089, 0.8689666485816598]\n",
      "test_l [1 1 1 1 1 1]\n",
      "test_a 50.0\n",
      "success!\n"
     ]
    }
   ],
   "source": [
    "# Test function: Do not remove\n",
    "lbgd = Logistic_BGD()\n",
    "test_x = np.array([[1,2,3,4,5]]).T\n",
    "out_x1 = lbgd.sigmoid(test_x)\n",
    "out_x2 = lbgd.sigmoid(test_x.T)\n",
    "print('out_x1', out_x1.T)\n",
    "assert np.array_equal(np.round(out_x1.T, 5), np.round([[0.73105858, 0.88079708, 0.95257413, 0.98201379, 0.99330715]], 5)), \"sigmoid function is incorrect\"\n",
    "assert np.array_equal(np.round(out_x2, 5), np.round([[0.73105858, 0.88079708, 0.95257413, 0.98201379, 0.99330715]], 5)), \"sigmoid function is incorrect\"\n",
    "out_x1 = lbgd.softmax(out_x1)\n",
    "out_x2 = lbgd.softmax(out_x2)\n",
    "print('out_x1', out_x1.T)\n",
    "assert np.array_equal(np.round(out_x1.T, 5), np.round([[0.16681682, 0.19376282, 0.20818183, 0.21440174, 0.21683678]], 5)), \"softmax function is incorrect\"\n",
    "assert np.array_equal(np.round(out_x2, 5), np.round([[0.16681682, 0.19376282, 0.20818183, 0.21440174, 0.21683678]], 5)), \"softmax function is incorrect\"\n",
    "test_t = np.array([[0.3, 0.2]]).T\n",
    "test_x = np.array([[1,2,3,4,5, 6], [2, 9, 4, 3, 1, 0]]).T\n",
    "test_y = np.array([[0,1,0,1,0,1]]).T\n",
    "test_y_p = lbgd.h(test_x, test_t)\n",
    "print('test_y_p', test_y_p.T)\n",
    "assert np.array_equal(np.round(test_y_p.T, 5), np.round([[0.66818777, 0.9168273, 0.84553473, 0.85814894, 0.84553473, 0.85814894]], 5)), \"hyperthesis function is incorrect\"\n",
    "test_g = lbgd.gradient(test_x, test_y, test_y_p)\n",
    "print('test_g', test_g.T)\n",
    "assert np.array_equal(np.round(test_g.T, 5), np.round([[0.9746016, 0.73165696]], 5)), \"gradient function is incorrect\"\n",
    "test_c, test_g = lbgd.costFunc(test_t, test_x, test_y)\n",
    "print('test_c', test_c.T)\n",
    "assert np.round(test_c, 5) == np.round(0.87192491, 5), \"costFunc function is incorrect\"\n",
    "test_t_out , test_j = lbgd.gradientAscent(test_x, test_y, test_t, 0.001, 3)\n",
    "print('test_t_out', test_t_out.T)\n",
    "print('test_j', test_j)\n",
    "assert np.array_equal(np.round(test_t_out.T, 5), np.round([[0.29708373, 0.19781153]], 5)), \"gradientAscent function is incorrect\"\n",
    "assert np.round(test_j[2], 5) == np.round(0.86896665, 5), \"gradientAscent function is incorrect\"\n",
    "test_l = lbgd.predict(test_x, test_t)\n",
    "print('test_l', test_l)\n",
    "assert np.array_equal(np.round(test_l, 1), np.round([1,1,1,1,1,1], 1)), \"gradientAscent function is incorrect\"\n",
    "test_a = lbgd.getAccuracy(test_x,test_y,test_t)\n",
    "print('test_a', test_a)\n",
    "assert np.round(test_a, 1) == 50.0, \"getAccuracy function is incorrect\"\n",
    "\n",
    "print(\"success!\")\n",
    "# End Test function"
   ]
  },
  {
   "cell_type": "markdown",
   "metadata": {
    "deletable": false,
    "editable": false,
    "nbgrader": {
     "cell_type": "markdown",
     "checksum": "e0be8e9c4b0a13365f68b05ac024e396",
     "grade": false,
     "grade_id": "cell-3df071da796adf3b",
     "locked": true,
     "schema_version": 3,
     "solution": false,
     "task": false
    }
   },
   "source": [
    "**Expected result:**\\\n",
    "out_x1 [[0.73105858 0.88079708 0.95257413 0.98201379 0.99330715]]\\\n",
    "out_x1 [[0.16681682 0.19376282 0.20818183 0.21440174 0.21683678]]\\\n",
    "test_y_p [[0.66818777 0.9168273  0.84553473 0.85814894 0.84553473 0.85814894]]\\\n",
    "test_g [[0.9746016  0.73165696]]\\\n",
    "test_c [0.87192491]\\\n",
    "Minimum at iteration: 2\\\n",
    "test_t_out [[0.29708373 0.19781153]]\\\n",
    "test_j [array([0.87192491]), array([0.87044176]), array([0.86896665])]\\\n",
    "test_l [1 1 1 1 1 1]\\\n",
    "test_a 50.0"
   ]
  },
  {
   "cell_type": "markdown",
   "metadata": {},
   "source": [
    "### Exercise 1.8 (5 points)\n",
    "\n",
    "Training the data using Logistic_BGD class.\n",
    " - Input: X_design_train\n",
    " - Output: y_train\n",
    " - Use 50,000 iterations\n",
    " \n",
    "Find the initial_theta yourself"
   ]
  },
  {
   "cell_type": "code",
   "execution_count": 44,
   "metadata": {},
   "outputs": [],
   "source": [
    "m, n = X_design_train.shape"
   ]
  },
  {
   "cell_type": "code",
   "execution_count": 45,
   "metadata": {},
   "outputs": [
    {
     "data": {
      "text/plain": [
       "3"
      ]
     },
     "execution_count": 45,
     "metadata": {},
     "output_type": "execute_result"
    }
   ],
   "source": [
    "n"
   ]
  },
  {
   "cell_type": "code",
   "execution_count": 46,
   "metadata": {},
   "outputs": [
    {
     "data": {
      "text/plain": [
       "array([1, 0, 1, 0, 1, 1, 0, 0, 0, 0, 0, 0, 0, 1, 0, 0, 0, 1, 0, 1, 0, 1,\n",
       "       1, 1, 0, 0, 1, 0, 1, 1, 1, 0, 0, 0, 1, 1, 0, 1, 1, 1, 0, 1, 1, 1,\n",
       "       1, 1, 0, 1, 0, 1, 0, 1, 0, 0, 1, 0, 1, 0, 0, 0, 0, 0, 0, 1, 0, 1,\n",
       "       1, 1, 1, 0, 1, 1, 0, 1, 0, 0, 1, 0, 0, 0, 0, 0, 1, 0, 0, 1, 0, 0,\n",
       "       1, 1, 0, 1, 1, 1, 0, 1, 0, 1, 0, 0, 1, 0, 0, 0, 1, 0, 0, 1, 0, 1,\n",
       "       1, 1, 0, 0, 0, 1, 1, 0, 1, 1, 0, 0, 0, 1, 0, 1, 0, 1, 1, 1, 0, 1,\n",
       "       1, 1, 1, 0, 0, 0, 1, 0, 1, 0, 0, 0, 0, 1, 0, 1, 0, 0, 1, 1, 1, 0,\n",
       "       1, 0, 1, 0, 0, 0])"
      ]
     },
     "execution_count": 46,
     "metadata": {},
     "output_type": "execute_result"
    }
   ],
   "source": [
    "y_train"
   ]
  },
  {
   "cell_type": "code",
   "execution_count": 47,
   "metadata": {
    "deletable": false,
    "nbgrader": {
     "cell_type": "code",
     "checksum": "b6ac696ca946dab7a89e0ce0ad6a1b05",
     "grade": false,
     "grade_id": "cell-402488a757d864f8",
     "locked": false,
     "schema_version": 3,
     "solution": true,
     "task": false
    }
   },
   "outputs": [
    {
     "name": "stdout",
     "output_type": "stream",
     "text": [
      "Minimum at iteration: 49999\n"
     ]
    }
   ],
   "source": [
    "alpha = 0.001\n",
    "iterations = 50000\n",
    "\n",
    "BGD_model = Logistic_BGD()\n",
    "initial_theta = np.zeros(n)\n",
    "bgd_theta, bgd_cost = BGD_model.gradientAscent(X_design_train, y_train, initial_theta, alpha, iterations)\n",
    "\n",
    "# YOUR CODE HERE\n",
    "# raise NotImplementedError()"
   ]
  },
  {
   "cell_type": "code",
   "execution_count": 48,
   "metadata": {},
   "outputs": [
    {
     "data": {
      "text/plain": [
       "0.6679280712052752"
      ]
     },
     "execution_count": 48,
     "metadata": {},
     "output_type": "execute_result"
    }
   ],
   "source": [
    "bgd_cost[np.argmin(bgd_cost)]"
   ]
  },
  {
   "cell_type": "code",
   "execution_count": 49,
   "metadata": {},
   "outputs": [
    {
     "data": {
      "text/plain": [
       "49999"
      ]
     },
     "execution_count": 49,
     "metadata": {},
     "output_type": "execute_result"
    }
   ],
   "source": [
    "np.argmin(bgd_cost)"
   ]
  },
  {
   "cell_type": "code",
   "execution_count": 50,
   "metadata": {
    "deletable": false,
    "editable": false,
    "nbgrader": {
     "cell_type": "code",
     "checksum": "4ed877d188ef275ce4e81c1d582e0a85",
     "grade": true,
     "grade_id": "cell-8f37185961827a21",
     "locked": true,
     "points": 5,
     "schema_version": 3,
     "solution": false,
     "task": false
    }
   },
   "outputs": [
    {
     "name": "stdout",
     "output_type": "stream",
     "text": [
      "[-0.17665893 -0.24858832  0.38691536]\n",
      "50000\n",
      "0.6931471805599453\n"
     ]
    },
    {
     "data": {
      "image/png": "[encoded data removed]",
      "text/plain": [
       "<Figure size 432x288 with 1 Axes>"
      ]
     },
     "metadata": {
      "needs_background": "light"
     },
     "output_type": "display_data"
    },
    {
     "name": "stdout",
     "output_type": "stream",
     "text": [
      "success!\n"
     ]
    }
   ],
   "source": [
    "print(bgd_theta)\n",
    "print(len(bgd_cost))\n",
    "\n",
    "print(bgd_cost[0])\n",
    "plt.plot(bgd_cost)\n",
    "plt.show()\n",
    "\n",
    "# Test function: Do not remove\n",
    "assert bgd_theta.shape == (X_train.shape[1] + 1,1) or bgd_theta.shape == (X_train.shape[1] + 1,) or bgd_theta.shape == X_train.shape[1] + 1, \"theta shape is incorrect\"\n",
    "assert len(bgd_cost) == iterations, \"cost data size is incorrect\"\n",
    "\n",
    "print(\"success!\")\n",
    "# End Test function"
   ]
  },
  {
   "attachments": {
    "lab05-2.png": {
     "image/png": "[encoded data removed]"
    }
   },
   "cell_type": "markdown",
   "metadata": {
    "deletable": false,
    "editable": false,
    "nbgrader": {
     "cell_type": "markdown",
     "checksum": "6b0ab49a9c5c651c97a01f4102dc690f",
     "grade": false,
     "grade_id": "cell-13e9278fa215bbd5",
     "locked": true,
     "schema_version": 3,
     "solution": false,
     "task": false
    }
   },
   "source": [
    "**Expected result (or look alike):**\\\n",
    "[[-0.07328673]\\\n",
    " [-0.13632896]\\\n",
    " [ 0.05430939]]\\\n",
    "50000\n",
    "\n",
    "![lab05-2.png](attachment:lab05-2.png)"
   ]
  },
  {
   "cell_type": "markdown",
   "metadata": {
    "deletable": false,
    "editable": false,
    "nbgrader": {
     "cell_type": "markdown",
     "checksum": "a9be27d3e454bd057f1728b3f5a22d09",
     "grade": false,
     "grade_id": "cell-f0cf0a3687a9ee3a",
     "locked": true,
     "schema_version": 3,
     "solution": false,
     "task": false
    }
   },
   "source": [
    "## In lab exercises\n",
    "\n",
    "1. Verify that the gradient descent solution is correct. Plot the optimal decision boundary you obtain.\n",
    "\n",
    "2. Write a new class that uses Newton's method for the optmization rather than simple gradient descent.\n",
    "\n",
    "3. Verify that you obtain a similar solution with Newton's method. Plot the optimal decision boundary you obtain.\n",
    "\n",
    "4. Compare the number of iterations required for gradient descent vs. Newton's method. Do you observe other issues\n",
    "   with Newton's method such as a singular or nearly singular Hessian matrix?\n"
   ]
  },
  {
   "cell_type": "markdown",
   "metadata": {
    "deletable": false,
    "editable": false,
    "nbgrader": {
     "cell_type": "markdown",
     "checksum": "810c41c17113dd16fefb2dc4b4c0844d",
     "grade": false,
     "grade_id": "cell-3173cca8f2f72801",
     "locked": true,
     "schema_version": 3,
     "solution": false,
     "task": false
    }
   },
   "source": [
    "### Exercise 1.9 (5 points)\n",
    "\n",
    "Plot the optimal decision boundary of gradient ascent"
   ]
  },
  {
   "cell_type": "code",
   "execution_count": 51,
   "metadata": {},
   "outputs": [],
   "source": [
    "test2 = Logistic_BGD()"
   ]
  },
  {
   "cell_type": "code",
   "execution_count": 52,
   "metadata": {},
   "outputs": [
    {
     "data": {
      "text/plain": [
       "array([1, 1, 0, 0, 0, 0, 1, 1, 0, 1, 1, 0, 1, 1, 1, 0, 1, 1, 0, 1, 0, 0,\n",
       "       1, 1, 1, 1, 1, 0, 1, 1, 1, 0, 0, 1, 1, 1, 0, 0, 1, 1])"
      ]
     },
     "execution_count": 52,
     "metadata": {},
     "output_type": "execute_result"
    }
   ],
   "source": [
    "y_test"
   ]
  },
  {
   "cell_type": "code",
   "execution_count": 53,
   "metadata": {},
   "outputs": [
    {
     "data": {
      "text/plain": [
       "array([[ 1.05221555,  3.06298781],\n",
       "       [ 0.28616858, -0.01488312],\n",
       "       [ 0.7240154 ,  2.09116226],\n",
       "       [ 1.57829571,  1.05445336],\n",
       "       [ 0.60630287,  1.4932225 ],\n",
       "       [ 0.75026607, -0.13935944],\n",
       "       [ 1.85090771,  1.03255797],\n",
       "       [ 0.09793746,  3.35395429],\n",
       "       [ 1.99830485,  2.21044956],\n",
       "       [ 0.24511715,  1.55425676],\n",
       "       [-1.50744168,  2.28283045],\n",
       "       [ 2.32762906,  2.12881803],\n",
       "       [ 0.67288163,  0.98057817],\n",
       "       [ 2.13696742,  3.01673351],\n",
       "       [ 1.32898485,  0.30462115]])"
      ]
     },
     "execution_count": 53,
     "metadata": {},
     "output_type": "execute_result"
    }
   ],
   "source": [
    "X_test[y_test ==0]"
   ]
  },
  {
   "cell_type": "code",
   "execution_count": 54,
   "metadata": {},
   "outputs": [
    {
     "data": {
      "image/png": "[encoded data removed]",
      "text/plain": [
       "<Figure size 432x288 with 1 Axes>"
      ]
     },
     "metadata": {
      "needs_background": "light"
     },
     "output_type": "display_data"
    }
   ],
   "source": [
    "# Retrieve the model parameters.\n",
    "b = bgd_theta[0]\n",
    "w1 = bgd_theta[1]\n",
    "w2 = bgd_theta[2]\n",
    "\n",
    "# Calculate the intercept and gradient of the decision boundary.\n",
    "c = b/w2\n",
    "m = w1/w2\n",
    "\n",
    "# Plot the data and the classification with the decision boundary.\n",
    "xmin, xmax = -15, 15\n",
    "ymin, ymax = -15, 15\n",
    "xd = np.array([xmin, xmax])\n",
    "yd = m*xd + c\n",
    "plt.plot(xd, yd, 'k', lw=1, ls='--')\n",
    "plt.fill_between(xd, yd, ymin, color='tab:blue', alpha=0.2)\n",
    "plt.fill_between(xd, yd, ymax, color='tab:orange', alpha=0.2)\n",
    "\n",
    "plt.scatter(X_test[y_test ==0][:, 0], X_test[y_test ==0][:, 1], marker = '.', label = 'class1')\n",
    "plt.scatter(X_test[y_test ==1][:, 0], X_test[y_test ==1][:, 1], marker = '*', label = 'class2')\n",
    "plt.xlim(xmin, xmax)\n",
    "plt.ylim(ymin, ymax)\n",
    "plt.ylabel(r'$x_2$')\n",
    "plt.xlabel(r'$x_1$')\n",
    "\n",
    "\n",
    "plt.legend()\n",
    "plt.show()"
   ]
  },
  {
   "cell_type": "code",
   "execution_count": 55,
   "metadata": {},
   "outputs": [],
   "source": [
    "from sklearn.metrics import classification_report"
   ]
  },
  {
   "cell_type": "code",
   "execution_count": 56,
   "metadata": {},
   "outputs": [
    {
     "name": "stdout",
     "output_type": "stream",
     "text": [
      "              precision    recall  f1-score   support\n",
      "\n",
      "           0       0.44      1.00      0.61        15\n",
      "           1       1.00      0.24      0.39        25\n",
      "\n",
      "    accuracy                           0.53        40\n",
      "   macro avg       0.72      0.62      0.50        40\n",
      "weighted avg       0.79      0.53      0.47        40\n",
      "\n"
     ]
    }
   ],
   "source": [
    "print(classification_report(y_true =y_test , y_pred = BGD_model.predict(X_design_test,bgd_theta)  ))"
   ]
  },
  {
   "cell_type": "code",
   "execution_count": 57,
   "metadata": {},
   "outputs": [
    {
     "data": {
      "text/plain": [
       "array([ 9.63731389, -9.63731389])"
      ]
     },
     "execution_count": 57,
     "metadata": {},
     "output_type": "execute_result"
    }
   ],
   "source": [
    "xd * m"
   ]
  },
  {
   "cell_type": "code",
   "execution_count": 58,
   "metadata": {},
   "outputs": [
    {
     "data": {
      "text/plain": [
       "-0.6424875926047316"
      ]
     },
     "execution_count": 58,
     "metadata": {},
     "output_type": "execute_result"
    }
   ],
   "source": [
    "w1/w2"
   ]
  },
  {
   "cell_type": "code",
   "execution_count": 59,
   "metadata": {},
   "outputs": [
    {
     "data": {
      "text/plain": [
       "-0.4565828902414966"
      ]
     },
     "execution_count": 59,
     "metadata": {},
     "output_type": "execute_result"
    }
   ],
   "source": [
    "bgd_theta[0] / bgd_theta[2]"
   ]
  },
  {
   "cell_type": "code",
   "execution_count": 60,
   "metadata": {
    "deletable": false,
    "nbgrader": {
     "cell_type": "code",
     "checksum": "2faaffe5318c4447823b59c2795e8fa9",
     "grade": true,
     "grade_id": "cell-3c223505aaf0ad03",
     "locked": false,
     "points": 5,
     "schema_version": 3,
     "solution": true,
     "task": false
    }
   },
   "outputs": [
    {
     "data": {
      "image/png": "[encoded data removed]",
      "text/plain": [
       "<Figure size 432x288 with 1 Axes>"
      ]
     },
     "metadata": {
      "needs_background": "light"
     },
     "output_type": "display_data"
    }
   ],
   "source": [
    "# Retrieve the model parameters.\n",
    "b = bgd_theta[0]\n",
    "w1 = bgd_theta[1]\n",
    "w2 = bgd_theta[2]\n",
    "\n",
    "# Calculate the intercept and gradient of the decision boundary.\n",
    "c = b/w2\n",
    "m = w1/w2\n",
    "\n",
    "# w[1] * y = w[0] * x + b \n",
    "# # to solve for y\n",
    "# y = (w[0] * x)/w[1] + b / w[1]\n",
    "\n",
    "# Plot the data and the classification with the decision boundary.\n",
    "xmin, xmax = -15, 15\n",
    "ymin, ymax = -15, 15\n",
    "xd = np.array([xmin, xmax])\n",
    "yd = (m*xd) + c\n",
    "plt.plot(xd, yd, 'k', lw=1, ls='--')\n",
    "plt.fill_between(xd, yd, ymin, color='tab:blue', alpha=0.2)\n",
    "plt.fill_between(xd, yd, ymax, color='tab:orange', alpha=0.2)\n",
    "\n",
    "plt.scatter(X1[:, 0], X1[:, 1], marker = '.', label = 'class1')\n",
    "plt.scatter(X2[:, 0], X2[:, 1], marker = '*', label = 'class2')\n",
    "plt.xlim(xmin, xmax)\n",
    "plt.ylim(ymin, ymax)\n",
    "plt.ylabel(r'$x_2$')\n",
    "plt.xlabel(r'$x_1$')\n",
    "\n",
    "\n",
    "plt.legend()\n",
    "plt.show()"
   ]
  },
  {
   "cell_type": "code",
   "execution_count": 61,
   "metadata": {},
   "outputs": [
    {
     "data": {
      "text/plain": [
       "52.5"
      ]
     },
     "execution_count": 61,
     "metadata": {},
     "output_type": "execute_result"
    }
   ],
   "source": [
    "BGD_model.getAccuracy(X_design_test,y_test,bgd_theta)"
   ]
  },
  {
   "attachments": {
    "lab05-3.png": {
     "image/png": "[encoded data removed]"
    }
   },
   "cell_type": "markdown",
   "metadata": {
    "deletable": false,
    "editable": false,
    "nbgrader": {
     "cell_type": "markdown",
     "checksum": "22aed8e4829c65d7f605d0d4956610c1",
     "grade": false,
     "grade_id": "cell-1f9171b8ffba68a4",
     "locked": true,
     "schema_version": 3,
     "solution": false,
     "task": false
    }
   },
   "source": [
    "**Expected result (or look alike):**\\\n",
    "![lab05-3.png](attachment:lab05-3.png)"
   ]
  },
  {
   "cell_type": "code",
   "execution_count": 62,
   "metadata": {},
   "outputs": [
    {
     "name": "stdout",
     "output_type": "stream",
     "text": [
      "Accuracy = 52.5\n"
     ]
    }
   ],
   "source": [
    "print(\"Accuracy =\",BGD_model.getAccuracy(X_design_test,y_test,bgd_theta))"
   ]
  },
  {
   "cell_type": "markdown",
   "metadata": {
    "deletable": false,
    "editable": false,
    "nbgrader": {
     "cell_type": "markdown",
     "checksum": "23dd94e79272723f5c225446a2dc6364",
     "grade": false,
     "grade_id": "cell-2e97059883af3bba",
     "locked": true,
     "schema_version": 3,
     "solution": false,
     "task": false
    }
   },
   "source": [
    "### Exercise 2.1 (10 points)\n",
    "\n",
    "Write Newton's method class"
   ]
  },
  {
   "cell_type": "code",
   "execution_count": 63,
   "metadata": {},
   "outputs": [
    {
     "data": {
      "text/plain": [
       "array([0, 0, 0, 0, 0, 0, 0, 0, 0, 0, 0, 0, 0, 0, 0, 0, 0, 0, 0, 0, 0, 0,\n",
       "       0, 0, 0, 0, 0, 0, 0, 0, 0, 0, 0, 0, 0, 0, 0, 0, 0, 0, 0, 0, 0, 0,\n",
       "       0, 0, 0, 0, 0, 0, 0, 0, 0, 0, 0, 0, 0, 0, 0, 0, 0, 0, 0, 0, 0, 0,\n",
       "       0, 0, 0, 0, 0, 0, 0, 0, 0, 0, 0, 0, 0, 0, 0, 0, 0, 0, 0, 0, 0, 0,\n",
       "       0, 0, 0, 0, 0, 0, 0, 0, 0, 0, 0, 0, 1, 1, 1, 1, 1, 1, 1, 1, 1, 1,\n",
       "       1, 1, 1, 1, 1, 1, 1, 1, 1, 1, 1, 1, 1, 1, 1, 1, 1, 1, 1, 1, 1, 1,\n",
       "       1, 1, 1, 1, 1, 1, 1, 1, 1, 1, 1, 1, 1, 1, 1, 1, 1, 1, 1, 1, 1, 1,\n",
       "       1, 1, 1, 1, 1, 1, 1, 1, 1, 1, 1, 1, 1, 1, 1, 1, 1, 1, 1, 1, 1, 1,\n",
       "       1, 1, 1, 1, 1, 1, 1, 1, 1, 1, 1, 1, 1, 1, 1, 1, 1, 1, 1, 1, 1, 1,\n",
       "       1, 1])"
      ]
     },
     "execution_count": 63,
     "metadata": {},
     "output_type": "execute_result"
    }
   ],
   "source": [
    "y"
   ]
  },
  {
   "cell_type": "code",
   "execution_count": 64,
   "metadata": {
    "deletable": false,
    "nbgrader": {
     "cell_type": "code",
     "checksum": "976788b621d550c93f2714262b749fe4",
     "grade": false,
     "grade_id": "cell-7e141a34ab5e21a8",
     "locked": false,
     "schema_version": 3,
     "solution": true,
     "task": false
    }
   },
   "outputs": [],
   "source": [
    "class Logistic_NM: #logistic regression for newton's method\n",
    "      \n",
    "    def __init__(self):\n",
    "        pass\n",
    "    \n",
    "    def sigmoid(self,z):\n",
    "        s = 1 / (1 + np.exp(-z))\n",
    "\n",
    "        return s\n",
    "\n",
    "    def h(self,X, theta):\n",
    "        hf = np.dot(X, theta)\n",
    "        yhat = self.sigmoid(hf)\n",
    "     \n",
    "        return yhat\n",
    "\n",
    "    def gradient(self, X, y, y_pred):\n",
    "        m = len(y)\n",
    "        grad = (1/m) * np.dot(X.T, (y_pred - y))\n",
    " \n",
    "        return grad\n",
    "        \n",
    "    def hessian(self, X, y, theta):\n",
    "        yhat = self.h(X, theta) #sigmoid output\n",
    "        s = yhat * (1-yhat)\n",
    "        s = s.reshape(-1, 1)\n",
    "        hess_mat = X.T @ ( X * s)\n",
    "\n",
    "        return hess_mat\n",
    "        \n",
    "    def costFunc(self, theta, X, y):   \n",
    "        \n",
    "        m = len(y)\n",
    "        yhat = self.h(X, theta)\n",
    "        error = (y * np.log(yhat)) + ((1-y) * np.log(1-yhat))\n",
    "        cost = (-1/m) * np.sum(error)\n",
    "        grad = self.gradient(X, y, yhat)\n",
    "\n",
    "        return cost, grad\n",
    "    \n",
    "    def newtonsMethod(self, X, y, theta, num_iters):\n",
    "        m = len(y)\n",
    "        J_history = []\n",
    "        theta_history = []\n",
    "        for i in range(num_iters):\n",
    "            yhat = self.h(X, theta)\n",
    "            cost, grad = self.costFunc(theta, X , y)\n",
    "            hess_mat = self.hessian(X, y , theta)\n",
    "       \n",
    "            J_history.append(cost)\n",
    "            theta_history.append(theta)\n",
    "            \n",
    "            #update theta\n",
    "            theta = theta - (np.dot(  np.linalg.inv(hess_mat) , grad))\n",
    "#             print(i)\n",
    "#             print(cost)\n",
    "#             print(grad)\n",
    "#             print(hess_mat)\n",
    "#             print(theta)\n",
    "            \n",
    "        J_min_index = np.argmin(J_history)\n",
    "        print(\"Minimum at iteration:\", J_min_index)\n",
    "        return theta_history[J_min_index] , J_history\n",
    "\n",
    "    def predict(self,X, theta):\n",
    "        y_pred = self.h(X, theta)\n",
    "        \n",
    "        \n",
    "        labels=[]\n",
    "        for i in range(X.shape[0]):\n",
    "            \n",
    "            if y_pred[i] >= 0.5:\n",
    "                labels.append(1)\n",
    "            else:\n",
    "                labels.append(0)\n",
    "        \n",
    "        \n",
    "        labels=np.asarray(labels)\n",
    "        return labels\n",
    "     \n",
    "    def getAccuracy(self,X,y,theta):\n",
    "        y = y.ravel()\n",
    "        predicted_list = self.predict(X, theta)\n",
    "        total_correct = np.sum(predicted_list == y)\n",
    "        m = len(predicted_list)\n",
    "#         print(predicted_list)\n",
    "#         print(total_correct)\n",
    "#         print(m)\n",
    "        \n",
    "        percent_correct = (total_correct / m) *100\n",
    "\n",
    "        return percent_correct"
   ]
  },
  {
   "cell_type": "code",
   "execution_count": 65,
   "metadata": {},
   "outputs": [
    {
     "data": {
      "text/plain": [
       "array([[11.29725396,  5.49706551],\n",
       "       [ 5.49706551, 10.37936818]])"
      ]
     },
     "execution_count": 65,
     "metadata": {},
     "output_type": "execute_result"
    }
   ],
   "source": [
    "test_x.T @ (test_x * (test_y_p * (1- test_y_p)))"
   ]
  },
  {
   "cell_type": "code",
   "execution_count": 66,
   "metadata": {},
   "outputs": [
    {
     "data": {
      "text/plain": [
       "(6, 1)"
      ]
     },
     "execution_count": 66,
     "metadata": {},
     "output_type": "execute_result"
    }
   ],
   "source": [
    "test_y_p.shape"
   ]
  },
  {
   "cell_type": "code",
   "execution_count": 67,
   "metadata": {
    "deletable": false,
    "editable": false,
    "nbgrader": {
     "cell_type": "code",
     "checksum": "7726e172f95467b24b38ebf7263d3a9b",
     "grade": true,
     "grade_id": "cell-4801684db23de9bc",
     "locked": true,
     "points": 10,
     "schema_version": 3,
     "solution": false,
     "task": false
    }
   },
   "outputs": [
    {
     "name": "stdout",
     "output_type": "stream",
     "text": [
      "out_x1 [[0.73105858 0.88079708 0.95257413 0.98201379 0.99330715]]\n",
      "test_y_p [[0.66818777 0.9168273  0.84553473 0.85814894 0.84553473 0.85814894]]\n",
      "test_g [[0.9746016  0.73165696]]\n",
      "test_h [[11.29725396  5.49706551]\n",
      " [ 5.49706551 10.37936818]]\n"
     ]
    },
    {
     "ename": "AssertionError",
     "evalue": "hessian matrix function is incorrect",
     "output_type": "error",
     "traceback": [
      "\u001b[0;31m---------------------------------------------------------------------------\u001b[0m",
      "\u001b[0;31mAssertionError\u001b[0m                            Traceback (most recent call last)",
      "\u001b[0;32m/tmp/ipykernel_307/3758721385.py\u001b[0m in \u001b[0;36m<module>\u001b[0;34m\u001b[0m\n\u001b[1;32m     19\u001b[0m \u001b[0mprint\u001b[0m\u001b[0;34m(\u001b[0m\u001b[0;34m'test_h'\u001b[0m\u001b[0;34m,\u001b[0m \u001b[0mtest_h\u001b[0m\u001b[0;34m)\u001b[0m\u001b[0;34m\u001b[0m\u001b[0;34m\u001b[0m\u001b[0m\n\u001b[1;32m     20\u001b[0m \u001b[0;32massert\u001b[0m \u001b[0mtest_h\u001b[0m\u001b[0;34m.\u001b[0m\u001b[0mshape\u001b[0m \u001b[0;34m==\u001b[0m \u001b[0;34m(\u001b[0m\u001b[0;36m2\u001b[0m\u001b[0;34m,\u001b[0m \u001b[0;36m2\u001b[0m\u001b[0;34m)\u001b[0m\u001b[0;34m,\u001b[0m \u001b[0;34m\"hessian matrix function is incorrect\"\u001b[0m\u001b[0;34m\u001b[0m\u001b[0;34m\u001b[0m\u001b[0m\n\u001b[0;32m---> 21\u001b[0;31m \u001b[0;32massert\u001b[0m \u001b[0mnp\u001b[0m\u001b[0;34m.\u001b[0m\u001b[0marray_equal\u001b[0m\u001b[0;34m(\u001b[0m\u001b[0mnp\u001b[0m\u001b[0;34m.\u001b[0m\u001b[0mround\u001b[0m\u001b[0;34m(\u001b[0m\u001b[0mtest_h\u001b[0m\u001b[0;34m.\u001b[0m\u001b[0mT\u001b[0m\u001b[0;34m,\u001b[0m \u001b[0;36m5\u001b[0m\u001b[0;34m)\u001b[0m\u001b[0;34m,\u001b[0m \u001b[0mnp\u001b[0m\u001b[0;34m.\u001b[0m\u001b[0mround\u001b[0m\u001b[0;34m(\u001b[0m\u001b[0;34m[\u001b[0m\u001b[0;34m[\u001b[0m\u001b[0;36m12.17334371\u001b[0m\u001b[0;34m,\u001b[0m \u001b[0;36m6.55487738\u001b[0m\u001b[0;34m]\u001b[0m\u001b[0;34m,\u001b[0m\u001b[0;34m[\u001b[0m \u001b[0;36m6.55487738\u001b[0m\u001b[0;34m,\u001b[0m \u001b[0;36m14.84880387\u001b[0m\u001b[0;34m]\u001b[0m\u001b[0;34m]\u001b[0m\u001b[0;34m,\u001b[0m \u001b[0;36m5\u001b[0m\u001b[0;34m)\u001b[0m\u001b[0;34m)\u001b[0m\u001b[0;34m,\u001b[0m \u001b[0;34m\"hessian matrix function is incorrect\"\u001b[0m\u001b[0;34m\u001b[0m\u001b[0;34m\u001b[0m\u001b[0m\n\u001b[0m\u001b[1;32m     22\u001b[0m \u001b[0mtest_c\u001b[0m\u001b[0;34m,\u001b[0m \u001b[0mtest_g\u001b[0m \u001b[0;34m=\u001b[0m \u001b[0mlbgd\u001b[0m\u001b[0;34m.\u001b[0m\u001b[0mcostFunc\u001b[0m\u001b[0;34m(\u001b[0m\u001b[0mtest_t\u001b[0m\u001b[0;34m,\u001b[0m \u001b[0mtest_x\u001b[0m\u001b[0;34m,\u001b[0m \u001b[0mtest_y\u001b[0m\u001b[0;34m)\u001b[0m\u001b[0;34m\u001b[0m\u001b[0;34m\u001b[0m\u001b[0m\n\u001b[1;32m     23\u001b[0m \u001b[0mprint\u001b[0m\u001b[0;34m(\u001b[0m\u001b[0;34m'test_c'\u001b[0m\u001b[0;34m,\u001b[0m \u001b[0mtest_c\u001b[0m\u001b[0;34m.\u001b[0m\u001b[0mT\u001b[0m\u001b[0;34m)\u001b[0m\u001b[0;34m\u001b[0m\u001b[0;34m\u001b[0m\u001b[0m\n",
      "\u001b[0;31mAssertionError\u001b[0m: hessian matrix function is incorrect"
     ]
    }
   ],
   "source": [
    "# Test function: Do not remove\n",
    "lbgd = Logistic_NM()\n",
    "test_x = np.array([[1,2,3,4,5]]).T\n",
    "out_x1 = lbgd.sigmoid(test_x)\n",
    "out_x2 = lbgd.sigmoid(test_x.T)\n",
    "print('out_x1', out_x1.T)\n",
    "assert np.array_equal(np.round(out_x1.T, 5), np.round([[0.73105858, 0.88079708, 0.95257413, 0.98201379, 0.99330715]], 5)), \"sigmoid function is incorrect\"\n",
    "assert np.array_equal(np.round(out_x2, 5), np.round([[0.73105858, 0.88079708, 0.95257413, 0.98201379, 0.99330715]], 5)), \"sigmoid function is incorrect\"\n",
    "test_t = np.array([[0.3, 0.2]]).T\n",
    "test_x = np.array([[1,2,3,4,5, 6], [2, 9, 4, 3, 1, 0]]).T\n",
    "test_y = np.array([[0,1,0,1,0,1]]).T\n",
    "test_y_p = lbgd.h(test_x, test_t)\n",
    "print('test_y_p', test_y_p.T)\n",
    "assert np.array_equal(np.round(test_y_p.T, 5), np.round([[0.66818777, 0.9168273, 0.84553473, 0.85814894, 0.84553473, 0.85814894]], 5)), \"hyperthesis function is incorrect\"\n",
    "test_g = lbgd.gradient(test_x, test_y, test_y_p)\n",
    "print('test_g', test_g.T)\n",
    "assert np.array_equal(np.round(test_g.T, 5), np.round([[0.9746016, 0.73165696]], 5)), \"gradient function is incorrect\"\n",
    "test_h = lbgd.hessian(test_x, test_y, test_t)\n",
    "print('test_h', test_h)\n",
    "assert test_h.shape == (2, 2), \"hessian matrix function is incorrect\"\n",
    "assert np.array_equal(np.round(test_h.T, 5), np.round([[12.17334371, 6.55487738],[ 6.55487738, 14.84880387]], 5)), \"hessian matrix function is incorrect\"\n",
    "test_c, test_g = lbgd.costFunc(test_t, test_x, test_y)\n",
    "print('test_c', test_c.T)\n",
    "assert np.round(test_c, 5) == np.round(0.87192491, 5), \"costFunc function is incorrect\"\n",
    "test_t_out , test_j = lbgd.newtonsMethod(test_x, test_y, test_t, 3)\n",
    "print('test_t_out', test_t_out.T)\n",
    "print('test_j', test_j)\n",
    "assert np.array_equal(np.round(test_t_out.T, 5), np.round([[0.14765747, 0.15607017]], 5)), \"newtonsMethod function is incorrect\"\n",
    "assert np.round(test_j[2], 5) == np.round(0.7534506190845247, 5), \"newtonsMethod function is incorrect\"\n",
    "test_l = lbgd.predict(test_x, test_t)\n",
    "print('test_l', test_l)\n",
    "assert np.array_equal(np.round(test_l, 1), np.round([1,1,1,1,1,1], 1)), \"gradientAscent function is incorrect\"\n",
    "test_a = lbgd.getAccuracy(test_x,test_y,test_t)\n",
    "print('test_a', test_a)\n",
    "assert np.round(test_a, 1) == 50.0, \"getAccuracy function is incorrect\"\n",
    "\n",
    "print(\"success!\")\n",
    "# End Test function"
   ]
  },
  {
   "cell_type": "markdown",
   "metadata": {
    "deletable": false,
    "editable": false,
    "nbgrader": {
     "cell_type": "markdown",
     "checksum": "67431703a77fceadc272a42bbec19ce8",
     "grade": false,
     "grade_id": "cell-4d6046bbd3592288",
     "locked": true,
     "schema_version": 3,
     "solution": false,
     "task": false
    }
   },
   "source": [
    "**Expect result:**\n",
    "out_x1 [[0.73105858 0.88079708 0.95257413 0.98201379 0.99330715]]\\\n",
    "test_y_p [[0.66818777 0.9168273  0.84553473 0.85814894 0.84553473 0.85814894]]\\\n",
    "test_g [[0.9746016  0.73165696]]\\\n",
    "test_h [[12.17334371  6.55487738]\\\n",
    " [ 6.55487738 14.84880387]]\\\n",
    "test_c 0.8719249134773479\\\n",
    "Minimum at iteration: 2\\\n",
    "test_t_out [[0.14765747 0.15607017]]\\\n",
    "test_j [0.8719249134773479, 0.7967484437157274, 0.7534506190845247]\\\n",
    "test_l [1 1 1 1 1 1]\\\n",
    "test_a 50.0"
   ]
  },
  {
   "cell_type": "code",
   "execution_count": 68,
   "metadata": {},
   "outputs": [
    {
     "name": "stdout",
     "output_type": "stream",
     "text": [
      "Minimum at iteration: 999\n",
      "theta: [-0.17631047 -0.24806574  0.38613374]\n",
      "0.6931471805599454\n"
     ]
    },
    {
     "data": {
      "image/png": "[encoded data removed]",
      "text/plain": [
       "<Figure size 432x288 with 1 Axes>"
      ]
     },
     "metadata": {
      "needs_background": "light"
     },
     "output_type": "display_data"
    }
   ],
   "source": [
    "NM_model = Logistic_NM()\n",
    "\n",
    "iterations = 1000\n",
    "\n",
    "nm_theta, nm_cost = NM_model.newtonsMethod(X_design_train, y_train, initial_theta, iterations)\n",
    "print(\"theta:\",nm_theta)\n",
    "\n",
    "print(nm_cost[0])\n",
    "plt.plot(nm_cost)\n",
    "plt.show()"
   ]
  },
  {
   "attachments": {
    "lab05-4.png": {
     "image/png": "[encoded data removed]"
    }
   },
   "cell_type": "markdown",
   "metadata": {
    "deletable": false,
    "editable": false,
    "nbgrader": {
     "cell_type": "markdown",
     "checksum": "69d66a74ff787563183d71544c658a9e",
     "grade": false,
     "grade_id": "cell-260462d542459f86",
     "locked": true,
     "schema_version": 3,
     "solution": false,
     "task": false
    }
   },
   "source": [
    "**Expected result (or look alike):**\\\n",
    "Minimum at iteration: 999\\\n",
    "theta: [[-0.07313861]\\\n",
    " [-0.13605172]\\\n",
    " [ 0.05419746]]\\\n",
    "0.6931471805599453\n",
    "\n",
    "![lab05-4.png](attachment:lab05-4.png)"
   ]
  },
  {
   "cell_type": "markdown",
   "metadata": {
    "deletable": false,
    "editable": false,
    "nbgrader": {
     "cell_type": "markdown",
     "checksum": "3832577492f28c5d75184636a778b503",
     "grade": false,
     "grade_id": "cell-53224281d9ea6bb4",
     "locked": true,
     "schema_version": 3,
     "solution": false,
     "task": false
    }
   },
   "source": [
    "### Exercise 2.2 (5 points)\n",
    "\n",
    "Plot the optimal decision boundary of Newton method"
   ]
  },
  {
   "cell_type": "code",
   "execution_count": 69,
   "metadata": {},
   "outputs": [
    {
     "data": {
      "text/plain": [
       "array([-0.17631047, -0.24806574,  0.38613374])"
      ]
     },
     "execution_count": 69,
     "metadata": {},
     "output_type": "execute_result"
    }
   ],
   "source": [
    "nm_theta"
   ]
  },
  {
   "cell_type": "code",
   "execution_count": 70,
   "metadata": {},
   "outputs": [
    {
     "data": {
      "text/plain": [
       "(100,)"
      ]
     },
     "execution_count": 70,
     "metadata": {},
     "output_type": "execute_result"
    }
   ],
   "source": [
    "X[y==0][: , 0].shape"
   ]
  },
  {
   "cell_type": "code",
   "execution_count": 71,
   "metadata": {
    "deletable": false,
    "nbgrader": {
     "cell_type": "code",
     "checksum": "f09b8821e20308b4d6f2d577bdbe6e9a",
     "grade": true,
     "grade_id": "cell-ad8545ff8d145826",
     "locked": false,
     "points": 0,
     "schema_version": 3,
     "solution": true,
     "task": false
    }
   },
   "outputs": [
    {
     "data": {
      "image/png": "[encoded data removed]",
      "text/plain": [
       "<Figure size 576x576 with 1 Axes>"
      ]
     },
     "metadata": {
      "needs_background": "light"
     },
     "output_type": "display_data"
    }
   ],
   "source": [
    "# plot\n",
    "\n",
    "fig1 = plt.figure(figsize=(8,8))\n",
    "ax = plt.axes() \n",
    "plt.title('Sample data for classification problem')\n",
    "plt.grid(axis='both', alpha=.25)\n",
    "\n",
    "plt.scatter(X[y==0][: , 0], X[y==0][: , 1], marker = '.',  label = 'class1')\n",
    "plt.scatter(X[y==1][: , 0], X[y==1][: , 1], marker = '*', label = 'class2')\n",
    "\n",
    "b = nm_theta[0]\n",
    "w1 = nm_theta[1]\n",
    "w2 = nm_theta[2]\n",
    "\n",
    "# Calculate the intercept and gradient of the decision boundary.\n",
    "c = b/w2\n",
    "m = w1/w2\n",
    "\n",
    "# w[1] * y = w[0] * x + b \n",
    "# # to solve for y\n",
    "# y = (w[0] * x)/w[1] + b / w[1]\n",
    "\n",
    "# Plot the data and the classification with the decision boundary.\n",
    "xmin, xmax = -15, 15\n",
    "ymin, ymax = -15, 15\n",
    "# xd = np.array([xmin, xmax])\n",
    "xd = np.linspace(-15, 15)\n",
    "yd = (m*xd) + c\n",
    "plt.plot(xd, yd, 'k', lw=1, ls='--')\n",
    "plt.fill_between(xd, yd, ymin, color='tab:blue', alpha=0.2)\n",
    "plt.fill_between(xd, yd, ymax, color='tab:orange', alpha=0.2)\n",
    "\n",
    "\n",
    "plt.xlim(-12, 12)\n",
    "plt.ylim(-12, 12)\n",
    "plt.ylabel(r'$x_2$')\n",
    "plt.xlabel(r'$x_1$')\n",
    "\n",
    "\n",
    "plt.legend()\n",
    "plt.show()\n",
    "\n"
   ]
  },
  {
   "attachments": {
    "lab05-5.png": {
     "image/png": "[encoded data removed]"
    }
   },
   "cell_type": "markdown",
   "metadata": {
    "deletable": false,
    "editable": false,
    "nbgrader": {
     "cell_type": "markdown",
     "checksum": "33dd686f36f3b063c46852b40e66ba1c",
     "grade": false,
     "grade_id": "cell-559db7e767d96eae",
     "locked": true,
     "schema_version": 3,
     "solution": false,
     "task": false
    }
   },
   "source": [
    "**Expected result (or look alike):**\n",
    "\n",
    "![lab05-5.png](attachment:lab05-5.png)"
   ]
  },
  {
   "cell_type": "code",
   "execution_count": 72,
   "metadata": {},
   "outputs": [
    {
     "name": "stdout",
     "output_type": "stream",
     "text": [
      "Accuracy = 52.5\n"
     ]
    }
   ],
   "source": [
    "print(\"Accuracy =\",NM_model.getAccuracy(X_design_test,y_test,bgd_theta))"
   ]
  },
  {
   "cell_type": "code",
   "execution_count": 73,
   "metadata": {},
   "outputs": [
    {
     "name": "stdout",
     "output_type": "stream",
     "text": [
      "49999\n",
      "0.6679280712052752\n",
      "\n",
      "999\n",
      "0.6842329412851584\n"
     ]
    }
   ],
   "source": [
    "print(np.argmin(bgd_cost))\n",
    "print(bgd_cost[np.argmin(bgd_cost)])\n",
    "print()\n",
    "\n",
    "print(np.argmin(nm_cost))\n",
    "print(bgd_cost[np.argmin(nm_cost)])"
   ]
  },
  {
   "cell_type": "markdown",
   "metadata": {
    "deletable": false,
    "editable": false,
    "nbgrader": {
     "cell_type": "markdown",
     "checksum": "a2efedccace0768917bc94d1818ef700",
     "grade": false,
     "grade_id": "cell-fed9bca1391a170b",
     "locked": true,
     "schema_version": 3,
     "solution": false,
     "task": false
    }
   },
   "source": [
    "### Exercise 2.3 (5 points)\n",
    "\n",
    "Compare the number of iterations required for gradient descent vs. Newton's method. Do you observe other issues with Newton's method such as a singular or nearly singular Hessian matrix?"
   ]
  },
  {
   "cell_type": "markdown",
   "metadata": {
    "deletable": false,
    "nbgrader": {
     "cell_type": "markdown",
     "checksum": "b2651ebe959241be5341519791df3a05",
     "grade": true,
     "grade_id": "cell-ebdae5b796e5cec6",
     "locked": false,
     "points": 5,
     "schema_version": 3,
     "solution": true,
     "task": false
    }
   },
   "source": [
    "- For gradient descent method, it takes as many as almost 50,000 iterations to achieve the lowest cost at around 0.69\n",
    "- As for the Newton's method, the number of iterations dwarves to only around 1,000 times to achieve almost the same cost at 0.69\n",
    "- This means that considering the computational expense, the Newton's method is way more effective than gradient descent"
   ]
  },
  {
   "cell_type": "markdown",
   "metadata": {
    "deletable": false,
    "editable": false,
    "nbgrader": {
     "cell_type": "markdown",
     "checksum": "11d0e3336d02c1e8bbb07683b7a3c73e",
     "grade": false,
     "grade_id": "cell-e67e9ff8404bca4b",
     "locked": true,
     "points": 35,
     "schema_version": 3,
     "solution": false,
     "task": true
    }
   },
   "source": [
    "## Take-home exercises\n",
    "\n",
    "1. Perform a *polar transformation* on the data above to obtain a linearly separable dataset. (5 points)\n",
    "\n",
    "2. Verify that you obtain good classification accuracy for logistic regression with GD or Netwon's method\n",
    "   after the polar transformation (10 points)\n",
    "   \n",
    "3. Apply Newton's method to the dataset you used for the take home exercises in Lab 03. (20 points)\n",
    "\n",
    "\n"
   ]
  },
  {
   "cell_type": "markdown",
   "metadata": {
    "deletable": false,
    "editable": false,
    "nbgrader": {
     "cell_type": "markdown",
     "checksum": "1049f91e5fda6a89992ec54f406dbb1f",
     "grade": false,
     "grade_id": "cell-5e1efbb59089f2de",
     "locked": true,
     "schema_version": 3,
     "solution": false,
     "task": false
    }
   },
   "source": [
    "## The report\n",
    "\n",
    "Write a brief report covering your experiments (both in lab and take home) and submit the Jupyter notebook via JupyterHub at https://puffer.cs.ait.ac.th before the next lab.\n",
    "\n",
    "In your solution, be sure to follow instructions!"
   ]
  },
  {
   "cell_type": "markdown",
   "metadata": {},
   "source": [
    "## Perform the polar transformation on normalized data!!"
   ]
  },
  {
   "cell_type": "code",
   "execution_count": 74,
   "metadata": {},
   "outputs": [
    {
     "data": {
      "text/plain": [
       "array([-4.32986980e-17, -9.76996262e-17])"
      ]
     },
     "execution_count": 74,
     "metadata": {},
     "output_type": "execute_result"
    }
   ],
   "source": [
    "X_norm.mean(axis= 0)"
   ]
  },
  {
   "cell_type": "code",
   "execution_count": 75,
   "metadata": {},
   "outputs": [
    {
     "name": "stdout",
     "output_type": "stream",
     "text": [
      "[-0.11118019 -1.29694349  1.53721989  1.02212267 -1.42187275]\n",
      "[0.09737283 0.07694153 0.23301547 0.31902115 0.25223514]\n"
     ]
    }
   ],
   "source": [
    "angles = np.arctan((X_norm[:, 1] / X_norm[:, 0])) #X1 over X0\n",
    "radius = np.sqrt(X_norm[:, 0]**2 + X_norm[:, 1]**2 )\n",
    "\n",
    "print(angles[:5])\n",
    "print(radius[:5])\n"
   ]
  },
  {
   "cell_type": "code",
   "execution_count": 76,
   "metadata": {},
   "outputs": [
    {
     "data": {
      "text/plain": [
       "(200,)"
      ]
     },
     "execution_count": 76,
     "metadata": {},
     "output_type": "execute_result"
    }
   ],
   "source": [
    "angles.shape"
   ]
  },
  {
   "cell_type": "code",
   "execution_count": 77,
   "metadata": {},
   "outputs": [
    {
     "data": {
      "text/plain": [
       "(200,)"
      ]
     },
     "execution_count": 77,
     "metadata": {},
     "output_type": "execute_result"
    }
   ],
   "source": [
    "radius.shape"
   ]
  },
  {
   "cell_type": "code",
   "execution_count": 78,
   "metadata": {},
   "outputs": [
    {
     "data": {
      "text/plain": [
       "(200, 2)"
      ]
     },
     "execution_count": 78,
     "metadata": {},
     "output_type": "execute_result"
    }
   ],
   "source": [
    "newX = np.vstack((angles, radius)).T\n",
    "newX.shape"
   ]
  },
  {
   "cell_type": "code",
   "execution_count": 79,
   "metadata": {},
   "outputs": [],
   "source": [
    "newXtrain = newX[idx_train]\n",
    "newXtest = newX[idx_test]"
   ]
  },
  {
   "cell_type": "code",
   "execution_count": 80,
   "metadata": {},
   "outputs": [],
   "source": [
    "newXtrain = np.insert(newXtrain, 0 ,1 ,axis =1)\n",
    "newXtest = np.insert(newXtest, 0 ,1 ,axis =1)"
   ]
  },
  {
   "cell_type": "code",
   "execution_count": 81,
   "metadata": {},
   "outputs": [
    {
     "data": {
      "text/plain": [
       "(160, 3)"
      ]
     },
     "execution_count": 81,
     "metadata": {},
     "output_type": "execute_result"
    }
   ],
   "source": [
    "newXtrain.shape"
   ]
  },
  {
   "cell_type": "code",
   "execution_count": 82,
   "metadata": {},
   "outputs": [
    {
     "data": {
      "text/plain": [
       "<matplotlib.legend.Legend at 0x7f9fc79ebe20>"
      ]
     },
     "execution_count": 82,
     "metadata": {},
     "output_type": "execute_result"
    },
    {
     "data": {
      "image/png": "[encoded data removed]",
      "text/plain": [
       "<Figure size 432x288 with 1 Axes>"
      ]
     },
     "metadata": {
      "needs_background": "light"
     },
     "output_type": "display_data"
    }
   ],
   "source": [
    "plt.scatter(newX[y == 0][:, 0], newX[y == 0][:, 1], label = 'class 1' )\n",
    "plt.scatter(newX[y == 1][:, 0], newX[y == 1][:, 1], label = 'class 2' )\n",
    "plt.xlabel('angles')\n",
    "plt.ylabel('radius')\n",
    "plt.legend()"
   ]
  },
  {
   "cell_type": "code",
   "execution_count": 83,
   "metadata": {},
   "outputs": [
    {
     "name": "stdout",
     "output_type": "stream",
     "text": [
      "Minimum at iteration: 49999\n"
     ]
    }
   ],
   "source": [
    "alpha = 0.001\n",
    "iterations = 50000\n",
    "\n",
    "\n",
    "m,n = newXtrain.shape\n",
    "polar_BGD_model = Logistic_BGD()\n",
    "initial_theta = np.zeros(n)\n",
    "polar_bgd_theta, polar_bgd_cost = polar_BGD_model.gradientAscent(newXtrain, y_train, initial_theta, alpha, iterations)"
   ]
  },
  {
   "cell_type": "code",
   "execution_count": 84,
   "metadata": {},
   "outputs": [
    {
     "name": "stdout",
     "output_type": "stream",
     "text": [
      "Minimum at iteration: 999\n"
     ]
    }
   ],
   "source": [
    "polar_NM_model = Logistic_NM()\n",
    "\n",
    "iterations = 1000\n",
    "\n",
    "polar_nm_theta, polar_nm_cost = polar_NM_model.newtonsMethod(newXtrain, y_train, initial_theta, iterations)\n"
   ]
  },
  {
   "cell_type": "code",
   "execution_count": 85,
   "metadata": {},
   "outputs": [
    {
     "data": {
      "text/plain": [
       "<matplotlib.legend.Legend at 0x7f9fc7943cd0>"
      ]
     },
     "execution_count": 85,
     "metadata": {},
     "output_type": "execute_result"
    },
    {
     "data": {
      "image/png": "[encoded data removed]",
      "text/plain": [
       "<Figure size 432x288 with 1 Axes>"
      ]
     },
     "metadata": {
      "needs_background": "light"
     },
     "output_type": "display_data"
    }
   ],
   "source": [
    "plt.plot(np.arange(1000), polar_nm_cost , label = 'Newton Method' )\n",
    "plt.plot(np.arange(1000), polar_bgd_cost[:1000] , label = 'Batch Gradient Descent' )\n",
    "plt.legend()"
   ]
  },
  {
   "cell_type": "code",
   "execution_count": 86,
   "metadata": {},
   "outputs": [
    {
     "data": {
      "text/plain": [
       "array([1, 0, 1, 0, 1, 1, 0, 0, 0, 0, 0, 0, 0, 1, 0, 0, 0, 1, 0, 1, 0, 1,\n",
       "       1, 1, 0, 0, 1, 0, 1, 1, 1, 0, 0, 0, 1, 1, 0, 1, 1, 1, 0, 1, 1, 1,\n",
       "       1, 1, 0, 1, 0, 1, 0, 1, 0, 0, 1, 0, 1, 0, 0, 0, 0, 0, 0, 1, 0, 1,\n",
       "       1, 1, 1, 0, 1, 1, 0, 1, 0, 0, 1, 0, 0, 0, 0, 0, 1, 0, 0, 1, 0, 0,\n",
       "       1, 1, 0, 1, 1, 1, 0, 1, 0, 1, 0, 0, 1, 0, 0, 0, 1, 0, 0, 1, 0, 1,\n",
       "       1, 1, 0, 0, 0, 1, 1, 0, 1, 1, 0, 0, 0, 1, 0, 1, 0, 1, 1, 1, 0, 1,\n",
       "       1, 1, 1, 0, 0, 0, 1, 0, 1, 0, 0, 0, 0, 1, 0, 1, 0, 0, 1, 1, 1, 0,\n",
       "       1, 0, 1, 0, 0, 0])"
      ]
     },
     "execution_count": 86,
     "metadata": {},
     "output_type": "execute_result"
    }
   ],
   "source": [
    "y_train"
   ]
  },
  {
   "cell_type": "markdown",
   "metadata": {},
   "source": [
    "### Validate the improved accuracy classification on Training Data"
   ]
  },
  {
   "cell_type": "code",
   "execution_count": 87,
   "metadata": {},
   "outputs": [],
   "source": [
    "from sklearn.metrics import confusion_matrix\n",
    "import seaborn as sns"
   ]
  },
  {
   "cell_type": "code",
   "execution_count": 88,
   "metadata": {},
   "outputs": [
    {
     "data": {
      "text/plain": [
       "100.0"
      ]
     },
     "execution_count": 88,
     "metadata": {},
     "output_type": "execute_result"
    }
   ],
   "source": [
    "bgd_pred_train = polar_BGD_model.predict(newXtrain, polar_bgd_theta)\n",
    "polar_BGD_model.getAccuracy(newXtrain, y_train, polar_bgd_theta )"
   ]
  },
  {
   "cell_type": "code",
   "execution_count": 89,
   "metadata": {},
   "outputs": [
    {
     "data": {
      "text/plain": [
       "100.0"
      ]
     },
     "execution_count": 89,
     "metadata": {},
     "output_type": "execute_result"
    }
   ],
   "source": [
    "nm_pred_train = polar_NM_model.predict(newXtrain, polar_nm_theta)\n",
    "polar_NM_model.getAccuracy(newXtrain, y_train, polar_nm_theta )"
   ]
  },
  {
   "cell_type": "markdown",
   "metadata": {},
   "source": [
    "### Validate the improved accuracy classification on TestData"
   ]
  },
  {
   "cell_type": "code",
   "execution_count": 90,
   "metadata": {},
   "outputs": [
    {
     "data": {
      "text/plain": [
       "100.0"
      ]
     },
     "execution_count": 90,
     "metadata": {},
     "output_type": "execute_result"
    }
   ],
   "source": [
    "bgd_pred_test = polar_BGD_model.predict(newXtest, polar_bgd_theta)\n",
    "polar_BGD_model.getAccuracy(newXtest, y_test, polar_bgd_theta )"
   ]
  },
  {
   "cell_type": "code",
   "execution_count": 91,
   "metadata": {},
   "outputs": [
    {
     "data": {
      "text/plain": [
       "100.0"
      ]
     },
     "execution_count": 91,
     "metadata": {},
     "output_type": "execute_result"
    }
   ],
   "source": [
    "nm_pred_test = polar_NM_model.predict(newXtest, polar_nm_theta)\n",
    "polar_NM_model.getAccuracy(newXtest, y_test, polar_nm_theta )"
   ]
  },
  {
   "cell_type": "code",
   "execution_count": 92,
   "metadata": {},
   "outputs": [
    {
     "data": {
      "text/plain": [
       "(160,)"
      ]
     },
     "execution_count": 92,
     "metadata": {},
     "output_type": "execute_result"
    }
   ],
   "source": [
    "nm_pred_train.shape"
   ]
  },
  {
   "cell_type": "code",
   "execution_count": 93,
   "metadata": {},
   "outputs": [
    {
     "data": {
      "text/plain": [
       "(160,)"
      ]
     },
     "execution_count": 93,
     "metadata": {},
     "output_type": "execute_result"
    }
   ],
   "source": [
    "y_train.shape"
   ]
  },
  {
   "cell_type": "code",
   "execution_count": 94,
   "metadata": {},
   "outputs": [
    {
     "data": {
      "text/plain": [
       "array([[85,  0],\n",
       "       [ 0, 75]])"
      ]
     },
     "execution_count": 94,
     "metadata": {},
     "output_type": "execute_result"
    }
   ],
   "source": [
    "confusion_matrix(y_true = y_train, y_pred = nm_pred_train)"
   ]
  },
  {
   "cell_type": "code",
   "execution_count": 95,
   "metadata": {},
   "outputs": [
    {
     "data": {
      "text/plain": [
       "array([1, 0, 1, 0, 1, 1, 0, 0, 0, 0, 0, 0, 0, 1, 0, 0, 0, 1, 0, 1, 0, 1,\n",
       "       1, 1, 0, 0, 1, 0, 1, 1, 1, 0, 0, 0, 1, 1, 0, 1, 1, 1, 0, 1, 1, 1,\n",
       "       1, 1, 0, 1, 0, 1, 0, 1, 0, 0, 1, 0, 1, 0, 0, 0, 0, 0, 0, 1, 0, 1,\n",
       "       1, 1, 1, 0, 1, 1, 0, 1, 0, 0, 1, 0, 0, 0, 0, 0, 1, 0, 0, 1, 0, 0,\n",
       "       1, 1, 0, 1, 1, 1, 0, 1, 0, 1, 0, 0, 1, 0, 0, 0, 1, 0, 0, 1, 0, 1,\n",
       "       1, 1, 0, 0, 0, 1, 1, 0, 1, 1, 0, 0, 0, 1, 0, 1, 0, 1, 1, 1, 0, 1,\n",
       "       1, 1, 1, 0, 0, 0, 1, 0, 1, 0, 0, 0, 0, 1, 0, 1, 0, 0, 1, 1, 1, 0,\n",
       "       1, 0, 1, 0, 0, 0])"
      ]
     },
     "execution_count": 95,
     "metadata": {},
     "output_type": "execute_result"
    }
   ],
   "source": [
    "bgd_pred_train"
   ]
  },
  {
   "cell_type": "code",
   "execution_count": 96,
   "metadata": {},
   "outputs": [
    {
     "data": {
      "image/png": "[encoded data removed]",
      "text/plain": [
       "<Figure size 1080x360 with 8 Axes>"
      ]
     },
     "metadata": {
      "needs_background": "light"
     },
     "output_type": "display_data"
    }
   ],
   "source": [
    "fig ,axes = plt.subplots(2 ,2 ,figsize = (15,5))\n",
    "\n",
    "sns.heatmap(confusion_matrix(y_true = y_train, y_pred = bgd_pred_train), cmap = 'coolwarm', annot =True, ax = axes[0,0])\n",
    "sns.heatmap(confusion_matrix(y_true = y_train, y_pred = nm_pred_train), cmap = 'coolwarm', annot =True, ax = axes[0,1])\n",
    "\n",
    "\n",
    "sns.heatmap(confusion_matrix(y_true = y_test, y_pred = bgd_pred_test), cmap = 'coolwarm', annot =True, ax = axes[1,0])\n",
    "sns.heatmap(confusion_matrix(y_true = y_test, y_pred = nm_pred_test), cmap = 'coolwarm', annot =True, ax = axes[1,1])\n",
    "\n",
    "\n",
    "axes[0,0].set_title(f'BGD method on train: {polar_BGD_model.getAccuracy(newXtrain, y_train, polar_bgd_theta )}')\n",
    "axes[0,1].set_title(f'Newton method on train: {polar_NM_model.getAccuracy(newXtrain, y_train, polar_nm_theta )}')\n",
    "axes[1,0].set_title(f'BGD method on test: {polar_BGD_model.getAccuracy(newXtest, y_test, polar_bgd_theta )}')\n",
    "axes[1,1].set_title(f'Newton method on test: {polar_NM_model.getAccuracy(newXtest, y_test, polar_nm_theta )}')\n",
    "\n",
    "plt.tight_layout()\n",
    "plt.show()"
   ]
  },
  {
   "cell_type": "code",
   "execution_count": 97,
   "metadata": {},
   "outputs": [
    {
     "data": {
      "text/plain": [
       "<matplotlib.legend.Legend at 0x7f9fc73560d0>"
      ]
     },
     "execution_count": 97,
     "metadata": {},
     "output_type": "execute_result"
    },
    {
     "data": {
      "image/png": "[encoded data removed]",
      "text/plain": [
       "<Figure size 576x576 with 1 Axes>"
      ]
     },
     "metadata": {
      "needs_background": "light"
     },
     "output_type": "display_data"
    }
   ],
   "source": [
    "# plot\n",
    "\n",
    "fig1 = plt.figure(figsize=(8,8))\n",
    "ax = plt.axes() \n",
    "plt.title('Sample data for classification problem')\n",
    "plt.grid(axis='both', alpha=.25)\n",
    "\n",
    "plt.scatter(newX[y == 0][:, 0], newX[y == 0][:, 1], label = 'class 1' )\n",
    "plt.scatter(newX[y == 1][:, 0], newX[y == 1][:, 1], label = 'class 2' )\n",
    "plt.xlabel('angles')\n",
    "plt.ylabel('radius')\n",
    "plt.legend()\n",
    "\n",
    "\n",
    "\n",
    "b = polar_nm_theta[0]\n",
    "w1 = polar_nm_theta[1]\n",
    "w2 = polar_nm_theta[2]\n",
    "\n",
    "# Calculate the intercept and gradient of the decision boundary.\n",
    "c = b/w2\n",
    "m = w1/w2\n",
    "\n",
    "xmin, xmax = -3, 3\n",
    "ymin, ymax = -1, 3\n",
    "xd = np.array([xmin, xmax])\n",
    "# xd = np.linspace(-3, 3, 100)\n",
    "yd = (m*xd) + c\n",
    "\n",
    "yd += 2\n",
    "plt.plot(xd, yd, 'k', lw=1, ls='--')\n",
    "plt.fill_between(xd, yd, ymin, color='tab:blue', alpha=0.2)\n",
    "plt.fill_between(xd, yd, ymax, color='tab:orange', alpha=0.2)\n",
    "\n",
    "\n",
    "plt.xlim(-3, 3)\n",
    "plt.ylim(-1, 3)\n",
    "\n",
    "\n",
    "plt.xlabel('angles')\n",
    "plt.ylabel('radius')\n",
    "plt.legend()\n",
    "\n"
   ]
  },
  {
   "cell_type": "markdown",
   "metadata": {},
   "source": [
    "## Summary from polar transformation\n",
    "- After using the polar transformation, the accuracy rate on both training and test sets skyrockets to 100%, meaning the model can find the linearly seperable line that classify data into 2 classes\n",
    "- In terms of iterations, the Newton's method performs significantly better as it needs to iterate fewer than 1000 times to achieve perfect classification, compared to almost 10,000 iterations for Batch Gradient Descent method with learning rate at 0.001"
   ]
  },
  {
   "cell_type": "markdown",
   "metadata": {},
   "source": [
    "---\n",
    "# Perform Newton's Method on Lab03dataset"
   ]
  },
  {
   "cell_type": "code",
   "execution_count": 98,
   "metadata": {},
   "outputs": [],
   "source": [
    "import pandas as pd"
   ]
  },
  {
   "cell_type": "code",
   "execution_count": 99,
   "metadata": {},
   "outputs": [],
   "source": [
    "data_train = pd.read_csv('clean_train.csv')\n",
    "data_test = pd.read_csv('clean_test.csv')"
   ]
  },
  {
   "cell_type": "code",
   "execution_count": 100,
   "metadata": {},
   "outputs": [],
   "source": [
    "data_train = data_train.iloc[:, 1:]"
   ]
  },
  {
   "cell_type": "code",
   "execution_count": 101,
   "metadata": {},
   "outputs": [],
   "source": [
    "data_test = data_test.iloc[:, 1:]"
   ]
  },
  {
   "cell_type": "code",
   "execution_count": 102,
   "metadata": {},
   "outputs": [],
   "source": [
    "X = data_train.iloc[:, :-1]\n",
    "y = data_train.iloc[:, -1]"
   ]
  },
  {
   "cell_type": "code",
   "execution_count": 103,
   "metadata": {},
   "outputs": [],
   "source": [
    "from sklearn.model_selection import train_test_split\n",
    "X_train, X_test, y_train, y_test = train_test_split(X, y , test_size = 0.3, random_state = 16) "
   ]
  },
  {
   "cell_type": "code",
   "execution_count": 104,
   "metadata": {},
   "outputs": [
    {
     "data": {
      "text/plain": [
       "(614, 12)"
      ]
     },
     "execution_count": 104,
     "metadata": {},
     "output_type": "execute_result"
    }
   ],
   "source": [
    "data_train.shape"
   ]
  },
  {
   "cell_type": "code",
   "execution_count": 105,
   "metadata": {},
   "outputs": [
    {
     "data": {
      "text/plain": [
       "(429, 11)"
      ]
     },
     "execution_count": 105,
     "metadata": {},
     "output_type": "execute_result"
    }
   ],
   "source": [
    "X_train.shape"
   ]
  },
  {
   "cell_type": "code",
   "execution_count": 106,
   "metadata": {},
   "outputs": [
    {
     "data": {
      "text/plain": [
       "(185, 11)"
      ]
     },
     "execution_count": 106,
     "metadata": {},
     "output_type": "execute_result"
    }
   ],
   "source": [
    "X_test.shape"
   ]
  },
  {
   "cell_type": "markdown",
   "metadata": {},
   "source": [
    "### Normalize the data"
   ]
  },
  {
   "cell_type": "code",
   "execution_count": 107,
   "metadata": {},
   "outputs": [],
   "source": [
    "numerical_cols = ['Dependents', 'ApplicantIncome', 'CoapplicantIncome', 'LoanAmount', 'Loan_Amount_Term']"
   ]
  },
  {
   "cell_type": "code",
   "execution_count": 108,
   "metadata": {},
   "outputs": [],
   "source": [
    "from sklearn.preprocessing import StandardScaler\n",
    "std_scaler = StandardScaler()"
   ]
  },
  {
   "cell_type": "code",
   "execution_count": 109,
   "metadata": {},
   "outputs": [],
   "source": [
    "normalized_X_train = X_train\n",
    "normalized_X_test = X_test\n",
    "normalized_data_test = data_test"
   ]
  },
  {
   "cell_type": "code",
   "execution_count": 110,
   "metadata": {},
   "outputs": [
    {
     "name": "stderr",
     "output_type": "stream",
     "text": [
      "/tmp/ipykernel_307/3168317029.py:1: SettingWithCopyWarning: \n",
      "A value is trying to be set on a copy of a slice from a DataFrame.\n",
      "Try using .loc[row_indexer,col_indexer] = value instead\n",
      "\n",
      "See the caveats in the documentation: https://pandas.pydata.org/pandas-docs/stable/user_guide/indexing.html#returning-a-view-versus-a-copy\n",
      "  normalized_X_train[numerical_cols] = std_scaler.fit_transform(normalized_X_train[numerical_cols])\n",
      "/opt/conda/lib/python3.8/site-packages/pandas/core/indexing.py:966: SettingWithCopyWarning: \n",
      "A value is trying to be set on a copy of a slice from a DataFrame.\n",
      "Try using .loc[row_indexer,col_indexer] = value instead\n",
      "\n",
      "See the caveats in the documentation: https://pandas.pydata.org/pandas-docs/stable/user_guide/indexing.html#returning-a-view-versus-a-copy\n",
      "  self.obj[item] = s\n"
     ]
    }
   ],
   "source": [
    "normalized_X_train[numerical_cols] = std_scaler.fit_transform(normalized_X_train[numerical_cols])"
   ]
  },
  {
   "cell_type": "code",
   "execution_count": 111,
   "metadata": {},
   "outputs": [
    {
     "data": {
      "text/html": [
       "<div>\n",
       "<style scoped>\n",
       "    .dataframe tbody tr th:only-of-type {\n",
       "        vertical-align: middle;\n",
       "    }\n",
       "\n",
       "    .dataframe tbody tr th {\n",
       "        vertical-align: top;\n",
       "    }\n",
       "\n",
       "    .dataframe thead th {\n",
       "        text-align: right;\n",
       "    }\n",
       "</style>\n",
       "<table border=\"1\" class=\"dataframe\">\n",
       "  <thead>\n",
       "    <tr style=\"text-align: right;\">\n",
       "      <th></th>\n",
       "      <th>Gender</th>\n",
       "      <th>Married</th>\n",
       "      <th>Dependents</th>\n",
       "      <th>Education</th>\n",
       "      <th>Self_Employed</th>\n",
       "      <th>ApplicantIncome</th>\n",
       "      <th>CoapplicantIncome</th>\n",
       "      <th>LoanAmount</th>\n",
       "      <th>Loan_Amount_Term</th>\n",
       "      <th>Credit_History</th>\n",
       "      <th>Property_Area</th>\n",
       "    </tr>\n",
       "  </thead>\n",
       "  <tbody>\n",
       "    <tr>\n",
       "      <th>119</th>\n",
       "      <td>0</td>\n",
       "      <td>0</td>\n",
       "      <td>-0.705357</td>\n",
       "      <td>0</td>\n",
       "      <td>0</td>\n",
       "      <td>0.802648</td>\n",
       "      <td>-0.497606</td>\n",
       "      <td>1.289912</td>\n",
       "      <td>0.247680</td>\n",
       "      <td>1.0</td>\n",
       "      <td>2</td>\n",
       "    </tr>\n",
       "    <tr>\n",
       "      <th>199</th>\n",
       "      <td>1</td>\n",
       "      <td>0</td>\n",
       "      <td>-0.705357</td>\n",
       "      <td>0</td>\n",
       "      <td>1</td>\n",
       "      <td>0.900462</td>\n",
       "      <td>-0.497606</td>\n",
       "      <td>-0.770259</td>\n",
       "      <td>0.247680</td>\n",
       "      <td>1.0</td>\n",
       "      <td>2</td>\n",
       "    </tr>\n",
       "    <tr>\n",
       "      <th>20</th>\n",
       "      <td>1</td>\n",
       "      <td>1</td>\n",
       "      <td>-0.705357</td>\n",
       "      <td>1</td>\n",
       "      <td>0</td>\n",
       "      <td>0.348609</td>\n",
       "      <td>-0.497606</td>\n",
       "      <td>-0.524444</td>\n",
       "      <td>0.247680</td>\n",
       "      <td>0.0</td>\n",
       "      <td>2</td>\n",
       "    </tr>\n",
       "    <tr>\n",
       "      <th>253</th>\n",
       "      <td>1</td>\n",
       "      <td>1</td>\n",
       "      <td>0.119161</td>\n",
       "      <td>1</td>\n",
       "      <td>0</td>\n",
       "      <td>-0.477352</td>\n",
       "      <td>1.652278</td>\n",
       "      <td>1.524022</td>\n",
       "      <td>-2.553407</td>\n",
       "      <td>1.0</td>\n",
       "      <td>1</td>\n",
       "    </tr>\n",
       "    <tr>\n",
       "      <th>548</th>\n",
       "      <td>0</td>\n",
       "      <td>0</td>\n",
       "      <td>-0.705357</td>\n",
       "      <td>0</td>\n",
       "      <td>0</td>\n",
       "      <td>-0.090890</td>\n",
       "      <td>-0.497606</td>\n",
       "      <td>-0.536149</td>\n",
       "      <td>0.247680</td>\n",
       "      <td>0.0</td>\n",
       "      <td>1</td>\n",
       "    </tr>\n",
       "    <tr>\n",
       "      <th>...</th>\n",
       "      <td>...</td>\n",
       "      <td>...</td>\n",
       "      <td>...</td>\n",
       "      <td>...</td>\n",
       "      <td>...</td>\n",
       "      <td>...</td>\n",
       "      <td>...</td>\n",
       "      <td>...</td>\n",
       "      <td>...</td>\n",
       "      <td>...</td>\n",
       "      <td>...</td>\n",
       "    </tr>\n",
       "    <tr>\n",
       "      <th>452</th>\n",
       "      <td>1</td>\n",
       "      <td>1</td>\n",
       "      <td>-0.705357</td>\n",
       "      <td>0</td>\n",
       "      <td>0</td>\n",
       "      <td>-0.264707</td>\n",
       "      <td>0.027073</td>\n",
       "      <td>0.002305</td>\n",
       "      <td>0.247680</td>\n",
       "      <td>0.0</td>\n",
       "      <td>0</td>\n",
       "    </tr>\n",
       "    <tr>\n",
       "      <th>321</th>\n",
       "      <td>1</td>\n",
       "      <td>1</td>\n",
       "      <td>2.592716</td>\n",
       "      <td>0</td>\n",
       "      <td>0</td>\n",
       "      <td>-0.199608</td>\n",
       "      <td>-0.440385</td>\n",
       "      <td>-0.290333</td>\n",
       "      <td>0.247680</td>\n",
       "      <td>1.0</td>\n",
       "      <td>1</td>\n",
       "    </tr>\n",
       "    <tr>\n",
       "      <th>581</th>\n",
       "      <td>1</td>\n",
       "      <td>0</td>\n",
       "      <td>-0.705357</td>\n",
       "      <td>0</td>\n",
       "      <td>0</td>\n",
       "      <td>-0.613663</td>\n",
       "      <td>9.746813</td>\n",
       "      <td>-0.688321</td>\n",
       "      <td>0.247680</td>\n",
       "      <td>1.0</td>\n",
       "      <td>2</td>\n",
       "    </tr>\n",
       "    <tr>\n",
       "      <th>121</th>\n",
       "      <td>0</td>\n",
       "      <td>0</td>\n",
       "      <td>-0.705357</td>\n",
       "      <td>0</td>\n",
       "      <td>0</td>\n",
       "      <td>-0.228688</td>\n",
       "      <td>-0.497606</td>\n",
       "      <td>-1.226775</td>\n",
       "      <td>0.247680</td>\n",
       "      <td>1.0</td>\n",
       "      <td>1</td>\n",
       "    </tr>\n",
       "    <tr>\n",
       "      <th>238</th>\n",
       "      <td>0</td>\n",
       "      <td>0</td>\n",
       "      <td>0.119161</td>\n",
       "      <td>0</td>\n",
       "      <td>0</td>\n",
       "      <td>-0.287178</td>\n",
       "      <td>-0.497606</td>\n",
       "      <td>-0.430799</td>\n",
       "      <td>0.247680</td>\n",
       "      <td>1.0</td>\n",
       "      <td>0</td>\n",
       "    </tr>\n",
       "  </tbody>\n",
       "</table>\n",
       "<p>429 rows × 11 columns</p>\n",
       "</div>"
      ],
      "text/plain": [
       "     Gender  Married  Dependents  Education  Self_Employed  ApplicantIncome  \\\n",
       "119       0        0   -0.705357          0              0         0.802648   \n",
       "199       1        0   -0.705357          0              1         0.900462   \n",
       "20        1        1   -0.705357          1              0         0.348609   \n",
       "253       1        1    0.119161          1              0        -0.477352   \n",
       "548       0        0   -0.705357          0              0        -0.090890   \n",
       "..      ...      ...         ...        ...            ...              ...   \n",
       "452       1        1   -0.705357          0              0        -0.264707   \n",
       "321       1        1    2.592716          0              0        -0.199608   \n",
       "581       1        0   -0.705357          0              0        -0.613663   \n",
       "121       0        0   -0.705357          0              0        -0.228688   \n",
       "238       0        0    0.119161          0              0        -0.287178   \n",
       "\n",
       "     CoapplicantIncome  LoanAmount  Loan_Amount_Term  Credit_History  \\\n",
       "119          -0.497606    1.289912          0.247680             1.0   \n",
       "199          -0.497606   -0.770259          0.247680             1.0   \n",
       "20           -0.497606   -0.524444          0.247680             0.0   \n",
       "253           1.652278    1.524022         -2.553407             1.0   \n",
       "548          -0.497606   -0.536149          0.247680             0.0   \n",
       "..                 ...         ...               ...             ...   \n",
       "452           0.027073    0.002305          0.247680             0.0   \n",
       "321          -0.440385   -0.290333          0.247680             1.0   \n",
       "581           9.746813   -0.688321          0.247680             1.0   \n",
       "121          -0.497606   -1.226775          0.247680             1.0   \n",
       "238          -0.497606   -0.430799          0.247680             1.0   \n",
       "\n",
       "     Property_Area  \n",
       "119              2  \n",
       "199              2  \n",
       "20               2  \n",
       "253              1  \n",
       "548              1  \n",
       "..             ...  \n",
       "452              0  \n",
       "321              1  \n",
       "581              2  \n",
       "121              1  \n",
       "238              0  \n",
       "\n",
       "[429 rows x 11 columns]"
      ]
     },
     "execution_count": 111,
     "metadata": {},
     "output_type": "execute_result"
    }
   ],
   "source": [
    "normalized_X_train"
   ]
  },
  {
   "cell_type": "code",
   "execution_count": 112,
   "metadata": {},
   "outputs": [
    {
     "name": "stderr",
     "output_type": "stream",
     "text": [
      "/tmp/ipykernel_307/1923492441.py:1: SettingWithCopyWarning: \n",
      "A value is trying to be set on a copy of a slice from a DataFrame.\n",
      "Try using .loc[row_indexer,col_indexer] = value instead\n",
      "\n",
      "See the caveats in the documentation: https://pandas.pydata.org/pandas-docs/stable/user_guide/indexing.html#returning-a-view-versus-a-copy\n",
      "  normalized_X_test[numerical_cols] = std_scaler.transform(normalized_X_test[numerical_cols])\n",
      "/opt/conda/lib/python3.8/site-packages/pandas/core/indexing.py:966: SettingWithCopyWarning: \n",
      "A value is trying to be set on a copy of a slice from a DataFrame.\n",
      "Try using .loc[row_indexer,col_indexer] = value instead\n",
      "\n",
      "See the caveats in the documentation: https://pandas.pydata.org/pandas-docs/stable/user_guide/indexing.html#returning-a-view-versus-a-copy\n",
      "  self.obj[item] = s\n"
     ]
    }
   ],
   "source": [
    "normalized_X_test[numerical_cols] = std_scaler.transform(normalized_X_test[numerical_cols])"
   ]
  },
  {
   "cell_type": "code",
   "execution_count": 113,
   "metadata": {},
   "outputs": [
    {
     "data": {
      "text/html": [
       "<div>\n",
       "<style scoped>\n",
       "    .dataframe tbody tr th:only-of-type {\n",
       "        vertical-align: middle;\n",
       "    }\n",
       "\n",
       "    .dataframe tbody tr th {\n",
       "        vertical-align: top;\n",
       "    }\n",
       "\n",
       "    .dataframe thead th {\n",
       "        text-align: right;\n",
       "    }\n",
       "</style>\n",
       "<table border=\"1\" class=\"dataframe\">\n",
       "  <thead>\n",
       "    <tr style=\"text-align: right;\">\n",
       "      <th></th>\n",
       "      <th>Gender</th>\n",
       "      <th>Married</th>\n",
       "      <th>Dependents</th>\n",
       "      <th>Education</th>\n",
       "      <th>Self_Employed</th>\n",
       "      <th>ApplicantIncome</th>\n",
       "      <th>CoapplicantIncome</th>\n",
       "      <th>LoanAmount</th>\n",
       "      <th>Loan_Amount_Term</th>\n",
       "      <th>Credit_History</th>\n",
       "      <th>Property_Area</th>\n",
       "    </tr>\n",
       "  </thead>\n",
       "  <tbody>\n",
       "    <tr>\n",
       "      <th>274</th>\n",
       "      <td>1</td>\n",
       "      <td>1</td>\n",
       "      <td>0.943680</td>\n",
       "      <td>0</td>\n",
       "      <td>0</td>\n",
       "      <td>-0.272638</td>\n",
       "      <td>-0.497606</td>\n",
       "      <td>-0.688321</td>\n",
       "      <td>0.247680</td>\n",
       "      <td>1.0</td>\n",
       "      <td>1</td>\n",
       "    </tr>\n",
       "    <tr>\n",
       "      <th>315</th>\n",
       "      <td>1</td>\n",
       "      <td>1</td>\n",
       "      <td>0.119161</td>\n",
       "      <td>1</td>\n",
       "      <td>0</td>\n",
       "      <td>-0.355416</td>\n",
       "      <td>-0.001083</td>\n",
       "      <td>-0.442505</td>\n",
       "      <td>-2.553407</td>\n",
       "      <td>1.0</td>\n",
       "      <td>2</td>\n",
       "    </tr>\n",
       "    <tr>\n",
       "      <th>175</th>\n",
       "      <td>1</td>\n",
       "      <td>1</td>\n",
       "      <td>-0.705357</td>\n",
       "      <td>0</td>\n",
       "      <td>0</td>\n",
       "      <td>-0.339224</td>\n",
       "      <td>0.097010</td>\n",
       "      <td>-0.383977</td>\n",
       "      <td>0.247680</td>\n",
       "      <td>1.0</td>\n",
       "      <td>0</td>\n",
       "    </tr>\n",
       "    <tr>\n",
       "      <th>598</th>\n",
       "      <td>1</td>\n",
       "      <td>1</td>\n",
       "      <td>-0.705357</td>\n",
       "      <td>0</td>\n",
       "      <td>1</td>\n",
       "      <td>0.729123</td>\n",
       "      <td>-0.497606</td>\n",
       "      <td>0.365176</td>\n",
       "      <td>0.247680</td>\n",
       "      <td>1.0</td>\n",
       "      <td>0</td>\n",
       "    </tr>\n",
       "    <tr>\n",
       "      <th>390</th>\n",
       "      <td>1</td>\n",
       "      <td>0</td>\n",
       "      <td>2.592716</td>\n",
       "      <td>0</td>\n",
       "      <td>0</td>\n",
       "      <td>0.597604</td>\n",
       "      <td>-0.497606</td>\n",
       "      <td>0.423703</td>\n",
       "      <td>0.247680</td>\n",
       "      <td>1.0</td>\n",
       "      <td>0</td>\n",
       "    </tr>\n",
       "    <tr>\n",
       "      <th>...</th>\n",
       "      <td>...</td>\n",
       "      <td>...</td>\n",
       "      <td>...</td>\n",
       "      <td>...</td>\n",
       "      <td>...</td>\n",
       "      <td>...</td>\n",
       "      <td>...</td>\n",
       "      <td>...</td>\n",
       "      <td>...</td>\n",
       "      <td>...</td>\n",
       "      <td>...</td>\n",
       "    </tr>\n",
       "    <tr>\n",
       "      <th>436</th>\n",
       "      <td>1</td>\n",
       "      <td>0</td>\n",
       "      <td>-0.705357</td>\n",
       "      <td>0</td>\n",
       "      <td>0</td>\n",
       "      <td>-0.598793</td>\n",
       "      <td>0.062799</td>\n",
       "      <td>-1.156542</td>\n",
       "      <td>0.247680</td>\n",
       "      <td>1.0</td>\n",
       "      <td>1</td>\n",
       "    </tr>\n",
       "    <tr>\n",
       "      <th>523</th>\n",
       "      <td>1</td>\n",
       "      <td>1</td>\n",
       "      <td>0.943680</td>\n",
       "      <td>0</td>\n",
       "      <td>1</td>\n",
       "      <td>0.396194</td>\n",
       "      <td>1.671957</td>\n",
       "      <td>3.876831</td>\n",
       "      <td>0.247680</td>\n",
       "      <td>1.0</td>\n",
       "      <td>0</td>\n",
       "    </tr>\n",
       "    <tr>\n",
       "      <th>213</th>\n",
       "      <td>1</td>\n",
       "      <td>1</td>\n",
       "      <td>2.592716</td>\n",
       "      <td>1</td>\n",
       "      <td>1</td>\n",
       "      <td>0.025263</td>\n",
       "      <td>-0.497606</td>\n",
       "      <td>-0.220100</td>\n",
       "      <td>0.247680</td>\n",
       "      <td>1.0</td>\n",
       "      <td>0</td>\n",
       "    </tr>\n",
       "    <tr>\n",
       "      <th>173</th>\n",
       "      <td>1</td>\n",
       "      <td>1</td>\n",
       "      <td>-0.705357</td>\n",
       "      <td>0</td>\n",
       "      <td>0</td>\n",
       "      <td>0.026089</td>\n",
       "      <td>1.205407</td>\n",
       "      <td>0.447114</td>\n",
       "      <td>0.247680</td>\n",
       "      <td>1.0</td>\n",
       "      <td>1</td>\n",
       "    </tr>\n",
       "    <tr>\n",
       "      <th>343</th>\n",
       "      <td>1</td>\n",
       "      <td>1</td>\n",
       "      <td>2.592716</td>\n",
       "      <td>1</td>\n",
       "      <td>0</td>\n",
       "      <td>-0.392757</td>\n",
       "      <td>-0.497606</td>\n",
       "      <td>-0.875609</td>\n",
       "      <td>0.247680</td>\n",
       "      <td>1.0</td>\n",
       "      <td>1</td>\n",
       "    </tr>\n",
       "  </tbody>\n",
       "</table>\n",
       "<p>185 rows × 11 columns</p>\n",
       "</div>"
      ],
      "text/plain": [
       "     Gender  Married  Dependents  Education  Self_Employed  ApplicantIncome  \\\n",
       "274       1        1    0.943680          0              0        -0.272638   \n",
       "315       1        1    0.119161          1              0        -0.355416   \n",
       "175       1        1   -0.705357          0              0        -0.339224   \n",
       "598       1        1   -0.705357          0              1         0.729123   \n",
       "390       1        0    2.592716          0              0         0.597604   \n",
       "..      ...      ...         ...        ...            ...              ...   \n",
       "436       1        0   -0.705357          0              0        -0.598793   \n",
       "523       1        1    0.943680          0              1         0.396194   \n",
       "213       1        1    2.592716          1              1         0.025263   \n",
       "173       1        1   -0.705357          0              0         0.026089   \n",
       "343       1        1    2.592716          1              0        -0.392757   \n",
       "\n",
       "     CoapplicantIncome  LoanAmount  Loan_Amount_Term  Credit_History  \\\n",
       "274          -0.497606   -0.688321          0.247680             1.0   \n",
       "315          -0.001083   -0.442505         -2.553407             1.0   \n",
       "175           0.097010   -0.383977          0.247680             1.0   \n",
       "598          -0.497606    0.365176          0.247680             1.0   \n",
       "390          -0.497606    0.423703          0.247680             1.0   \n",
       "..                 ...         ...               ...             ...   \n",
       "436           0.062799   -1.156542          0.247680             1.0   \n",
       "523           1.671957    3.876831          0.247680             1.0   \n",
       "213          -0.497606   -0.220100          0.247680             1.0   \n",
       "173           1.205407    0.447114          0.247680             1.0   \n",
       "343          -0.497606   -0.875609          0.247680             1.0   \n",
       "\n",
       "     Property_Area  \n",
       "274              1  \n",
       "315              2  \n",
       "175              0  \n",
       "598              0  \n",
       "390              0  \n",
       "..             ...  \n",
       "436              1  \n",
       "523              0  \n",
       "213              0  \n",
       "173              1  \n",
       "343              1  \n",
       "\n",
       "[185 rows x 11 columns]"
      ]
     },
     "execution_count": 113,
     "metadata": {},
     "output_type": "execute_result"
    }
   ],
   "source": [
    "normalized_X_test"
   ]
  },
  {
   "cell_type": "code",
   "execution_count": 114,
   "metadata": {},
   "outputs": [],
   "source": [
    "normalized_data_test[numerical_cols] = std_scaler.transform(normalized_data_test[numerical_cols])"
   ]
  },
  {
   "cell_type": "code",
   "execution_count": 115,
   "metadata": {},
   "outputs": [
    {
     "data": {
      "text/html": [
       "<div>\n",
       "<style scoped>\n",
       "    .dataframe tbody tr th:only-of-type {\n",
       "        vertical-align: middle;\n",
       "    }\n",
       "\n",
       "    .dataframe tbody tr th {\n",
       "        vertical-align: top;\n",
       "    }\n",
       "\n",
       "    .dataframe thead th {\n",
       "        text-align: right;\n",
       "    }\n",
       "</style>\n",
       "<table border=\"1\" class=\"dataframe\">\n",
       "  <thead>\n",
       "    <tr style=\"text-align: right;\">\n",
       "      <th></th>\n",
       "      <th>Gender</th>\n",
       "      <th>Married</th>\n",
       "      <th>Dependents</th>\n",
       "      <th>Education</th>\n",
       "      <th>Self_Employed</th>\n",
       "      <th>ApplicantIncome</th>\n",
       "      <th>CoapplicantIncome</th>\n",
       "      <th>LoanAmount</th>\n",
       "      <th>Loan_Amount_Term</th>\n",
       "      <th>Credit_History</th>\n",
       "      <th>Property_Area</th>\n",
       "    </tr>\n",
       "  </thead>\n",
       "  <tbody>\n",
       "    <tr>\n",
       "      <th>0</th>\n",
       "      <td>1</td>\n",
       "      <td>1</td>\n",
       "      <td>-1.286937</td>\n",
       "      <td>0</td>\n",
       "      <td>0</td>\n",
       "      <td>-0.917012</td>\n",
       "      <td>-0.497757</td>\n",
       "      <td>-1.747134</td>\n",
       "      <td>-5.350639</td>\n",
       "      <td>1.0</td>\n",
       "      <td>2</td>\n",
       "    </tr>\n",
       "    <tr>\n",
       "      <th>1</th>\n",
       "      <td>1</td>\n",
       "      <td>1</td>\n",
       "      <td>-0.607107</td>\n",
       "      <td>0</td>\n",
       "      <td>0</td>\n",
       "      <td>-0.917084</td>\n",
       "      <td>-0.497620</td>\n",
       "      <td>-1.744942</td>\n",
       "      <td>-5.350639</td>\n",
       "      <td>1.0</td>\n",
       "      <td>2</td>\n",
       "    </tr>\n",
       "    <tr>\n",
       "      <th>2</th>\n",
       "      <td>1</td>\n",
       "      <td>1</td>\n",
       "      <td>0.072724</td>\n",
       "      <td>0</td>\n",
       "      <td>0</td>\n",
       "      <td>-0.917031</td>\n",
       "      <td>-0.497592</td>\n",
       "      <td>-1.733706</td>\n",
       "      <td>-5.350639</td>\n",
       "      <td>1.0</td>\n",
       "      <td>2</td>\n",
       "    </tr>\n",
       "    <tr>\n",
       "      <th>3</th>\n",
       "      <td>1</td>\n",
       "      <td>1</td>\n",
       "      <td>0.072724</td>\n",
       "      <td>0</td>\n",
       "      <td>0</td>\n",
       "      <td>-0.917104</td>\n",
       "      <td>-0.497524</td>\n",
       "      <td>-1.748504</td>\n",
       "      <td>-5.350639</td>\n",
       "      <td>1.0</td>\n",
       "      <td>2</td>\n",
       "    </tr>\n",
       "    <tr>\n",
       "      <th>4</th>\n",
       "      <td>1</td>\n",
       "      <td>0</td>\n",
       "      <td>-1.286937</td>\n",
       "      <td>1</td>\n",
       "      <td>0</td>\n",
       "      <td>-0.917079</td>\n",
       "      <td>-0.497757</td>\n",
       "      <td>-1.751519</td>\n",
       "      <td>-5.350639</td>\n",
       "      <td>1.0</td>\n",
       "      <td>2</td>\n",
       "    </tr>\n",
       "    <tr>\n",
       "      <th>...</th>\n",
       "      <td>...</td>\n",
       "      <td>...</td>\n",
       "      <td>...</td>\n",
       "      <td>...</td>\n",
       "      <td>...</td>\n",
       "      <td>...</td>\n",
       "      <td>...</td>\n",
       "      <td>...</td>\n",
       "      <td>...</td>\n",
       "      <td>...</td>\n",
       "      <td>...</td>\n",
       "    </tr>\n",
       "    <tr>\n",
       "      <th>362</th>\n",
       "      <td>1</td>\n",
       "      <td>1</td>\n",
       "      <td>1.432385</td>\n",
       "      <td>1</td>\n",
       "      <td>1</td>\n",
       "      <td>-0.917058</td>\n",
       "      <td>-0.497594</td>\n",
       "      <td>-1.746723</td>\n",
       "      <td>-5.350639</td>\n",
       "      <td>1.0</td>\n",
       "      <td>2</td>\n",
       "    </tr>\n",
       "    <tr>\n",
       "      <th>363</th>\n",
       "      <td>1</td>\n",
       "      <td>1</td>\n",
       "      <td>-1.286937</td>\n",
       "      <td>0</td>\n",
       "      <td>0</td>\n",
       "      <td>-0.917054</td>\n",
       "      <td>-0.497692</td>\n",
       "      <td>-1.746449</td>\n",
       "      <td>-5.350639</td>\n",
       "      <td>1.0</td>\n",
       "      <td>2</td>\n",
       "    </tr>\n",
       "    <tr>\n",
       "      <th>364</th>\n",
       "      <td>1</td>\n",
       "      <td>0</td>\n",
       "      <td>-1.286937</td>\n",
       "      <td>0</td>\n",
       "      <td>0</td>\n",
       "      <td>-0.917079</td>\n",
       "      <td>-0.497574</td>\n",
       "      <td>-1.744942</td>\n",
       "      <td>-5.350639</td>\n",
       "      <td>0.0</td>\n",
       "      <td>1</td>\n",
       "    </tr>\n",
       "    <tr>\n",
       "      <th>365</th>\n",
       "      <td>1</td>\n",
       "      <td>1</td>\n",
       "      <td>-1.286937</td>\n",
       "      <td>0</td>\n",
       "      <td>0</td>\n",
       "      <td>-0.917031</td>\n",
       "      <td>-0.497538</td>\n",
       "      <td>-1.740557</td>\n",
       "      <td>-5.350639</td>\n",
       "      <td>1.0</td>\n",
       "      <td>0</td>\n",
       "    </tr>\n",
       "    <tr>\n",
       "      <th>366</th>\n",
       "      <td>1</td>\n",
       "      <td>0</td>\n",
       "      <td>-1.286937</td>\n",
       "      <td>0</td>\n",
       "      <td>1</td>\n",
       "      <td>-0.916917</td>\n",
       "      <td>-0.497757</td>\n",
       "      <td>-1.748779</td>\n",
       "      <td>-5.394229</td>\n",
       "      <td>1.0</td>\n",
       "      <td>0</td>\n",
       "    </tr>\n",
       "  </tbody>\n",
       "</table>\n",
       "<p>367 rows × 11 columns</p>\n",
       "</div>"
      ],
      "text/plain": [
       "     Gender  Married  Dependents  Education  Self_Employed  ApplicantIncome  \\\n",
       "0         1        1   -1.286937          0              0        -0.917012   \n",
       "1         1        1   -0.607107          0              0        -0.917084   \n",
       "2         1        1    0.072724          0              0        -0.917031   \n",
       "3         1        1    0.072724          0              0        -0.917104   \n",
       "4         1        0   -1.286937          1              0        -0.917079   \n",
       "..      ...      ...         ...        ...            ...              ...   \n",
       "362       1        1    1.432385          1              1        -0.917058   \n",
       "363       1        1   -1.286937          0              0        -0.917054   \n",
       "364       1        0   -1.286937          0              0        -0.917079   \n",
       "365       1        1   -1.286937          0              0        -0.917031   \n",
       "366       1        0   -1.286937          0              1        -0.916917   \n",
       "\n",
       "     CoapplicantIncome  LoanAmount  Loan_Amount_Term  Credit_History  \\\n",
       "0            -0.497757   -1.747134         -5.350639             1.0   \n",
       "1            -0.497620   -1.744942         -5.350639             1.0   \n",
       "2            -0.497592   -1.733706         -5.350639             1.0   \n",
       "3            -0.497524   -1.748504         -5.350639             1.0   \n",
       "4            -0.497757   -1.751519         -5.350639             1.0   \n",
       "..                 ...         ...               ...             ...   \n",
       "362          -0.497594   -1.746723         -5.350639             1.0   \n",
       "363          -0.497692   -1.746449         -5.350639             1.0   \n",
       "364          -0.497574   -1.744942         -5.350639             0.0   \n",
       "365          -0.497538   -1.740557         -5.350639             1.0   \n",
       "366          -0.497757   -1.748779         -5.394229             1.0   \n",
       "\n",
       "     Property_Area  \n",
       "0                2  \n",
       "1                2  \n",
       "2                2  \n",
       "3                2  \n",
       "4                2  \n",
       "..             ...  \n",
       "362              2  \n",
       "363              2  \n",
       "364              1  \n",
       "365              0  \n",
       "366              0  \n",
       "\n",
       "[367 rows x 11 columns]"
      ]
     },
     "execution_count": 115,
     "metadata": {},
     "output_type": "execute_result"
    }
   ],
   "source": [
    "normalized_data_test"
   ]
  },
  {
   "cell_type": "markdown",
   "metadata": {},
   "source": [
    "### Turn pandas dataframe into numpy for easier manipulation and Train the model"
   ]
  },
  {
   "cell_type": "code",
   "execution_count": 116,
   "metadata": {},
   "outputs": [],
   "source": [
    "np_Xtrain = np.asarray(normalized_X_train)\n",
    "np_Xtest = np.asarray(normalized_X_test)\n",
    "np_ytrain = np.asarray(y_train)\n",
    "np_ytest = np.asarray(y_test)"
   ]
  },
  {
   "cell_type": "code",
   "execution_count": 117,
   "metadata": {},
   "outputs": [],
   "source": [
    "np_Xtrain = np.insert(np_Xtrain, 0,1, axis=1)\n",
    "np_Xtest =  np.insert(np_Xtest, 0,1, axis=1)"
   ]
  },
  {
   "cell_type": "code",
   "execution_count": 118,
   "metadata": {},
   "outputs": [
    {
     "data": {
      "text/plain": [
       "(429, 12)"
      ]
     },
     "execution_count": 118,
     "metadata": {},
     "output_type": "execute_result"
    }
   ],
   "source": [
    "np_Xtrain.shape"
   ]
  },
  {
   "cell_type": "code",
   "execution_count": 119,
   "metadata": {},
   "outputs": [
    {
     "name": "stdout",
     "output_type": "stream",
     "text": [
      "Minimum at iteration: 49999\n"
     ]
    }
   ],
   "source": [
    "alpha = 0.001\n",
    "iterations = 50000\n",
    "\n",
    "m,n = np_Xtrain.shape\n",
    "\n",
    "BGD_model = Logistic_BGD()\n",
    "initial_theta = np.zeros(n)\n",
    "bgd_theta, bgd_cost = BGD_model.gradientAscent(np_Xtrain, np_ytrain, initial_theta, alpha, iterations)"
   ]
  },
  {
   "cell_type": "code",
   "execution_count": 120,
   "metadata": {},
   "outputs": [
    {
     "data": {
      "text/plain": [
       "0.4794791327357925"
      ]
     },
     "execution_count": 120,
     "metadata": {},
     "output_type": "execute_result"
    }
   ],
   "source": [
    "bgd_cost[-1]"
   ]
  },
  {
   "cell_type": "code",
   "execution_count": 121,
   "metadata": {},
   "outputs": [],
   "source": [
    "bgd_yhat = BGD_model.predict(np_Xtest, bgd_theta)"
   ]
  },
  {
   "cell_type": "code",
   "execution_count": 122,
   "metadata": {},
   "outputs": [
    {
     "name": "stdout",
     "output_type": "stream",
     "text": [
      "Minimum at iteration: 999\n"
     ]
    }
   ],
   "source": [
    "m,n = np_Xtrain.shape\n",
    "initial_theta = np.zeros(n)\n",
    "iterations = 1000\n",
    "\n",
    "\n",
    "NM_model = Logistic_NM()\n",
    "\n",
    "nm_theta, nm_cost = NM_model.newtonsMethod(np_Xtrain, np_ytrain, initial_theta, iterations)\n",
    "# print(\"theta:\",nm_theta)"
   ]
  },
  {
   "cell_type": "code",
   "execution_count": 123,
   "metadata": {},
   "outputs": [
    {
     "data": {
      "text/plain": [
       "0.4635955902680171"
      ]
     },
     "execution_count": 123,
     "metadata": {},
     "output_type": "execute_result"
    }
   ],
   "source": [
    "nm_cost[-1]"
   ]
  },
  {
   "cell_type": "code",
   "execution_count": 124,
   "metadata": {},
   "outputs": [],
   "source": [
    "nm_yhat = NM_model.predict(np_Xtest, nm_theta)"
   ]
  },
  {
   "cell_type": "code",
   "execution_count": 125,
   "metadata": {},
   "outputs": [
    {
     "data": {
      "image/png": "[encoded data removed]",
      "text/plain": [
       "<Figure size 432x288 with 1 Axes>"
      ]
     },
     "metadata": {
      "needs_background": "light"
     },
     "output_type": "display_data"
    }
   ],
   "source": [
    "iteration = 1000\n",
    "plt.plot(np.arange(iteration), bgd_cost[:iteration], label = 'BGD cost')\n",
    "plt.plot(np.arange(iteration), nm_cost[:iteration], label = 'NM cost')\n",
    "\n",
    "plt.legend()\n",
    "plt.show()"
   ]
  },
  {
   "cell_type": "code",
   "execution_count": 126,
   "metadata": {},
   "outputs": [],
   "source": [
    "from sklearn.metrics import accuracy_score"
   ]
  },
  {
   "cell_type": "code",
   "execution_count": 127,
   "metadata": {},
   "outputs": [
    {
     "data": {
      "text/plain": [
       "(185,)"
      ]
     },
     "execution_count": 127,
     "metadata": {},
     "output_type": "execute_result"
    }
   ],
   "source": [
    "bgd_yhat.shape"
   ]
  },
  {
   "cell_type": "code",
   "execution_count": 128,
   "metadata": {},
   "outputs": [
    {
     "data": {
      "text/plain": [
       "156"
      ]
     },
     "execution_count": 128,
     "metadata": {},
     "output_type": "execute_result"
    }
   ],
   "source": [
    "np.sum(bgd_yhat)"
   ]
  },
  {
   "cell_type": "code",
   "execution_count": 129,
   "metadata": {},
   "outputs": [
    {
     "data": {
      "text/plain": [
       "array([[0.14054054, 0.19459459],\n",
       "       [0.01621622, 0.64864865]])"
      ]
     },
     "execution_count": 129,
     "metadata": {},
     "output_type": "execute_result"
    }
   ],
   "source": [
    "confusion_matrix(y_true =np_ytest, y_pred = bgd_yhat )  / len(bgd_yhat)"
   ]
  },
  {
   "cell_type": "code",
   "execution_count": 130,
   "metadata": {},
   "outputs": [
    {
     "data": {
      "image/png": "[encoded data removed]",
      "text/plain": [
       "<Figure size 1080x360 with 4 Axes>"
      ]
     },
     "metadata": {
      "needs_background": "light"
     },
     "output_type": "display_data"
    }
   ],
   "source": [
    "fig, axes = plt.subplots(1,2, figsize = (15,5))\n",
    "\n",
    "sns.heatmap(confusion_matrix(y_true =np_ytest, y_pred = bgd_yhat )  / len(bgd_yhat) , cmap = 'coolwarm', annot =True, fmt = \".2%\" ,ax = axes[0])\n",
    "axes[0].set_title(f'Confusion matrix of test set with Batch Gradient Method\\nwith accuracy score of {np.round(accuracy_score(y_true = np_ytest, y_pred = bgd_yhat ), 2)}')\n",
    "axes[0].set_ylabel('True value')\n",
    "axes[0].set_xlabel('Predicted value')\n",
    "\n",
    "sns.heatmap(confusion_matrix(y_true =np_ytest, y_pred = nm_yhat )  / len(nm_yhat) , cmap = 'coolwarm', annot =True, fmt = \".2%\" ,ax = axes[1])\n",
    "axes[1].set_title(f\"Confusion matrix of test set with Newton's Method \\nwith accuracy score of {np.round(accuracy_score(y_true = np_ytest, y_pred = nm_yhat ), 2)}\")\n",
    "axes[1].set_ylabel('True value')\n",
    "axes[1].set_xlabel('Predicted value')\n",
    "\n",
    "plt.show()"
   ]
  },
  {
   "cell_type": "markdown",
   "metadata": {},
   "source": [
    "---\n",
    "## Summary from running BGD and NW methods on Lab03 data (Loan Prediction)\n",
    "- The accuracy rate from both approaches result in almost the same prediction accuracy rate, at $\\textbf{79%}$\n",
    "- However, effectivenes-wise, it takes only $\\textbf{1,000 iterations for Newton's method}$ to achieve such rate, compared to the computationally expensive 50,000 times of iteration of normal Batch Gradient Descent method\n",
    "- In conclusion, the Newton's Method is the preferred choice as it manages to yield the same classificaiton accuracy with far fewer computations"
   ]
  }
 ],
 "metadata": {
  "kernelspec": {
   "display_name": "Python 3 (ipykernel)",
   "language": "python",
   "name": "python3"
  },
  "language_info": {
   "codemirror_mode": {
    "name": "ipython",
    "version": 3
   },
   "file_extension": ".py",
   "mimetype": "text/x-python",
   "name": "python",
   "nbconvert_exporter": "python",
   "pygments_lexer": "ipython3",
   "version": "3.8.3"
  }
 },
 "nbformat": 4,
 "nbformat_minor": 4
}
