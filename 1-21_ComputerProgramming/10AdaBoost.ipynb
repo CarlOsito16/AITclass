{
  "nbformat": 4,
  "nbformat_minor": 0,
  "metadata": {
    "colab": {
      "name": "08AdaBoost.ipynb",
      "provenance": [],
      "collapsed_sections": []
    },
    "kernelspec": {
      "name": "python3",
      "display_name": "Python 3"
    },
    "language_info": {
      "name": "python"
    }
  },
  "cells": [
    {
      "cell_type": "markdown",
      "metadata": {
        "id": "5d-7RVjWFPJG"
      },
      "source": [
        "# AdaBoost (Adaptive Boosting)\n",
        "### Modify the AdaBoost scratch code in our lecture such that:\n",
        "- Notice that if err = 0, then $\\alpha$ will be undefined, thus attempt to fix this by adding some very small value to the lower term\n",
        "- Notice that sklearn version of AdaBoost has a parameter learning_rate. This is in fact the $\\frac{1}{2}$ in front of the $\\alpha$ calculation. Attempt to change this $\\frac{1}{2}$ into a parameter called eta, and try different values of it and see whether accuracy is improved. Note that sklearn default this value to 1.\n",
        "- Observe that we are actually using sklearn DecisionTreeClassifier. If we take a look at it closely, it is actually using weighted gini index, instead of weighted errors that we learn above. Attempt to write your own class of class Stump that actually uses weighted errors, instead of weighted gini index. To check whether your stump really works, it should give you still relatively the same accuracy. In addition, if you do not change y to -1, it will result in very bad accuracy. Unlike sklearn version of DecisionTree, it will STILL work even y is not change to -1 since it uses gini index\n",
        "- Put everything into a class"
      ]
    },
    {
      "cell_type": "code",
      "metadata": {
        "id": "_PzFyyt8EIWI"
      },
      "source": [
        "import numpy as np"
      ],
      "execution_count": 1,
      "outputs": []
    },
    {
      "cell_type": "code",
      "metadata": {
        "id": "SZnZKzjUme8Q"
      },
      "source": [
        "from sklearn.datasets import make_classification\n",
        "from sklearn.model_selection import train_test_split\n",
        "\n",
        "X, y = make_classification(n_samples=500, random_state=1)\n",
        "y = np.where(y==0,-1,1)  #change our y to be -1 if it is 0, otherwise 1\n",
        "\n",
        "X_train, X_test, y_train, y_test = train_test_split(X, y, test_size=0.3, random_state=42)"
      ],
      "execution_count": 2,
      "outputs": []
    },
    {
      "cell_type": "code",
      "metadata": {
        "colab": {
          "base_uri": "https://localhost:8080/"
        },
        "id": "ACHDk3OiECQP",
        "outputId": "a3f2f2da-0a67-42bd-efa3-a65ba6bca1b3"
      },
      "source": [
        "from sklearn.metrics import accuracy_score\n",
        "from sklearn.tree import DecisionTreeClassifier\n",
        "from sklearn.metrics import classification_report\n",
        "\n",
        "m = X_train.shape[0]\n",
        "S = 20\n",
        "stump_params = {'max_depth': 1, 'max_leaf_nodes': 2}\n",
        "models = [DecisionTreeClassifier(**stump_params) for _ in range(S)]\n",
        "\n",
        "#initially, we set our weight to 1/m\n",
        "W = np.full(m, 1/m)\n",
        "\n",
        "#keep collection of a_j\n",
        "a_js = np.zeros(S)\n",
        "\n",
        "for j, model in enumerate(models):\n",
        "    \n",
        "    #train weak learner\n",
        "    model.fit(X_train, y_train, sample_weight = W)\n",
        "    \n",
        "    #compute the errors\n",
        "    yhat = model.predict(X_train) \n",
        "    err = W[(yhat != y_train)].sum()\n",
        "        \n",
        "    #compute the predictor weight a_j\n",
        "    #if predictor is doing well, a_j will be big\n",
        "    a_j = np.log ((1 - err) / err) / 2\n",
        "    a_js[j] = a_j\n",
        "    \n",
        "    #update sample weight; divide sum of W to normalize\n",
        "    W = (W * np.exp(-a_j * y_train * yhat)) \n",
        "    W = W / sum (W)\n",
        "    \n",
        "    print(j , err, a_j)\n",
        "        \n",
        "#make weighted predictions\n",
        "Hx = 0\n",
        "for i, model in enumerate(models):\n",
        "    yhat = model.predict(X_test)\n",
        "    Hx += a_js[i] * yhat\n",
        "    \n",
        "yhat = np.sign(Hx)\n",
        "\n",
        "print(classification_report(y_test, yhat))"
      ],
      "execution_count": 3,
      "outputs": [
        {
          "output_type": "stream",
          "name": "stdout",
          "text": [
            "0 0.05142857142857143 1.457381605510162\n",
            "1 0.2744310575635866 0.4861280111506217\n",
            "2 0.3735369228692279 0.25853649067790896\n",
            "3 0.24459078334310394 0.5638365346081023\n",
            "4 0.28024270054897804 0.471629027844006\n",
            "5 0.361214355297757 0.28504868984885495\n",
            "6 0.3862669067140282 0.231515766733248\n",
            "7 0.33098597665868745 0.35186450683261894\n",
            "8 0.3271644484062004 0.36051900185192004\n",
            "9 0.34760257450595344 0.31479706232431687\n",
            "10 0.3228912787325592 0.370258092261616\n",
            "11 0.3147218946203221 0.3890676872414111\n",
            "12 0.3185198801302447 0.3802910942589498\n",
            "13 0.35149144323035836 0.30624491550448785\n",
            "14 0.27941500600345126 0.47368261022035557\n",
            "15 0.3171503701461901 0.3834493294414805\n",
            "16 0.31209720736718777 0.3951664184073478\n",
            "17 0.3069237308209477 0.40727038337756866\n",
            "18 0.35753653579435773 0.2930361975822687\n",
            "19 0.3093663548459018 0.40154165674894005\n",
            "              precision    recall  f1-score   support\n",
            "\n",
            "          -1       0.96      0.97      0.97        79\n",
            "           1       0.97      0.96      0.96        71\n",
            "\n",
            "    accuracy                           0.97       150\n",
            "   macro avg       0.97      0.97      0.97       150\n",
            "weighted avg       0.97      0.97      0.97       150\n",
            "\n"
          ]
        }
      ]
    },
    {
      "cell_type": "code",
      "metadata": {
        "colab": {
          "base_uri": "https://localhost:8080/"
        },
        "id": "ilOay8yvEW8v",
        "outputId": "a211ede3-3dc4-48cb-c815-b3ec36572ba0"
      },
      "source": [
        "#make weighted predictions\n",
        "Hx = 0\n",
        "for i, model in enumerate(models):\n",
        "    yhat = model.predict(X_test)\n",
        "    Hx += a_js[i] * yhat\n",
        "yhat = np.sign(Hx)\n",
        "\n",
        "print(classification_report(y_test, yhat))"
      ],
      "execution_count": 4,
      "outputs": [
        {
          "output_type": "stream",
          "name": "stdout",
          "text": [
            "              precision    recall  f1-score   support\n",
            "\n",
            "          -1       0.96      0.97      0.97        79\n",
            "           1       0.97      0.96      0.96        71\n",
            "\n",
            "    accuracy                           0.97       150\n",
            "   macro avg       0.97      0.97      0.97       150\n",
            "weighted avg       0.97      0.97      0.97       150\n",
            "\n"
          ]
        }
      ]
    },
    {
      "cell_type": "markdown",
      "metadata": {
        "id": "elJMVUkvk7Td"
      },
      "source": [
        "---\n",
        "# Put Everything into Class"
      ]
    },
    {
      "cell_type": "code",
      "metadata": {
        "id": "Ize04ipFGyBt"
      },
      "source": [
        "class Stump():\n",
        "    def __init__(self):\n",
        "        # Determines whether threshold should be evaluated as < or >\n",
        "        self.polarity = 1\n",
        "        self.feature_index = None\n",
        "        self.threshold = None\n",
        "        # Voting power of the stump\n",
        "        self.alpha = None"
      ],
      "execution_count": 5,
      "outputs": []
    },
    {
      "cell_type": "code",
      "metadata": {
        "colab": {
          "base_uri": "https://localhost:8080/"
        },
        "id": "7y8vs7BgH_g8",
        "outputId": "24016fae-1305-4e66-ffc7-dfd55c96e688"
      },
      "source": [
        "np.full(shape = (3,2), fill_value= (1,2))"
      ],
      "execution_count": 6,
      "outputs": [
        {
          "output_type": "execute_result",
          "data": {
            "text/plain": [
              "array([[1, 2],\n",
              "       [1, 2],\n",
              "       [1, 2]])"
            ]
          },
          "metadata": {},
          "execution_count": 6
        }
      ]
    },
    {
      "cell_type": "code",
      "metadata": {
        "id": "hXMsEfoPGz_D"
      },
      "source": [
        "class Adaboost:\n",
        "\n",
        "\n",
        "    def __init__(self, numClassifier, eta = 0.5):\n",
        "        self.numClassifier = numClassifier\n",
        "        self.eta = eta\n",
        "\n",
        "\n",
        "\n",
        "    def fit(self, X, y):\n",
        "\n",
        "        m, n = X.shape\n",
        "        W = np.full(shape = m , fill_value=  1/m )\n",
        "\n",
        "\n",
        "        self.classifiers = []\n",
        "\n",
        "\n",
        "        for i in range(self.numClassifier):\n",
        "\n",
        "            clf = Stump()\n",
        "\n",
        "\n",
        "            #set initially minimum error to infinity\n",
        "            #so at least the first stump is identified\n",
        "            min_err = np.inf\n",
        "\n",
        "\n",
        "            for feature in range(n):\n",
        "                feature_value = np.sort(np.unique(X[:, feature]))\n",
        "                thresholds = (feature_value[:-1] + feature_value[1:]) / 2\n",
        "                # print(i , feature, len(feature_value), len(thresholds))\n",
        "                assert len(thresholds) == len(feature_value) - 1 , 'threshold number must be feature_value -1'\n",
        "\n",
        "\n",
        "                for threshold in thresholds:\n",
        "                    for polarity in [1, -1]:\n",
        "                        yhat = np.ones(len(y))\n",
        "                        yhat[polarity * X[:, feature] < polarity * threshold] = -1  #polarity=1 rule\n",
        "                        error = W[(yhat != y)].sum()\n",
        "\n",
        "                \n",
        "\n",
        "                        # print(polarity, error)\n",
        "\n",
        "                        #save the best stump\n",
        "                        if error < min_err:\n",
        "                            clf.polarity = polarity\n",
        "                            clf.threshold = threshold\n",
        "                            clf.feature_index = feature\n",
        "                            min_err = error\n",
        "\n",
        "                            # print(clf.feature_index, clf.threshold, clf.polarity, min_err)\n",
        "\n",
        "            print(clf.feature_index, clf.threshold, clf.polarity, min_err)\n",
        "            #once we know which is the best stump\n",
        "            #we calculate its alpha, and reweight samples\n",
        "            eps = 1e-10 #to prevent division by zero\n",
        "            clf.alpha = self.eta * (np.log ((1 - error) / (error + eps))) # error + eps to avoid 0 as denominator\n",
        "            W = W * np.exp(-clf.alpha * y * yhat) \n",
        "            W = W / np.sum(W)\n",
        "     \n",
        "            print(clf.alpha)\n",
        "            self.classifiers.append(clf)\n",
        "\n",
        "\n",
        "    \n",
        "    \n",
        "    def predict(self, X):\n",
        "        m, n = X.shape\n",
        "        yhat = np.zeros(m)\n",
        "        for clf in self.classifiers:\n",
        "            pred = np.ones(m) #set all to 1\n",
        "            pred[clf.polarity * X[:, clf.feature_index] < clf.polarity * clf.threshold] = -1  #polarity=1 rule\n",
        "            print(clf.alpha)\n",
        "\n",
        "            yhat += clf.alpha * pred\n",
        "\n",
        "            # print(yhat)\n",
        "\n",
        "        return np.sign(yhat)\n",
        "\n",
        "            \n",
        "\n"
      ],
      "execution_count": 7,
      "outputs": []
    },
    {
      "cell_type": "code",
      "metadata": {
        "id": "YzUB9TLZJqHe"
      },
      "source": [
        "test = Adaboost(numClassifier= 5, eta = 0.5)"
      ],
      "execution_count": 8,
      "outputs": []
    },
    {
      "cell_type": "code",
      "metadata": {
        "colab": {
          "base_uri": "https://localhost:8080/"
        },
        "id": "ZtYEGugQKTGS",
        "outputId": "ffcfd07c-33c5-4d5e-e5dd-c78995054460"
      },
      "source": [
        "X.shape"
      ],
      "execution_count": 9,
      "outputs": [
        {
          "output_type": "execute_result",
          "data": {
            "text/plain": [
              "(500, 20)"
            ]
          },
          "metadata": {},
          "execution_count": 9
        }
      ]
    },
    {
      "cell_type": "code",
      "metadata": {
        "colab": {
          "base_uri": "https://localhost:8080/"
        },
        "id": "aSls9CKZJsLt",
        "outputId": "f57d7c08-8576-4f2b-c51a-a8af399df658"
      },
      "source": [
        "test.fit(X_train,y_train)"
      ],
      "execution_count": 10,
      "outputs": [
        {
          "output_type": "stream",
          "name": "stdout",
          "text": [
            "4 0.06187989795417792 1 0.05142857142857143\n",
            "0.034299158067825825\n",
            "4 0.06187989795417792 1 0.0514890973877671\n",
            "3.550271188133721e-12\n",
            "4 0.06187989795417792 1 0.05148909738777338\n",
            "2.2204460492503126e-16\n",
            "4 0.06187989795417792 1 0.05148909738777338\n",
            "2.2204460492503126e-16\n",
            "4 0.06187989795417792 1 0.05148909738777339\n",
            "-6.661338147750944e-16\n"
          ]
        }
      ]
    },
    {
      "cell_type": "code",
      "metadata": {
        "colab": {
          "base_uri": "https://localhost:8080/"
        },
        "id": "EqKegeOqJyrq",
        "outputId": "1e552020-e7c3-4aab-b871-23d0c4627149"
      },
      "source": [
        "test.predict(X_test)"
      ],
      "execution_count": 11,
      "outputs": [
        {
          "output_type": "stream",
          "name": "stdout",
          "text": [
            "0.034299158067825825\n",
            "3.550271188133721e-12\n",
            "2.2204460492503126e-16\n",
            "2.2204460492503126e-16\n",
            "-6.661338147750944e-16\n"
          ]
        },
        {
          "output_type": "execute_result",
          "data": {
            "text/plain": [
              "array([-1., -1., -1., -1., -1., -1., -1.,  1., -1.,  1.,  1.,  1.,  1.,\n",
              "       -1., -1.,  1.,  1., -1.,  1.,  1.,  1.,  1., -1.,  1., -1.,  1.,\n",
              "       -1., -1., -1., -1., -1.,  1., -1.,  1., -1., -1.,  1., -1., -1.,\n",
              "        1.,  1., -1., -1., -1.,  1., -1.,  1., -1.,  1.,  1.,  1.,  1.,\n",
              "        1., -1., -1., -1., -1.,  1., -1., -1., -1.,  1., -1., -1.,  1.,\n",
              "        1.,  1.,  1., -1.,  1.,  1., -1., -1., -1.,  1., -1., -1.,  1.,\n",
              "       -1.,  1.,  1.,  1.,  1.,  1., -1., -1.,  1.,  1.,  1., -1.,  1.,\n",
              "       -1., -1.,  1., -1.,  1.,  1.,  1.,  1., -1.,  1., -1.,  1., -1.,\n",
              "        1.,  1., -1.,  1., -1.,  1., -1., -1.,  1., -1., -1.,  1.,  1.,\n",
              "       -1., -1.,  1., -1.,  1., -1., -1.,  1., -1., -1.,  1., -1., -1.,\n",
              "       -1., -1., -1., -1., -1., -1., -1., -1.,  1.,  1., -1.,  1.,  1.,\n",
              "        1.,  1.,  1., -1., -1., -1.,  1.])"
            ]
          },
          "metadata": {},
          "execution_count": 11
        }
      ]
    },
    {
      "cell_type": "code",
      "metadata": {
        "colab": {
          "base_uri": "https://localhost:8080/"
        },
        "id": "Y-yc7FPjSazs",
        "outputId": "c474dc65-48ef-4bb0-b410-3525736074e5"
      },
      "source": [
        "y_hat = test.predict(X_test)"
      ],
      "execution_count": 12,
      "outputs": [
        {
          "output_type": "stream",
          "name": "stdout",
          "text": [
            "0.034299158067825825\n",
            "3.550271188133721e-12\n",
            "2.2204460492503126e-16\n",
            "2.2204460492503126e-16\n",
            "-6.661338147750944e-16\n"
          ]
        }
      ]
    },
    {
      "cell_type": "code",
      "metadata": {
        "id": "1rTKZppDTY2o"
      },
      "source": [
        "import seaborn as sns\n",
        "from sklearn.metrics import classification_report, confusion_matrix"
      ],
      "execution_count": 13,
      "outputs": []
    },
    {
      "cell_type": "code",
      "metadata": {
        "colab": {
          "base_uri": "https://localhost:8080/"
        },
        "id": "zJckBizQhGVW",
        "outputId": "a6f40d15-8021-4713-a64a-6583ec663d13"
      },
      "source": [
        "print(classification_report(y_true = y_test, y_pred = yhat))"
      ],
      "execution_count": 14,
      "outputs": [
        {
          "output_type": "stream",
          "name": "stdout",
          "text": [
            "              precision    recall  f1-score   support\n",
            "\n",
            "          -1       0.96      0.97      0.97        79\n",
            "           1       0.97      0.96      0.96        71\n",
            "\n",
            "    accuracy                           0.97       150\n",
            "   macro avg       0.97      0.97      0.97       150\n",
            "weighted avg       0.97      0.97      0.97       150\n",
            "\n"
          ]
        }
      ]
    },
    {
      "cell_type": "code",
      "metadata": {
        "colab": {
          "base_uri": "https://localhost:8080/"
        },
        "id": "-ZufwMz6hMQj",
        "outputId": "779f0ca4-f24c-4cb2-c1e1-a09a08157011"
      },
      "source": [
        "y_test"
      ],
      "execution_count": 15,
      "outputs": [
        {
          "output_type": "execute_result",
          "data": {
            "text/plain": [
              "array([-1, -1, -1, -1, -1, -1, -1,  1, -1,  1,  1,  1,  1, -1, -1,  1,  1,\n",
              "       -1,  1,  1,  1,  1, -1,  1, -1,  1, -1, -1, -1, -1, -1,  1, -1, -1,\n",
              "       -1, -1,  1, -1, -1,  1, -1, -1, -1, -1,  1, -1,  1, -1,  1,  1,  1,\n",
              "        1, -1, -1, -1, -1, -1,  1, -1, -1,  1,  1, -1, -1,  1,  1,  1,  1,\n",
              "       -1,  1,  1, -1, -1, -1,  1, -1, -1,  1, -1,  1,  1,  1,  1,  1, -1,\n",
              "       -1,  1,  1,  1, -1,  1, -1,  1,  1, -1,  1,  1,  1,  1, -1,  1, -1,\n",
              "        1, -1,  1,  1, -1,  1, -1,  1, -1,  1,  1,  1, -1,  1,  1, -1, -1,\n",
              "        1, -1,  1, -1, -1,  1, -1, -1,  1, -1,  1, -1, -1, -1, -1, -1, -1,\n",
              "       -1, -1,  1,  1, -1, -1,  1,  1,  1,  1, -1, -1, -1,  1])"
            ]
          },
          "metadata": {},
          "execution_count": 15
        }
      ]
    },
    {
      "cell_type": "code",
      "metadata": {
        "colab": {
          "base_uri": "https://localhost:8080/",
          "height": 282
        },
        "id": "1GgpiSWFlX99",
        "outputId": "9d9add04-662e-42ed-fc2e-29142bc7e40e"
      },
      "source": [
        "sns.heatmap(confusion_matrix(y_true = y_test, y_pred = yhat) / len(y_test), annot = True, cmap = 'coolwarm', fmt = '.2%')"
      ],
      "execution_count": 16,
      "outputs": [
        {
          "output_type": "execute_result",
          "data": {
            "text/plain": [
              "<matplotlib.axes._subplots.AxesSubplot at 0x7f476d48ebd0>"
            ]
          },
          "metadata": {},
          "execution_count": 16
        },
        {
          "output_type": "display_data",
          "data": {
            "image/png": "[encoded data removed]",
            "text/plain": [
              "<Figure size 432x288 with 2 Axes>"
            ]
          },
          "metadata": {
            "needs_background": "light"
          }
        }
      ]
    },
    {
      "cell_type": "markdown",
      "metadata": {
        "id": "SB_vDUMhnDwi"
      },
      "source": [
        "--- \n",
        "## SUMMARY\n",
        "- Adaboost with adjustable eta at 0.5 and 5 classifier gives the accuracy score at 97%"
      ]
    }
  ]
}